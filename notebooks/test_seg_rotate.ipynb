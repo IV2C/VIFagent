{
 "cells": [
  {
   "cell_type": "code",
   "execution_count": 2,
   "id": "aa511f3c",
   "metadata": {},
   "outputs": [],
   "source": [
    "\n",
    "from PIL import ImageColor, ImageFont, ImageDraw\n",
    "import numpy as np\n",
    "\n",
    "from vif.models.detection import SegmentationMask\n",
    "        \n",
    "def plot_segmentation_masks(img: Image, segmentation_masks: list[SegmentationMask]):\n",
    "    \"\"\"\n",
    "    Plots bounding boxes on an image with markers for each a name, using PIL, normalized coordinates, and different colors.\n",
    "\n",
    "    Args:\n",
    "        img: The PIL.Image.\n",
    "        segmentation_masks: A string encoding as JSON a list of segmentation masks containing the name of the object,\n",
    "         their positions in normalized [y1 x1 y2 x2] format, and the png encoded segmentation mask.\n",
    "    \"\"\"\n",
    "    # Define a list of colors\n",
    "    colors = [\n",
    "        \"red\",\n",
    "        \"green\",\n",
    "        \"blue\",\n",
    "        \"yellow\",\n",
    "        \"orange\",\n",
    "        \"pink\",\n",
    "        \"purple\",\n",
    "        \"brown\",\n",
    "        \"gray\",\n",
    "        \"beige\",\n",
    "        \"turquoise\",\n",
    "        \"cyan\",\n",
    "        \"magenta\",\n",
    "        \"lime\",\n",
    "        \"navy\",\n",
    "        \"maroon\",\n",
    "        \"teal\",\n",
    "        \"olive\",\n",
    "        \"coral\",\n",
    "        \"lavender\",\n",
    "        \"violet\",\n",
    "        \"gold\",\n",
    "        \"silver\",\n",
    "    ]\n",
    "    font = ImageFont.truetype(\"NotoSansCJK-Regular.ttc\", size=14)\n",
    "\n",
    "    # Do this in 3 passes to make sure the boxes and text are always visible.\n",
    "\n",
    "    # Overlay the mask\n",
    "    for i, mask in enumerate(segmentation_masks):\n",
    "        color = colors[i % len(colors)]\n",
    "        img = overlay_mask_on_img(img, mask.mask, color)\n",
    "\n",
    "    # Create a drawing object\n",
    "    draw = ImageDraw.Draw(img)\n",
    "\n",
    "    # Draw the bounding boxes\n",
    "    for i, mask in enumerate(segmentation_masks):\n",
    "        color = colors[i % len(colors)]\n",
    "        draw.rectangle(((mask.x0, mask.y0), (mask.x1, mask.y1)), outline=color, width=4)\n",
    "\n",
    "    # Draw the text labels\n",
    "    for i, mask in enumerate(segmentation_masks):\n",
    "        color = colors[i % len(colors)]\n",
    "        if mask.label != \"\":\n",
    "            draw.text((mask.x0 + 8, mask.y0 - 20), mask.label, fill=color, font=font)\n",
    "    return img\n",
    "\n",
    "def overlay_mask_on_img(\n",
    "    img: Image, mask: np.ndarray, color: str, alpha: float = 0.7\n",
    ") -> Image.Image:\n",
    "    \"\"\"\n",
    "    Overlays a single mask onto a PIL Image using a named color.\n",
    "\n",
    "    The mask image defines the area to be colored. Non-zero pixels in the\n",
    "    mask image are considered part of the area to overlay.\n",
    "\n",
    "    Args:\n",
    "        img: The base PIL Image object.\n",
    "        mask: A PIL Image object representing the mask.\n",
    "              Should have the same height and width as the img.\n",
    "              Modes '1' (binary) or 'L' (grayscale) are typical, where\n",
    "              non-zero pixels indicate the masked area.\n",
    "        color: A standard color name string (e.g., 'red', 'blue', 'yellow').\n",
    "        alpha: The alpha transparency level for the overlay (0.0 fully\n",
    "               transparent, 1.0 fully opaque). Default is 0.7 (70%).\n",
    "\n",
    "    Returns:\n",
    "        A new PIL Image object (in RGBA mode) with the mask overlaid.\n",
    "\n",
    "    Raises:\n",
    "        ValueError: If color name is invalid, mask dimensions mismatch img\n",
    "                    dimensions, or alpha is outside the 0.0-1.0 range.\n",
    "    \"\"\"\n",
    "    if not (0.0 <= alpha <= 1.0):\n",
    "        raise ValueError(\"Alpha must be between 0.0 and 1.0\")\n",
    "\n",
    "    # Convert the color name string to an RGB tuple\n",
    "    try:\n",
    "        color_rgb: tuple[int, int, int] = ImageColor.getrgb(color)\n",
    "    except ValueError as e:\n",
    "        # Re-raise with a more informative message if color name is invalid\n",
    "        raise ValueError(\n",
    "            f\"Invalid color name '{color}'. Supported names are typically HTML/CSS color names. Error: {e}\"\n",
    "        )\n",
    "\n",
    "    # Prepare the base image for alpha compositing\n",
    "    img_rgba = img.convert(\"RGBA\")\n",
    "    width, height = img_rgba.size\n",
    "\n",
    "    # Create the colored overlay layer\n",
    "    # Calculate the RGBA tuple for the overlay color\n",
    "    alpha_int = int(alpha * 255)\n",
    "    overlay_color_rgba = color_rgb + (alpha_int,)\n",
    "\n",
    "    # Create an RGBA layer (all zeros = transparent black)\n",
    "    colored_mask_layer_np = np.zeros((height, width, 4), dtype=np.uint8)\n",
    "\n",
    "    # Mask has values between 0 and 255, threshold at 127 to get binary mask.\n",
    "    mask_np_logical = mask > 127\n",
    "\n",
    "    # Apply the overlay color RGBA tuple where the mask is True\n",
    "    colored_mask_layer_np[mask_np_logical] = overlay_color_rgba\n",
    "\n",
    "    # Convert the NumPy layer back to a PIL Image\n",
    "    colored_mask_layer_pil = Image.fromarray(colored_mask_layer_np, \"RGBA\")\n",
    "\n",
    "    # Composite the colored mask layer onto the base image\n",
    "    result_img = Image.alpha_composite(img_rgba, colored_mask_layer_pil)\n",
    "\n",
    "    return result_img"
   ]
  },
  {
   "cell_type": "code",
   "execution_count": 7,
   "id": "ec63d0e5",
   "metadata": {},
   "outputs": [
    {
     "data": {
      "image/png": "[encoded data removed]",
      "text/plain": [
       "<PIL.Image.Image image mode=RGBA size=446x363>"
      ]
     },
     "metadata": {},
     "output_type": "display_data"
    },
    {
     "data": {
      "image/png": "[encoded data removed]",
      "text/plain": [
       "<PIL.Image.Image image mode=RGBA size=446x396>"
      ]
     },
     "metadata": {},
     "output_type": "display_data"
    }
   ],
   "source": [
    "import pickle\n",
    "from vif.models.detection import SegmentationMask\n",
    "from PIL import Image\n",
    "\n",
    "original_features: list[SegmentationMask] = pickle.loads(\n",
    "            open(\"tests/resources/seg/rgb_stc.pickle\", \"rb\").read()\n",
    "        )\n",
    "custom_features: list[SegmentationMask] = pickle.loads(\n",
    "            open(\"tests/resources/seg/stc_rgb_rotc.pickle\", \"rb\").read()\n",
    "        )\n",
    "\n",
    "ori_image = Image.open(\"tests/resources/seg/rgb_stc.png\")\n",
    "cust_image = Image.open(\"tests/resources/seg/stc_rgb_rotc.png\")\n",
    "\n",
    "ori = plot_segmentation_masks(ori_image,original_features)\n",
    "cust = plot_segmentation_masks(cust_image,custom_features)\n",
    "\n",
    "display(ori)\n",
    "display(cust)\n"
   ]
  },
  {
   "cell_type": "code",
   "execution_count": 5,
   "id": "68c96b3f",
   "metadata": {},
   "outputs": [
    {
     "data": {
      "text/plain": [
       "[SegmentationMask(y0=13, x0=154, y1=170, x1=313, mask=array([[0, 0, 0, ..., 0, 0, 0],\n",
       "        [0, 0, 0, ..., 0, 0, 0],\n",
       "        [0, 0, 0, ..., 0, 0, 0],\n",
       "        ...,\n",
       "        [0, 0, 0, ..., 0, 0, 0],\n",
       "        [0, 0, 0, ..., 0, 0, 0],\n",
       "        [0, 0, 0, ..., 0, 0, 0]], shape=(363, 446), dtype=uint8), label='blue square')]"
      ]
     },
     "execution_count": 5,
     "metadata": {},
     "output_type": "execute_result"
    }
   ],
   "source": [
    "original_features"
   ]
  },
  {
   "cell_type": "code",
   "execution_count": null,
   "id": "4bbbff6e",
   "metadata": {},
   "outputs": [],
   "source": []
  }
 ],
 "metadata": {
  "kernelspec": {
   "display_name": ".venv",
   "language": "python",
   "name": "python3"
  },
  "language_info": {
   "codemirror_mode": {
    "name": "ipython",
    "version": 3
   },
   "file_extension": ".py",
   "mimetype": "text/x-python",
   "name": "python",
   "nbconvert_exporter": "python",
   "pygments_lexer": "ipython3",
   "version": "3.12.11"
  }
 },
 "nbformat": 4,
 "nbformat_minor": 5
}
