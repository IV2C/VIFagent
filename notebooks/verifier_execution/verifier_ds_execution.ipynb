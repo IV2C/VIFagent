{
 "cells": [
  {
   "cell_type": "markdown",
   "id": "28c3a211",
   "metadata": {},
   "source": [
    "# Prototyping and Testing the execution of the verifiers on the dataset"
   ]
  },
  {
   "cell_type": "markdown",
   "id": "b7033488",
   "metadata": {},
   "source": [
    "#### Some config"
   ]
  },
  {
   "cell_type": "code",
   "execution_count": null,
   "id": "ca7f653d",
   "metadata": {},
   "outputs": [],
   "source": [
    "NUM_PROC = 1"
   ]
  },
  {
   "cell_type": "markdown",
   "id": "166a0484",
   "metadata": {},
   "source": [
    "## Execution Code"
   ]
  },
  {
   "cell_type": "code",
   "execution_count": null,
   "id": "c3ccd467",
   "metadata": {},
   "outputs": [],
   "source": [
    "from vif.baselines.models import VerEvaluation\n",
    "from vif.baselines.verifiers_baseline.ver_baseline import TexVerBaseline\n",
    "from datasets.formatting.formatting import LazyBatch\n",
    "from PIL import Image\n",
    "import sys\n",
    "from datasets import load_dataset,Dataset\n",
    "from loguru import logger\n",
    "\n",
    "from vif.utils.renderer.tex_renderer import TexRenderer\n",
    "\n",
    "renderer = TexRenderer()\n",
    "\n",
    "\n",
    "def execute_verifier_on_dataset(\n",
    "    verifier: TexVerBaseline, dataset: Dataset\n",
    "):\n",
    "    def exec_verif(row):\n",
    "        metadata = verifier.get_config_metadata()\n",
    "        ver_eval_input: VerEvaluation = VerEvaluation(\n",
    "            approach_name=metadata[\"name\"],\n",
    "            config_metadata=metadata,\n",
    "            initial_code=row[\"code\"],\n",
    "            initial_image=row[\"original_image\"],\n",
    "            initial_instruction=row[\"instruction\"],\n",
    "            initial_solution=row[\"solution\"],\n",
    "            initial_solution_image=row[\"solution_image\"],\n",
    "            expected=row[\"expected\"]\n",
    "        )\n",
    "        result = verifier.assess_customization(ver_eval_input)\n",
    "        result_row = result.model_dump()\n",
    "        result_row[\"id\"] = row[\"id\"]\n",
    "        return result_row\n",
    "\n",
    "    return dataset.map(exec_verif, num_proc=NUM_PROC)"
   ]
  },
  {
   "cell_type": "code",
   "execution_count": null,
   "id": "f8ff984d",
   "metadata": {},
   "outputs": [],
   "source": [
    "\n",
    "logger.configure(handlers=[{\"sink\": sys.stdout, \"level\": \"WARNING\"}])\n",
    "ds = load_dataset(\"CharlyR/VeriTikz\", \"full\", split=\"train\")"
   ]
  },
  {
   "cell_type": "markdown",
   "id": "87135b92",
   "metadata": {},
   "source": [
    "## Execution of the verifiers"
   ]
  },
  {
   "cell_type": "markdown",
   "id": "558fef03",
   "metadata": {},
   "source": [
    "#### Config"
   ]
  },
  {
   "cell_type": "code",
   "execution_count": null,
   "id": "6211061b",
   "metadata": {},
   "outputs": [],
   "source": [
    "import openai\n",
    "import os\n",
    "from google import genai\n",
    "from google.genai import types as genTypes\n",
    "from vif.baselines.verifiers_baseline import (\n",
    "    FalconVerifier,\n",
    "    TextVerifier,\n",
    "    TextVisualVerifier,\n",
    "    ViperGPTVerifier,\n",
    "    VisualPropertiesVerifier,\n",
    "    VisualVerifier,\n",
    "    VisualCodeVerifier,\n",
    ")\n",
    "\n",
    "\n",
    "client = openai.Client(\n",
    "    base_url=\"https://openrouter.ai/api/v1\",\n",
    "    api_key=os.environ.get(\"OPENROUTER_API_KEY\"),\n",
    ")\n",
    "\n",
    "gclient = genai.Client(\n",
    "        api_key=os.environ.get(\"GOOGLE_API_KEY\"),\n",
    "        http_options=genTypes.HttpOptions(api_version=\"v1alpha\"),\n",
    "    )\n"
   ]
  },
  {
   "cell_type": "markdown",
   "id": "970b0c77",
   "metadata": {},
   "source": [
    "#### Text Verifier"
   ]
  },
  {
   "cell_type": "code",
   "execution_count": null,
   "id": "ffd700e0",
   "metadata": {},
   "outputs": [],
   "source": [
    "text_verifier: TexVerBaseline = TextVerifier(\n",
    "    model=\"qwen/qwen2.5-vl-32b-instruct:free\",\n",
    "    temperature=0.5,\n",
    "    client=client\n",
    ")\n",
    "\n",
    "verifier_text_ds = execute_verifier_on_dataset(text_verifier,ds)"
   ]
  },
  {
   "cell_type": "markdown",
   "id": "c2a2d11a",
   "metadata": {},
   "source": [
    "#### Visual Verifier"
   ]
  },
  {
   "cell_type": "code",
   "execution_count": null,
   "id": "54e8e052",
   "metadata": {},
   "outputs": [],
   "source": [
    "visual_verifier: TexVerBaseline = VisualVerifier(\n",
    "    model=\"qwen/qwen2.5-vl-32b-instruct:free\",\n",
    "    temperature=0.5,\n",
    "    client=client\n",
    ")\n",
    "\n",
    "verifier_visual_ds = execute_verifier_on_dataset(visual_verifier,ds)"
   ]
  },
  {
   "cell_type": "markdown",
   "id": "6d638412",
   "metadata": {},
   "source": [
    "#### Text/Visual Verifier"
   ]
  },
  {
   "cell_type": "code",
   "execution_count": null,
   "id": "7f6eac81",
   "metadata": {},
   "outputs": [],
   "source": [
    "text_visual_verifier: TexVerBaseline = TextVisualVerifier(\n",
    "    model=\"qwen/qwen2.5-vl-32b-instruct:free\",\n",
    "    temperature=0.5,\n",
    "    client=client\n",
    ")\n",
    "\n",
    "verifier_text_visual_ds = ds.map(execute_verifier_on_dataset(text_visual_verifier,ds))"
   ]
  },
  {
   "cell_type": "markdown",
   "id": "81044702",
   "metadata": {},
   "source": [
    "#### Visual Verifier with code"
   ]
  },
  {
   "cell_type": "code",
   "execution_count": null,
   "id": "6843c721",
   "metadata": {},
   "outputs": [],
   "source": [
    "text_visual_code_verifier: TexVerBaseline = VisualCodeVerifier(\n",
    "    model=\"qwen/qwen2.5-vl-32b-instruct:free\",\n",
    "    temperature=0.5,\n",
    "    client=client\n",
    ")\n",
    "\n",
    "verifier_visual_code_ds = ds.map(execute_verifier_on_dataset(text_visual_code_verifier,ds))"
   ]
  },
  {
   "cell_type": "markdown",
   "id": "aa7baf75",
   "metadata": {},
   "source": [
    "#### Visual Property Verifier"
   ]
  },
  {
   "cell_type": "code",
   "execution_count": null,
   "id": "73a559b3",
   "metadata": {},
   "outputs": [],
   "source": [
    "visual_property_verifier: TexVerBaseline = VisualPropertiesVerifier(\n",
    "    model=\"qwen/qwen2.5-vl-32b-instruct:free\",\n",
    "    temperature=0.5,\n",
    "    client=client\n",
    ")\n",
    "\n",
    "verifier_visual_property_ds = ds.map(execute_verifier_on_dataset(visual_property_verifier,ds))"
   ]
  },
  {
   "cell_type": "markdown",
   "id": "110ab1e4",
   "metadata": {},
   "source": [
    "#### ViperGPT Verifier"
   ]
  },
  {
   "cell_type": "code",
   "execution_count": null,
   "id": "18db230c",
   "metadata": {},
   "outputs": [],
   "source": [
    "#full config available here in config file vif/baselines/verifiers_baseline/ViperGPT_adapt/ViperGPT_config.py\n",
    "visual_property_verifier: TexVerBaseline = ViperGPTVerifier(\n",
    "    model=\"qwen/qwen2.5-vl-32b-instruct:free\",\n",
    "    temperature=0.5,\n",
    "    client=client\n",
    ")\n",
    "\n",
    "verifier_vipergpt_ds = ds.map(execute_verifier_on_dataset(visual_property_verifier,ds))"
   ]
  },
  {
   "cell_type": "markdown",
   "id": "f6c630a5",
   "metadata": {},
   "source": [
    "#### Ours"
   ]
  },
  {
   "cell_type": "code",
   "execution_count": null,
   "id": "1f2b8d55",
   "metadata": {},
   "outputs": [],
   "source": [
    "falcon_verifier: TexVerBaseline = FalconVerifier(\n",
    "    oracle_gen_model=\"qwen/qwen2.5-vl-32b-instruct:free\",\n",
    "    vision_model=\"gemini-2.5-flash\",\n",
    "    property_model=\"qwen/qwen2.5-vl-32b-instruct:free\",\n",
    "    property_model_temperature=0.5,\n",
    "    gclient=gclient,\n",
    "    oclient=client\n",
    ")\n",
    "\n",
    "verifier_falcon_ds = ds.map(execute_verifier_on_dataset(falcon_verifier,ds))"
   ]
  }
 ],
 "metadata": {
  "kernelspec": {
   "display_name": "VIFagent",
   "language": "python",
   "name": "python3"
  },
  "language_info": {
   "codemirror_mode": {
    "name": "ipython",
    "version": 3
   },
   "file_extension": ".py",
   "mimetype": "text/x-python",
   "name": "python",
   "nbconvert_exporter": "python",
   "pygments_lexer": "ipython3",
   "version": "3.12.11"
  }
 },
 "nbformat": 4,
 "nbformat_minor": 5
}
