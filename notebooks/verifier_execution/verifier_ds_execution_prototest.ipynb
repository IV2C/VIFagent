{
 "cells": [
  {
   "cell_type": "markdown",
   "id": "28c3a211",
   "metadata": {},
   "source": [
    "# Prototyping and Testing the execution of the verifiers on the dataset"
   ]
  },
  {
   "cell_type": "markdown",
   "id": "b7033488",
   "metadata": {},
   "source": [
    "#### Some config"
   ]
  },
  {
   "cell_type": "code",
   "execution_count": null,
   "id": "ca7f653d",
   "metadata": {},
   "outputs": [],
   "source": [
    "NUM_PROC = 1"
   ]
  },
  {
   "cell_type": "markdown",
   "id": "166a0484",
   "metadata": {},
   "source": [
    "## Execution Code"
   ]
  },
  {
   "cell_type": "code",
   "execution_count": null,
   "id": "33129fd1",
   "metadata": {},
   "outputs": [],
   "source": [
    "import sys\n",
    "from datasets import load_dataset,Dataset\n",
    "from loguru import logger\n",
    "\n",
    "logger.configure(handlers=[{\"sink\": sys.stdout, \"level\": \"WARNING\"}])\n",
    "ds = load_dataset(\"CharlyR/VeriTikz\", \"raw\", split=\"train\")"
   ]
  },
  {
   "cell_type": "code",
   "execution_count": null,
   "id": "c3ccd467",
   "metadata": {},
   "outputs": [],
   "source": [
    "from vif.baselines.models import VerEvaluation\n",
    "from vif.baselines.verifiers_baseline.ver_baseline import TexVerBaseline\n",
    "from datasets.formatting.formatting import LazyBatch\n",
    "from PIL import Image\n",
    "\n",
    "\n",
    "from vif.utils.renderer.tex_renderer import TexRenderer\n",
    "\n",
    "renderer = TexRenderer()\n",
    "\n",
    "\n",
    "def execute_verifier_on_dataset(\n",
    "    verifier: TexVerBaseline, dataset: Dataset, ratio: float = 100\n",
    "):\n",
    "    def exec_verif(row):\n",
    "        metadata = verifier.get_config_metadata()\n",
    "        ver_eval_input: VerEvaluation = VerEvaluation(\n",
    "            approach_name=metadata[\"name\"],\n",
    "            config_metadata=metadata,\n",
    "            initial_code=row[\"code\"],\n",
    "            initial_image=row[\"original_image\"],\n",
    "            initial_instruction=row[\"instruction\"],\n",
    "            initial_solution=row[\"solution\"],\n",
    "            initial_solution_image=row[\"solution_image\"],\n",
    "            expected=row[\"expected\"]\n",
    "        )\n",
    "        result = verifier.assess_customization(ver_eval_input)\n",
    "        result_row = result.model_dump()\n",
    "        result_row[\"id\"] = row[\"id\"]\n",
    "        return result_row\n",
    "\n",
    "    return dataset.map(exec_verif, num_proc=NUM_PROC)"
   ]
  }
 ],
 "metadata": {
  "kernelspec": {
   "display_name": "VIFagent",
   "language": "python",
   "name": "python3"
  },
  "language_info": {
   "codemirror_mode": {
    "name": "ipython",
    "version": 3
   },
   "file_extension": ".py",
   "mimetype": "text/x-python",
   "name": "python",
   "nbconvert_exporter": "python",
   "pygments_lexer": "ipython3",
   "version": "3.12.11"
  }
 },
 "nbformat": 4,
 "nbformat_minor": 5
}
