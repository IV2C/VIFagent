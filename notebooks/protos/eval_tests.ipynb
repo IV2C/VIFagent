{
 "cells": [
  {
   "cell_type": "code",
   "execution_count": 1,
   "id": "450c8777",
   "metadata": {},
   "outputs": [],
   "source": [
    "import cv2\n",
    "bee = cv2.imread(\"notebooks/protos/images/bee.png\")\n",
    "bee_three_wings = cv2.imread(\"notebooks/protos/images/bee_three_wings.png\")"
   ]
  },
  {
   "cell_type": "code",
   "execution_count": 7,
   "id": "46081000",
   "metadata": {},
   "outputs": [],
   "source": [
    "code = r\"\"\"\n",
    "import cv2\n",
    "import numpy as np\n",
    "def verify_customization(initial_image, customized_image):\n",
    "    # Resize initial image to match customized for comparison\n",
    "    h, w = customized_image.shape[:2]\n",
    "    resized_initial = cv2.resize(initial_image, (w, h))\n",
    "\n",
    "    # Convert to grayscale\n",
    "    gray_initial = cv2.cvtColor(resized_initial, cv2.COLOR_BGR2GRAY)\n",
    "    gray_custom = cv2.cvtColor(customized_image, cv2.COLOR_BGR2GRAY)\n",
    "\n",
    "    # Compute absolute difference\n",
    "    diff = cv2.absdiff(gray_initial, gray_custom)\n",
    "\n",
    "    # Threshold to highlight visible differences\n",
    "    _, thresh = cv2.threshold(diff, 40, 255, cv2.THRESH_BINARY)\n",
    "\n",
    "    # Detect bright/light-gray areas typical of wings\n",
    "    hsv_custom = cv2.cvtColor(customized_image, cv2.COLOR_BGR2HSV)\n",
    "    mask_wings = cv2.inRange(hsv_custom, (0, 0, 180), (180, 50, 255))  # light gray to white\n",
    "\n",
    "    # Combine both masks\n",
    "    combined_mask = cv2.bitwise_and(thresh, mask_wings)\n",
    "\n",
    "    # Count newly added wing-like pixels\n",
    "    added_pixels = cv2.countNonZero(combined_mask)\n",
    "\n",
    "    # Decision threshold (empirically chosen)\n",
    "    if added_pixels > 1000:\n",
    "        return \"Customization applieqsfdqsdfd: third pair of wings detected.\"\n",
    "    else:\n",
    "        return \"Customization not applied:qeqfsdf no new wings detected.\"\n",
    "\n",
    "\"\"\""
   ]
  },
  {
   "cell_type": "code",
   "execution_count": 8,
   "id": "0c031a82",
   "metadata": {},
   "outputs": [
    {
     "name": "stdout",
     "output_type": "stream",
     "text": [
      "Customization applieqsfdqsdfd: third pair of wings detected.\n"
     ]
    }
   ],
   "source": [
    "globals = {\n",
    "}\n",
    "\n",
    "\n",
    "exec(code,globals)\n",
    "\n",
    "print(globals[\"verify_customization\"](bee,bee_three_wings))\n",
    "\n"
   ]
  },
  {
   "cell_type": "code",
   "execution_count": null,
   "id": "13018ec8",
   "metadata": {},
   "outputs": [],
   "source": []
  }
 ],
 "metadata": {
  "kernelspec": {
   "display_name": "VIFagent",
   "language": "python",
   "name": "python3"
  },
  "language_info": {
   "codemirror_mode": {
    "name": "ipython",
    "version": 3
   },
   "file_extension": ".py",
   "mimetype": "text/x-python",
   "name": "python",
   "nbconvert_exporter": "python",
   "pygments_lexer": "ipython3",
   "version": "3.12.11"
  }
 },
 "nbformat": 4,
 "nbformat_minor": 5
}
