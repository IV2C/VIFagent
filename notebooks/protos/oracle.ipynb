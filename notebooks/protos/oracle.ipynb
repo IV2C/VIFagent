{
 "cells": [
  {
   "cell_type": "code",
   "execution_count": 1,
   "id": "1f867d67",
   "metadata": {},
   "outputs": [],
   "source": [
    "features = [\n",
    "    \"Blue circle background\",\n",
    "    \"Black cat body\",\n",
    "    \"White chest patch\",\n",
    "    \"Pink nose\",\n",
    "    \"Yellow left eye\",\n",
    "    \"Yellow right eye\",\n",
    "    \"White left whisker\",\n",
    "    \"White middle whisker\",\n",
    "    \"White right whisker\",\n",
    "    \"Pink left ear\",\n",
    "    \"Pink right ear\",\n",
    "    \"Black tail\",\n",
    "    \"White left paw\",\n",
    "    \"White right paw\",\n",
    "]"
   ]
  },
  {
   "cell_type": "markdown",
   "id": "8888b463",
   "metadata": {},
   "source": [
    "### Embedding based"
   ]
  },
  {
   "cell_type": "code",
   "execution_count": 2,
   "id": "dec01f5a",
   "metadata": {},
   "outputs": [
    {
     "name": "stderr",
     "output_type": "stream",
     "text": [
      "/home/creux/Documents/AI/VIFagent/.venv/lib/python3.12/site-packages/tqdm/auto.py:21: TqdmWarning: IProgress not found. Please update jupyter and ipywidgets. See https://ipywidgets.readthedocs.io/en/stable/user_install.html\n",
      "  from .autonotebook import tqdm as notebook_tqdm\n",
      "/home/creux/Documents/AI/VIFagent/.venv/lib/python3.12/site-packages/torch/cuda/__init__.py:174: UserWarning: CUDA initialization: CUDA unknown error - this may be due to an incorrectly set up environment, e.g. changing env variable CUDA_VISIBLE_DEVICES after program start. Setting the available devices to be zero. (Triggered internally at /pytorch/c10/cuda/CUDAFunctions.cpp:109.)\n",
      "  return torch._C._cuda_getDeviceCount() > 0\n"
     ]
    }
   ],
   "source": [
    "from sentence_transformers import SentenceTransformer\n",
    "import torch\n",
    "\n",
    "\n",
    "embedding_model = SentenceTransformer(\"all-MiniLM-L6-v2\")\n",
    "\n",
    "emb_features = embedding_model.encode(features)\n",
    "\n",
    "def get_feature_to_edit_emb(instruction:str):\n",
    "    \n",
    "        \n",
    "    embeded_ins = embedding_model.encode(instruction.split(\" \"))\n",
    "\n",
    "    similarities: torch.Tensor = embedding_model.similarity(\n",
    "        emb_features, embeded_ins \n",
    "    )\n",
    "\n",
    "    min_sim = similarities.min()\n",
    "    max_sim = similarities.max()\n",
    "    similarities = (similarities - min_sim) / (max_sim - min_sim + 1e-8)\n",
    "\n",
    "    \n",
    "    similarities = [max(similarity) for similarity in similarities]\n",
    "    \n",
    "    print(f\"\\\"{instruction}\\\"\")\n",
    "    for feature,similarity in sorted(list(zip(features,similarities)),key=lambda x : x[1],reverse=True):\n",
    "        print(f\"    {feature}:{similarity.item()}\")\n",
    "\n"
   ]
  },
  {
   "cell_type": "code",
   "execution_count": 3,
   "id": "6c32f8fd",
   "metadata": {},
   "outputs": [
    {
     "name": "stdout",
     "output_type": "stream",
     "text": [
      "\"make the nose of the cat blue\"\n",
      "    Pink nose:1.0\n",
      "    Black cat body:0.8441013097763062\n",
      "    Blue circle background:0.7163950800895691\n",
      "    Black tail:0.5959071516990662\n",
      "    White right paw:0.5101525783538818\n",
      "    Yellow right eye:0.4712122678756714\n",
      "    Pink right ear:0.4687386453151703\n",
      "    White left paw:0.43886712193489075\n",
      "    White right whisker:0.4374188482761383\n",
      "    Pink left ear:0.418923020362854\n",
      "    Yellow left eye:0.38957491517066956\n",
      "    White chest patch:0.3763931393623352\n",
      "    White middle whisker:0.3712800145149231\n",
      "    White left whisker:0.29880210757255554\n",
      "\"make the cat wider\"\n",
      "    Black cat body:1.0\n",
      "    White right paw:0.5830686688423157\n",
      "    White left paw:0.4940696060657501\n",
      "    Black tail:0.4595527946949005\n",
      "    Pink nose:0.44862785935401917\n",
      "    White middle whisker:0.280143141746521\n",
      "    Blue circle background:0.27940523624420166\n",
      "    White right whisker:0.26686593890190125\n",
      "    Yellow right eye:0.24218058586120605\n",
      "    White chest patch:0.23798537254333496\n",
      "    Pink right ear:0.21294735372066498\n",
      "    Pink left ear:0.1785663664340973\n",
      "    White left whisker:0.16096113622188568\n",
      "    Yellow left eye:0.149738609790802\n",
      "\"Make the mustache of the cat much longer\"\n",
      "    Black cat body:1.0\n",
      "    White right paw:0.5880805850028992\n",
      "    Black tail:0.5677167773246765\n",
      "    Pink nose:0.5106990933418274\n",
      "    White left paw:0.5001513361930847\n",
      "    White chest patch:0.4857185184955597\n",
      "    White middle whisker:0.3543764650821686\n",
      "    Yellow right eye:0.3159973621368408\n",
      "    White right whisker:0.27966299653053284\n",
      "    Pink right ear:0.23969434201717377\n",
      "    Yellow left eye:0.20768597722053528\n",
      "    White left whisker:0.20319662988185883\n",
      "    Pink left ear:0.16335177421569824\n",
      "    Blue circle background:0.15963107347488403\n",
      "\"Change the position of the tail to the other side of the cat\"\n",
      "    Black tail:1.0\n",
      "    Black cat body:0.7809475660324097\n",
      "    White right paw:0.45907077193260193\n",
      "    Pink right ear:0.3993903696537018\n",
      "    White left paw:0.3903622031211853\n",
      "    Pink left ear:0.3825826346874237\n",
      "    Pink nose:0.35528045892715454\n",
      "    Yellow right eye:0.3443864583969116\n",
      "    Yellow left eye:0.3293134570121765\n",
      "    White right whisker:0.2820854187011719\n",
      "    White middle whisker:0.2262008786201477\n",
      "    Blue circle background:0.22108317911624908\n",
      "    White left whisker:0.21964751183986664\n",
      "    White chest patch:0.18106268346309662\n",
      "\"Add brown pupils to the cat\"\n",
      "    Black cat body:1.0\n",
      "    Black tail:0.67009037733078\n",
      "    White right paw:0.6055158972740173\n",
      "    Pink nose:0.5905040502548218\n",
      "    White left paw:0.5213084816932678\n",
      "    Yellow right eye:0.5106545686721802\n",
      "    Yellow left eye:0.45332399010658264\n",
      "    White right whisker:0.43193745613098145\n",
      "    Pink right ear:0.43034932017326355\n",
      "    Pink left ear:0.4063107669353485\n",
      "    White chest patch:0.3950294852256775\n",
      "    White middle whisker:0.37659651041030884\n",
      "    White left whisker:0.3056286573410034\n",
      "    Blue circle background:0.2709692418575287\n"
     ]
    }
   ],
   "source": [
    "instruction = \"make the nose of the cat blue\"\n",
    "get_feature_to_edit_emb(instruction)\n",
    "instruction = \"make the cat wider\"\n",
    "get_feature_to_edit_emb(instruction)\n",
    "instruction = \"Make the mustache of the cat much longer\"\n",
    "get_feature_to_edit_emb(instruction)\n",
    "instruction = \"Change the position of the tail to the other side of the cat\"\n",
    "get_feature_to_edit_emb(instruction)\n",
    "instruction = \"Add brown pupils to the cat\"\n",
    "get_feature_to_edit_emb(instruction)"
   ]
  },
  {
   "cell_type": "markdown",
   "id": "05490288",
   "metadata": {},
   "source": [
    "#### LLM-based"
   ]
  },
  {
   "cell_type": "code",
   "execution_count": 23,
   "id": "23e09d8a",
   "metadata": {},
   "outputs": [],
   "source": [
    "from openai import OpenAI\n",
    "import os\n",
    "\n",
    "client = OpenAI(\n",
    "    api_key=os.environ.get(\"GROQ_API_KEY\"),\n",
    "    base_url=\"https://api.groq.com/openai/v1\",\n",
    ")\n",
    "\n",
    "\n",
    "def get_feature_to_edit_llm(instruction: str):\n",
    "\n",
    "    model_insctruction = f\"Among the following features :\\n     {\"\\n    \".join([f for f in features])}\\n Give me the 3 ones that are the most probable of being edited by the instruction : \\n\\\"{instruction}\\\"\\n ANSWER ONLY WITH THE 3 FEATURES, LISTED FROM MOST PROBABLE TO LEAST\"\n",
    "    response = client.chat.completions.create(\n",
    "        model=\"llama-3.3-70b-versatile\",\n",
    "        messages=[{\"role\": \"user\", \"content\": model_insctruction}]\n",
    "    )\n",
    "    most_probables = response.choices[0].message.content\n",
    "    print(f\"------------\\\"{instruction}\\\"--------------\")\n",
    "    print(most_probables)"
   ]
  },
  {
   "cell_type": "code",
   "execution_count": 24,
   "id": "5445e8e9",
   "metadata": {},
   "outputs": [
    {
     "name": "stdout",
     "output_type": "stream",
     "text": [
      "------------\"make the nose of the cat blue\"--------------\n",
      "1. Pink nose\n",
      "2. Blue circle background \n",
      "3. Black cat body\n",
      "------------\"make the cat wider\"--------------\n",
      "1. Black cat body\n",
      "2. White left paw\n",
      "3. White right paw\n",
      "------------\"Make the mustache of the cat much longer\"--------------\n",
      "1. White left whisker\n",
      "2. White middle whisker\n",
      "3. White right whisker\n",
      "------------\"Change the position of the tail to the other side of the cat\"--------------\n",
      "1. Black tail\n",
      "2. Black cat body\n",
      "3. White right paw\n",
      "------------\"Add brown pupils to the cat\"--------------\n",
      "1. Yellow right eye\n",
      "2. Yellow left eye\n",
      "3. Black cat body\n"
     ]
    }
   ],
   "source": [
    "instruction = \"make the nose of the cat blue\"\n",
    "get_feature_to_edit_llm(instruction)\n",
    "instruction = \"make the cat wider\"\n",
    "get_feature_to_edit_llm(instruction)\n",
    "instruction = \"Make the mustache of the cat much longer\"\n",
    "get_feature_to_edit_llm(instruction)\n",
    "instruction = \"Change the position of the tail to the other side of the cat\"\n",
    "get_feature_to_edit_llm(instruction)\n",
    "instruction = \"Add brown pupils to the cat\"\n",
    "get_feature_to_edit_llm(instruction)"
   ]
  }
 ],
 "metadata": {
  "kernelspec": {
   "display_name": ".venv",
   "language": "python",
   "name": "python3"
  },
  "language_info": {
   "codemirror_mode": {
    "name": "ipython",
    "version": 3
   },
   "file_extension": ".py",
   "mimetype": "text/x-python",
   "name": "python",
   "nbconvert_exporter": "python",
   "pygments_lexer": "ipython3",
   "version": "3.12.0"
  }
 },
 "nbformat": 4,
 "nbformat_minor": 5
}
