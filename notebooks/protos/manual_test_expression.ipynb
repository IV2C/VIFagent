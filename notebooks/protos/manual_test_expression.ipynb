{
 "cells": [
  {
   "cell_type": "code",
   "execution_count": 1,
   "id": "e4e842b9",
   "metadata": {},
   "outputs": [
    {
     "name": "stderr",
     "output_type": "stream",
     "text": [
      "/home/creux/Documents/AI/VIFagent/.venv/lib/python3.12/site-packages/tqdm/auto.py:21: TqdmWarning: IProgress not found. Please update jupyter and ipywidgets. See https://ipywidgets.readthedocs.io/en/stable/user_install.html\n",
      "  from .autonotebook import tqdm as notebook_tqdm\n"
     ]
    }
   ],
   "source": [
    "import unittest\n",
    "\n",
    "import parameterized\n",
    "from unittest.mock import MagicMock\n",
    "from openai import Client\n",
    "from openai.types.chat import ChatCompletion, ChatCompletionMessage\n",
    "from openai.types.chat.chat_completion import Choice\n",
    "\n",
    "from vif.falcon.oracle.guided_oracle.expressions import OracleExpression\n",
    "from vif.falcon.oracle.guided_oracle.property_expression import visual_property\n",
    "\n",
    "\n",
    "from PIL import Image"
   ]
  },
  {
   "cell_type": "code",
   "execution_count": 8,
   "id": "de886d30",
   "metadata": {},
   "outputs": [],
   "source": [
    "import os\n",
    "\n",
    "\n",
    "property = \"The monkey is now sad.\"\n",
    "\n",
    "\n",
    "def test_valid_customization() -> bool:\n",
    "    return visual_property(property)\n",
    "\n",
    "\n",
    "expression: OracleExpression = test_valid_customization()\n",
    "\n",
    "original_image = Image.open(\"tests/resources/monkey.png\")\n",
    "custom_image = Image.open(\"tests/resources/monkey_sad.png\")\n",
    "\n",
    "\n",
    "client = Client(\n",
    "    api_key=os.environ.get(\"OPENROUTER_API_KEY\"),\n",
    "    base_url=\"https://openrouter.ai/api/v1\",\n",
    ")\n",
    "model = \"mistralai/mistral-small-3.2-24b-instruct:free\"\n",
    "\n",
    "result, feedback = expression.evaluate(\n",
    "    original_image=original_image,\n",
    "    custom_image=custom_image,\n",
    "    client=client,\n",
    "    model=model,\n",
    "    temperature=0.5,\n",
    ")"
   ]
  },
  {
   "cell_type": "code",
   "execution_count": 9,
   "id": "cb357e8d",
   "metadata": {},
   "outputs": [
    {
     "data": {
      "text/plain": [
       "True"
      ]
     },
     "execution_count": 9,
     "metadata": {},
     "output_type": "execute_result"
    }
   ],
   "source": [
    "result"
   ]
  },
  {
   "cell_type": "code",
   "execution_count": null,
   "id": "99d6e691",
   "metadata": {},
   "outputs": [],
   "source": []
  }
 ],
 "metadata": {
  "kernelspec": {
   "display_name": "VIFagent",
   "language": "python",
   "name": "python3"
  },
  "language_info": {
   "codemirror_mode": {
    "name": "ipython",
    "version": 3
   },
   "file_extension": ".py",
   "mimetype": "text/x-python",
   "name": "python",
   "nbconvert_exporter": "python",
   "pygments_lexer": "ipython3",
   "version": "3.12.11"
  }
 },
 "nbformat": 4,
 "nbformat_minor": 5
}
