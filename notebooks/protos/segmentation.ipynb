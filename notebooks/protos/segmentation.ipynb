{
 "cells": [
  {
   "cell_type": "code",
   "execution_count": 1,
   "id": "af579b44",
   "metadata": {},
   "outputs": [
    {
     "name": "stderr",
     "output_type": "stream",
     "text": [
      "\u001b[32m2025-09-17 11:51:50.920\u001b[0m | \u001b[1mINFO    \u001b[0m | \u001b[36mvif.utils.caching\u001b[0m:\u001b[36minstantiate_cache\u001b[0m:\u001b[36m26\u001b[0m - \u001b[1mseg_cache cache loaded\u001b[0m\n"
     ]
    }
   ],
   "source": [
    "from vif.utils.detection_utils import get_segmentation_masks\n",
    "from vif.utils.image_utils import plot_segmentation_masks\n",
    "from vif.utils.renderer.tex_renderer import TexRenderer\n",
    "from PIL import Image\n",
    "from google import genai\n",
    "from google.genai import types as genTypes\n",
    "import os\n",
    "# APIs used\n",
    "gclient = genai.Client(\n",
    "    api_key=os.environ.get(\"GOOGLE_API_KEY\"),\n",
    "    http_options=genTypes.HttpOptions(api_version=\"v1alpha\"),\n",
    ")\n",
    "\n",
    "# Models used\n",
    "temperature=0.3,\n",
    "visual_model=\"gemini-2.5-flash\""
   ]
  },
  {
   "cell_type": "markdown",
   "id": "d835eaf1",
   "metadata": {},
   "source": [
    "### With code rendering"
   ]
  },
  {
   "cell_type": "code",
   "execution_count": 15,
   "id": "4a11134b",
   "metadata": {},
   "outputs": [
    {
     "name": "stderr",
     "output_type": "stream",
     "text": [
      "\u001b[32m2025-09-17 11:22:37.156\u001b[0m | \u001b[34m\u001b[1mDEBUG   \u001b[0m | \u001b[36mvif.utils.renderer.tex_renderer\u001b[0m:\u001b[36mfrom_string_to_image\u001b[0m:\u001b[36m45\u001b[0m - \u001b[34m\u001b[1mlatex renderer writing to /home/creux/.cache/varbench/bb8ee0fc-6af2-420e-a7ad-e393a95b2f0c.tex\u001b[0m\n",
      "\u001b[32m2025-09-17 11:22:37.571\u001b[0m | \u001b[34m\u001b[1mDEBUG   \u001b[0m | \u001b[36mvif.utils.renderer.tex_renderer\u001b[0m:\u001b[36mfrom_string_to_image\u001b[0m:\u001b[36m78\u001b[0m - \u001b[34m\u001b[1mconverting /home/creux/.cache/varbench/bb8ee0fc-6af2-420e-a7ad-e393a95b2f0c.tex to png\u001b[0m\n"
     ]
    }
   ],
   "source": [
    "renderer = TexRenderer()\n",
    "\n",
    "code = open(\"notebooks/protos/code/dog_mod_vertical.tex\").read()\n",
    "\n",
    "stcg = renderer.from_string_to_image(code)\n",
    "stcg.save(\"tests/resources/seg/dog_mod_vertical.png\")"
   ]
  },
  {
   "cell_type": "code",
   "execution_count": 3,
   "id": "1422943b",
   "metadata": {},
   "outputs": [
    {
     "name": "stderr",
     "output_type": "stream",
     "text": [
      "\u001b[32m2025-09-16 16:43:18.134\u001b[0m | \u001b[1mINFO    \u001b[0m | \u001b[36mvif.utils.detection_utils\u001b[0m:\u001b[36mget_segmentation_masks\u001b[0m:\u001b[36m156\u001b[0m - \u001b[1mGetting masks for features : circle,square,triangle\u001b[0m\n",
      "\u001b[32m2025-09-16 16:43:24.202\u001b[0m | \u001b[1mINFO    \u001b[0m | \u001b[36mvif.utils.detection_utils\u001b[0m:\u001b[36mget_segmentation_masks\u001b[0m:\u001b[36m190\u001b[0m - \u001b[1mLLM segmentation response: ```json\n",
      "[\n",
      "  {\"box_2d\": [33, 349, 404, 702], \"mask\": \"data:image/png;base64,iVBORw0KGgoAAAANSUhEUgAAAQAAAAEACAAAAAB5Gfe6AAABnUlEQVR42u3b0QqCQBAF0Pn/n56MFtr1oR4ite4ZSTRU2tPsFYOq1urxmt7Zals9Np71bv8Xah14B9byLQcDdAOIFuhwgO5wAQAAAAAAAAAAAAAAAAAAAAAAAAAAAAAAAAAAAAAAAAAAAAAAAAAAAAAAAAAAAAAAAAAAAAAAAAAAAAD4K4ACAACAEAQAAAAAAG6DAEwBAAAACEEAAGQAAAAAhKAO0AEAAMgAAAAACEEAAAAIQQCmAAAAAAAAcBvUAQAAAAAAAAAAAAAAAAAAAAAAAAAAAAAAAAAAAAAAAAAAAAAAAAAAAAAAAAAAAAAAAAAAAAAAAAAAAAAAAAAAAAAAAAAAAAAAAAAAAAAAAAAAAAAAAAAAAAAAAAAAAAAAAMCpAA0AAAAAAAAAAAAAAAAPQzoAAAAAAAAAAAAAAAAAKQI6AAAAAAAAAAAAAAAAAAAAAPB7gA7QAToAAAAZAACADAAQAuBfYwAAhAMQiO+AigeoeIBcgqo9wX1rFqmxLPsT2Di+l/M//VS7K9QBwz+kXk3Ab1z/YsO/Zt0AeGV2RCpwrLkAAAAASUVORK5CYII=\", \"label\": \"square\"},\n",
      "  {\"box_2d\": [453, 613, 825, 966], \"mask\": \"<start_of_mask><seg_60><seg_59><seg_58><seg_111><seg_44><seg_27><seg_27><seg_100><seg_50><seg_27><seg_27><seg_3><seg_91><seg_1><seg_17>\", \"label\": \"circle\"},\n",
      "  {\"box_2d\": [544, 33, 963, 489], \"mask\": \"data:image/png;base64,iVBORw0KGgoAAAANSUhEUgAAAQAAAAEACAAAAAB5Gfe6AAACSklEQVR42u3c0WrbQABFwfP/P63Spi12CCSOXYo0d8F4HySjM/KDMautjY7j+Pqhfya/Xj/PPN5GvyfvPu149tL+YfRxMz3v+At/835/az85/eT9z/vhAgPAARqALRAOcPejYABwPyrQAGyBBoAL6AAf/kEwALhfE9ABGoAt0ABsgQZgCzQAW6AB2AJ6/9G+ATTAlxZODEAGuDhBA7AFGgAuoAM8tIpyAHD/VQV0gIfXUg8A7h9Aen96/+UEdIDvPlU0ABkgvX8A6f0D0PsvI6ADPPuI9QDg/isINAAb4CU7TQwA7j87gQ7wug1nBgD3n1hAB3jttlMDgPtPKqADvH7zuQHA/QNI7x9Aev8A0vtPJaADNABboAHgAjpA4QI6QNkCDcAWaAC2QOECOkDhAuECDcAWaAC2QAOwAQoXSBfQARqALVC4gA7QAGyBwgV0gMIFdIDCBXSABmALlC3QAGyBBmALNABboGyBBmADFC4QLtAAbIDCBQaAC4QDFC6gAxQuoAMULhAuEA7QAGyBBmALNABboAHgAgPABcoWaAA2QOEC4QINwAYoXEAHKFxAB2gAtkDhAjpA4QI6QAPABXSAwgXCBRqALdAAbIEGYAMULpAtUAOgBQoX0AEKFxgALtAAbIFwgMIFBoALNABboHABHaAB2AINABfQAQoXCBdoADZA4QI6QOECOkDZAoUL6ACFC+gAhQvoAIULDAAXaAA2QOECOkDhAjpA4QIDwAHKFmgAA6AFGoAt0ABsgQZgC5QtULZAG/91/ADWF4WCqyKsNwAAAABJRU5ErkJggg==\", \"label\": \"triangle\"}\n",
      "]\n",
      "```\u001b[0m\n",
      "\u001b[32m2025-09-16 16:43:24.203\u001b[0m | \u001b[33m\u001b[1mWARNING \u001b[0m | \u001b[36mvif.utils.detection_utils\u001b[0m:\u001b[36mlog_and_append_token_data\u001b[0m:\u001b[36m265\u001b[0m - \u001b[33m\u001b[1m[{'box_2d': [33, 349, 404, 702], 'mask': 'data:image/png;base64,iVBORw0KGgoAAAANSUhEUgAAAQAAAAEACAAAAAB5Gfe6AAABnUlEQVR42u3b0QqCQBAF0Pn/n56MFtr1oR4ite4ZSTRU2tPsFYOq1urxmt7Zals9Np71bv8Xah14B9byLQcDdAOIFuhwgO5wAQAAAAAAAAAAAAAAAAAAAAAAAAAAAAAAAAAAAAAAAAAAAAAAAAAAAAAAAAAAAAAAAAAAAAAAAAAAAAD4K4ACAACAEAQAAAAAAG6DAEwBAAAACEEAAGQAAAAAhKAO0AEAAMgAAAAACEEAAAAIQQCmAAAAAAAAcBvUAQAAAAAAAAAAAAAAAAAAAAAAAAAAAAAAAAAAAAAAAAAAAAAAAAAAAAAAAAAAAAAAAAAAAAAAAAAAAAAAAAAAAAAAAAAAAAAAAAAAAAAAAAAAAAAAAAAAAAAAAAAAAAAAAMCpAA0AAAAAAAAAAAAAAAAPQzoAAAAAAAAAAAAAAAAAKQI6AAAAAAAAAAAAAAAAAAAAAPB7gA7QAToAAAAZAACADAAQAuBfYwAAhAMQiO+AigeoeIBcgqo9wX1rFqmxLPsT2Di+l/M//VS7K9QBwz+kXk3Ab1z/YsO/Zt0AeGV2RCpwrLkAAAAASUVORK5CYII=', 'label': 'square'}, {'box_2d': [453, 613, 825, 966], 'mask': '<start_of_mask><seg_60><seg_59><seg_58><seg_111><seg_44><seg_27><seg_27><seg_100><seg_50><seg_27><seg_27><seg_3><seg_91><seg_1><seg_17>', 'label': 'circle'}, {'box_2d': [544, 33, 963, 489], 'mask': 'data:image/png;base64,iVBORw0KGgoAAAANSUhEUgAAAQAAAAEACAAAAAB5Gfe6AAACSklEQVR42u3c0WrbQABFwfP/P63Spi12CCSOXYo0d8F4HySjM/KDMautjY7j+Pqhfya/Xj/PPN5GvyfvPu149tL+YfRxMz3v+At/835/az85/eT9z/vhAgPAARqALRAOcPejYABwPyrQAGyBBoAL6AAf/kEwALhfE9ABGoAt0ABsgQZgCzQAW6AB2AJ6/9G+ATTAlxZODEAGuDhBA7AFGgAuoAM8tIpyAHD/VQV0gIfXUg8A7h9Aen96/+UEdIDvPlU0ABkgvX8A6f0D0PsvI6ADPPuI9QDg/isINAAb4CU7TQwA7j87gQ7wug1nBgD3n1hAB3jttlMDgPtPKqADvH7zuQHA/QNI7x9Aev8A0vtPJaADNABboAHgAjpA4QI6QNkCDcAWaAC2QOECOkDhAuECDcAWaAC2QAOwAQoXSBfQARqALVC4gA7QAGyBwgV0gMIFdIDCBXSABmALlC3QAGyBBmALNABboGyBBmADFC4QLtAAbIDCBQaAC4QDFC6gAxQuoAMULhAuEA7QAGyBBmALNABboAHgAgPABcoWaAA2QOEC4QINwAYoXEAHKFxAB2gAtkDhAjpA4QI6QAPABXSAwgXCBRqALdAAbIEGYAMULpAtUAOgBQoX0AEKFxgALtAAbIFwgMIFBoALNABboHABHaAB2AINABfQAQoXCBdoADZA4QI6QOECOkDZAoUL6ACFC+gAhQvoAIULDAAXaAA2QOECOkDhAjpA4QIDwAHKFmgAA6AFGoAt0ABsgQZgC5QtULZAG/91/ADWF4WCqyKsNwAAAABJRU5ErkJggg==', 'label': 'triangle'}]\u001b[0m\n"
     ]
    },
    {
     "name": "stdout",
     "output_type": "stream",
     "text": [
      "Invalid mask\n"
     ]
    },
    {
     "name": "stderr",
     "output_type": "stream",
     "text": [
      "\u001b[32m2025-09-16 16:43:27.833\u001b[0m | \u001b[1mINFO    \u001b[0m | \u001b[36mvif.utils.detection_utils\u001b[0m:\u001b[36mget_segmentation_masks\u001b[0m:\u001b[36m190\u001b[0m - \u001b[1mLLM segmentation response: ```json\n",
      "[\n",
      "  {\"box_2d\": [32, 349, 405, 702], \"mask\": \"data:image/png;base64,iVBORw0KGgoAAAANSUhEUgAAAQAAAAEACAAAAAB5Gfe6AAABqElEQVR42u3Y0Q6CMAwF0P7/T1fEIRvTqA8kxJ5rDJlRpMfSJUaMyZiSmctzPXb5tM7j+no5FJ71MvzIJVO8fABZvf6HQAIoLgAAAAAAAAAAAAAAAAAAAAAAAAAAAAAAACoBhA4AAAAAAAAAAAAAAAAAAAAA/B+gAwAAMAMAAAAAAIBtEAAAAIYgAAAADEEAbgEAAAAAAGAbBAAAgCEIAAAAQxCAWwAAAAAAANgGAQAAYAgCAADAENQBAAAAAAAAAAAAAAAAAAAAAAAAAAAAAAAAAAAAAAAAAAAAAAAAAAAAAAAAAAAAAAAAAAAAAAAAAAAAAAAAAAAAAAAAAAAAAAAAAAAAAAAAAAAAAAAAAAAAAAAAAAAAAAAAAAAAAAAAAAAAwMkACcAtoAMAADADdAAAAAAA2AUAADADAAAAAAAAAAAAAAAAAAAAAAAAAAAAAOCf69cBOkAH6AAdAACAGaADdAAAAAAAAAAAoBxAVK8fAIDi9dcViD3Fy7+UwH5Jp15VvMrzH4J2AXl/ZT22Vbz7ZHeGfhVjQdlX1M47v++3zN+3PUS+yg01bkNpeq3oUgAAAABJRU5ErkJggg==\", \"label\": \"square\"},\n",
      "  {\"box_2d\": [453, 613, 826, 966], \"mask\": \"data:image/png;base64,iVBORw0KGgoAAAANSUhEUgAAAQAAAAEACAAAAAB5Gfe6AAACUklEQVR42u3dwW3kQBTE0Mo/aTqABfZgj6TWkJUB31EQ+m/t7vHfDWn4PxDe9C9T4K9z17/agE/OXf82A66aPP8lBiAW4J7J8w8l4O7Z+88i4KHJ808R4NHJ858nALUAp0ye/4wAh83efzcBuAVALcC5s/ffIcDh0wNcTQBqAd4xPQDy/KsEwC3Ay2bv/7QAuAXALQByAeQC4BZADgBuAXALgFwAtwBfMT0A9v5fC4BbADkAyAWQCyAHALkAcgECcAuAW4AA3AAgF0AugBwA5ALIBQjALYAcgADkAsgFCMAtgByAAOQCdgACcAsQgFzADgByATsAAQTgFrADEIBbgAACUAsQQAABBCAWIIAAAjADgFwggAACUAMQQAABqAUCCCCAAMwABCAXCCCAAAIIIIAAAggggAACCCCAAALQAfRNLAB5fwABBBCAG6BfROz9AQRgB1gAAQQQgLk/gAUQQADq/l6QCMDe3ztCAdj7e0wtAHt/b4oGYO/vYeUA9K/LB9CJDT2A/sxOAPb+bo3pj80F0MXJBSDv7+6w/vD0lwssALfA5ACbXGBygckBNrnA5AKTA2xyATvA5hbY5AJ2gM0tsMkF7ACbW2BzC2xugckBNrnA5AKbW2BzC2xugc0tsLkFNrfA5hbY3AKbW2BzC+yq2ftn738HweYW2NQCu2H2/pMFdtfk+YcKbG6B3T17/1kEe2b2/lMI9uTs/c8T7IDZ+58j2EGT5z9AsAMnz7/PYEfPXX+1wd4yef4VCHvl3PWfYthXTJz+O4V98Zg2vZ24HztuvRTBMbpHAAAAAElFTkSuQmCC\", \"label\": \"circle\"},\n",
      "  {\"box_2d\": [544, 33, 963, 489], \"mask\": \"data:image/png;base64,iVBORw0KGgoAAAANSUhEUgAAAQAAAAEACAAAAAB5Gfe6AAACP0lEQVR42u3czWqDUBRG0f3+L20pLaWhg/4lpbq+MzEDDdlLBCF6a9NxHF/f98ORx8v0+uFb3/aFn/b46uPc8wb/bnsb+XxS+uxwd3SBC1wDA/ht/wDS+9P7XQEd4Pa2kO4fQHr/AHiA9P4BpPdrAjpAA7AFGoAt0ABsgQaAC+gAn/1luv4JwP3p/dcXaAA2QQOwBRoALqADfOchygHQAOn9A0jvH4Def0GBBmALNABboAHYAg3AFmgANsCvXq8dgNx/EQEdoAHYAuEA91hoYgBy/9kFwgUaAC6gA9xxzSW6fwANAO8/qYAOcPfF9wYg959PoAEMgBZ40CqsA5D7TyWgAzQAXEAHaAC2QDhA4QI6QOECOkDhAjpAfzADwPv/tcAAcIEGYAs0AFugAeACOkADsAXCAQoXSBfQAQoX0AEKF9ABGoAtULiADlC4gA5QtkADsAUagC1QuIAOULiADlC4gA5QuIAOULjAAHCBBmALhAM0AFugcIFwgQZgAxQuoAM0AFugcAEdoHABHaAB2AQNwAYoXCBcoAHYAIUL6ACFCwwAFyhcQAdoALZAOEADsAUKF9ABChcYAC4QDtAAbIHCBcIFGgAt0PlnADpAev8A0vvT+38uoAMULqADFC6gAxQukC6gA4QDFC6gAxQuoAMULpAuoAOEAxQuMABcIBygcIFwgXCAwgV0gMIFdIDCBQaACzQAG6BwAR2gcAEdoHCBAeAAZQs0gAHQAIULhAs0AFugAdgC4QDJo/f/g3kCn4l7mjqlElMAAAAASUVORK5CYII=\", \"label\": \"triangle\"}\n",
      "]\n",
      "```\u001b[0m\n",
      "\u001b[32m2025-09-16 16:43:27.835\u001b[0m | \u001b[33m\u001b[1mWARNING \u001b[0m | \u001b[36mvif.utils.detection_utils\u001b[0m:\u001b[36mlog_and_append_token_data\u001b[0m:\u001b[36m265\u001b[0m - \u001b[33m\u001b[1mSegmentation worked.\u001b[0m\n",
      "\u001b[32m2025-09-16 16:43:27.835\u001b[0m | \u001b[1mINFO    \u001b[0m | \u001b[36mvif.utils.caching\u001b[0m:\u001b[36mcheckForCached\u001b[0m:\u001b[36m42\u001b[0m - \u001b[1mnew cache\u001b[0m\n",
      "\u001b[32m2025-09-16 16:43:27.836\u001b[0m | \u001b[1mINFO    \u001b[0m | \u001b[36mvif.utils.caching\u001b[0m:\u001b[36mcheckForCached\u001b[0m:\u001b[36m43\u001b[0m - \u001b[1m{'980f5144eab9fd9198b1a7f4d3b2f3478c6c96af': ([SegmentationMask(y0=13, x0=155, y1=170, x1=313, mask=array([[False, False, False, ..., False, False, False],\n",
      "       [False, False, False, ..., False, False, False],\n",
      "       [False, False, False, ..., False, False, False],\n",
      "       ...,\n",
      "       [False, False, False, ..., False, False, False],\n",
      "       [False, False, False, ..., False, False, False],\n",
      "       [False, False, False, ..., False, False, False]], shape=(422, 446)), label='square', box_prob=0.6560402408723776, seg_prob=0.7946046348222604), SegmentationMask(y0=191, x0=273, y1=348, x1=430, mask=array([[False, False, False, ..., False, False, False],\n",
      "       [False, False, False, ..., False, False, False],\n",
      "       [False, False, False, ..., False, False, False],\n",
      "       ...,\n",
      "       [False, False, False, ..., False, False, False],\n",
      "       [False, False, False, ..., False, False, False],\n",
      "       [False, False, False, ..., False, False, False]], shape=(422, 446)), label='circle', box_prob=0.7928772323059526, seg_prob=0.7259587903702936), SegmentationMask(y0=229, x0=14, y1=406, x1=218, mask=array([[False, False, False, ..., False, False, False],\n",
      "       [False, False, False, ..., False, False, False],\n",
      "       [False, False, False, ..., False, False, False],\n",
      "       ...,\n",
      "       [False, False, False, ..., False, False, False],\n",
      "       [False, False, False, ..., False, False, False],\n",
      "       [False, False, False, ..., False, False, False]], shape=(422, 446)), label='triangle', box_prob=0.7679405957292252, seg_prob=0.7903344065504896)], [{'completion_token': 173, 'prompt_token': 362, 'total_tokens': 535, 'error_info': \"[{'box_2d': [33, 349, 404, 702], 'mask': 'data:image/png;base64,iVBORw0KGgoAAAANSUhEUgAAAQAAAAEACAAAAAB5Gfe6AAABnUlEQVR42u3b0QqCQBAF0Pn/n56MFtr1oR4ite4ZSTRU2tPsFYOq1urxmt7Zals9Np71bv8Xah14B9byLQcDdAOIFuhwgO5wAQAAAAAAAAAAAAAAAAAAAAAAAAAAAAAAAAAAAAAAAAAAAAAAAAAAAAAAAAAAAAAAAAAAAAAAAAAAAAD4K4ACAACAEAQAAAAAAG6DAEwBAAAACEEAAGQAAAAAhKAO0AEAAMgAAAAACEEAAAAIQQCmAAAAAAAAcBvUAQAAAAAAAAAAAAAAAAAAAAAAAAAAAAAAAAAAAAAAAAAAAAAAAAAAAAAAAAAAAAAAAAAAAAAAAAAAAAAAAAAAAAAAAAAAAAAAAAAAAAAAAAAAAAAAAAAAAAAAAAAAAAAAAMCpAA0AAAAAAAAAAAAAAAAPQzoAAAAAAAAAAAAAAAAAKQI6AAAAAAAAAAAAAAAAAAAAAPB7gA7QAToAAAAZAACADAAQAuBfYwAAhAMQiO+AigeoeIBcgqo9wX1rFqmxLPsT2Di+l/M//VS7K9QBwz+kXk3Ab1z/YsO/Zt0AeGV2RCpwrLkAAAAASUVORK5CYII=', 'label': 'square'}, {'box_2d': [453, 613, 825, 966], 'mask': '<start_of_mask><seg_60><seg_59><seg_58><seg_111><seg_44><seg_27><seg_27><seg_100><seg_50><seg_27><seg_27><seg_3><seg_91><seg_1><seg_17>', 'label': 'circle'}, {'box_2d': [544, 33, 963, 489], 'mask': 'data:image/png;base64,iVBORw0KGgoAAAANSUhEUgAAAQAAAAEACAAAAAB5Gfe6AAACSklEQVR42u3c0WrbQABFwfP/P63Spi12CCSOXYo0d8F4HySjM/KDMautjY7j+Pqhfya/Xj/PPN5GvyfvPu149tL+YfRxMz3v+At/835/az85/eT9z/vhAgPAARqALRAOcPejYABwPyrQAGyBBoAL6AAf/kEwALhfE9ABGoAt0ABsgQZgCzQAW6AB2AJ6/9G+ATTAlxZODEAGuDhBA7AFGgAuoAM8tIpyAHD/VQV0gIfXUg8A7h9Aen96/+UEdIDvPlU0ABkgvX8A6f0D0PsvI6ADPPuI9QDg/isINAAb4CU7TQwA7j87gQ7wug1nBgD3n1hAB3jttlMDgPtPKqADvH7zuQHA/QNI7x9Aev8A0vtPJaADNABboAHgAjpA4QI6QNkCDcAWaAC2QOECOkDhAuECDcAWaAC2QAOwAQoXSBfQARqALVC4gA7QAGyBwgV0gMIFdIDCBXSABmALlC3QAGyBBmALNABboGyBBmADFC4QLtAAbIDCBQaAC4QDFC6gAxQuoAMULhAuEA7QAGyBBmALNABboAHgAgPABcoWaAA2QOEC4QINwAYoXEAHKFxAB2gAtkDhAjpA4QI6QAPABXSAwgXCBRqALdAAbIEGYAMULpAtUAOgBQoX0AEKFxgALtAAbIFwgMIFBoALNABboHABHaAB2AINABfQAQoXCBdoADZA4QI6QOECOkDZAoUL6ACFC+gAhQvoAIULDAAXaAA2QOECOkDhAjpA4QIDwAHKFmgAA6AFGoAt0ABsgQZgC5QtULZAG/91/ADWF4WCqyKsNwAAAABJRU5ErkJggg==', 'label': 'triangle'}]\"}, {'completion_token': 174, 'prompt_token': 362, 'total_tokens': 536, 'error_info': 'Segmentation worked.'}])}\u001b[0m\n"
     ]
    }
   ],
   "source": [
    "d = get_segmentation_masks(stcg,gclient,[\"circle\",\"square\",\"triangle\"],visual_model)[0]"
   ]
  },
  {
   "cell_type": "code",
   "execution_count": 4,
   "id": "c6611861",
   "metadata": {},
   "outputs": [],
   "source": [
    "import pickle\n",
    "\n",
    "with open(\"tests/resources/seg/rgbp_stc.pickle\",\"wb\") as square_blurple_file:\n",
    "    pickle.dump(d,square_blurple_file)"
   ]
  },
  {
   "cell_type": "markdown",
   "id": "cf772a64",
   "metadata": {},
   "source": [
    "### With image path directly"
   ]
  },
  {
   "cell_type": "code",
   "execution_count": 2,
   "id": "1a0e182a",
   "metadata": {},
   "outputs": [],
   "source": [
    "colnodes = Image.open(\"notebooks/protos/images/dog.png\")"
   ]
  },
  {
   "cell_type": "code",
   "execution_count": null,
   "id": "b93afabb",
   "metadata": {},
   "outputs": [
    {
     "name": "stderr",
     "output_type": "stream",
     "text": [
      "\u001b[32m2025-09-17 11:46:07.126\u001b[0m | \u001b[33m\u001b[1mWARNING \u001b[0m | \u001b[36mvif.utils.caching\u001b[0m:\u001b[36mcheckForCached\u001b[0m:\u001b[36m45\u001b[0m - \u001b[33m\u001b[1mCache hit\u001b[0m\n"
     ]
    }
   ],
   "source": [
    "colnode_seg = get_segmentation_masks(\n",
    "    colnodes,\n",
    "    gclient,\n",
    "    [\n",
    "        \"left eye\",\n",
    "        \"right eye\",\n",
    "        \"dog's face\",\n",
    "    ],\n",
    "    visual_model,\n",
    ")[0]"
   ]
  },
  {
   "cell_type": "code",
   "execution_count": 8,
   "id": "cb11d347",
   "metadata": {},
   "outputs": [
    {
     "data": {
      "image/png": "[encoded data removed]",
      "text/plain": [
       "<PIL.Image.Image image mode=RGBA size=343x343>"
      ]
     },
     "execution_count": 8,
     "metadata": {},
     "output_type": "execute_result"
    }
   ],
   "source": [
    "plot_segmentation_masks(colnodes,colnode_seg)"
   ]
  },
  {
   "cell_type": "code",
   "execution_count": 9,
   "id": "a728faa7",
   "metadata": {},
   "outputs": [
    {
     "data": {
      "text/plain": [
       "[('right eye', 0.6760808425384027),\n",
       " ('left eye', 0.7655779593625104),\n",
       " (\"dog's face\", 0.7349686413957411)]"
      ]
     },
     "execution_count": 9,
     "metadata": {},
     "output_type": "execute_result"
    }
   ],
   "source": [
    "[(colnode_se.label,colnode_se.box_prob) for colnode_se in colnode_seg]"
   ]
  },
  {
   "cell_type": "code",
   "execution_count": 18,
   "id": "bd148b3e",
   "metadata": {},
   "outputs": [],
   "source": [
    "import numpy as np\n",
    "im_ar = [Image.fromarray(colnode_se.mask) for colnode_se in colnode_seg]\n",
    "im_ar_mi = [Image.fromarray(np.flip(colnode_se.mask,0)) for colnode_se in colnode_seg]\n",
    "\n",
    "\n"
   ]
  },
  {
   "cell_type": "code",
   "execution_count": 10,
   "id": "9ba5a9d8",
   "metadata": {},
   "outputs": [],
   "source": [
    "import pickle\n",
    "\n",
    "with open(\"tests/resources/seg/dog_eyes_face.pickle\", \"wb\") as pseg:\n",
    "    pickle.dump(colnode_seg,pseg) "
   ]
  },
  {
   "cell_type": "code",
   "execution_count": 3,
   "id": "34aefaac",
   "metadata": {},
   "outputs": [],
   "source": [
    "import pickle\n",
    "with open(\"tests/resources/seg/dog_eyes_face.pickle\", \"rb\") as pseg:\n",
    "    s = pickle.load(pseg)"
   ]
  },
  {
   "cell_type": "code",
   "execution_count": 12,
   "id": "bf8dcd15",
   "metadata": {},
   "outputs": [
    {
     "ename": "NameError",
     "evalue": "name 'im_ar' is not defined",
     "output_type": "error",
     "traceback": [
      "\u001b[31m---------------------------------------------------------------------------\u001b[39m",
      "\u001b[31mNameError\u001b[39m                                 Traceback (most recent call last)",
      "\u001b[36mCell\u001b[39m\u001b[36m \u001b[39m\u001b[32mIn[12]\u001b[39m\u001b[32m, line 1\u001b[39m\n\u001b[32m----> \u001b[39m\u001b[32m1\u001b[39m \u001b[38;5;28;01mfor\u001b[39;00m im,im_mi \u001b[38;5;129;01min\u001b[39;00m \u001b[38;5;28mzip\u001b[39m(\u001b[43mim_ar\u001b[49m,im_ar_mi):\n\u001b[32m      2\u001b[39m     display(im)\n\u001b[32m      3\u001b[39m     display(im_mi)\n",
      "\u001b[31mNameError\u001b[39m: name 'im_ar' is not defined"
     ]
    }
   ],
   "source": [
    "for im,im_mi in zip(im_ar,im_ar_mi):\n",
    "    display(im)\n",
    "    display(im_mi)"
   ]
  },
  {
   "cell_type": "code",
   "execution_count": null,
   "id": "62dae656",
   "metadata": {},
   "outputs": [
    {
     "name": "stdout",
     "output_type": "stream",
     "text": [
      "360\n",
      "360\n"
     ]
    }
   ],
   "source": [
    "print(np.logical_and(s[1].mask, s[1].mask).sum())\n",
    "print(s[1].mask.sum())\n"
   ]
  },
  {
   "cell_type": "code",
   "execution_count": null,
   "id": "f2193ec6",
   "metadata": {},
   "outputs": [
    {
     "data": {
      "image/png": "[encoded data removed]",
      "text/plain": [
       "<PIL.Image.Image image mode=RGBA size=225x203>"
      ]
     },
     "execution_count": 5,
     "metadata": {},
     "output_type": "execute_result"
    }
   ],
   "source": [
    "from vif.utils.image_utils import apply_mask, crop_image_with_box\n",
    "\n",
    "\n",
    "cropped = apply_mask(colnodes,s[2].mask)\n",
    "boxed = Image.fromarray(crop_image_with_box(cropped,(s[2].x0,s[2].x1,s[2].y0,s[2].y1)))\n",
    "boxed"
   ]
  },
  {
   "cell_type": "code",
   "execution_count": null,
   "id": "8bf90388",
   "metadata": {},
   "outputs": [],
   "source": []
  }
 ],
 "metadata": {
  "kernelspec": {
   "display_name": "VIFagent",
   "language": "python",
   "name": "python3"
  },
  "language_info": {
   "codemirror_mode": {
    "name": "ipython",
    "version": 3
   },
   "file_extension": ".py",
   "mimetype": "text/x-python",
   "name": "python",
   "nbconvert_exporter": "python",
   "pygments_lexer": "ipython3",
   "version": "3.12.11"
  }
 },
 "nbformat": 4,
 "nbformat_minor": 5
}
