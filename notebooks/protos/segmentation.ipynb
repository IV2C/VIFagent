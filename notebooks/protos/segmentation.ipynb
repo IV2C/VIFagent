{
 "cells": [
  {
   "cell_type": "code",
   "execution_count": 1,
   "id": "af579b44",
   "metadata": {},
   "outputs": [
    {
     "name": "stderr",
     "output_type": "stream",
     "text": [
      "\u001b[32m2025-08-27 16:02:01.155\u001b[0m | \u001b[1mINFO    \u001b[0m | \u001b[36mvif.utils.caching\u001b[0m:\u001b[36minstantiate_cache\u001b[0m:\u001b[36m26\u001b[0m - \u001b[1mseg_cache cache loaded\u001b[0m\n"
     ]
    }
   ],
   "source": [
    "from vif.utils.detection_utils import get_segmentation_masks\n",
    "from vif.utils.renderer.tex_renderer import TexRenderer\n",
    "from PIL import Image\n",
    "from google import genai\n",
    "from google.genai import types as genTypes\n",
    "import os\n",
    "# APIs used\n",
    "gclient = genai.Client(\n",
    "    api_key=os.environ.get(\"GOOGLE_API_KEY\"),\n",
    "    http_options=genTypes.HttpOptions(api_version=\"v1alpha\"),\n",
    ")\n",
    "\n",
    "# Models used\n",
    "temperature=0.3,\n",
    "visual_model=\"gemini-2.5-flash\""
   ]
  },
  {
   "cell_type": "code",
   "execution_count": 7,
   "id": "4a11134b",
   "metadata": {},
   "outputs": [
    {
     "name": "stderr",
     "output_type": "stream",
     "text": [
      "\u001b[32m2025-08-27 16:06:54.290\u001b[0m | \u001b[34m\u001b[1mDEBUG   \u001b[0m | \u001b[36mvif.utils.renderer.tex_renderer\u001b[0m:\u001b[36mfrom_string_to_image\u001b[0m:\u001b[36m45\u001b[0m - \u001b[34m\u001b[1mlatex renderer writing to /home/creux/.cache/varbench/df0643e1-df2b-4fc0-931b-37c99b46ba17.tex\u001b[0m\n",
      "\u001b[32m2025-08-27 16:06:54.613\u001b[0m | \u001b[34m\u001b[1mDEBUG   \u001b[0m | \u001b[36mvif.utils.renderer.tex_renderer\u001b[0m:\u001b[36mfrom_string_to_image\u001b[0m:\u001b[36m78\u001b[0m - \u001b[34m\u001b[1mconverting /home/creux/.cache/varbench/df0643e1-df2b-4fc0-931b-37c99b46ba17.tex to png\u001b[0m\n"
     ]
    }
   ],
   "source": [
    "renderer = TexRenderer()\n",
    "\n",
    "code = open(\"notebooks/protos/code/rpgb_rtc.tex\").read()\n",
    "\n",
    "stcg = renderer.from_string_to_image(code)\n",
    "stcg.save(\"tests/resources/seg/rgbp_stc.png\")"
   ]
  },
  {
   "cell_type": "code",
   "execution_count": 8,
   "id": "1422943b",
   "metadata": {},
   "outputs": [
    {
     "name": "stderr",
     "output_type": "stream",
     "text": [
      "\u001b[32m2025-08-27 16:08:37.305\u001b[0m | \u001b[33m\u001b[1mWARNING \u001b[0m | \u001b[36mvif.utils.caching\u001b[0m:\u001b[36mcheckForCached\u001b[0m:\u001b[36m45\u001b[0m - \u001b[33m\u001b[1mCache hit\u001b[0m\n"
     ]
    }
   ],
   "source": [
    "d = get_segmentation_masks(stcg,gclient,[\"circle\",\"square\",\"triangle\"],visual_model)[0]"
   ]
  },
  {
   "cell_type": "code",
   "execution_count": 9,
   "id": "c6611861",
   "metadata": {},
   "outputs": [],
   "source": [
    "import pickle\n",
    "\n",
    "with open(\"tests/resources/seg/rgbp_stc.pickle\",\"wb\") as square_blurple_file:\n",
    "    pickle.dump(d,square_blurple_file)"
   ]
  },
  {
   "cell_type": "code",
   "execution_count": null,
   "id": "b93afabb",
   "metadata": {},
   "outputs": [],
   "source": []
  }
 ],
 "metadata": {
  "kernelspec": {
   "display_name": "VIFagent",
   "language": "python",
   "name": "python3"
  },
  "language_info": {
   "codemirror_mode": {
    "name": "ipython",
    "version": 3
   },
   "file_extension": ".py",
   "mimetype": "text/x-python",
   "name": "python",
   "nbconvert_exporter": "python",
   "pygments_lexer": "ipython3",
   "version": "3.12.11"
  }
 },
 "nbformat": 4,
 "nbformat_minor": 5
}
