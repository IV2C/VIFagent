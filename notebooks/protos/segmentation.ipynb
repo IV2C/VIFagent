{
 "cells": [
  {
   "cell_type": "code",
   "execution_count": 24,
   "id": "b09d1b14",
   "metadata": {},
   "outputs": [
    {
     "name": "stdout",
     "output_type": "stream",
     "text": [
      "```json\n",
      "[\n",
      "  {\"box_2d\": [474, 30, 960, 488], \"mask\": \"data:image/png;base64,iVBORw0KGgoAAAANSUhEUgAAAQAAAAEACAAAAAB5Gfe6AAACJklEQVR42u3ZQWoDMRREQd3/0hUCnmWwiR3C8LpPoK4vgYTO+df4zunGI/X+6v2rAuICxAXqAAYwgLZAHcAA2gDEBcQFxAEMIC4gLmAAbQDiAnUA4gJ1AANoCxAXGEAcgLYAcYE6AHGBOgBxgTqAAbQFDKAtQFygDkBcoA5AXKAOQFygDkBcoA5AXGAAcQEDaAsYQBvAmxlAvP/dBYgL1AEMoC1gAG0BA2gLGEBcoA7gsxlAvP8A1Pur97+ZwADiAgbQBiAuIC5gAHGBOoA4AHEBcQEDaAsYQFygDkBcoA5gAG0BcQDiAgOICxhAW4C4QB2AtoABxAXqAAYQF6gD0BYwgLaAAcQF6gDiAMQF6gDEBeoAxAXUBeoAtAWIC9QBiAvUAYgL1AEMoE1gAG0A4gJ1AOICdQDiAnUA4gJ1AOICdQDiAgOIAxAXqAMQF6gD0BYgLjCAOABxgToAcQFxAXEA4gIDiAMQFxAXMIC2gAG0BQygDUBcoA5AXKAOQFygDkBcoA5gAHEBcQFxANoCBhAXqAMYQFuAtoABtAUMoC1gAG0BA2gLGEBbQByAuEAdgLhAHYC4QB2AuEAdgLhAHcAA4gJ1ANoCBhAXEBcQByAuUAcgLlAHIC5QByAuUAcwgLaAAbQFDGAAaQHiAnUAA2gTGEAbwADaAgbQFjCANoABtAX+9oJ9nvxFn18v4Dq8Pz3rXx3t+WThO+QlgPNscjfOtSuvrl8dsGm6I5qTXQAAAABJRU5ErkJggg==\", \"label\": \"red triangle\"}\n",
      "]\n",
      "```\n"
     ]
    }
   ],
   "source": [
    "from PIL import Image\n",
    "from io import BytesIO\n",
    "from google import genai\n",
    "from google.genai import types\n",
    "from PIL import Image\n",
    "\n",
    "import io\n",
    "import os\n",
    "import requests\n",
    "from io import BytesIO\n",
    "\n",
    "\n",
    "import os\n",
    "\n",
    "GOOGLE_API_KEY=os.environ.get('GEMINI_API_KEY')\n",
    "client = genai.Client(api_key=GOOGLE_API_KEY)\n",
    "\n",
    "\n",
    "\n",
    "image = \"image_1.png\" # @param [\"Socks.jpg\",\"Vegetables.jpg\",\"Japanese_bento.png\",\"Cupcakes.jpg\",\"Origamis.jpg\",\"Fruits.jpg\",\"Cat.jpg\",\"Pumpkins.jpg\",\"Breakfast.jpg\",\"Bookshelf.jpg\", \"Spill.jpg\"] {\"allow-input\":true}\n",
    "prompt = \"Give the segmentation masks for the triangle. Output a JSON list of segmentation masks where each entry contains the 2D bounding box in the key \\\"box_2d\\\", the segmentation mask in key \\\"mask\\\", and the text label in the key \\\"label\\\". Use descriptive labels. Always generate the full mask, not just <start_of_mask>.\"  # @param {type:\"string\"}\n",
    "\n",
    "# Load and resize image\n",
    "im = Image.open(\"notebooks/oracle_verification/.debug/oracle/image_1.png\")\n",
    "\n",
    "# Run model to find segmentation masks\n",
    "response = client.models.generate_content(\n",
    "    model=\"gemini-2.5-flash\",\n",
    "    contents=[prompt, im],\n",
    "    config = types.GenerateContentConfig(\n",
    "        temperature=0.5,\n",
    "        thinking_config=types.ThinkingConfig(\n",
    "          thinking_budget=0\n",
    "        ),    )\n",
    ")\n",
    "\n",
    "# Check output\n",
    "print(response.text)"
   ]
  },
  {
   "cell_type": "code",
   "execution_count": 27,
   "id": "17c0e48a",
   "metadata": {},
   "outputs": [
    {
     "data": {
      "text/plain": [
       "GenerateContentResponseUsageMetadata(\n",
       "  candidates_token_count=64,\n",
       "  prompt_token_count=326,\n",
       "  prompt_tokens_details=[\n",
       "    ModalityTokenCount(\n",
       "      modality=<MediaModality.TEXT: 'TEXT'>,\n",
       "      token_count=68\n",
       "    ),\n",
       "    ModalityTokenCount(\n",
       "      modality=<MediaModality.IMAGE: 'IMAGE'>,\n",
       "      token_count=258\n",
       "    ),\n",
       "  ],\n",
       "  total_token_count=390\n",
       ")"
      ]
     },
     "execution_count": 27,
     "metadata": {},
     "output_type": "execute_result"
    }
   ],
   "source": [
    "response.usage_metadata"
   ]
  },
  {
   "cell_type": "code",
   "execution_count": 28,
   "id": "fdab7752",
   "metadata": {},
   "outputs": [
    {
     "data": {
      "text/plain": [
       "'{\"completion_token\": 64, \"prompt_token\": 326, \"total_tokens\": 390}'"
      ]
     },
     "execution_count": 28,
     "metadata": {},
     "output_type": "execute_result"
    }
   ],
   "source": [
    "import json\n",
    "\n",
    "res_meta = response.usage_metadata\n",
    "json.dumps(\n",
    "    {\n",
    "        \"completion_token\": res_meta.candidates_token_count,\n",
    "        \"prompt_token\": res_meta.prompt_token_count,\n",
    "        \"total_tokens\": res_meta.total_token_count,\n",
    "    }\n",
    ")"
   ]
  }
 ],
 "metadata": {
  "kernelspec": {
   "display_name": "VIFagent",
   "language": "python",
   "name": "python3"
  },
  "language_info": {
   "codemirror_mode": {
    "name": "ipython",
    "version": 3
   },
   "file_extension": ".py",
   "mimetype": "text/x-python",
   "name": "python",
   "nbconvert_exporter": "python",
   "pygments_lexer": "ipython3",
   "version": "3.12.11"
  }
 },
 "nbformat": 4,
 "nbformat_minor": 5
}
