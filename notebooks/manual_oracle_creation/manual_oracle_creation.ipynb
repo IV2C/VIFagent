{
 "cells": [
  {
   "cell_type": "markdown",
   "id": "09673141",
   "metadata": {},
   "source": [
    "# Manually creating oracle to see if they are sufficient for the benchmark"
   ]
  },
  {
   "cell_type": "code",
   "execution_count": 1,
   "id": "8fd6e6e4",
   "metadata": {},
   "outputs": [
    {
     "name": "stderr",
     "output_type": "stream",
     "text": [
      "/home/creux/Documents/AI/VIFagent/.venv/lib/python3.12/site-packages/tqdm/auto.py:21: TqdmWarning: IProgress not found. Please update jupyter and ipywidgets. See https://ipywidgets.readthedocs.io/en/stable/user_install.html\n",
      "  from .autonotebook import tqdm as notebook_tqdm\n"
     ]
    }
   ],
   "source": [
    "from datasets import load_dataset\n",
    "\n",
    "\n",
    "ds = load_dataset(\"CharlyR/vtikz\", \"tikz\", split=\"benchmark\")\n",
    "ds = ds.select_columns([\"id\",\"type\",\"instruction\",\"code\",\"image_solution\",\"image_input\",\"code_solution\"])"
   ]
  },
  {
   "cell_type": "code",
   "execution_count": 28,
   "id": "a7294173",
   "metadata": {},
   "outputs": [],
   "source": [
    "from IPython.display import clear_output,display,HTML\n",
    "import os\n",
    "\n",
    "for row in ds.iter(1):\n",
    "    if os.path.exists(\n",
    "        f\"notebooks/manual_oracle_creation/oracle_functions/{row[\"id\"][0]}.py\"\n",
    "    ):\n",
    "        continue\n",
    "    with open(\n",
    "        f\"notebooks/manual_oracle_creation/oracle_functions/{row[\"id\"][0]}.py\", \"w\"\n",
    "    ) as oracle_file:\n",
    "        oracle_file.write(\"from vif.falcon.oracle.guided_oracle.expressions import (added,removed,angle,color,placement,position,size,shape,within)\\ndef test_valid_customization() -> bool:\\n  \")\n",
    "    print(f\"{row[\"id\"][0]} : {row[\"instruction\"][0]}\")\n",
    "    display(row[\"image_input\"][0],row[\"image_solution\"][0][0])\n",
    "    break"
   ]
  },
  {
   "cell_type": "code",
   "execution_count": null,
   "id": "2d15060f",
   "metadata": {},
   "outputs": [],
   "source": []
  }
 ],
 "metadata": {
  "kernelspec": {
   "display_name": "VIFagent",
   "language": "python",
   "name": "python3"
  },
  "language_info": {
   "codemirror_mode": {
    "name": "ipython",
    "version": 3
   },
   "file_extension": ".py",
   "mimetype": "text/x-python",
   "name": "python",
   "nbconvert_exporter": "python",
   "pygments_lexer": "ipython3",
   "version": "3.12.11"
  }
 },
 "nbformat": 4,
 "nbformat_minor": 5
}
