{
 "cells": [
  {
   "cell_type": "code",
   "execution_count": 1,
   "id": "41d609a6",
   "metadata": {},
   "outputs": [
    {
     "name": "stderr",
     "output_type": "stream",
     "text": [
      "/home/creux/Documents/AI/VIFagent/.venv/lib/python3.12/site-packages/tqdm/auto.py:21: TqdmWarning: IProgress not found. Please update jupyter and ipywidgets. See https://ipywidgets.readthedocs.io/en/stable/user_install.html\n",
      "  from .autonotebook import tqdm as notebook_tqdm\n"
     ]
    }
   ],
   "source": [
    "import sys\n",
    "from datasets import load_dataset\n",
    "from loguru import logger\n",
    "\n",
    "logger.configure(handlers=[{\"sink\": sys.stdout, \"level\": \"WARNING\"}])\n",
    "ds = load_dataset(\"CharlyR/vtikz\", \"tikz\", split=\"benchmark\")\n",
    "ds = ds.select_columns([\"id\",\"type\",\"instruction\",\"code\",\"template_solution_code\"])\n"
   ]
  },
  {
   "cell_type": "markdown",
   "id": "18ade3fe",
   "metadata": {},
   "source": [
    "#### Utils"
   ]
  },
  {
   "cell_type": "code",
   "execution_count": 2,
   "id": "ded07c53",
   "metadata": {},
   "outputs": [],
   "source": [
    "from datasets.formatting.formatting import LazyBatch\n",
    "from collections import defaultdict\n",
    "from notebooks.verifier_ds_creation.verifier_utils import (\n",
    "    generate_all_incorrect_solutions,\n",
    "    get_default,\n",
    "    handle_def,\n",
    ")\n",
    "\n",
    "\n",
    "def create_incorrect_solutions(row: LazyBatch):\n",
    "    all_created_template_codes: dict[str : list[str]] = defaultdict(list)\n",
    "    original_code = row[\"code\"][0]\n",
    "    ignored_row = []\n",
    "    for template_code in row[\"template_solution_code\"][0]:\n",
    "        all_created_template_codes[template_code], ignored = (\n",
    "            generate_all_incorrect_solutions(original_code, template_code)\n",
    "        )\n",
    "        ignored_row.append(ignored)\n",
    "\n",
    "    if all(ignored_row):\n",
    "        logger.warning(f\"{row['id']} is ignored.\")\n",
    "\n",
    "    new_rows = defaultdict(list)\n",
    "    for template, created_template_codes in all_created_template_codes.items():\n",
    "        for created_template_code in created_template_codes:\n",
    "            for existing_col in set(row.keys()):\n",
    "                new_rows[existing_col].append(row[existing_col][0])\n",
    "            new_rows[\"original_template\"].append(template)\n",
    "            new_rows[\"solution\"].append(created_template_code)\n",
    "            new_rows[\"expected\"].append(False)\n",
    "    if len(new_rows) == 0:\n",
    "        new_rows = {\n",
    "            \"original_template\": [],\n",
    "            \"solution\": [],\n",
    "            \"expected\": [],\n",
    "        }\n",
    "        for existing_col in set(row.keys()):\n",
    "            new_rows[existing_col] = []\n",
    "    return new_rows\n",
    "\n",
    "\n",
    "def create_default_solution(row: LazyBatch):\n",
    "    default_codes: dict[str, str] = {}\n",
    "    for template_code in row[\"template_solution_code\"][0]:\n",
    "        default_codes[template_code] = get_default(handle_def(template_code)[0])\n",
    "    new_rows = defaultdict(list)\n",
    "    for template, created_default_code in default_codes.items():\n",
    "        for existing_col in set(row.keys()):\n",
    "            new_rows[existing_col].append(row[existing_col][0])\n",
    "        new_rows[\"original_template\"].append(template)\n",
    "        new_rows[\"solution\"].append(created_default_code)\n",
    "        new_rows[\"expected\"].append(True)\n"
   ]
  },
  {
   "cell_type": "markdown",
   "id": "e797f052",
   "metadata": {},
   "source": [
    "### Creating the dataset + filtering"
   ]
  },
  {
   "cell_type": "code",
   "execution_count": 3,
   "id": "eb789371",
   "metadata": {},
   "outputs": [
    {
     "name": "stderr",
     "output_type": "stream",
     "text": [
      "Parameter 'function'=<function create_incorrect_solutions at 0x7eaccac05260> of the transform datasets.arrow_dataset.Dataset._map_single couldn't be hashed properly, a random hash was used instead. Make sure your transforms and parameters are serializable with pickle or dill for the dataset fingerprinting and caching to work. If you reuse this transform, the caching mechanism will consider it to be different from the previous calls and recompute everything. This warning is only showed once. Subsequent hashing failures won't be showed.\n"
     ]
    },
    {
     "name": "stdout",
     "output_type": "stream",
     "text": [
      "vr_two_motors\n"
     ]
    },
    {
     "name": "stderr",
     "output_type": "stream",
     "text": [
      "Map: 100%|██████████| 1/1 [00:28<00:00, 28.86s/ examples]\n"
     ]
    }
   ],
   "source": [
    "\n",
    "#test_ds = Dataset.from_dict({\"template_solution_code\":[[test_code]]})\n",
    "selected = 96\n",
    "test_ds  = ds.select([selected])\n",
    "print(ds[selected][\"id\"])\n",
    "test_expanded_ds = test_ds.map(create_incorrect_solutions,batched=True,batch_size=1,load_from_cache_file=False)"
   ]
  },
  {
   "cell_type": "code",
   "execution_count": 4,
   "id": "9347e238",
   "metadata": {},
   "outputs": [
    {
     "name": "stderr",
     "output_type": "stream",
     "text": [
      "Map: 100%|██████████| 100/100 [00:00<00:00, 5529.15 examples/s]\n"
     ]
    }
   ],
   "source": [
    "expanded_ds_cor = ds.map(create_default_solution,batched=True,batch_size=1,load_from_cache_file=False)\n"
   ]
  },
  {
   "cell_type": "code",
   "execution_count": null,
   "id": "6adc60e5",
   "metadata": {},
   "outputs": [
    {
     "name": "stderr",
     "output_type": "stream",
     "text": [
      "Map:   2%|▏         | 2/100 [01:40<1:24:14, 51.58s/ examples]"
     ]
    }
   ],
   "source": [
    "expanded_ds_inc = ds.select(range(len(ds) - 1, -1, -1)).map(create_incorrect_solutions,batched=True,batch_size=1,load_from_cache_file=False)"
   ]
  },
  {
   "cell_type": "code",
   "execution_count": null,
   "id": "f3939a35",
   "metadata": {},
   "outputs": [],
   "source": [
    "from datasets import Dataset,concatenate_datasets\n",
    "generated_ds:Dataset = concatenate_datasets([expanded_ds_cor,expanded_ds_inc])"
   ]
  },
  {
   "cell_type": "code",
   "execution_count": null,
   "id": "e93be38a",
   "metadata": {},
   "outputs": [
    {
     "data": {
      "text/plain": [
       "5491"
      ]
     },
     "execution_count": 6,
     "metadata": {},
     "output_type": "execute_result"
    }
   ],
   "source": [
    "len(generated_ds)"
   ]
  },
  {
   "cell_type": "markdown",
   "id": "972196b8",
   "metadata": {},
   "source": [
    "#### Filtering the ones that do not compile"
   ]
  },
  {
   "cell_type": "code",
   "execution_count": 7,
   "id": "8c5b9db8",
   "metadata": {},
   "outputs": [],
   "source": [
    "import sys\n",
    "from vif.utils.renderer.tex_renderer import TexRenderer\n",
    "\n",
    "\n",
    "renderer = TexRenderer()\n",
    "\n",
    "def renders(row):\n",
    "    try:\n",
    "        renderer.from_string_to_image(row[\"solution\"])\n",
    "        row[\"compiles\"]=True\n",
    "    except:\n",
    "        row[\"compiles\"]=False\n",
    "    return row"
   ]
  },
  {
   "cell_type": "code",
   "execution_count": 8,
   "id": "6e4a5e2c",
   "metadata": {},
   "outputs": [
    {
     "name": "stderr",
     "output_type": "stream",
     "text": [
      "Map: 100%|██████████| 5491/5491 [41:37<00:00,  2.20 examples/s]  \n"
     ]
    }
   ],
   "source": [
    "compiling_generated = generated_ds.map(renders)"
   ]
  },
  {
   "cell_type": "code",
   "execution_count": 9,
   "id": "d2741d42",
   "metadata": {},
   "outputs": [],
   "source": [
    "compiling_generated_pd = compiling_generated.to_pandas()\n",
    "compiling_generated_filtered = compiling_generated_pd[compiling_generated_pd[\"compiles\"]==True]\n",
    "not_compiling_generated_filtered = compiling_generated_pd[compiling_generated_pd[\"compiles\"]==False]"
   ]
  },
  {
   "cell_type": "code",
   "execution_count": null,
   "id": "a1736eff",
   "metadata": {},
   "outputs": [
    {
     "name": "stdout",
     "output_type": "stream",
     "text": [
      "4112\n",
      "\\documentclass[tikz,border=5]{standalone}\n",
      "\\usepackage[prefix=]{xcolor-material}\n",
      "\n",
      "\\tikzset{\n",
      "  half clip/.code={\n",
      "    \\clip (0, -256) rectangle (256, 256);\n",
      "  },\n",
      "  color alias/.code args={#1 as #2}{\\colorlet{#1}{#2}},\n",
      "  colors alias/.style={color alias/.list/.expanded={#1}},\n",
      "  execute/.code={#1},\n",
      "  on left/.style={.. on left/.style={#1}},\n",
      "  on right/.style={.. on right/.style={#1}},\n",
      "}\n",
      "\\newcommand\\reflect[2][]{\n",
      "\\begin{scope}[#1]\\foreach \\side in {-1, 1}{\\begin{scope}\n",
      "\\ifnum\\side=-1 \\tikzset{.. on left/.try}\\else\\tikzset{.. on right/.try}\\fi\n",
      "\\begin{scope}[xscale=\\side]#2\\end{scope}\n",
      "\\end{scope}}\\end{scope}}\n",
      "\n",
      "\n",
      "\\tikzset{\n",
      "bee/.pic={\n",
      "\\begin{scope}[x=3cm/480,y=3cm/480, rotate=-45, shift=(270:48)]\n",
      "\\reflect[\n",
      "  on left= {colors alias={body as BlueGrey800, stripes as Amber500}},\n",
      "  on right={colors alias={body as BlueGrey900, stripes as Amber700}, half clip},\n",
      "  lower wing/.style={fill=BlueGrey100}, upper wing/.style={fill=BlueGrey50}]{\n",
      "  \\fill [body] (0,-160)\n",
      "    .. controls ++(120:64) and ++(270:64) .. (-88, -16)\n",
      "    .. controls ++( 90:64) and ++(225:64) .. (  0, 128)\n",
      "    .. controls ++(315:64) and ++( 90:64) .. ( 88, -16)\n",
      "    .. controls ++(270:64) and ++( 60:64) .. cycle;\n",
      "  \\fill [body] (0,128) ellipse [x radius=80, y radius=56];\n",
      "  \\fill [body]\n",
      "    (32,160) arc (180:90:64) -- ++(6,-6) coordinate [midway] (@)\n",
      "    arc (90:180:64) -- cycle;\n",
      "  \\fill [body] (@) circle [radius=12];\n",
      "  \\begin{scope}\n",
      "    \\clip (0,-160)\n",
      "      .. controls ++(120:64) and ++(270:64) .. (-88, -16)\n",
      "      .. controls ++( 90:64) and ++(225:64) .. (  0, 128)\n",
      "      .. controls ++(315:64) and ++( 90:64) .. ( 88, -16)\n",
      "      .. controls ++(270:64) and ++( 60:64) .. cycle;\n",
      "    \\foreach \\i in {0,...,2}\n",
      "      \\fill [stripes] (-256, -160 + \\i*80) rectangle ++(512, 40);\n",
      "  \\end{scope}\n",
      "  \\foreach \\s [count=\\i from -1] in {lower wing, upper wing}\n",
      "    \\fill [style=\\s, shift={(16,56)}, rotate=\\i*32]\n",
      "      (0,0)\n",
      "      .. controls ++( 30:64) and ++(180:32) .. (128,56)\n",
      "      arc (90:-90:56)\n",
      "      .. controls ++(180:32) and ++(330:64) .. cycle;\n",
      "  \\fill [BlueGrey100] (50, §rangei(150,5)) circle [radius=§rangei(20,713BlueGrey700] (§rangei(40,1300,155dius=§rangei(7,5)];\n",
      "    \n",
      "}\n",
      "\\end{scope}}\n",
      "}\n",
      "\\begin{do2in{tikzpicture}\n",
      "\\fill [fill=LightBlue300] circle [radius=2];\n",
      "\\pic {bee};\n",
      "\\end{tikzpicture}\n",
      "\\end{document}\n"
     ]
    }
   ],
   "source": [
    "print(len(not_compiling_generated_filtered))\n",
    "    "
   ]
  },
  {
   "cell_type": "markdown",
   "id": "4dedbbaa",
   "metadata": {},
   "source": [
    "#### Removing duplicate ones(If Any)"
   ]
  },
  {
   "cell_type": "code",
   "execution_count": 11,
   "id": "c2d2c73e",
   "metadata": {},
   "outputs": [],
   "source": [
    "compiling_dedup_pd = compiling_generated_filtered.drop_duplicates(\"solution\")"
   ]
  },
  {
   "cell_type": "code",
   "execution_count": 12,
   "id": "aa7a43e1",
   "metadata": {},
   "outputs": [
    {
     "name": "stdout",
     "output_type": "stream",
     "text": [
      "5491\n",
      "5491\n",
      "1379\n"
     ]
    }
   ],
   "source": [
    "print(len(generated_ds))\n",
    "print(len(compiling_generated))\n",
    "print(len(compiling_dedup_pd))"
   ]
  },
  {
   "cell_type": "markdown",
   "id": "f5c88dc1",
   "metadata": {},
   "source": [
    "#### Creating a 50/50 ratio"
   ]
  },
  {
   "cell_type": "code",
   "execution_count": 31,
   "id": "d814bf74",
   "metadata": {},
   "outputs": [
    {
     "name": "stderr",
     "output_type": "stream",
     "text": [
      "/tmp/ipykernel_203149/4119551737.py:9: DeprecationWarning: DataFrameGroupBy.apply operated on the grouping columns. This behavior is deprecated, and in a future version of pandas the grouping columns will be excluded from the operation. Either pass `include_groups=False` to exclude the groupings or explicitly select the grouping columns after groupby to silence this warning.\n",
      "  dedup_50 = compiling_dedup_pd.groupby(\"id\", group_keys=False).apply(balance_group).reset_index(drop=True)\n"
     ]
    }
   ],
   "source": [
    "import pandas as pd\n",
    "def balance_group(g):\n",
    "    n = min(g['expected'].sum(), (~g['expected']).sum())\n",
    "    return pd.concat([\n",
    "        g[g['expected']].head(n),\n",
    "        g[~g['expected']].head(n)\n",
    "    ])\n",
    "\n",
    "dedup_50 = compiling_dedup_pd.groupby(\"id\", group_keys=False).apply(balance_group).reset_index(drop=True)"
   ]
  },
  {
   "cell_type": "markdown",
   "id": "2edfa1ae",
   "metadata": {},
   "source": [
    "#### Publishing the raw dataset"
   ]
  },
  {
   "cell_type": "code",
   "execution_count": 35,
   "id": "e61ab739",
   "metadata": {},
   "outputs": [
    {
     "name": "stderr",
     "output_type": "stream",
     "text": [
      "Creating parquet from Arrow format: 100%|██████████| 1/1 [00:00<00:00, 233.71ba/s]\n",
      "Uploading the dataset shards: 100%|██████████| 1/1 [00:02<00:00,  2.59s/it]\n"
     ]
    },
    {
     "data": {
      "text/plain": [
       "CommitInfo(commit_url='https://huggingface.co/datasets/CharlyR/VeriTikz/commit/7be6f342d54cc22b6429ad0f9217838adad16556', commit_message='Upload dataset', commit_description='', oid='7be6f342d54cc22b6429ad0f9217838adad16556', pr_url=None, repo_url=RepoUrl('https://huggingface.co/datasets/CharlyR/VeriTikz', endpoint='https://huggingface.co', repo_type='dataset', repo_id='CharlyR/VeriTikz'), pr_revision=None, pr_num=None)"
      ]
     },
     "execution_count": 35,
     "metadata": {},
     "output_type": "execute_result"
    }
   ],
   "source": [
    "#we'll see later about that\n",
    "pds_dedup = Dataset.from_pandas(dedup_50)\n",
    "pds_dedup.push_to_hub(\"CharlyR/VeriTikz\", config_name=\"raw\", split=\"train\")"
   ]
  },
  {
   "cell_type": "markdown",
   "id": "f0642630",
   "metadata": {},
   "source": [
    "#### Dataset statistics"
   ]
  },
  {
   "cell_type": "code",
   "execution_count": 33,
   "id": "e3ac7cb9",
   "metadata": {},
   "outputs": [
    {
     "data": {
      "text/html": [
       "<div>\n",
       "<style scoped>\n",
       "    .dataframe tbody tr th:only-of-type {\n",
       "        vertical-align: middle;\n",
       "    }\n",
       "\n",
       "    .dataframe tbody tr th {\n",
       "        vertical-align: top;\n",
       "    }\n",
       "\n",
       "    .dataframe thead th {\n",
       "        text-align: right;\n",
       "    }\n",
       "</style>\n",
       "<table border=\"1\" class=\"dataframe\">\n",
       "  <thead>\n",
       "    <tr style=\"text-align: right;\">\n",
       "      <th>expected</th>\n",
       "      <th>False</th>\n",
       "      <th>True</th>\n",
       "    </tr>\n",
       "  </thead>\n",
       "  <tbody>\n",
       "    <tr>\n",
       "      <th>count</th>\n",
       "      <td>81.000000</td>\n",
       "      <td>81.000000</td>\n",
       "    </tr>\n",
       "    <tr>\n",
       "      <th>mean</th>\n",
       "      <td>3.160494</td>\n",
       "      <td>3.160494</td>\n",
       "    </tr>\n",
       "    <tr>\n",
       "      <th>std</th>\n",
       "      <td>2.943029</td>\n",
       "      <td>2.943029</td>\n",
       "    </tr>\n",
       "    <tr>\n",
       "      <th>min</th>\n",
       "      <td>1.000000</td>\n",
       "      <td>1.000000</td>\n",
       "    </tr>\n",
       "    <tr>\n",
       "      <th>25%</th>\n",
       "      <td>1.000000</td>\n",
       "      <td>1.000000</td>\n",
       "    </tr>\n",
       "    <tr>\n",
       "      <th>50%</th>\n",
       "      <td>1.000000</td>\n",
       "      <td>1.000000</td>\n",
       "    </tr>\n",
       "    <tr>\n",
       "      <th>75%</th>\n",
       "      <td>4.000000</td>\n",
       "      <td>4.000000</td>\n",
       "    </tr>\n",
       "    <tr>\n",
       "      <th>max</th>\n",
       "      <td>14.000000</td>\n",
       "      <td>14.000000</td>\n",
       "    </tr>\n",
       "  </tbody>\n",
       "</table>\n",
       "</div>"
      ],
      "text/plain": [
       "expected      False      True \n",
       "count     81.000000  81.000000\n",
       "mean       3.160494   3.160494\n",
       "std        2.943029   2.943029\n",
       "min        1.000000   1.000000\n",
       "25%        1.000000   1.000000\n",
       "50%        1.000000   1.000000\n",
       "75%        4.000000   4.000000\n",
       "max       14.000000  14.000000"
      ]
     },
     "execution_count": 33,
     "metadata": {},
     "output_type": "execute_result"
    }
   ],
   "source": [
    "pd.set_option('display.max_rows', None)\n",
    "\n",
    "dedup_50[[\"id\",\"expected\"]].groupby(\"id\").value_counts().unstack(fill_value=0).describe()"
   ]
  },
  {
   "cell_type": "markdown",
   "id": "af909f10",
   "metadata": {},
   "source": [
    "#### Adding the image to the dataset"
   ]
  },
  {
   "cell_type": "code",
   "execution_count": 10,
   "id": "231ec0eb",
   "metadata": {},
   "outputs": [],
   "source": [
    "import sys\n",
    "from datasets import load_dataset,Dataset\n",
    "from loguru import logger\n",
    "from vif.utils.renderer.tex_renderer import TexRenderer\n",
    "\n",
    "logger.configure(handlers=[{\"sink\": sys.stdout, \"level\": \"WARNING\"}])\n",
    "veritikz_dataset = load_dataset(\"CharlyR/VeriTikz\", \"raw\", split=\"train\")\n",
    "\n",
    "renderer = TexRenderer()\n",
    "\n",
    "def add_or_cust_image(row):\n",
    "    row[\"original_image\"] = renderer.from_string_to_image(row[\"code\"])\n",
    "    row[\"solution_image\"] = renderer.from_string_to_image(row[\"solution\"])\n",
    "    return row\n",
    "\n",
    "\n"
   ]
  },
  {
   "cell_type": "code",
   "execution_count": 11,
   "id": "3bd1cbd6",
   "metadata": {},
   "outputs": [
    {
     "name": "stderr",
     "output_type": "stream",
     "text": [
      "Map (num_proc=5): 100%|██████████| 512/512 [02:13<00:00,  3.85 examples/s]\n"
     ]
    }
   ],
   "source": [
    "updated_ds = veritikz_dataset.map(add_or_cust_image,num_proc=5)\n",
    "updated_ds = updated_ds.remove_columns(\"compiles\")"
   ]
  },
  {
   "cell_type": "code",
   "execution_count": 12,
   "id": "0d09414f",
   "metadata": {},
   "outputs": [
    {
     "name": "stderr",
     "output_type": "stream",
     "text": [
      "Map: 100%|██████████| 256/256 [00:00<00:00, 338.00 examples/s]it/s]\n",
      "Creating parquet from Arrow format: 100%|██████████| 3/3 [00:00<00:00,  7.94ba/s]\n",
      "Map: 100%|██████████| 256/256 [00:00<00:00, 394.88 examples/s]4,  4.42s/it]\n",
      "Creating parquet from Arrow format: 100%|██████████| 3/3 [00:00<00:00,  9.03ba/s]\n",
      "Uploading the dataset shards: 100%|██████████| 2/2 [00:08<00:00,  4.30s/it]\n"
     ]
    },
    {
     "data": {
      "text/plain": [
       "CommitInfo(commit_url='https://huggingface.co/datasets/CharlyR/VeriTikz/commit/3a2050874a033299b1adeaa03ac2d4b1af8931b9', commit_message='Upload dataset', commit_description='', oid='3a2050874a033299b1adeaa03ac2d4b1af8931b9', pr_url=None, repo_url=RepoUrl('https://huggingface.co/datasets/CharlyR/VeriTikz', endpoint='https://huggingface.co', repo_type='dataset', repo_id='CharlyR/VeriTikz'), pr_revision=None, pr_num=None)"
      ]
     },
     "execution_count": 12,
     "metadata": {},
     "output_type": "execute_result"
    }
   ],
   "source": [
    "updated_ds.push_to_hub(\"CharlyR/VeriTikz\", config_name=\"full\", split=\"train\")\n"
   ]
  },
  {
   "cell_type": "markdown",
   "id": "06d1c2bc",
   "metadata": {},
   "source": [
    "### Manual Exploration"
   ]
  },
  {
   "cell_type": "code",
   "execution_count": 1,
   "id": "bc72f339",
   "metadata": {},
   "outputs": [
    {
     "name": "stderr",
     "output_type": "stream",
     "text": [
      "/home/creux/Documents/AI/VIFagent/.venv/lib/python3.12/site-packages/tqdm/auto.py:21: TqdmWarning: IProgress not found. Please update jupyter and ipywidgets. See https://ipywidgets.readthedocs.io/en/stable/user_install.html\n",
      "  from .autonotebook import tqdm as notebook_tqdm\n"
     ]
    }
   ],
   "source": [
    "import sys\n",
    "from datasets import load_dataset,Dataset\n",
    "from loguru import logger\n",
    "from vif.utils.renderer.tex_renderer import TexRenderer\n",
    "\n",
    "logger.configure(handlers=[{\"sink\": sys.stdout, \"level\": \"WARNING\"}])\n",
    "veritikz_dataset = load_dataset(\"CharlyR/VeriTikz\", \"full\", split=\"train\")\n",
    "i=0"
   ]
  },
  {
   "cell_type": "code",
   "execution_count": 145,
   "id": "ceeafac5",
   "metadata": {},
   "outputs": [
    {
     "name": "stdout",
     "output_type": "stream",
     "text": [
      "Make the horns of the cow longer\n",
      "True\n"
     ]
    },
    {
     "data": {
      "image/jpeg": "[encoded data removed]",
      "image/png": "[encoded data removed]",
      "text/plain": [
       "<PIL.PpmImagePlugin.PpmImageFile image mode=RGB size=343x343>"
      ]
     },
     "metadata": {},
     "output_type": "display_data"
    }
   ],
   "source": [
    "row = veritikz_dataset[i]\n",
    "print(row[\"instruction\"])\n",
    "print(row[\"expected\"])\n",
    "open(\"notebooks/verifier_ds_creation/code.tex\",\"w\").write(row[\"solution\"])\n",
    "open(\"notebooks/verifier_ds_creation/originalcode.tex\",\"w\").write(row[\"original_template\"])\n",
    "display(row[\"solution_image\"])\n",
    "i+=1 "
   ]
  },
  {
   "cell_type": "code",
   "execution_count": 146,
   "id": "99b9b7d8",
   "metadata": {},
   "outputs": [
    {
     "data": {
      "text/plain": [
       "365"
      ]
     },
     "execution_count": 146,
     "metadata": {},
     "output_type": "execute_result"
    }
   ],
   "source": [
    "i"
   ]
  },
  {
   "cell_type": "code",
   "execution_count": 143,
   "id": "6a0d6cdb",
   "metadata": {},
   "outputs": [],
   "source": [
    "i=240"
   ]
  },
  {
   "cell_type": "markdown",
   "id": "e105b1f2",
   "metadata": {},
   "source": [
    "### some tests"
   ]
  },
  {
   "cell_type": "code",
   "execution_count": 1,
   "id": "c12a90fc",
   "metadata": {},
   "outputs": [
    {
     "name": "stderr",
     "output_type": "stream",
     "text": [
      "/home/creux/Documents/AI/VIFagent/.venv/lib/python3.12/site-packages/tqdm/auto.py:21: TqdmWarning: IProgress not found. Please update jupyter and ipywidgets. See https://ipywidgets.readthedocs.io/en/stable/user_install.html\n",
      "  from .autonotebook import tqdm as notebook_tqdm\n",
      "\u001b[32m2025-10-30 11:20:52.859\u001b[0m | \u001b[34m\u001b[1mDEBUG   \u001b[0m | \u001b[36mvif.utils.renderer.tex_renderer\u001b[0m:\u001b[36mfrom_string_to_image\u001b[0m:\u001b[36m45\u001b[0m - \u001b[34m\u001b[1mlatex renderer writing to /home/creux/.cache/varbench/890381ce-7c6f-4aac-9aab-d5f02f1bd830.tex\u001b[0m\n",
      "\u001b[32m2025-10-30 11:20:53.319\u001b[0m | \u001b[34m\u001b[1mDEBUG   \u001b[0m | \u001b[36mvif.utils.renderer.tex_renderer\u001b[0m:\u001b[36mfrom_string_to_image\u001b[0m:\u001b[36m78\u001b[0m - \u001b[34m\u001b[1mconverting /home/creux/.cache/varbench/890381ce-7c6f-4aac-9aab-d5f02f1bd830.tex to png\u001b[0m\n",
      "\u001b[32m2025-10-30 11:20:53.343\u001b[0m | \u001b[34m\u001b[1mDEBUG   \u001b[0m | \u001b[36mvif.utils.renderer.tex_renderer\u001b[0m:\u001b[36mfrom_string_to_image\u001b[0m:\u001b[36m45\u001b[0m - \u001b[34m\u001b[1mlatex renderer writing to /home/creux/.cache/varbench/e009dedc-df7c-4264-ba24-8b54091481f5.tex\u001b[0m\n",
      "\u001b[32m2025-10-30 11:20:53.797\u001b[0m | \u001b[34m\u001b[1mDEBUG   \u001b[0m | \u001b[36mvif.utils.renderer.tex_renderer\u001b[0m:\u001b[36mfrom_string_to_image\u001b[0m:\u001b[36m78\u001b[0m - \u001b[34m\u001b[1mconverting /home/creux/.cache/varbench/e009dedc-df7c-4264-ba24-8b54091481f5.tex to png\u001b[0m\n",
      "\u001b[32m2025-10-30 11:20:53.848\u001b[0m | \u001b[34m\u001b[1mDEBUG   \u001b[0m | \u001b[36mvif.utils.renderer.tex_renderer\u001b[0m:\u001b[36mfrom_string_to_image\u001b[0m:\u001b[36m45\u001b[0m - \u001b[34m\u001b[1mlatex renderer writing to /home/creux/.cache/varbench/2931e9f5-a4a2-46f3-88c3-0bdf6eb5bacb.tex\u001b[0m\n",
      "\u001b[32m2025-10-30 11:20:54.334\u001b[0m | \u001b[34m\u001b[1mDEBUG   \u001b[0m | \u001b[36mvif.utils.renderer.tex_renderer\u001b[0m:\u001b[36mfrom_string_to_image\u001b[0m:\u001b[36m78\u001b[0m - \u001b[34m\u001b[1mconverting /home/creux/.cache/varbench/2931e9f5-a4a2-46f3-88c3-0bdf6eb5bacb.tex to png\u001b[0m\n",
      "\u001b[32m2025-10-30 11:20:54.360\u001b[0m | \u001b[34m\u001b[1mDEBUG   \u001b[0m | \u001b[36mvif.utils.renderer.tex_renderer\u001b[0m:\u001b[36mfrom_string_to_image\u001b[0m:\u001b[36m45\u001b[0m - \u001b[34m\u001b[1mlatex renderer writing to /home/creux/.cache/varbench/6e6d252b-255c-4e02-a53b-13fd51c76679.tex\u001b[0m\n",
      "\u001b[32m2025-10-30 11:20:54.817\u001b[0m | \u001b[34m\u001b[1mDEBUG   \u001b[0m | \u001b[36mvif.utils.renderer.tex_renderer\u001b[0m:\u001b[36mfrom_string_to_image\u001b[0m:\u001b[36m78\u001b[0m - \u001b[34m\u001b[1mconverting /home/creux/.cache/varbench/6e6d252b-255c-4e02-a53b-13fd51c76679.tex to png\u001b[0m\n"
     ]
    },
    {
     "data": {
      "text/plain": [
       "['\\\\documentclass[tikz,border=5]{standalone}\\n\\\\usepackage[prefix=]{xcolor-material}\\n\\n\\\\tikzset{\\nchimpanzee/.pic={\\n\\\\tikzset{x=3cm/3.5,y=3cm/3.5, shift={(0,1/7)}}\\n\\\\fill [BlueGrey700] (165:5/4 and 1) ellipse [radius=1/2];\\n\\\\fill [Pink100]     (165:5/4 and 1) ellipse [radius=1/3];\\n\\\\fill [BlueGrey700]\\n  (0,-1/2) ellipse [x radius=1, y radius=4/3]\\n  (0,   0) ellipse [x radius=4/3, y radius=1];\\n\\\\scoped{\\n  \\\\clip(0,-2) rectangle(9/5,1);\\n  \\\\fill [BlueGrey900] (15:5/4 and 1) ellipse [radius=1/2];\\n  \\\\fill [Pink200]     (15:5/4 and 1) ellipse [radius=1/3];\\n  \\\\fill [BlueGrey900]\\n    (0,-1/2) ellipse [x radius=1, y radius=4/3]\\n    (0,   0) ellipse [x radius=4/3, y radius=1];\\n}\\n\\\\fill [Pink100]            (  0,-2/3) ellipse [x radius=5/6, y radius=  1];\\n\\\\fill [Pink100, xscale=-1] (1/2,   0) ellipse [x radius=3/5, y radius=2/3];\\n\\\\fill [Pink100, xscale= 1] (1/2,   0) ellipse [x radius=3/5, y radius=2/3];\\n\\\\scoped{\\n  \\\\clip(0,-2) rectangle(9/5,1);\\n  \\\\fill [Pink200]            (  0,-2/3) ellipse [x radius=5/6, y radius=  1];\\n  \\\\fill [Pink200, xscale=-1] (1/2,   0) ellipse [x radius=3/5, y radius=2/3];\\n  \\\\fill [Pink200, xscale= 1] (1/2,   0) ellipse [x radius=3/5, y radius=2/3];\\n}\\n\\\\foreach \\\\i in {-1,1}\\n  \\\\fill [BlueGrey900, xscale=\\\\i] (1/2,0) ellipse [radius=1/4];\\n\\\\fill [Pink300]\\n  (-1/7,-2/3) ellipse [radius=1/9]\\n  ( 1/7,-2/3) ellipse [radius=1/9];\\n\\\\fill [Pink300]\\n  (-0.42,-1.36) arc (180:360:0.42 and -0.05) arc (360:180:0.6 and 0.5);\\n}\\n}\\n\\\\begin{document}\\n\\\\begin{tikzpicture}\\n\\\\fill [fill=LightBlue300] circle [radius=2];\\n\\\\pic {chimpanzee};\\n\\\\end{tikzpicture}\\n\\\\end{document}',\n",
       " '\\\\documentclass[tikz,border=5]{standalone}\\n\\\\usepackage[prefix=]{xcolor-material}\\n\\n\\\\tikzset{\\nchimpanzee/.pic={\\n\\\\tikzset{x=3cm/3.5,y=3cm/3.5, shift={(0,1/4)}}\\n\\\\fill [BlueGrey700] (165:5/4 and 1) ellipse [radius=1/2];\\n\\\\fill [Pink100]     (165:5/4 and 1) ellipse [radius=1/3];\\n\\\\fill [BlueGrey700]\\n  (0,-1/2) ellipse [x radius=1, y radius=4/3]\\n  (0,   0) ellipse [x radius=4/3, y radius=1];\\n\\\\scoped{\\n  \\\\clip(0,-2) rectangle(9/5,1);\\n  \\\\fill [BlueGrey900] (15:5/4 and 1) ellipse [radius=1/2];\\n  \\\\fill [Pink200]     (15:5/4 and 1) ellipse [radius=1/3];\\n  \\\\fill [BlueGrey900]\\n    (0,-1/2) ellipse [x radius=1, y radius=4/3]\\n    (0,   0) ellipse [x radius=4/3, y radius=1];\\n}\\n\\\\fill [Pink100]            (  0,-2/3) ellipse [x radius=5/6, y radius=  1];\\n\\\\fill [Pink100, xscale=-1] (1/2,   0) ellipse [x radius=3/5, y radius=2/3];\\n\\\\fill [Pink100, xscale= 1] (1/2,   0) ellipse [x radius=3/5, y radius=2/3];\\n\\\\scoped{\\n  \\\\clip(0,-2) rectangle(9/5,1);\\n  \\\\fill [Pink200]            (  0,-2/3) ellipse [x radius=5/6, y radius=  1];\\n  \\\\fill [Pink200, xscale=-1] (1/2,   0) ellipse [x radius=3/5, y radius=2/3];\\n  \\\\fill [Pink200, xscale= 1] (1/2,   0) ellipse [x radius=3/5, y radius=2/3];\\n}\\n\\\\foreach \\\\i in {-1,1}\\n  \\\\fill [BlueGrey900, xscale=\\\\i] (1/2,0) ellipse [radius=1/4];\\n\\\\fill [Pink300]\\n  (-1/7,-2/3) ellipse [radius=1/9]\\n  ( 1/7,-2/3) ellipse [radius=1/9];\\n\\\\fill [Pink300]\\n  (-0.42,-1.36) arc (180:360:0.42 and -0.05) arc (360:180:0.6 and 0.5);\\n}\\n}\\n\\\\begin{document}\\n\\\\begin{tikzpicture}\\n\\\\fill [fill=LightBlue300] circle [radius=2];\\n\\\\pic {chimpanzee};\\n\\\\end{tikzpicture}\\n\\\\end{document}']"
      ]
     },
     "execution_count": 1,
     "metadata": {},
     "output_type": "execute_result"
    }
   ],
   "source": [
    "from notebooks.verifier_ds_creation.invalid_variant_creation import apply_random_modifications\n",
    "\n",
    "\n",
    "failing_code = open(\".oui/original copy.tex\").read()\n",
    "apply_random_modifications(failing_code,1,1,3)"
   ]
  },
  {
   "cell_type": "code",
   "execution_count": 2,
   "id": "cd5a8e19",
   "metadata": {},
   "outputs": [
    {
     "data": {
      "text/plain": [
       "'\\\\documentclass[tikz,border=5]{standalone}\\n\\\\usepackage{tikz}\\n\\\\usetikzlibrary{\\n                arrows.meta,\\n                bending,\\n                positioning\\n               }\\n\\\\tikzset{\\n         > = Latex,\\n         arrows = {[bend]},\\n         signal/.style = coordinate,\\n         sum/.style = {\\n                       draw,\\n                       circle,\\n                       minimum size = 2mm\\n                      },\\n         block/.style = {\\n                         draw,\\n                         rectangle,\\n                         minimum height = 2em,\\n                         minimum width = 4em\\n                        },\\n         branch/.style = {\\n                          sum,\\n                          minimum size = 1mm,\\n                          fill = black\\n                         }\\n        }\\n\\n\\\\begin{document}\\n\\n  \\\\begin{tikzpicture}[auto]\\n\\n    \\\\node[signal] (input) {};\\n    \\\\node[sum, right = of input] (left sum) {};\\n    \\\\node[block, right = of left sum] (controller) {$G_R$};\\n    \\\\node[block, right = of controller] (system) {$G_S$};\\n    \\\\draw\\n      [->] (controller) -- node[name = u] {$U$} (system);\\n    \\\\node[block, above = of system] (dynamic of disturbances) {$G_D$};\\n    \\\\node[signal, left = of dynamic of disturbances] (disturbances) {};\\n    \\\\node[sum, right = of system] (right sum) {};\\n    \\\\node[branch, right = of right sum] (branch) {};\\n    \\\\node[signal, right = of branch] (output) {};\\n    \\\\node[sum, below = of branch] (lower sum) {};\\n    \\\\node[signal, right = of lower sum] (measurement noise) {};\\n    \\\\node[block] (measurement) at (u |- lower sum) {$G_M$};\\n    \\\\draw\\n      [->] (input) -- node {$W$} (left sum);\\n    \\\\draw\\n      [->] (left sum) -- node {$E$} (controller);\\n    \\\\draw\\n      [->] (system) -- (right sum);\\n    \\\\draw\\n      [->] (disturbances) -- node {$Z$} (dynamic of disturbances);\\n    \\\\draw\\n      [->] (dynamic of disturbances) -| (right sum);\\n    \\\\draw\\n      (right sum) -- (branch);\\n    \\\\draw\\n      [->] (branch) -- node {$Y$} (output);\\n    \\\\draw\\n      [->] (branch) -- (lower sum);\\n    \\\\draw\\n      [->] (measurement noise) -- node[above] {$M$} (lower sum);\\n    \\\\draw\\n      [->] (lower sum) -- (measurement);\\n    \\\\draw\\n      [->] (measurement) -| node[pos = .95] {$-$} (left sum);\\n\\n  \\\\end{tikzpicture}\\n\\n\\n\\n\\\\end{document}'"
      ]
     },
     "execution_count": 2,
     "metadata": {},
     "output_type": "execute_result"
    }
   ],
   "source": [
    "test_row_code = ds.select([24])[\"template_solution_code\"][0][0]\n",
    "original_test_row_code = ds.select([25])[\"code\"][0]\n",
    "original_test_row_code"
   ]
  },
  {
   "cell_type": "code",
   "execution_count": null,
   "id": "4bdf7fc8",
   "metadata": {},
   "outputs": [],
   "source": [
    "from notebooks.verifier_ds_creation.invalid_variant_creation import apply_random_modifications\n",
    "\n",
    "\n",
    "new_code = apply_random_modifications(original_test_row_code)"
   ]
  },
  {
   "cell_type": "code",
   "execution_count": 5,
   "id": "05c0be1e",
   "metadata": {},
   "outputs": [
    {
     "ename": "TypeError",
     "evalue": "write() argument must be str, not tuple",
     "output_type": "error",
     "traceback": [
      "\u001b[31m---------------------------------------------------------------------------\u001b[39m",
      "\u001b[31mTypeError\u001b[39m                                 Traceback (most recent call last)",
      "\u001b[36mCell\u001b[39m\u001b[36m \u001b[39m\u001b[32mIn[5]\u001b[39m\u001b[32m, line 5\u001b[39m\n\u001b[32m      1\u001b[39m \u001b[38;5;28;01mfrom\u001b[39;00m\u001b[38;5;250m \u001b[39m\u001b[34;01mvif\u001b[39;00m\u001b[34;01m.\u001b[39;00m\u001b[34;01mutils\u001b[39;00m\u001b[34;01m.\u001b[39;00m\u001b[34;01mrenderer\u001b[39;00m\u001b[34;01m.\u001b[39;00m\u001b[34;01mtex_renderer\u001b[39;00m\u001b[38;5;250m \u001b[39m\u001b[38;5;28;01mimport\u001b[39;00m TexRenderer\n\u001b[32m      4\u001b[39m renderer = TexRenderer()\n\u001b[32m----> \u001b[39m\u001b[32m5\u001b[39m \u001b[43mrenderer\u001b[49m\u001b[43m.\u001b[49m\u001b[43mfrom_string_to_image\u001b[49m\u001b[43m(\u001b[49m\u001b[43mnew_code\u001b[49m\u001b[43m)\u001b[49m\n",
      "\u001b[36mFile \u001b[39m\u001b[32m~/Documents/AI/VIFagent/vif/utils/renderer/tex_renderer.py:44\u001b[39m, in \u001b[36mTexRenderer.from_string_to_image\u001b[39m\u001b[34m(self, input_string)\u001b[39m\n\u001b[32m     42\u001b[39m tmp_file_path = os.path.join(\u001b[38;5;28mself\u001b[39m.cache_path, current_temp_file)\n\u001b[32m     43\u001b[39m file = \u001b[38;5;28mopen\u001b[39m(tmp_file_path, \u001b[33m\"\u001b[39m\u001b[33mw\u001b[39m\u001b[33m\"\u001b[39m)\n\u001b[32m---> \u001b[39m\u001b[32m44\u001b[39m \u001b[43mfile\u001b[49m\u001b[43m.\u001b[49m\u001b[43mwrite\u001b[49m\u001b[43m(\u001b[49m\u001b[43minput_string\u001b[49m\u001b[43m)\u001b[49m\n\u001b[32m     45\u001b[39m logger.debug(\u001b[33m\"\u001b[39m\u001b[33mlatex renderer writing to \u001b[39m\u001b[33m\"\u001b[39m + tmp_file_path)\n\u001b[32m     46\u001b[39m file.flush()\n",
      "\u001b[31mTypeError\u001b[39m: write() argument must be str, not tuple"
     ]
    }
   ],
   "source": [
    "from vif.utils.renderer.tex_renderer import TexRenderer\n",
    "\n",
    "\n",
    "renderer = TexRenderer()\n",
    "renderer.from_string_to_image(new_code)"
   ]
  },
  {
   "cell_type": "code",
   "execution_count": null,
   "id": "5ccd5b96",
   "metadata": {},
   "outputs": [],
   "source": [
    "generate_all_incorrect_solutions(original_test_row_code,test_row_code)"
   ]
  },
  {
   "cell_type": "code",
   "execution_count": null,
   "id": "f53c573b",
   "metadata": {},
   "outputs": [],
   "source": [
    "test_row = ds.select(range(24,100))\n",
    "hu=test_row.map(create_incorrect_solutions,batched=True,batch_size=1,load_from_cache_file=False)\n"
   ]
  },
  {
   "cell_type": "code",
   "execution_count": 11,
   "id": "8a07237e",
   "metadata": {},
   "outputs": [
    {
     "data": {
      "text/plain": [
       "['\\n\\nsq\\n15\\nqsdfqs\\n25\\ndsqqfqsdf\\nRed100\\nRed800\\nRed600\\nRed100\\n\\n',\n",
       " '\\n\\nsq\\n15\\nqsdfqs\\n25\\ndsqqfqsdf\\nRed300\\nRed100\\nRed600\\nRed100\\n\\n',\n",
       " '\\n\\nsq\\n15\\nqsdfqs\\n33\\ndsqqfqsdf\\nRed100\\nRed100\\nRed500\\nRed100\\n\\n',\n",
       " '\\n\\nsq\\n24\\nqsdfqs\\n25\\ndsqqfqsdf\\nRed100\\nRed100\\nRed900\\nRed100\\n\\n',\n",
       " '\\n\\nsq\\n15\\nqsdfqs\\n25\\ndsqqfqsdf\\nRed600\\nRed400\\nRed100\\nRed100\\n\\n',\n",
       " '\\n\\nsq\\n15\\nqsdfqs\\n17\\ndsqqfqsdf\\nRed100\\nRed400\\nRed100\\nRed100\\n\\n',\n",
       " '\\n\\nsq\\n0\\nqsdfqs\\n25\\ndsqqfqsdf\\nRed100\\nRed900\\nRed100\\nRed100\\n\\n',\n",
       " '\\n\\nsq\\n15\\nqsdfqs\\n33\\ndsqqfqsdf\\nRed500\\nRed100\\nRed100\\nRed100\\n\\n',\n",
       " '\\n\\nsq\\n24\\nqsdfqs\\n25\\ndsqqfqsdf\\nRed800\\nRed100\\nRed100\\nRed100\\n\\n',\n",
       " '\\n\\nsq\\n24\\nqsdfqs\\n17\\ndsqqfqsdf\\nRed100\\nRed100\\nRed100\\nRed100\\n\\n']"
      ]
     },
     "execution_count": 11,
     "metadata": {},
     "output_type": "execute_result"
    }
   ],
   "source": [
    "from notebooks.verifier_ds_creation.verifier_utils import all_incorrect_from_template\n",
    "\n",
    "\n",
    "test_code=\"\"\"\n",
    "\n",
    "sq\n",
    "§range(5,20,15)\n",
    "qsdfqs\n",
    "§rangei(25,5)\n",
    "dsqqfqsdf\n",
    "Red§choice([50,100,200],100)\n",
    "Red§choice([50,100,200],100)\n",
    "Red§choice([50,100,200],100)\n",
    "Red§choice([50,100,200],100)\n",
    "\n",
    "\"\"\"\n",
    "\n",
    "all_incorrect_from_template(test_code)"
   ]
  },
  {
   "cell_type": "code",
   "execution_count": 1,
   "id": "4de3a74f",
   "metadata": {},
   "outputs": [
    {
     "name": "stderr",
     "output_type": "stream",
     "text": [
      "/home/creux/Documents/AI/VIFagent/.venv/lib/python3.12/site-packages/tqdm/auto.py:21: TqdmWarning: IProgress not found. Please update jupyter and ipywidgets. See https://ipywidgets.readthedocs.io/en/stable/user_install.html\n",
      "  from .autonotebook import tqdm as notebook_tqdm\n"
     ]
    },
    {
     "data": {
      "text/plain": [
       "[[1, 1, 1, 1, 0],\n",
       " [1, 1, 1, 0, 1],\n",
       " [1, 1, 0, 1, 1],\n",
       " [1, 0, 1, 1, 1],\n",
       " [0, 1, 1, 1, 1]]"
      ]
     },
     "execution_count": 1,
     "metadata": {},
     "output_type": "execute_result"
    }
   ],
   "source": [
    "\n",
    "from notebooks.verifier_ds_creation.verifier_utils import create_arrangements\n",
    "\n",
    "\n",
    "create_arrangements(5,-1,4)"
   ]
  },
  {
   "cell_type": "code",
   "execution_count": null,
   "id": "2f4c77c4",
   "metadata": {},
   "outputs": [],
   "source": []
  }
 ],
 "metadata": {
  "kernelspec": {
   "display_name": "VIFagent",
   "language": "python",
   "name": "python3"
  },
  "language_info": {
   "codemirror_mode": {
    "name": "ipython",
    "version": 3
   },
   "file_extension": ".py",
   "mimetype": "text/x-python",
   "name": "python",
   "nbconvert_exporter": "python",
   "pygments_lexer": "ipython3",
   "version": "3.12.11"
  }
 },
 "nbformat": 4,
 "nbformat_minor": 5
}
