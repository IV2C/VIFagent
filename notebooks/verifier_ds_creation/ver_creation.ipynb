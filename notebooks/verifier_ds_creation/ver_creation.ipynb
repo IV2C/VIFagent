{
 "cells": [
  {
   "cell_type": "code",
   "execution_count": 1,
   "id": "41d609a6",
   "metadata": {},
   "outputs": [
    {
     "name": "stderr",
     "output_type": "stream",
     "text": [
      "/home/creux/Documents/AI/VIFagent/.venv/lib/python3.12/site-packages/tqdm/auto.py:21: TqdmWarning: IProgress not found. Please update jupyter and ipywidgets. See https://ipywidgets.readthedocs.io/en/stable/user_install.html\n",
      "  from .autonotebook import tqdm as notebook_tqdm\n"
     ]
    }
   ],
   "source": [
    "from datasets import load_dataset\n",
    "ds = load_dataset(\"CharlyR/vtikz\", \"tikz\", split=\"benchmark\")\n",
    "ds = ds.select_columns([\"id\",\"type\",\"instruction\",\"code\",\"template_solution_code\"])\n"
   ]
  },
  {
   "cell_type": "markdown",
   "id": "18ade3fe",
   "metadata": {},
   "source": [
    "#### Utils"
   ]
  },
  {
   "cell_type": "code",
   "execution_count": 2,
   "id": "ded07c53",
   "metadata": {},
   "outputs": [],
   "source": [
    "from datasets.formatting.formatting import LazyBatch\n",
    "from collections import defaultdict\n",
    "from notebooks.verifier_ds_creation.verifier_utils import (\n",
    "    correct_from_choices,\n",
    "    generate_all_incorrect_solutions,\n",
    "    handle_def,\n",
    "    correct_from_range,\n",
    "    correct_from_rangei,\n",
    ")\n",
    "\n",
    "\n",
    "def create_incorrect_solutions(row: LazyBatch):\n",
    "    all_created_template_codes: dict[str : list[str]] = defaultdict(list)\n",
    "    for template_code in row[\"template_solution_code\"]:\n",
    "        template_code = template_code[0]\n",
    "        all_created_template_codes[template_code] = generate_all_incorrect_solutions(\n",
    "            template_code\n",
    "        )\n",
    "\n",
    "    new_rows = defaultdict(list)\n",
    "    for template, created_template_codes in all_created_template_codes.items():\n",
    "        for created_template_code in created_template_codes:\n",
    "            for existing_col in set(row.keys()):\n",
    "                new_rows[existing_col].append(row[existing_col][0])\n",
    "            new_rows[\"original_template\"].append(template)\n",
    "            new_rows[\"solution\"].append(created_template_code)\n",
    "            new_rows[\"expected\"].append(False)\n",
    "    if len(new_rows) == 0:\n",
    "        new_rows = {\n",
    "            \"original_template\": [],\n",
    "            \"solution\": [],\n",
    "            \"expected\": [],\n",
    "        }\n",
    "        for existing_col in set(row.keys()):\n",
    "            new_rows[existing_col] = []\n",
    "    return new_rows\n",
    "\n",
    "\n",
    "def create_correct_solutions(row: LazyBatch):\n",
    "    all_created_template_codes: dict[str : list[str]] = defaultdict(list)\n",
    "    for template_code in row[\"template_solution_code\"]:\n",
    "        template_code = template_code[\n",
    "            0\n",
    "        ]  # batch size always one, used for create more rows as output\n",
    "        new_template_codes = handle_def(template_code)\n",
    "        new_template_codes = [\n",
    "            fin_templ_code\n",
    "            for code in new_template_codes\n",
    "            for fin_templ_code in correct_from_range(code)\n",
    "        ]\n",
    "        new_template_codes = [\n",
    "            fin_templ_code\n",
    "            for code in new_template_codes\n",
    "            for fin_templ_code in correct_from_rangei(code)\n",
    "        ]\n",
    "        new_template_codes = [\n",
    "            fin_templ_code\n",
    "            for code in new_template_codes\n",
    "            for fin_templ_code in correct_from_choices(code)\n",
    "        ]\n",
    "        all_created_template_codes[template_code] = new_template_codes\n",
    "\n",
    "    new_rows = defaultdict(list)\n",
    "    for template, created_template_codes in all_created_template_codes.items():\n",
    "        for created_template_code in created_template_codes:\n",
    "            for existing_col in set(row.keys()):\n",
    "                new_rows[existing_col].append(row[existing_col][0])\n",
    "            new_rows[\"original_template\"].append(template)\n",
    "            new_rows[\"solution\"].append(created_template_code)\n",
    "            new_rows[\"expected\"].append(True)\n",
    "\n",
    "    return new_rows"
   ]
  },
  {
   "cell_type": "markdown",
   "id": "e797f052",
   "metadata": {},
   "source": [
    "### Creating the dataset + filtering"
   ]
  },
  {
   "cell_type": "code",
   "execution_count": 3,
   "id": "eb789371",
   "metadata": {},
   "outputs": [
    {
     "name": "stderr",
     "output_type": "stream",
     "text": [
      "Map: 100%|██████████| 100/100 [00:00<00:00, 842.20 examples/s]\n",
      "Map: 100%|██████████| 100/100 [00:00<00:00, 1061.05 examples/s]\n"
     ]
    }
   ],
   "source": [
    "from datasets import Dataset,concatenate_datasets\n",
    "\n",
    "test_code = \"\"\"\n",
    "§range(0,10,5)\n",
    "qsdfqs\n",
    "§range(15,30,30)\n",
    "§choice([100,200,300],100)\n",
    "qsdfqs\n",
    "§choice([400,500,600],500)\n",
    "\"\"\"\n",
    "#test_ds = Dataset.from_dict({\"template_solution_code\":[[test_code]]})\n",
    "\n",
    "#expanded_ds = test_ds.select([0]).map(create_solutions,batched=True,batch_size=1,load_from_cache_file=False)\n",
    "\n",
    "expanded_ds_cor = ds.map(create_correct_solutions,batched=True,batch_size=1,load_from_cache_file=False)\n",
    "expanded_ds_inc = ds.map(create_incorrect_solutions,batched=True,batch_size=1,load_from_cache_file=False)\n",
    "\n",
    "generated_ds = concatenate_datasets([expanded_ds_cor,expanded_ds_inc])"
   ]
  },
  {
   "cell_type": "code",
   "execution_count": 4,
   "id": "e93be38a",
   "metadata": {},
   "outputs": [
    {
     "data": {
      "text/plain": [
       "688"
      ]
     },
     "execution_count": 4,
     "metadata": {},
     "output_type": "execute_result"
    }
   ],
   "source": [
    "len(generated_ds)"
   ]
  },
  {
   "cell_type": "markdown",
   "id": "972196b8",
   "metadata": {},
   "source": [
    "#### Filtering the ones that do not compile"
   ]
  },
  {
   "cell_type": "code",
   "execution_count": 5,
   "id": "8c5b9db8",
   "metadata": {},
   "outputs": [],
   "source": [
    "import sys\n",
    "from vif.utils.renderer.tex_renderer import TexRenderer\n",
    "from loguru import logger\n",
    "\n",
    "logger.configure(handlers=[{\"sink\": sys.stdout, \"level\": \"ERROR\"}])\n",
    "\n",
    "renderer = TexRenderer()\n",
    "\n",
    "def renders(row):\n",
    "    try:\n",
    "        renderer.from_string_to_image(row[\"solution\"])\n",
    "        return True\n",
    "    except:\n",
    "        return False"
   ]
  },
  {
   "cell_type": "code",
   "execution_count": 7,
   "id": "6e4a5e2c",
   "metadata": {},
   "outputs": [
    {
     "name": "stderr",
     "output_type": "stream",
     "text": [
      "Filter: 100%|██████████| 688/688 [06:24<00:00,  1.79 examples/s]\n"
     ]
    }
   ],
   "source": [
    "compiling_generated = generated_ds.filter(renders)"
   ]
  },
  {
   "cell_type": "markdown",
   "id": "4dedbbaa",
   "metadata": {},
   "source": [
    "#### Removing duplicate ones"
   ]
  },
  {
   "cell_type": "code",
   "execution_count": 9,
   "id": "c2d2c73e",
   "metadata": {},
   "outputs": [],
   "source": [
    "compiling_dedup_pd = compiling_generated.to_pandas().drop_duplicates(\"solution\")"
   ]
  },
  {
   "cell_type": "code",
   "execution_count": 12,
   "id": "aa7a43e1",
   "metadata": {},
   "outputs": [
    {
     "name": "stdout",
     "output_type": "stream",
     "text": [
      "688\n",
      "654\n",
      "654\n"
     ]
    }
   ],
   "source": [
    "print(len(generated_ds))\n",
    "print(len(compiling_generated))\n",
    "print(len(compiling_dedup_pd))"
   ]
  },
  {
   "cell_type": "markdown",
   "id": "f5c88dc1",
   "metadata": {},
   "source": [
    "#### Creating a 50/50 ratio"
   ]
  },
  {
   "cell_type": "code",
   "execution_count": null,
   "id": "a82e8ebb",
   "metadata": {},
   "outputs": [
    {
     "data": {
      "text/html": [
       "<div>\n",
       "<style scoped>\n",
       "    .dataframe tbody tr th:only-of-type {\n",
       "        vertical-align: middle;\n",
       "    }\n",
       "\n",
       "    .dataframe tbody tr th {\n",
       "        vertical-align: top;\n",
       "    }\n",
       "\n",
       "    .dataframe thead th {\n",
       "        text-align: right;\n",
       "    }\n",
       "</style>\n",
       "<table border=\"1\" class=\"dataframe\">\n",
       "  <thead>\n",
       "    <tr style=\"text-align: right;\">\n",
       "      <th></th>\n",
       "      <th>id</th>\n",
       "      <th>type</th>\n",
       "      <th>instruction</th>\n",
       "      <th>code</th>\n",
       "      <th>template_solution_code</th>\n",
       "      <th>original_template</th>\n",
       "      <th>solution</th>\n",
       "      <th>expected</th>\n",
       "    </tr>\n",
       "  </thead>\n",
       "  <tbody>\n",
       "    <tr>\n",
       "      <th>101</th>\n",
       "      <td>vima_no_256</td>\n",
       "      <td>scientific</td>\n",
       "      <td>Remove the measurements for 256kb</td>\n",
       "      <td>\\documentclass[tikz,border=5]{standalone}\\n\\us...</td>\n",
       "      <td>[\\documentclass[tikz,border=5]{standalone}\\n\\u...</td>\n",
       "      <td>\\documentclass[tikz,border=5]{standalone}\\n\\us...</td>\n",
       "      <td>\\documentclass[tikz,border=5]{standalone}\\n\\us...</td>\n",
       "      <td>True</td>\n",
       "    </tr>\n",
       "    <tr>\n",
       "      <th>37</th>\n",
       "      <td>dispatch_slave_removed</td>\n",
       "      <td>scientific</td>\n",
       "      <td>Remove the first slave/replication instance, k...</td>\n",
       "      <td>\\documentclass[tikz,border=5]{standalone}\\n\\us...</td>\n",
       "      <td>[\\documentclass[tikz,border=5]{standalone}\\n\\u...</td>\n",
       "      <td>\\documentclass[tikz,border=5]{standalone}\\n\\us...</td>\n",
       "      <td>\\documentclass[tikz,border=5]{standalone}\\n\\us...</td>\n",
       "      <td>True</td>\n",
       "    </tr>\n",
       "    <tr>\n",
       "      <th>60</th>\n",
       "      <td>graphdate_top_columns</td>\n",
       "      <td>scientific</td>\n",
       "      <td>Put the months at the top of the graph instead...</td>\n",
       "      <td>\\documentclass[tikz,border=5]{standalone}\\n\\us...</td>\n",
       "      <td>[\\documentclass[tikz,border=5]{standalone}\\n\\u...</td>\n",
       "      <td>\\documentclass[tikz,border=5]{standalone}\\n\\us...</td>\n",
       "      <td>\\documentclass[tikz,border=5]{standalone}\\n\\us...</td>\n",
       "      <td>True</td>\n",
       "    </tr>\n",
       "    <tr>\n",
       "      <th>22</th>\n",
       "      <td>cladder_left_inner</td>\n",
       "      <td>scientific</td>\n",
       "      <td>Move the inner circle to the left so that its ...</td>\n",
       "      <td>\\documentclass[tikz,border=5]{standalone}\\n\\us...</td>\n",
       "      <td>[\\documentclass[tikz,border=5]{standalone}\\n\\u...</td>\n",
       "      <td>\\documentclass[tikz,border=5]{standalone}\\n\\us...</td>\n",
       "      <td>\\documentclass[tikz,border=5]{standalone}\\n\\us...</td>\n",
       "      <td>True</td>\n",
       "    </tr>\n",
       "    <tr>\n",
       "      <th>96</th>\n",
       "      <td>squid_yellow</td>\n",
       "      <td>animal</td>\n",
       "      <td>Change the color of the squid to yellow</td>\n",
       "      <td>\\documentclass[tikz,border=5]{standalone}\\n\\us...</td>\n",
       "      <td>[\\documentclass[tikz,border=5]{standalone}\\n\\u...</td>\n",
       "      <td>\\documentclass[tikz,border=5]{standalone}\\n\\us...</td>\n",
       "      <td>\\documentclass[tikz,border=5]{standalone}\\n\\us...</td>\n",
       "      <td>True</td>\n",
       "    </tr>\n",
       "    <tr>\n",
       "      <th>...</th>\n",
       "      <td>...</td>\n",
       "      <td>...</td>\n",
       "      <td>...</td>\n",
       "      <td>...</td>\n",
       "      <td>...</td>\n",
       "      <td>...</td>\n",
       "      <td>...</td>\n",
       "      <td>...</td>\n",
       "    </tr>\n",
       "    <tr>\n",
       "      <th>110</th>\n",
       "      <td>beam_coord_change</td>\n",
       "      <td>scientific</td>\n",
       "      <td>Move the coordinate system between the top EA ...</td>\n",
       "      <td>\\documentclass[tikz,border=5pt]{standalone}\\n\\...</td>\n",
       "      <td>[\\documentclass[tikz,border=5pt]{standalone}\\n...</td>\n",
       "      <td>\\documentclass[tikz,border=5pt]{standalone}\\n\\...</td>\n",
       "      <td>\\documentclass[tikz,border=5pt]{standalone}\\n\\...</td>\n",
       "      <td>False</td>\n",
       "    </tr>\n",
       "    <tr>\n",
       "      <th>404</th>\n",
       "      <td>egraph_e6</td>\n",
       "      <td>scientific</td>\n",
       "      <td>Add a E_6 box, that contains the two bottom-le...</td>\n",
       "      <td>\\documentclass[tikz,border=5]{standalone}\\n\\us...</td>\n",
       "      <td>[\\documentclass[tikz,border=5]{standalone}\\n\\u...</td>\n",
       "      <td>\\documentclass[tikz,border=5]{standalone}\\n\\us...</td>\n",
       "      <td>\\documentclass[tikz,border=5]{standalone}\\n\\us...</td>\n",
       "      <td>False</td>\n",
       "    </tr>\n",
       "    <tr>\n",
       "      <th>588</th>\n",
       "      <td>shark_other_set_pectoral_fin</td>\n",
       "      <td>animal</td>\n",
       "      <td>Add another set of pectoral fin to the shark, ...</td>\n",
       "      <td>\\documentclass[tikz,border=5]{standalone}\\n\\us...</td>\n",
       "      <td>[\\documentclass[tikz,border=5]{standalone}\\n\\u...</td>\n",
       "      <td>\\documentclass[tikz,border=5]{standalone}\\n\\us...</td>\n",
       "      <td>\\documentclass[tikz,border=5]{standalone}\\n\\us...</td>\n",
       "      <td>False</td>\n",
       "    </tr>\n",
       "    <tr>\n",
       "      <th>410</th>\n",
       "      <td>egraph_e6</td>\n",
       "      <td>scientific</td>\n",
       "      <td>Add a E_6 box, that contains the two bottom-le...</td>\n",
       "      <td>\\documentclass[tikz,border=5]{standalone}\\n\\us...</td>\n",
       "      <td>[\\documentclass[tikz,border=5]{standalone}\\n\\u...</td>\n",
       "      <td>\\documentclass[tikz,border=5]{standalone}\\n\\us...</td>\n",
       "      <td>\\documentclass[tikz,border=5]{standalone}\\n\\us...</td>\n",
       "      <td>False</td>\n",
       "    </tr>\n",
       "    <tr>\n",
       "      <th>630</th>\n",
       "      <td>torustube_hole_increase</td>\n",
       "      <td>scientific</td>\n",
       "      <td>Increase the size of the hole in the torus</td>\n",
       "      <td>\\documentclass[tikz,border=5]{standalone}\\n\\us...</td>\n",
       "      <td>[\\documentclass[tikz,border=5]{standalone}\\n\\u...</td>\n",
       "      <td>\\documentclass[tikz,border=5]{standalone}\\n\\us...</td>\n",
       "      <td>\\documentclass[tikz,border=5]{standalone}\\n\\us...</td>\n",
       "      <td>False</td>\n",
       "    </tr>\n",
       "  </tbody>\n",
       "</table>\n",
       "<p>214 rows × 8 columns</p>\n",
       "</div>"
      ],
      "text/plain": [
       "                               id        type  \\\n",
       "101                   vima_no_256  scientific   \n",
       "37         dispatch_slave_removed  scientific   \n",
       "60          graphdate_top_columns  scientific   \n",
       "22             cladder_left_inner  scientific   \n",
       "96                   squid_yellow      animal   \n",
       "..                            ...         ...   \n",
       "110             beam_coord_change  scientific   \n",
       "404                     egraph_e6  scientific   \n",
       "588  shark_other_set_pectoral_fin      animal   \n",
       "410                     egraph_e6  scientific   \n",
       "630       torustube_hole_increase  scientific   \n",
       "\n",
       "                                           instruction  \\\n",
       "101                  Remove the measurements for 256kb   \n",
       "37   Remove the first slave/replication instance, k...   \n",
       "60   Put the months at the top of the graph instead...   \n",
       "22   Move the inner circle to the left so that its ...   \n",
       "96             Change the color of the squid to yellow   \n",
       "..                                                 ...   \n",
       "110  Move the coordinate system between the top EA ...   \n",
       "404  Add a E_6 box, that contains the two bottom-le...   \n",
       "588  Add another set of pectoral fin to the shark, ...   \n",
       "410  Add a E_6 box, that contains the two bottom-le...   \n",
       "630         Increase the size of the hole in the torus   \n",
       "\n",
       "                                                  code  \\\n",
       "101  \\documentclass[tikz,border=5]{standalone}\\n\\us...   \n",
       "37   \\documentclass[tikz,border=5]{standalone}\\n\\us...   \n",
       "60   \\documentclass[tikz,border=5]{standalone}\\n\\us...   \n",
       "22   \\documentclass[tikz,border=5]{standalone}\\n\\us...   \n",
       "96   \\documentclass[tikz,border=5]{standalone}\\n\\us...   \n",
       "..                                                 ...   \n",
       "110  \\documentclass[tikz,border=5pt]{standalone}\\n\\...   \n",
       "404  \\documentclass[tikz,border=5]{standalone}\\n\\us...   \n",
       "588  \\documentclass[tikz,border=5]{standalone}\\n\\us...   \n",
       "410  \\documentclass[tikz,border=5]{standalone}\\n\\us...   \n",
       "630  \\documentclass[tikz,border=5]{standalone}\\n\\us...   \n",
       "\n",
       "                                template_solution_code  \\\n",
       "101  [\\documentclass[tikz,border=5]{standalone}\\n\\u...   \n",
       "37   [\\documentclass[tikz,border=5]{standalone}\\n\\u...   \n",
       "60   [\\documentclass[tikz,border=5]{standalone}\\n\\u...   \n",
       "22   [\\documentclass[tikz,border=5]{standalone}\\n\\u...   \n",
       "96   [\\documentclass[tikz,border=5]{standalone}\\n\\u...   \n",
       "..                                                 ...   \n",
       "110  [\\documentclass[tikz,border=5pt]{standalone}\\n...   \n",
       "404  [\\documentclass[tikz,border=5]{standalone}\\n\\u...   \n",
       "588  [\\documentclass[tikz,border=5]{standalone}\\n\\u...   \n",
       "410  [\\documentclass[tikz,border=5]{standalone}\\n\\u...   \n",
       "630  [\\documentclass[tikz,border=5]{standalone}\\n\\u...   \n",
       "\n",
       "                                     original_template  \\\n",
       "101  \\documentclass[tikz,border=5]{standalone}\\n\\us...   \n",
       "37   \\documentclass[tikz,border=5]{standalone}\\n\\us...   \n",
       "60   \\documentclass[tikz,border=5]{standalone}\\n\\us...   \n",
       "22   \\documentclass[tikz,border=5]{standalone}\\n\\us...   \n",
       "96   \\documentclass[tikz,border=5]{standalone}\\n\\us...   \n",
       "..                                                 ...   \n",
       "110  \\documentclass[tikz,border=5pt]{standalone}\\n\\...   \n",
       "404  \\documentclass[tikz,border=5]{standalone}\\n\\us...   \n",
       "588  \\documentclass[tikz,border=5]{standalone}\\n\\us...   \n",
       "410  \\documentclass[tikz,border=5]{standalone}\\n\\us...   \n",
       "630  \\documentclass[tikz,border=5]{standalone}\\n\\us...   \n",
       "\n",
       "                                              solution  expected  \n",
       "101  \\documentclass[tikz,border=5]{standalone}\\n\\us...      True  \n",
       "37   \\documentclass[tikz,border=5]{standalone}\\n\\us...      True  \n",
       "60   \\documentclass[tikz,border=5]{standalone}\\n\\us...      True  \n",
       "22   \\documentclass[tikz,border=5]{standalone}\\n\\us...      True  \n",
       "96   \\documentclass[tikz,border=5]{standalone}\\n\\us...      True  \n",
       "..                                                 ...       ...  \n",
       "110  \\documentclass[tikz,border=5pt]{standalone}\\n\\...     False  \n",
       "404  \\documentclass[tikz,border=5]{standalone}\\n\\us...     False  \n",
       "588  \\documentclass[tikz,border=5]{standalone}\\n\\us...     False  \n",
       "410  \\documentclass[tikz,border=5]{standalone}\\n\\us...     False  \n",
       "630  \\documentclass[tikz,border=5]{standalone}\\n\\us...     False  \n",
       "\n",
       "[214 rows x 8 columns]"
      ]
     },
     "execution_count": 14,
     "metadata": {},
     "output_type": "execute_result"
    }
   ],
   "source": [
    "import pandas as pd\n",
    "cor_compiling_dedup_pd = compiling_dedup_pd[compiling_dedup_pd[\"expected\"]==True]\n",
    "inc_compiling_dedup_pd = compiling_dedup_pd[compiling_dedup_pd[\"expected\"]==False]\n",
    "\n",
    "minim = min(len(cor_compiling_dedup_pd),len(inc_compiling_dedup_pd))\n",
    "\n",
    "result = pd.concat([cor_compiling_dedup_pd.sample(minim),inc_compiling_dedup_pd.sample(minim)])\n"
   ]
  },
  {
   "cell_type": "markdown",
   "id": "2edfa1ae",
   "metadata": {},
   "source": [
    "#### Publishing the dataset"
   ]
  },
  {
   "cell_type": "code",
   "execution_count": 5,
   "id": "e61ab739",
   "metadata": {},
   "outputs": [],
   "source": [
    "#we'll see later about that\n",
    "#ds.save_to_disk(f\"dataset/.cache/{config_name}{split_name}\")  # debug\n",
    "#ds.push_to_hub(\"CharlyR/vtikz\", config_name=subset, split=split_name)"
   ]
  },
  {
   "cell_type": "markdown",
   "id": "e105b1f2",
   "metadata": {},
   "source": [
    "##### some tests"
   ]
  },
  {
   "cell_type": "code",
   "execution_count": null,
   "id": "b6be2229",
   "metadata": {},
   "outputs": [],
   "source": []
  }
 ],
 "metadata": {
  "kernelspec": {
   "display_name": "VIFagent",
   "language": "python",
   "name": "python3"
  },
  "language_info": {
   "codemirror_mode": {
    "name": "ipython",
    "version": 3
   },
   "file_extension": ".py",
   "mimetype": "text/x-python",
   "name": "python",
   "nbconvert_exporter": "python",
   "pygments_lexer": "ipython3",
   "version": "3.12.11"
  }
 },
 "nbformat": 4,
 "nbformat_minor": 5
}
