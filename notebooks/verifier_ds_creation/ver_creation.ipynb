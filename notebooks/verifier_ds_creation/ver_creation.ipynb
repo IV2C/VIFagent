{
 "cells": [
  {
   "cell_type": "code",
   "execution_count": 1,
   "id": "41d609a6",
   "metadata": {},
   "outputs": [
    {
     "name": "stderr",
     "output_type": "stream",
     "text": [
      "/home/creux/Documents/AI/VIFagent/.venv/lib/python3.12/site-packages/tqdm/auto.py:21: TqdmWarning: IProgress not found. Please update jupyter and ipywidgets. See https://ipywidgets.readthedocs.io/en/stable/user_install.html\n",
      "  from .autonotebook import tqdm as notebook_tqdm\n"
     ]
    }
   ],
   "source": [
    "from datasets import load_dataset\n",
    "from datasets.formatting.formatting import LazyBatch\n",
    "ds = load_dataset(\"CharlyR/vtikz\", \"tikz\", split=\"benchmark\")\n",
    "ds = ds.select_columns([\"id\",\"type\",\"instruction\",\"code\",\"template_solution_code\"])\n"
   ]
  },
  {
   "cell_type": "code",
   "execution_count": 8,
   "id": "ded07c53",
   "metadata": {},
   "outputs": [],
   "source": [
    "from collections import defaultdict\n",
    "from notebooks.verifier_ds_creation.verifier_utils import (\n",
    "    handle_choices,\n",
    "    handle_def,\n",
    "    handle_range,\n",
    "    handle_rangei,\n",
    ")\n",
    "import re\n",
    "\n",
    "\n",
    "def create_solutions(row: LazyBatch):\n",
    "    all_created_template_codes: dict[str : list[str]] = defaultdict(list)\n",
    "    for template_code in row[\"template_solution_code\"]:\n",
    "        template_code = template_code[\n",
    "            0\n",
    "        ]  # batch size always one, used for create more rows as output\n",
    "        new_template_codes = handle_def(template_code)\n",
    "        new_template_codes = [\n",
    "            fin_templ_code\n",
    "            for code in new_template_codes\n",
    "            for fin_templ_code in handle_range(code)\n",
    "        ]\n",
    "        new_template_codes = [\n",
    "            fin_templ_code\n",
    "            for code in new_template_codes\n",
    "            for fin_templ_code in handle_rangei(code)\n",
    "        ]\n",
    "        new_template_codes = [\n",
    "            fin_templ_code\n",
    "            for code in new_template_codes\n",
    "            for fin_templ_code in handle_choices(code)\n",
    "        ]\n",
    "        all_created_template_codes[template_code] = new_template_codes\n",
    "\n",
    "    new_rows = defaultdict(list)\n",
    "    for template, created_template_codes in all_created_template_codes.items():\n",
    "        for created_template_code in created_template_codes:\n",
    "            for existing_col in set(row.keys()):\n",
    "                new_rows[existing_col].append(row[existing_col][0])\n",
    "            new_rows[\"original_template\"].append(template)\n",
    "            new_rows[\"solution\"].append(created_template_code)\n",
    "            new_rows[\"expected\"].append(True)\n",
    "    return new_rows"
   ]
  },
  {
   "cell_type": "code",
   "execution_count": 12,
   "id": "eb789371",
   "metadata": {},
   "outputs": [
    {
     "name": "stderr",
     "output_type": "stream",
     "text": [
      "Map: 100%|██████████| 1/1 [00:00<00:00, 160.82 examples/s]\n"
     ]
    }
   ],
   "source": [
    "from datasets import Dataset\n",
    "\n",
    "test_code = \"\"\"\n",
    "§choice([1,2],2)\n",
    "qsdfqs\n",
    "§choice([0,5],5)\n",
    "qsd\n",
    "\"\"\"\n",
    "#test_ds = Dataset.from_dict({\"template_solution_code\":[[test_code]]})\n",
    "\n",
    "expanded_ds = ds.select([0]).map(create_solutions,batched=True,batch_size=1,load_from_cache_file=False)"
   ]
  },
  {
   "cell_type": "code",
   "execution_count": 14,
   "id": "ede89256",
   "metadata": {},
   "outputs": [
    {
     "name": "stdout",
     "output_type": "stream",
     "text": [
      "\\documentclass[tikz,border=5pt]{standalone}\n",
      "\\usepackage{pgfplots}\n",
      "\\pgfplotsset{/pgf/number format/use comma,compat=1.16}\n",
      "\\usepackage[T1]{fontenc}\n",
      "\\usepackage[utf8]{inputenc}\n",
      "\\usepackage{stanli} \n",
      "\\usetikzlibrary{calc,intersections,patterns}\n",
      "\n",
      "\\begin{document}\n",
      "\\begin{tikzpicture}[scale=1]\n",
      "  \\draw (§rangei(1,0.5),§rangei(4.5,0.5)) node[below] {O};\n",
      "  \\draw[<->] (§rangei(2,0.5),§rangei(4.5,0.5)) node[right] {$x$}-|(§rangei(1,0.5),§rangei(5.5,0.5)) node[left]{$y$};\n",
      "  \\point{A}{2}{9};\n",
      "  \\point{B}{3}{4};\n",
      "  \\point{B'}{5}{5};\n",
      "  \\point{C}{0}{0};\n",
      "  \\point{D}{8}{1};\n",
      "  \\beam{2}{A}{B}[0][0];\n",
      "  \\beam{2}{B}{C}[0][0];\n",
      "  \\beam{2}{B}{D}[0][0];\n",
      "  \\beam{3}{A}{B'};\n",
      "  \\beam{3}{B'}{C};\n",
      "  \\beam{3}{B'}{D};\n",
      "  \\notation{4}{A}{B}[1];\n",
      "  \\notation{4}{C}{B}[2][0.6];\n",
      "  \\notation{4}{D}{B}[3];\n",
      "  \\support{3}{A}[180];\n",
      "  \\support{3}{C}[-45];\n",
      "  \\support{3}{D}[45];\n",
      "  \\hinge{1}{A}\n",
      "  \\hinge{1}{B}\n",
      "  \\hinge{1}{C}\n",
      "  \\hinge{1}{D}\n",
      "  \\hinge{1}{B'}\n",
      "  \\begin{scope}[color=red]\n",
      "    \\load{1}{B}[205][1.5];\n",
      "    \\notation{1}{1.3,3.5}{F}[centered];\n",
      "  \\end{scope}\n",
      "  \\dimensioning{1}{B}{B'}{0.5}[$u_\\mathrm{B}$];\n",
      "  \\dimensioning{2}{B}{B'}{7}[$v_\\mathrm{B}$];\n",
      "  \\notation{1}{A}{A}[below left];\n",
      "  \\notation{1}{B}{B}[above right];\n",
      "  \\notation{1}{B'}{B'}[above right];\n",
      "  \\notation{1}{C}{C}[right=1mm];\n",
      "  \\notation{1}{D}{D}[left=1mm];\n",
      "  \\draw (0.5,2.5) node[left]{$EA$} to [out=0,in=180] (1.5,2);\n",
      "  \\draw (1.75,6.5) node[left]{$EA$} to [out=0,in=150] (2.6,6);\n",
      "  \\draw (5.25,1.75) node[left]{$EA$} to [out=0,in=225] (6,2.2);\n",
      "\\end{tikzpicture}\n",
      "\\end{document}\n",
      "-----------------------------------------\n",
      "\\documentclass[tikz,border=5pt]{standalone}\n",
      "\\usepackage{pgfplots}\n",
      "\\pgfplotsset{/pgf/number format/use comma,compat=1.16}\n",
      "\\usepackage[T1]{fontenc}\n",
      "\\usepackage[utf8]{inputenc}\n",
      "\\usepackage{stanli} \n",
      "\\usetikzlibrary{calc,intersections,patterns}\n",
      "\n",
      "\\begin{document}\n",
      "\\begin{tikzpicture}[scale=1]\n",
      "  \\draw (0.5,4.0) node[below] {O};\n",
      "  \\draw[<->] (1.5,4.0) node[right] {$x$}-|(0.5,5.0) node[left]{$y$};\n",
      "  \\point{A}{2}{9};\n",
      "  \\point{B}{3}{4};\n",
      "  \\point{B'}{5}{5};\n",
      "  \\point{C}{0}{0};\n",
      "  \\point{D}{8}{1};\n",
      "  \\beam{2}{A}{B}[0][0];\n",
      "  \\beam{2}{B}{C}[0][0];\n",
      "  \\beam{2}{B}{D}[0][0];\n",
      "  \\beam{3}{A}{B'};\n",
      "  \\beam{3}{B'}{C};\n",
      "  \\beam{3}{B'}{D};\n",
      "  \\notation{4}{A}{B}[1];\n",
      "  \\notation{4}{C}{B}[2][0.6];\n",
      "  \\notation{4}{D}{B}[3];\n",
      "  \\support{3}{A}[180];\n",
      "  \\support{3}{C}[-45];\n",
      "  \\support{3}{D}[45];\n",
      "  \\hinge{1}{A}\n",
      "  \\hinge{1}{B}\n",
      "  \\hinge{1}{C}\n",
      "  \\hinge{1}{D}\n",
      "  \\hinge{1}{B'}\n",
      "  \\begin{scope}[color=red]\n",
      "    \\load{1}{B}[205][1.5];\n",
      "    \\notation{1}{1.3,3.5}{F}[centered];\n",
      "  \\end{scope}\n",
      "  \\dimensioning{1}{B}{B'}{0.5}[$u_\\mathrm{B}$];\n",
      "  \\dimensioning{2}{B}{B'}{7}[$v_\\mathrm{B}$];\n",
      "  \\notation{1}{A}{A}[below left];\n",
      "  \\notation{1}{B}{B}[above right];\n",
      "  \\notation{1}{B'}{B'}[above right];\n",
      "  \\notation{1}{C}{C}[right=1mm];\n",
      "  \\notation{1}{D}{D}[left=1mm];\n",
      "  \\draw (0.5,2.5) node[left]{$EA$} to [out=0,in=180] (1.5,2);\n",
      "  \\draw (1.75,6.5) node[left]{$EA$} to [out=0,in=150] (2.6,6);\n",
      "  \\draw (5.25,1.75) node[left]{$EA$} to [out=0,in=225] (6,2.2);\n",
      "\\end{tikzpicture}\n",
      "\\end{document}\n"
     ]
    }
   ],
   "source": [
    "for row in expanded_ds.iter(1):\n",
    "    print(row[\"original_template\"][0])\n",
    "    print(\"-----------------------------------------\")\n",
    "    print(row[\"solution\"][0])\n",
    "    break"
   ]
  },
  {
   "cell_type": "code",
   "execution_count": null,
   "id": "e61ab739",
   "metadata": {},
   "outputs": [],
   "source": [
    "#we'll see later about that\n",
    "#ds.save_to_disk(f\"dataset/.cache/{config_name}{split_name}\")  # debug\n",
    "#ds.push_to_hub(\"CharlyR/vtikz\", config_name=subset, split=split_name)"
   ]
  },
  {
   "cell_type": "markdown",
   "id": "e105b1f2",
   "metadata": {},
   "source": [
    "##### some tests"
   ]
  },
  {
   "cell_type": "code",
   "execution_count": null,
   "id": "908bbc2b",
   "metadata": {},
   "outputs": [],
   "source": [
    "import re\n",
    "\n",
    "test_code = \"\"\"\n",
    "§choice([0,1,2,12],5)\n",
    "qsdfqs\n",
    "§choice([0,5,10,65],5)\n",
    "qsd\n",
    "\"\"\""
   ]
  },
  {
   "cell_type": "code",
   "execution_count": null,
   "id": "698f74e4",
   "metadata": {},
   "outputs": [],
   "source": []
  }
 ],
 "metadata": {
  "kernelspec": {
   "display_name": "VIFagent",
   "language": "python",
   "name": "python3"
  },
  "language_info": {
   "codemirror_mode": {
    "name": "ipython",
    "version": 3
   },
   "file_extension": ".py",
   "mimetype": "text/x-python",
   "name": "python",
   "nbconvert_exporter": "python",
   "pygments_lexer": "ipython3",
   "version": "3.12.11"
  }
 },
 "nbformat": 4,
 "nbformat_minor": 5
}
