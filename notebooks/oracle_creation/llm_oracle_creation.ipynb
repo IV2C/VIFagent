{
 "cells": [
  {
   "cell_type": "code",
   "execution_count": 1,
   "id": "027213f0",
   "metadata": {},
   "outputs": [
    {
     "name": "stderr",
     "output_type": "stream",
     "text": [
      "/home/creux/Documents/AI/VIFagent/.venv/lib/python3.12/site-packages/tqdm/auto.py:21: TqdmWarning: IProgress not found. Please update jupyter and ipywidgets. See https://ipywidgets.readthedocs.io/en/stable/user_install.html\n",
      "  from .autonotebook import tqdm as notebook_tqdm\n",
      "\u001b[32m2025-10-07 11:35:33.747\u001b[0m | \u001b[1mINFO    \u001b[0m | \u001b[36mvif.utils.caching\u001b[0m:\u001b[36minstantiate_cache\u001b[0m:\u001b[36m26\u001b[0m - \u001b[1mseg_cache cache loaded\u001b[0m\n"
     ]
    }
   ],
   "source": [
    "from openai import OpenAI\n",
    "import os\n",
    "from google import genai\n",
    "from google.genai import types as genTypes\n",
    "from vif.falcon.oracle.guided_oracle.guided_code_oracle import OracleGuidedCodeModule\n",
    "from vif.utils.renderer.tex_renderer import TexRenderer\n",
    "\n",
    "gclient = genai.Client(\n",
    "    api_key=os.environ.get(\"GOOGLE_API_KEY\"),\n",
    "    http_options=genTypes.HttpOptions(api_version=\"v1alpha\"),\n",
    ")\n",
    "\n",
    "oclient = OpenAI(\n",
    "    base_url=\"https://openrouter.ai/api/v1\",\n",
    "    api_key=os.environ.get(\"OPENROUTER_API_KEY\"),\n",
    ")\n",
    "\n",
    "\n",
    "oracle_module = OracleGuidedCodeModule(\n",
    "    model=\"meta-llama/llama-4-maverick:free\",\n",
    "    temperature=0.3,\n",
    "    client=oclient,\n",
    "    visual_client=gclient,\n",
    "    visual_model=\"gemini-2.5-flash\",\n",
    "    property_client=oclient,\n",
    "    property_model=\"mistralai/mistral-small-3.2-24b-instruct:free\",\n",
    "    property_model_temperature=0.3\n",
    ")\n",
    "\n",
    "renderer = TexRenderer()\n"
   ]
  },
  {
   "cell_type": "code",
   "execution_count": 3,
   "id": "b400c3c3",
   "metadata": {},
   "outputs": [
    {
     "name": "stderr",
     "output_type": "stream",
     "text": [
      "Generating benchmark split: 100%|██████████| 100/100 [00:00<00:00, 2835.04 examples/s]\n",
      "Generating test split: 100%|██████████| 2/2 [00:00<00:00, 766.43 examples/s]\n"
     ]
    }
   ],
   "source": [
    "from datasets import load_dataset\n",
    "\n",
    "\n",
    "ds = load_dataset(\"CharlyR/vtikz\", \"tikz\", split=\"benchmark\")\n",
    "ds = ds.select_columns([\"id\",\"type\",\"instruction\",\"code\",\"image_solution\",\"image_input\",\"code_solution\"])"
   ]
  },
  {
   "cell_type": "code",
   "execution_count": 6,
   "id": "0f5766db",
   "metadata": {},
   "outputs": [
    {
     "name": "stderr",
     "output_type": "stream",
     "text": [
      "\u001b[32m2025-10-07 11:37:15.685\u001b[0m | \u001b[34m\u001b[1mDEBUG   \u001b[0m | \u001b[36mvif.utils.renderer.tex_renderer\u001b[0m:\u001b[36mfrom_string_to_image\u001b[0m:\u001b[36m45\u001b[0m - \u001b[34m\u001b[1mlatex renderer writing to /home/creux/.cache/varbench/78f5133f-5ebf-443b-abb2-fae3bfa09e69.tex\u001b[0m\n",
      "\u001b[32m2025-10-07 11:37:16.127\u001b[0m | \u001b[34m\u001b[1mDEBUG   \u001b[0m | \u001b[36mvif.utils.renderer.tex_renderer\u001b[0m:\u001b[36mfrom_string_to_image\u001b[0m:\u001b[36m78\u001b[0m - \u001b[34m\u001b[1mconverting /home/creux/.cache/varbench/78f5133f-5ebf-443b-abb2-fae3bfa09e69.tex to png\u001b[0m\n"
     ]
    }
   ],
   "source": [
    "import_str = \"\"\"from vif.falcon.oracle.guided_oracle.property_expression import visual_property\n",
    "from vif.falcon.oracle.guided_oracle.expressions import (\n",
    "    OracleExpression,\n",
    "    aligned,\n",
    "    present,\n",
    "    angle,\n",
    "    placement,\n",
    "    position,\n",
    "    color,\n",
    "    shape,\n",
    "    size,\n",
    "    within,\n",
    "    mirrored,\n",
    ")\n",
    "\"\"\"\n",
    "for row in ds.iter(1):\n",
    "    if os.path.exists(\n",
    "        f\"notebooks/oracle_creation/llm_oracle_functions/{row[\"id\"][0]}.py\"\n",
    "    ):\n",
    "        continue\n",
    "    with open(\n",
    "        f\"notebooks/oracle_creation/llm_oracle_functions/{row[\"id\"][0]}.py\", \"w\"\n",
    "    ) as oracle_file:\n",
    "        image = renderer.from_string_to_image(row[\"code\"][0])\n",
    "        oracle_code,_ = oracle_module.get_oracle_code(row[\"instruction\"][0],base_image=image)\n",
    "        \n",
    "        oracle_file.write(import_str)\n",
    "        oracle_file.write(oracle_code)\n",
    "    break"
   ]
  }
 ],
 "metadata": {
  "kernelspec": {
   "display_name": "VIFagent",
   "language": "python",
   "name": "python3"
  },
  "language_info": {
   "codemirror_mode": {
    "name": "ipython",
    "version": 3
   },
   "file_extension": ".py",
   "mimetype": "text/x-python",
   "name": "python",
   "nbconvert_exporter": "python",
   "pygments_lexer": "ipython3",
   "version": "3.12.11"
  }
 },
 "nbformat": 4,
 "nbformat_minor": 5
}
