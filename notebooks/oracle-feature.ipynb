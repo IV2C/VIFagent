{
 "cells": [
  {
   "cell_type": "code",
   "execution_count": null,
   "id": "dd05a5d8",
   "metadata": {},
   "outputs": [],
   "source": [
    "from datasets import load_dataset\n",
    "\n",
    "ds = load_dataset(\"CharlyR/varbench\", \"tikz\", split=\"benchmark\")\n",
    "\n",
    "ds = ds.select_columns([\"id\",\"instruction\",\"code\",\"image_solution\",\"image_input\"])\n",
    "\n",
    "#Too early, todo with the oracle function once it supposedly works."
   ]
  }
 ],
 "metadata": {
  "kernelspec": {
   "display_name": ".venv",
   "language": "python",
   "name": "python3"
  },
  "language_info": {
   "name": "python",
   "version": "3.12.0"
  }
 },
 "nbformat": 4,
 "nbformat_minor": 5
}
