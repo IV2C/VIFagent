{
 "cells": [
  {
   "cell_type": "markdown",
   "id": "13dc7b34",
   "metadata": {},
   "source": [
    "# Testing on the dataset"
   ]
  },
  {
   "cell_type": "markdown",
   "id": "12994805",
   "metadata": {},
   "source": [
    "## Initialization"
   ]
  },
  {
   "cell_type": "code",
   "execution_count": 1,
   "id": "6f084352",
   "metadata": {},
   "outputs": [
    {
     "name": "stderr",
     "output_type": "stream",
     "text": [
      "/home/creux/Documents/AI/VIFagent/.venv/lib/python3.12/site-packages/tqdm/auto.py:21: TqdmWarning: IProgress not found. Please update jupyter and ipywidgets. See https://ipywidgets.readthedocs.io/en/stable/user_install.html\n",
      "  from .autonotebook import tqdm as notebook_tqdm\n"
     ]
    }
   ],
   "source": [
    "\n",
    "from datasets import load_dataset\n",
    "\n",
    "\n",
    "ds = load_dataset(\"CharlyR/vtikz\", \"tikz\", split=\"test\")\n",
    "ds = ds.select_columns([\"id\",\"type\",\"instruction\",\"code\",\"image_solution\",\"image_input\",\"code_solution\"])\n"
   ]
  },
  {
   "cell_type": "code",
   "execution_count": null,
   "id": "ab824bc8",
   "metadata": {},
   "outputs": [
    {
     "name": "stderr",
     "output_type": "stream",
     "text": [
      "You are trying to use a model that was created with Sentence Transformers version 5.0.0, but you're currently using version 4.1.0. This might cause unexpected behavior or errors. In that case, try to update to the latest version.\n",
      "\u001b[32m2025-08-13 14:41:17.877\u001b[0m | \u001b[33m\u001b[1mWARNING \u001b[0m | \u001b[36mvif.falcon.falcon\u001b[0m:\u001b[36m__init__\u001b[0m:\u001b[36m57\u001b[0m - \u001b[33m\u001b[1mThe observe parameter is activated, dict will be stored at /home/creux/Documents/AI/VIFagent/.tmp/observe/1308-14:41:17.pickle\u001b[0m\n"
     ]
    }
   ],
   "source": [
    "from openai import OpenAI\n",
    "import os\n",
    "from google import genai\n",
    "from google.genai import types as genTypes\n",
    "from vif.falcon.edition import OracleEditionModule\n",
    "from vif.falcon.falcon import Falcon\n",
    "from vif.falcon.oracle.guided_oracle.guided_code_oracle import OracleGuidedCodeModule\n",
    "from vif.utils.renderer.tex_renderer import TexRenderer\n",
    "\n",
    "gclient = genai.Client(\n",
    "    api_key=os.environ.get(\"GOOGLE_API_KEY\"),\n",
    "    http_options=genTypes.HttpOptions(api_version=\"v1alpha\"),\n",
    ")\n",
    "\n",
    "oclient = OpenAI(\n",
    "    base_url=\"https://openrouter.ai/api/v1\",\n",
    "    api_key=os.environ.get(\"OPENROUTER_API_KEY\"),\n",
    ")\n",
    "\n",
    "\n",
    "oracle_module = OracleGuidedCodeModule(\n",
    "    model=\"google/gemini-2.5-flash-lite\",\n",
    "    temperature=0.3,\n",
    "    client=oclient,\n",
    "    visual_client=gclient,\n",
    "    visual_generation_content_config=genTypes.GenerateContentConfig(temperature=0.3),\n",
    "    visual_model=\"gemini-2.5-pro\"\n",
    ")\n",
    "edition_module = OracleEditionModule(\n",
    "    model=\"google/gemini-2.5-flash-lite\",\n",
    "    temperature=0.3,\n",
    "    client=oclient,\n",
    ")\n",
    "\n",
    "agent = Falcon(\n",
    "    code_renderer=TexRenderer().from_string_to_image,\n",
    "    oracle_module=oracle_module,\n",
    "    edition_module=edition_module,\n",
    "    observe=True,\n",
    "    observe_folder=\"/home/creux/Documents/AI/VIFagent/.tmp/observe\",\n",
    "    existing_observe_checkpoint=\"/home/creux/Documents/AI/VIFagent/.tmp/observe/1308-14:41:17.pickle\"\n",
    ")"
   ]
  },
  {
   "cell_type": "markdown",
   "id": "1797bf5c",
   "metadata": {},
   "source": [
    "#### Manual Tests on one example"
   ]
  },
  {
   "cell_type": "code",
   "execution_count": 10,
   "id": "ca64f7fa",
   "metadata": {},
   "outputs": [
    {
     "name": "stderr",
     "output_type": "stream",
     "text": [
      "\u001b[32m2025-08-13 14:19:10.152\u001b[0m | \u001b[1mINFO    \u001b[0m | \u001b[36mvif.falcon.falcon\u001b[0m:\u001b[36mapply_instruction\u001b[0m:\u001b[36m91\u001b[0m - \u001b[1mCreating the oracle\u001b[0m\n",
      "\u001b[32m2025-08-13 14:19:10.153\u001b[0m | \u001b[1mINFO    \u001b[0m | \u001b[36mvif.falcon.oracle.guided_oracle.guided_code_oracle\u001b[0m:\u001b[36mget_oracle\u001b[0m:\u001b[36m101\u001b[0m - \u001b[1mCreating Oracle for instruction Switch the color of the circle and the triangle\u001b[0m\n",
      "\u001b[32m2025-08-13 14:19:12.690\u001b[0m | \u001b[1mINFO    \u001b[0m | \u001b[36mvif.falcon.oracle.guided_oracle.guided_code_oracle\u001b[0m:\u001b[36mget_oracle\u001b[0m:\u001b[36m116\u001b[0m - \u001b[1mOracle created: def test_valid_customization() -> bool:\n",
      "    # The original image contains a blue square, a pink triangle, & a green circle.\n",
      "    # The prompt asks to switch the colors of the circle & the triangle.\n",
      "    # This means the triangle should become green & the circle should become pink.\n",
      "    return color(\"triangle\", \"green\") & color(\"circle\", \"pink\")\n",
      "\u001b[0m\n",
      "\u001b[32m2025-08-13 14:19:13.006\u001b[0m | \u001b[1mINFO    \u001b[0m | \u001b[36mvif.falcon.edition\u001b[0m:\u001b[36mcustomize\u001b[0m:\u001b[36m116\u001b[0m - \u001b[1mSending initial message\u001b[0m\n",
      "\u001b[32m2025-08-13 14:19:14.452\u001b[0m | \u001b[1mINFO    \u001b[0m | \u001b[36mvif.falcon.edition\u001b[0m:\u001b[36mcustomize\u001b[0m:\u001b[36m125\u001b[0m - \u001b[1mLLM response:ChatCompletion(id='gen-1755087553-FD2P2Ms3WPfxaXkqOB3q', choices=[Choice(finish_reason='stop', index=0, logprobs=None, message=ChatCompletionMessage(content='```\\n[\\n  {\"start\": 8, \"end\": 9, \"content\": \"  \\\\\\\\node[regular polygon, regular polygon sides=3, minimum size=3cm, fill=green!30] at (0,0) {};\"},\\n  {\"start\": 9, \"end\": 10, \"content\": \"  \\\\\\\\node[circle, minimum size=2cm, fill=red!30] at (3,0.25) {};\"}\\n]\\n```', refusal=None, role='assistant', annotations=None, audio=None, function_call=None, tool_calls=None, reasoning=None), native_finish_reason='STOP')], created=1755087553, model='google/gemini-2.5-flash-lite', object='chat.completion', service_tier=None, system_fingerprint=None, usage=CompletionUsage(completion_tokens=108, prompt_tokens=2348, total_tokens=2456, completion_tokens_details=None, prompt_tokens_details=None), provider='Google')\u001b[0m\n",
      "\u001b[32m2025-08-13 14:19:14.452\u001b[0m | \u001b[1mINFO    \u001b[0m | \u001b[36mvif.falcon.edition\u001b[0m:\u001b[36mmodify_code\u001b[0m:\u001b[36m62\u001b[0m - \u001b[1mApplying modifications CodeEdit(start=8, end=9, content='  \\\\node[regular polygon, regular polygon sides=3, minimum size=3cm, fill=green!30] at (0,0) {};'),CodeEdit(start=9, end=10, content='  \\\\node[circle, minimum size=2cm, fill=red!30] at (3,0.25) {};')\u001b[0m\n",
      "\u001b[32m2025-08-13 14:19:14.453\u001b[0m | \u001b[1mINFO    \u001b[0m | \u001b[36mvif.falcon.edition\u001b[0m:\u001b[36mcustomize\u001b[0m:\u001b[36m142\u001b[0m - \u001b[1mcode edited:\n",
      "\\documentclass[tikz,border=5]{standalone}\n",
      "\\usepackage{tikz}\n",
      "\\usetikzlibrary{shapes}\n",
      "\n",
      "\\begin{document}\n",
      "\n",
      "\\begin{tikzpicture}\n",
      "  \\node[regular polygon, regular polygon sides=3, minimum size=3cm, fill=green!30] at (0,0) {};\n",
      "  \\node[circle, minimum size=2cm, fill=red!30] at (3,0.25) {};\n",
      "  \\node[rectangle, minimum size=2cm, fill=blue!30] at (1.5,2.5) {};\n",
      "\\end{tikzpicture}\n",
      "\\end{document}\u001b[0m\n",
      "\u001b[32m2025-08-13 14:19:14.762\u001b[0m | \u001b[1mINFO    \u001b[0m | \u001b[36mvif.falcon.oracle.guided_oracle.guided_code_oracle\u001b[0m:\u001b[36moracle\u001b[0m:\u001b[36m124\u001b[0m - \u001b[1msegmenting original image\u001b[0m\n",
      "\u001b[32m2025-08-13 14:19:14.763\u001b[0m | \u001b[1mINFO    \u001b[0m | \u001b[36mvif.utils.detection_utils\u001b[0m:\u001b[36mget_segmentation_masks\u001b[0m:\u001b[36m72\u001b[0m - \u001b[1mGetting masks for features : triangle,circle\u001b[0m\n",
      "\u001b[32m2025-08-13 14:19:16.175\u001b[0m | \u001b[31m\u001b[1mERROR   \u001b[0m | \u001b[36mvif.utils.detection_utils\u001b[0m:\u001b[36mget_segmentation_masks\u001b[0m:\u001b[36m97\u001b[0m - \u001b[31m\u001b[1mError while generating masks: response is Nonesdk_http_response=HttpResponse(\n",
      "  headers=<dict len=11>\n",
      ") candidates=[Candidate(\n",
      "  content=Content(\n",
      "    role='model'\n",
      "  ),\n",
      "  finish_reason=<FinishReason.STOP: 'STOP'>,\n",
      "  index=0\n",
      ")] create_time=None response_id=None model_version='gemini-2.5-pro' prompt_feedback=None usage_metadata=GenerateContentResponseUsageMetadata(\n",
      "  prompt_token_count=335,\n",
      "  prompt_tokens_details=[\n",
      "    ModalityTokenCount(\n",
      "      modality=<MediaModality.TEXT: 'TEXT'>,\n",
      "      token_count=77\n",
      "    ),\n",
      "    ModalityTokenCount(\n",
      "      modality=<MediaModality.IMAGE: 'IMAGE'>,\n",
      "      token_count=258\n",
      "    ),\n",
      "  ],\n",
      "  thoughts_token_count=13,\n",
      "  total_token_count=348\n",
      ") automatic_function_calling_history=[] parsed=None\u001b[0m\n",
      "\u001b[32m2025-08-13 14:19:16.177\u001b[0m | \u001b[1mINFO    \u001b[0m | \u001b[36mvif.utils.detection_utils\u001b[0m:\u001b[36mget_segmentation_masks\u001b[0m:\u001b[36m72\u001b[0m - \u001b[1mGetting masks for features : triangle,circle\u001b[0m\n",
      "\u001b[32m2025-08-13 14:19:21.251\u001b[0m | \u001b[31m\u001b[1mERROR   \u001b[0m | \u001b[36mvif.utils.detection_utils\u001b[0m:\u001b[36mget_segmentation_masks\u001b[0m:\u001b[36m97\u001b[0m - \u001b[31m\u001b[1mError while generating masks: response is Nonesdk_http_response=HttpResponse(\n",
      "  headers=<dict len=11>\n",
      ") candidates=[Candidate(\n",
      "  content=Content(\n",
      "    role='model'\n",
      "  ),\n",
      "  finish_reason=<FinishReason.STOP: 'STOP'>,\n",
      "  index=0\n",
      ")] create_time=None response_id=None model_version='gemini-2.5-pro' prompt_feedback=None usage_metadata=GenerateContentResponseUsageMetadata(\n",
      "  prompt_token_count=335,\n",
      "  prompt_tokens_details=[\n",
      "    ModalityTokenCount(\n",
      "      modality=<MediaModality.TEXT: 'TEXT'>,\n",
      "      token_count=77\n",
      "    ),\n",
      "    ModalityTokenCount(\n",
      "      modality=<MediaModality.IMAGE: 'IMAGE'>,\n",
      "      token_count=258\n",
      "    ),\n",
      "  ],\n",
      "  thoughts_token_count=368,\n",
      "  total_token_count=703\n",
      ") automatic_function_calling_history=[] parsed=None\u001b[0m\n",
      "\u001b[32m2025-08-13 14:19:21.252\u001b[0m | \u001b[1mINFO    \u001b[0m | \u001b[36mvif.utils.detection_utils\u001b[0m:\u001b[36mget_segmentation_masks\u001b[0m:\u001b[36m72\u001b[0m - \u001b[1mGetting masks for features : triangle,circle\u001b[0m\n",
      "\u001b[32m2025-08-13 14:19:23.217\u001b[0m | \u001b[31m\u001b[1mERROR   \u001b[0m | \u001b[36mvif.utils.detection_utils\u001b[0m:\u001b[36mget_segmentation_masks\u001b[0m:\u001b[36m97\u001b[0m - \u001b[31m\u001b[1mError while generating masks: response is Nonesdk_http_response=HttpResponse(\n",
      "  headers=<dict len=11>\n",
      ") candidates=[Candidate(\n",
      "  content=Content(\n",
      "    role='model'\n",
      "  ),\n",
      "  finish_reason=<FinishReason.STOP: 'STOP'>,\n",
      "  index=0\n",
      ")] create_time=None response_id=None model_version='gemini-2.5-pro' prompt_feedback=None usage_metadata=GenerateContentResponseUsageMetadata(\n",
      "  prompt_token_count=335,\n",
      "  prompt_tokens_details=[\n",
      "    ModalityTokenCount(\n",
      "      modality=<MediaModality.TEXT: 'TEXT'>,\n",
      "      token_count=77\n",
      "    ),\n",
      "    ModalityTokenCount(\n",
      "      modality=<MediaModality.IMAGE: 'IMAGE'>,\n",
      "      token_count=258\n",
      "    ),\n",
      "  ],\n",
      "  thoughts_token_count=7,\n",
      "  total_token_count=342\n",
      ") automatic_function_calling_history=[] parsed=None\u001b[0m\n",
      "\u001b[32m2025-08-13 14:19:23.218\u001b[0m | \u001b[31m\u001b[1mERROR   \u001b[0m | \u001b[36mvif.falcon.edition\u001b[0m:\u001b[36mcustomize\u001b[0m:\u001b[36m167\u001b[0m - \u001b[31m\u001b[1mfatal Error while segmenting the image:Error while parsing response, response is None: sdk_http_response=HttpResponse(\n",
      "  headers=<dict len=11>\n",
      ") candidates=[Candidate(\n",
      "  content=Content(\n",
      "    role='model'\n",
      "  ),\n",
      "  finish_reason=<FinishReason.STOP: 'STOP'>,\n",
      "  index=0\n",
      ")] create_time=None response_id=None model_version='gemini-2.5-pro' prompt_feedback=None usage_metadata=GenerateContentResponseUsageMetadata(\n",
      "  prompt_token_count=335,\n",
      "  prompt_tokens_details=[\n",
      "    ModalityTokenCount(\n",
      "      modality=<MediaModality.TEXT: 'TEXT'>,\n",
      "      token_count=77\n",
      "    ),\n",
      "    ModalityTokenCount(\n",
      "      modality=<MediaModality.IMAGE: 'IMAGE'>,\n",
      "      token_count=258\n",
      "    ),\n",
      "  ],\n",
      "  thoughts_token_count=7,\n",
      "  total_token_count=342\n",
      ") automatic_function_calling_history=[] parsed=None initial code will be returned.\u001b[0m\n"
     ]
    },
    {
     "data": {
      "text/plain": [
       "'\\\\documentclass[tikz,border=5]{standalone}\\n\\\\usepackage{tikz}\\n\\\\usetikzlibrary{shapes}\\n\\n\\\\begin{document}\\n\\n\\\\begin{tikzpicture}\\n  \\\\node[regular polygon, regular polygon sides=3, minimum size=3cm, fill=red!30] at (0,0) {};\\n  \\\\node[circle, minimum size=2cm, fill=green!30] at (3,0.25) {};\\n  \\\\node[rectangle, minimum size=2cm, fill=blue!30] at (1.5,2.5) {};\\n\\\\end{tikzpicture}\\n\\\\end{document}'"
      ]
     },
     "execution_count": 10,
     "metadata": {},
     "output_type": "execute_result"
    }
   ],
   "source": [
    "agent.apply_instruction(ds[0][\"code\"],ds[0][\"instruction\"],ds[0][\"id\"])"
   ]
  },
  {
   "cell_type": "code",
   "execution_count": 5,
   "id": "16f8aef0",
   "metadata": {},
   "outputs": [],
   "source": [
    "import pickle\n",
    "with open(\"/home/creux/Documents/AI/VIFagent/.tmp/observe/1308-13:34:30.pickle.pickle\",\"rb\") as pkds:\n",
    "    dict_ds = pickle.load(pkds)"
   ]
  },
  {
   "cell_type": "code",
   "execution_count": 6,
   "id": "368a4c34",
   "metadata": {},
   "outputs": [
    {
     "data": {
      "text/plain": [
       "[{'id': 'rgbstc_switch_col_ct',\n",
       "  'instruction': 'Switch the color of the circle and the triangle',\n",
       "  'original_code': '\\\\documentclass[tikz,border=5]{standalone}\\n\\\\usepackage{tikz}\\n\\\\usetikzlibrary{shapes}\\n\\n\\\\begin{document}\\n\\n\\\\begin{tikzpicture}\\n  \\\\node[regular polygon, regular polygon sides=3, minimum size=3cm, fill=red!30] at (0,0) {};\\n  \\\\node[circle, minimum size=2cm, fill=green!30] at (3,0.25) {};\\n  \\\\node[rectangle, minimum size=2cm, fill=blue!30] at (1.5,2.5) {};\\n\\\\end{tikzpicture}\\n\\\\end{document}',\n",
       "  'oracle_code': None,\n",
       "  'original_image': <PIL.PpmImagePlugin.PpmImageFile image mode=RGB size=446x363>,\n",
       "  'turn': 0,\n",
       "  'custom_image': <PIL.PpmImagePlugin.PpmImageFile image mode=RGB size=446x363>,\n",
       "  'custom_code': '\\\\documentclass[tikz,border=5]{standalone}\\n\\\\usepackage{tikz}\\n\\\\usetikzlibrary{shapes}\\n\\n\\\\begin{document}\\n\\n\\\\begin{tikzpicture}\\n  \\\\node[regular polygon, regular polygon sides=3, minimum size=3cm, fill=green!30] at (0,0) {};\\n  \\\\node[circle, minimum size=2cm, fill=red!30] at (3,0.25) {};\\n  \\\\node[rectangle, minimum size=2cm, fill=blue!30] at (1.5,2.5) {};\\n\\\\end{tikzpicture}\\n\\\\end{document}',\n",
       "  'oracle_condition': False,\n",
       "  'oracle_report': \"Error while parsing response, response is None: sdk_http_response=HttpResponse(\\n  headers=<dict len=11>\\n) candidates=[Candidate(\\n  content=Content(\\n    role='model'\\n  ),\\n  finish_reason=<FinishReason.STOP: 'STOP'>,\\n  index=0\\n)] create_time=None response_id=None model_version='gemini-2.5-pro' prompt_feedback=None usage_metadata=GenerateContentResponseUsageMetadata(\\n  prompt_token_count=335,\\n  prompt_tokens_details=[\\n    ModalityTokenCount(\\n      modality=<MediaModality.TEXT: 'TEXT'>,\\n      token_count=77\\n    ),\\n    ModalityTokenCount(\\n      modality=<MediaModality.IMAGE: 'IMAGE'>,\\n      token_count=258\\n    ),\\n  ],\\n  thoughts_token_count=46,\\n  total_token_count=381\\n) automatic_function_calling_history=[] parsed=None\",\n",
       "  'error_type': 'seg_error'},\n",
       " {'id': 'rgbstc_switch_col_ct',\n",
       "  'instruction': 'Switch the color of the circle and the triangle',\n",
       "  'original_code': '\\\\documentclass[tikz,border=5]{standalone}\\n\\\\usepackage{tikz}\\n\\\\usetikzlibrary{shapes}\\n\\n\\\\begin{document}\\n\\n\\\\begin{tikzpicture}\\n  \\\\node[regular polygon, regular polygon sides=3, minimum size=3cm, fill=red!30] at (0,0) {};\\n  \\\\node[circle, minimum size=2cm, fill=green!30] at (3,0.25) {};\\n  \\\\node[rectangle, minimum size=2cm, fill=blue!30] at (1.5,2.5) {};\\n\\\\end{tikzpicture}\\n\\\\end{document}',\n",
       "  'oracle_code': 'def test_valid_customization() -> bool:\\n    # The original image contains a red triangle, a green circle, & a blue square.\\n    # The prompt asks to switch the colors of the circle & the triangle.\\n    # This means the triangle should become green & the circle should become red.\\n    return color(\"triangle\", \"green\") & color(\"circle\", \"red\")\\n',\n",
       "  'original_image': <PIL.PpmImagePlugin.PpmImageFile image mode=RGB size=446x363>,\n",
       "  'turn': 0,\n",
       "  'custom_image': <PIL.PpmImagePlugin.PpmImageFile image mode=RGB size=446x363>,\n",
       "  'custom_code': '\\\\documentclass[tikz,border=5]{standalone}\\n\\\\usepackage{tikz}\\n\\\\usetikzlibrary{shapes}\\n\\n\\\\begin{document}\\n\\n\\\\begin{tikzpicture}\\n  \\\\node[regular polygon, regular polygon sides=3, minimum size=3cm, fill=green!30] at (0,0) {};\\n  \\\\node[circle, minimum size=2cm, fill=red!30] at (3,0.25) {};\\n  \\\\node[rectangle, minimum size=2cm, fill=blue!30] at (1.5,2.5) {};\\n\\\\end{tikzpicture}\\n\\\\end{document}',\n",
       "  'oracle_condition': True,\n",
       "  'oracle_report': 'Here is the code after modification:\\n1|\\\\documentclass[tikz,border=5]{standalone}\\n2|\\\\usepackage{tikz}\\n3|\\\\usetikzlibrary{shapes}\\n4|\\n5|\\\\begin{document}\\n6|\\n7|\\\\begin{tikzpicture}\\n8|  \\\\node[regular polygon, regular polygon sides=3, minimum size=3cm, fill=green!30] at (0,0) {};\\n9|  \\\\node[circle, minimum size=2cm, fill=red!30] at (3,0.25) {};\\n10|  \\\\node[rectangle, minimum size=2cm, fill=blue!30] at (1.5,2.5) {};\\n11|\\\\end{tikzpicture}\\n12|\\\\end{document}\\nThe resulting image did not satify the instruction, here are some feedback:\\n',\n",
       "  'error_type': 'Oracle'}]"
      ]
     },
     "execution_count": 6,
     "metadata": {},
     "output_type": "execute_result"
    }
   ],
   "source": [
    "dict_ds"
   ]
  },
  {
   "cell_type": "markdown",
   "id": "9ad28442",
   "metadata": {},
   "source": [
    "### Executing on the dataset"
   ]
  },
  {
   "cell_type": "code",
   "execution_count": 4,
   "id": "a42eaa9b",
   "metadata": {},
   "outputs": [
    {
     "name": "stderr",
     "output_type": "stream",
     "text": [
      "Map:   0%|          | 0/2 [00:00<?, ? examples/s]\u001b[32m2025-08-13 14:42:04.346\u001b[0m | \u001b[1mINFO    \u001b[0m | \u001b[36mvif.falcon.falcon\u001b[0m:\u001b[36mapply_instruction\u001b[0m:\u001b[36m91\u001b[0m - \u001b[1mCreating the oracle\u001b[0m\n",
      "\u001b[32m2025-08-13 14:42:04.347\u001b[0m | \u001b[1mINFO    \u001b[0m | \u001b[36mvif.falcon.oracle.guided_oracle.guided_code_oracle\u001b[0m:\u001b[36mget_oracle\u001b[0m:\u001b[36m101\u001b[0m - \u001b[1mCreating Oracle for instruction Switch the color of the circle and the triangle\u001b[0m\n",
      "\u001b[32m2025-08-13 14:42:06.601\u001b[0m | \u001b[1mINFO    \u001b[0m | \u001b[36mvif.falcon.oracle.guided_oracle.guided_code_oracle\u001b[0m:\u001b[36mget_oracle\u001b[0m:\u001b[36m116\u001b[0m - \u001b[1mOracle created: def test_valid_customization() -> bool:\n",
      "    # The original image contains a blue square, a pink triangle, & a green circle.\n",
      "    # The prompt asks to switch the colors of the circle & the triangle.\n",
      "    # This means the triangle should become green & the circle should become pink.\n",
      "    return color(\"triangle\", \"green\") & color(\"circle\", \"pink\")\n",
      "\u001b[0m\n",
      "\u001b[32m2025-08-13 14:42:06.910\u001b[0m | \u001b[1mINFO    \u001b[0m | \u001b[36mvif.falcon.edition\u001b[0m:\u001b[36mcustomize\u001b[0m:\u001b[36m116\u001b[0m - \u001b[1mSending initial message\u001b[0m\n",
      "\u001b[32m2025-08-13 14:42:08.367\u001b[0m | \u001b[1mINFO    \u001b[0m | \u001b[36mvif.falcon.edition\u001b[0m:\u001b[36mcustomize\u001b[0m:\u001b[36m125\u001b[0m - \u001b[1mLLM response:ChatCompletion(id='gen-1755088926-ha1Q5SJBzK9mIDp8yJbt', choices=[Choice(finish_reason='stop', index=0, logprobs=None, message=ChatCompletionMessage(content='```\\n[\\n  {\"start\": 8, \"end\": 9, \"content\": \"  \\\\\\\\node[regular polygon, regular polygon sides=3, minimum size=3cm, fill=green!30] at (0,0) {};\"},\\n  {\"start\": 9, \"end\": 10, \"content\": \"  \\\\\\\\node[circle, minimum size=2cm, fill=red!30] at (3,0.25) {};\"}\\n]\\n```', refusal=None, role='assistant', annotations=None, audio=None, function_call=None, tool_calls=None, reasoning=None), native_finish_reason='STOP')], created=1755088926, model='google/gemini-2.5-flash-lite', object='chat.completion', service_tier=None, system_fingerprint=None, usage=CompletionUsage(completion_tokens=108, prompt_tokens=2348, total_tokens=2456, completion_tokens_details=None, prompt_tokens_details=None), provider='Google')\u001b[0m\n",
      "\u001b[32m2025-08-13 14:42:08.368\u001b[0m | \u001b[1mINFO    \u001b[0m | \u001b[36mvif.falcon.edition\u001b[0m:\u001b[36mmodify_code\u001b[0m:\u001b[36m62\u001b[0m - \u001b[1mApplying modifications CodeEdit(start=8, end=9, content='  \\\\node[regular polygon, regular polygon sides=3, minimum size=3cm, fill=green!30] at (0,0) {};'),CodeEdit(start=9, end=10, content='  \\\\node[circle, minimum size=2cm, fill=red!30] at (3,0.25) {};')\u001b[0m\n",
      "\u001b[32m2025-08-13 14:42:08.368\u001b[0m | \u001b[1mINFO    \u001b[0m | \u001b[36mvif.falcon.edition\u001b[0m:\u001b[36mcustomize\u001b[0m:\u001b[36m142\u001b[0m - \u001b[1mcode edited:\n",
      "\\documentclass[tikz,border=5]{standalone}\n",
      "\\usepackage{tikz}\n",
      "\\usetikzlibrary{shapes}\n",
      "\n",
      "\\begin{document}\n",
      "\n",
      "\\begin{tikzpicture}\n",
      "  \\node[regular polygon, regular polygon sides=3, minimum size=3cm, fill=green!30] at (0,0) {};\n",
      "  \\node[circle, minimum size=2cm, fill=red!30] at (3,0.25) {};\n",
      "  \\node[rectangle, minimum size=2cm, fill=blue!30] at (1.5,2.5) {};\n",
      "\\end{tikzpicture}\n",
      "\\end{document}\u001b[0m\n",
      "\u001b[32m2025-08-13 14:42:08.673\u001b[0m | \u001b[1mINFO    \u001b[0m | \u001b[36mvif.falcon.oracle.guided_oracle.guided_code_oracle\u001b[0m:\u001b[36moracle\u001b[0m:\u001b[36m124\u001b[0m - \u001b[1msegmenting original image\u001b[0m\n",
      "\u001b[32m2025-08-13 14:42:08.674\u001b[0m | \u001b[1mINFO    \u001b[0m | \u001b[36mvif.utils.detection_utils\u001b[0m:\u001b[36mget_segmentation_masks\u001b[0m:\u001b[36m72\u001b[0m - \u001b[1mGetting masks for features : triangle,circle\u001b[0m\n",
      "\u001b[32m2025-08-13 14:42:11.015\u001b[0m | \u001b[31m\u001b[1mERROR   \u001b[0m | \u001b[36mvif.utils.detection_utils\u001b[0m:\u001b[36mget_segmentation_masks\u001b[0m:\u001b[36m97\u001b[0m - \u001b[31m\u001b[1mError while generating masks: response is Nonesdk_http_response=HttpResponse(\n",
      "  headers=<dict len=11>\n",
      ") candidates=[Candidate(\n",
      "  content=Content(\n",
      "    role='model'\n",
      "  ),\n",
      "  finish_reason=<FinishReason.STOP: 'STOP'>,\n",
      "  index=0\n",
      ")] create_time=None response_id=None model_version='gemini-2.5-pro' prompt_feedback=None usage_metadata=GenerateContentResponseUsageMetadata(\n",
      "  prompt_token_count=335,\n",
      "  prompt_tokens_details=[\n",
      "    ModalityTokenCount(\n",
      "      modality=<MediaModality.TEXT: 'TEXT'>,\n",
      "      token_count=77\n",
      "    ),\n",
      "    ModalityTokenCount(\n",
      "      modality=<MediaModality.IMAGE: 'IMAGE'>,\n",
      "      token_count=258\n",
      "    ),\n",
      "  ],\n",
      "  thoughts_token_count=13,\n",
      "  total_token_count=348\n",
      ") automatic_function_calling_history=[] parsed=None\u001b[0m\n",
      "\u001b[32m2025-08-13 14:42:11.016\u001b[0m | \u001b[1mINFO    \u001b[0m | \u001b[36mvif.utils.detection_utils\u001b[0m:\u001b[36mget_segmentation_masks\u001b[0m:\u001b[36m72\u001b[0m - \u001b[1mGetting masks for features : triangle,circle\u001b[0m\n",
      "\u001b[32m2025-08-13 14:42:23.444\u001b[0m | \u001b[1mINFO    \u001b[0m | \u001b[36mvif.utils.detection_utils\u001b[0m:\u001b[36mget_segmentation_masks\u001b[0m:\u001b[36m102\u001b[0m - \u001b[1mLLM segmentation response: ```json\n",
      "[\n",
      "  {\"box_2d\": [474, 30, 961, 490], \"mask\": \"data:image/png;base64,iVBORw0KGgoAAAANSUhEUgAAAQAAAAEACAAAAAB5Gfe6AAACFklEQVR42u3WQWoDQRRDwb7/pcsQ8M7ghJjEnifdQDX6Q5/zn/GVU4176v2jAsQF1AXEBQxgAGkA4gIDiAOIA3iYAQwgXX8AHQFxAQOIC9QBDKAtIA7gGYA4gAHU+19bgLhAHYC2gAG0BQwgLlAHIC5QB6AtQFxAXMAA2gIGEBeoAxAXqAMYQFxAXMAA2gLaAH4LoP39P19AXEAcgLhAHYC4gLiAOsAWEJ8AcQFxAeICdQDaAgbQFiAuUAegLWAAbQDiAnUAA2gL0BYwgLaAAbQFDKAtQFxAXIC4wPq3BWgLqAOcAcQFSAvQBjCAtoA4ABNoC4gDEBeoA4gD0BYwgDjATmAAbQFxAOICdQDiAuoC4gLiAMQF6gDEBeoAtAXUAd6MYCegfQF/vgHiAnUAA2gLGECcoA5gAG0BA2gD0BYQB3AGEAcQvwFxAeICdQADiAuoC9QBaAsYQFygDkBbwAAGUBbwcRlAvP+LBeoAxAUGUBeoAxAXGEAcQByAuIC6wADiAKQFGMAAygIGMIA2QR2AtgBxAVtAW4C4QB3AANoCBjCAsoDLJQ+g3n8ABjCAdv+fCNQBxAFcNwMYwADS/dX7f0tgAHEA4gIDiAMQF6gDEBeoA9AWIC5gAus/gLKAOIABtAWICwygLlAHIC5QB6AtYABtATaB9d8JlAXEBcQBDKAtQFvAAAaQFjCAAcR/AnmA+DvgBlV1ghJQTrC3AAAAAElFTkSuQmCC\", \"label\": \"triangle\"},\n",
      "  {\"box_2d\": [525, 612, 961, 967], \"mask\": \"data:image/png;base64,iVBORw0KGgoAAAANSUhEUgAAAQAAAAEACAAAAAB5Gfe6AAACVUlEQVR42u3d0akjQRTE0Mo/aW0E78frmemxVBnoYDAG03dr94+/5y3/cQU+mTr+ZxD4/8nzX2zANzfE8e/7GHDV5PmvIODyyfNPNuDGyfMP/FrkicnzzyHgydn7nyfg+cnznyTgnNn7nxDgtNn7byYAtQDHTp5/jwC4BcAtAG4BcAvwktn7rxIAtwDvmr0fe/+3BcAtAG4BcAuAWwDcAuAWALcAyAWQCyAH4Ddm78fe/6kAyAWQC4BbgADcAsgBQC6AXAA5AMgF7ADgFiAAuQByAZAL2AHALYAcgADkAsgFCMAtgByAAOQCdgACcAsQgFzADgByATsAAQTgFrADEIBbgAACUAsQQAABmAFALhBAAAGoAQhALhBAAG4AAgggALVAAAEEEEAAYgACCCCAAAIIIIAAAggggAD6NRhAAAEEEEAAAQQg6g+gv8gEEEAAAagB+rd4AAEE4AZYAAEEoO4PYAHI+wNYAAEEoO7vLbEA7P09qRmAvb93hQPQP64egL2/CxMdWVkAAbj7uzWmPzYXQBcn9QD6o7O/L9Dd5U6PByAWmBxgkwvYATa5wOQCC8AtMDnAJheYXGBygM0tsMkF7ACbW2BzC0wOsMkFJhfY3AKbW2BzC2xugU0uIAfY92bvfyXBJheYW2AXzN7/JoHNLbC5BXbl7P0vENjUArth9v6TCTa1wO6cvf9Agd0+e/9RAnto9v5DBPbo5PnPE2xugZ0xef5DBDts8vybCXbo5Pn3GOz4uesvNdiL5q7/PsJeOnf9dxD2E3PXf8Kw3525/cj9AyWMcl/xrP+qAAAAAElFTkSuQmCC\", \"label\": \"circle\"}\n",
      "]\n",
      "```\u001b[0m\n",
      "\u001b[32m2025-08-13 14:42:23.446\u001b[0m | \u001b[1mINFO    \u001b[0m | \u001b[36mvif.falcon.oracle.guided_oracle.guided_code_oracle\u001b[0m:\u001b[36moracle\u001b[0m:\u001b[36m129\u001b[0m - \u001b[1msegmenting customized image\u001b[0m\n",
      "\u001b[32m2025-08-13 14:42:23.447\u001b[0m | \u001b[1mINFO    \u001b[0m | \u001b[36mvif.utils.detection_utils\u001b[0m:\u001b[36mget_segmentation_masks\u001b[0m:\u001b[36m72\u001b[0m - \u001b[1mGetting masks for features : triangle,circle\u001b[0m\n",
      "\u001b[32m2025-08-13 14:42:23.511\u001b[0m | \u001b[1mINFO    \u001b[0m | \u001b[36mvif.utils.detection_utils\u001b[0m:\u001b[36mget_segmentation_masks\u001b[0m:\u001b[36m72\u001b[0m - \u001b[1mGetting masks for features : triangle,circle\u001b[0m\n",
      "\u001b[32m2025-08-13 14:42:23.561\u001b[0m | \u001b[1mINFO    \u001b[0m | \u001b[36mvif.utils.detection_utils\u001b[0m:\u001b[36mget_segmentation_masks\u001b[0m:\u001b[36m72\u001b[0m - \u001b[1mGetting masks for features : triangle,circle\u001b[0m\n",
      "Map:   0%|          | 0/2 [00:19<?, ? examples/s]\n"
     ]
    },
    {
     "ename": "ClientError",
     "evalue": "429 RESOURCE_EXHAUSTED. {'error': {'code': 429, 'message': 'You exceeded your current quota, please check your plan and billing details. For more information on this error, head to: https://ai.google.dev/gemini-api/docs/rate-limits.', 'status': 'RESOURCE_EXHAUSTED', 'details': [{'@type': 'type.googleapis.com/google.rpc.QuotaFailure', 'violations': [{'quotaMetric': 'generativelanguage.googleapis.com/generate_content_free_tier_requests', 'quotaId': 'GenerateRequestsPerMinutePerProjectPerModel-FreeTier', 'quotaDimensions': {'location': 'global', 'model': 'gemini-2.5-pro'}, 'quotaValue': '5'}]}, {'@type': 'type.googleapis.com/google.rpc.Help', 'links': [{'description': 'Learn more about Gemini API quotas', 'url': 'https://ai.google.dev/gemini-api/docs/rate-limits'}]}, {'@type': 'type.googleapis.com/google.rpc.RetryInfo', 'retryDelay': '36s'}]}}",
     "output_type": "error",
     "traceback": [
      "\u001b[31m---------------------------------------------------------------------------\u001b[39m",
      "\u001b[31mClientError\u001b[39m                               Traceback (most recent call last)",
      "\u001b[36mCell\u001b[39m\u001b[36m \u001b[39m\u001b[32mIn[4]\u001b[39m\u001b[32m, line 5\u001b[39m\n\u001b[32m      1\u001b[39m \u001b[38;5;28;01mdef\u001b[39;00m\u001b[38;5;250m \u001b[39m\u001b[34mrun_apply_instruction\u001b[39m(row):\n\u001b[32m      2\u001b[39m     agent.apply_instruction(row[\u001b[33m\"\u001b[39m\u001b[33mcode\u001b[39m\u001b[33m\"\u001b[39m],row[\u001b[33m\"\u001b[39m\u001b[33minstruction\u001b[39m\u001b[33m\"\u001b[39m],row[\u001b[33m\"\u001b[39m\u001b[33mid\u001b[39m\u001b[33m\"\u001b[39m])\n\u001b[32m----> \u001b[39m\u001b[32m5\u001b[39m \u001b[43mds\u001b[49m\u001b[43m.\u001b[49m\u001b[43mmap\u001b[49m\u001b[43m(\u001b[49m\u001b[43mrun_apply_instruction\u001b[49m\u001b[43m)\u001b[49m\n",
      "\u001b[36mFile \u001b[39m\u001b[32m~/Documents/AI/VIFagent/.venv/lib/python3.12/site-packages/datasets/arrow_dataset.py:557\u001b[39m, in \u001b[36mtransmit_format.<locals>.wrapper\u001b[39m\u001b[34m(*args, **kwargs)\u001b[39m\n\u001b[32m    550\u001b[39m self_format = {\n\u001b[32m    551\u001b[39m     \u001b[33m\"\u001b[39m\u001b[33mtype\u001b[39m\u001b[33m\"\u001b[39m: \u001b[38;5;28mself\u001b[39m._format_type,\n\u001b[32m    552\u001b[39m     \u001b[33m\"\u001b[39m\u001b[33mformat_kwargs\u001b[39m\u001b[33m\"\u001b[39m: \u001b[38;5;28mself\u001b[39m._format_kwargs,\n\u001b[32m    553\u001b[39m     \u001b[33m\"\u001b[39m\u001b[33mcolumns\u001b[39m\u001b[33m\"\u001b[39m: \u001b[38;5;28mself\u001b[39m._format_columns,\n\u001b[32m    554\u001b[39m     \u001b[33m\"\u001b[39m\u001b[33moutput_all_columns\u001b[39m\u001b[33m\"\u001b[39m: \u001b[38;5;28mself\u001b[39m._output_all_columns,\n\u001b[32m    555\u001b[39m }\n\u001b[32m    556\u001b[39m \u001b[38;5;66;03m# apply actual function\u001b[39;00m\n\u001b[32m--> \u001b[39m\u001b[32m557\u001b[39m out: Union[\u001b[33m\"\u001b[39m\u001b[33mDataset\u001b[39m\u001b[33m\"\u001b[39m, \u001b[33m\"\u001b[39m\u001b[33mDatasetDict\u001b[39m\u001b[33m\"\u001b[39m] = \u001b[43mfunc\u001b[49m\u001b[43m(\u001b[49m\u001b[38;5;28;43mself\u001b[39;49m\u001b[43m,\u001b[49m\u001b[43m \u001b[49m\u001b[43m*\u001b[49m\u001b[43margs\u001b[49m\u001b[43m,\u001b[49m\u001b[43m \u001b[49m\u001b[43m*\u001b[49m\u001b[43m*\u001b[49m\u001b[43mkwargs\u001b[49m\u001b[43m)\u001b[49m\n\u001b[32m    558\u001b[39m datasets: \u001b[38;5;28mlist\u001b[39m[\u001b[33m\"\u001b[39m\u001b[33mDataset\u001b[39m\u001b[33m\"\u001b[39m] = \u001b[38;5;28mlist\u001b[39m(out.values()) \u001b[38;5;28;01mif\u001b[39;00m \u001b[38;5;28misinstance\u001b[39m(out, \u001b[38;5;28mdict\u001b[39m) \u001b[38;5;28;01melse\u001b[39;00m [out]\n\u001b[32m    559\u001b[39m \u001b[38;5;66;03m# re-apply format to the output\u001b[39;00m\n",
      "\u001b[36mFile \u001b[39m\u001b[32m~/Documents/AI/VIFagent/.venv/lib/python3.12/site-packages/datasets/arrow_dataset.py:3079\u001b[39m, in \u001b[36mDataset.map\u001b[39m\u001b[34m(self, function, with_indices, with_rank, input_columns, batched, batch_size, drop_last_batch, remove_columns, keep_in_memory, load_from_cache_file, cache_file_name, writer_batch_size, features, disable_nullable, fn_kwargs, num_proc, suffix_template, new_fingerprint, desc, try_original_type)\u001b[39m\n\u001b[32m   3073\u001b[39m \u001b[38;5;28;01mif\u001b[39;00m transformed_dataset \u001b[38;5;129;01mis\u001b[39;00m \u001b[38;5;28;01mNone\u001b[39;00m:\n\u001b[32m   3074\u001b[39m     \u001b[38;5;28;01mwith\u001b[39;00m hf_tqdm(\n\u001b[32m   3075\u001b[39m         unit=\u001b[33m\"\u001b[39m\u001b[33m examples\u001b[39m\u001b[33m\"\u001b[39m,\n\u001b[32m   3076\u001b[39m         total=pbar_total,\n\u001b[32m   3077\u001b[39m         desc=desc \u001b[38;5;129;01mor\u001b[39;00m \u001b[33m\"\u001b[39m\u001b[33mMap\u001b[39m\u001b[33m\"\u001b[39m,\n\u001b[32m   3078\u001b[39m     ) \u001b[38;5;28;01mas\u001b[39;00m pbar:\n\u001b[32m-> \u001b[39m\u001b[32m3079\u001b[39m \u001b[43m        \u001b[49m\u001b[38;5;28;43;01mfor\u001b[39;49;00m\u001b[43m \u001b[49m\u001b[43mrank\u001b[49m\u001b[43m,\u001b[49m\u001b[43m \u001b[49m\u001b[43mdone\u001b[49m\u001b[43m,\u001b[49m\u001b[43m \u001b[49m\u001b[43mcontent\u001b[49m\u001b[43m \u001b[49m\u001b[38;5;129;43;01min\u001b[39;49;00m\u001b[43m \u001b[49m\u001b[43mDataset\u001b[49m\u001b[43m.\u001b[49m\u001b[43m_map_single\u001b[49m\u001b[43m(\u001b[49m\u001b[43m*\u001b[49m\u001b[43m*\u001b[49m\u001b[43mdataset_kwargs\u001b[49m\u001b[43m)\u001b[49m\u001b[43m:\u001b[49m\n\u001b[32m   3080\u001b[39m \u001b[43m            \u001b[49m\u001b[38;5;28;43;01mif\u001b[39;49;00m\u001b[43m \u001b[49m\u001b[43mdone\u001b[49m\u001b[43m:\u001b[49m\n\u001b[32m   3081\u001b[39m \u001b[43m                \u001b[49m\u001b[43mshards_done\u001b[49m\u001b[43m \u001b[49m\u001b[43m+\u001b[49m\u001b[43m=\u001b[49m\u001b[43m \u001b[49m\u001b[32;43m1\u001b[39;49m\n",
      "\u001b[36mFile \u001b[39m\u001b[32m~/Documents/AI/VIFagent/.venv/lib/python3.12/site-packages/datasets/arrow_dataset.py:3501\u001b[39m, in \u001b[36mDataset._map_single\u001b[39m\u001b[34m(shard, function, with_indices, with_rank, input_columns, batched, batch_size, drop_last_batch, remove_columns, keep_in_memory, cache_file_name, writer_batch_size, features, disable_nullable, fn_kwargs, new_fingerprint, rank, offset, try_original_type)\u001b[39m\n\u001b[32m   3499\u001b[39m \u001b[38;5;28;01mif\u001b[39;00m \u001b[38;5;129;01mnot\u001b[39;00m batched:\n\u001b[32m   3500\u001b[39m     _time = time.time()\n\u001b[32m-> \u001b[39m\u001b[32m3501\u001b[39m \u001b[43m    \u001b[49m\u001b[38;5;28;43;01mfor\u001b[39;49;00m\u001b[43m \u001b[49m\u001b[43mi\u001b[49m\u001b[43m,\u001b[49m\u001b[43m \u001b[49m\u001b[43mexample\u001b[49m\u001b[43m \u001b[49m\u001b[38;5;129;43;01min\u001b[39;49;00m\u001b[43m \u001b[49m\u001b[43miter_outputs\u001b[49m\u001b[43m(\u001b[49m\u001b[43mshard_iterable\u001b[49m\u001b[43m)\u001b[49m\u001b[43m:\u001b[49m\n\u001b[32m   3502\u001b[39m \u001b[43m        \u001b[49m\u001b[38;5;28;43;01mif\u001b[39;49;00m\u001b[43m \u001b[49m\u001b[43mupdate_data\u001b[49m\u001b[43m:\u001b[49m\n\u001b[32m   3503\u001b[39m \u001b[43m            \u001b[49m\u001b[38;5;28;43;01mif\u001b[39;49;00m\u001b[43m \u001b[49m\u001b[43mi\u001b[49m\u001b[43m \u001b[49m\u001b[43m==\u001b[49m\u001b[43m \u001b[49m\u001b[32;43m0\u001b[39;49m\u001b[43m:\u001b[49m\n",
      "\u001b[36mFile \u001b[39m\u001b[32m~/Documents/AI/VIFagent/.venv/lib/python3.12/site-packages/datasets/arrow_dataset.py:3475\u001b[39m, in \u001b[36mDataset._map_single.<locals>.iter_outputs\u001b[39m\u001b[34m(shard_iterable)\u001b[39m\n\u001b[32m   3473\u001b[39m \u001b[38;5;28;01melse\u001b[39;00m:\n\u001b[32m   3474\u001b[39m     \u001b[38;5;28;01mfor\u001b[39;00m i, example \u001b[38;5;129;01min\u001b[39;00m shard_iterable:\n\u001b[32m-> \u001b[39m\u001b[32m3475\u001b[39m         \u001b[38;5;28;01myield\u001b[39;00m i, \u001b[43mapply_function\u001b[49m\u001b[43m(\u001b[49m\u001b[43mexample\u001b[49m\u001b[43m,\u001b[49m\u001b[43m \u001b[49m\u001b[43mi\u001b[49m\u001b[43m,\u001b[49m\u001b[43m \u001b[49m\u001b[43moffset\u001b[49m\u001b[43m=\u001b[49m\u001b[43moffset\u001b[49m\u001b[43m)\u001b[49m\n",
      "\u001b[36mFile \u001b[39m\u001b[32m~/Documents/AI/VIFagent/.venv/lib/python3.12/site-packages/datasets/arrow_dataset.py:3398\u001b[39m, in \u001b[36mDataset._map_single.<locals>.apply_function\u001b[39m\u001b[34m(pa_inputs, indices, offset)\u001b[39m\n\u001b[32m   3396\u001b[39m \u001b[38;5;250m\u001b[39m\u001b[33;03m\"\"\"Utility to apply the function on a selection of columns.\"\"\"\u001b[39;00m\n\u001b[32m   3397\u001b[39m inputs, fn_args, additional_args, fn_kwargs = prepare_inputs(pa_inputs, indices, offset=offset)\n\u001b[32m-> \u001b[39m\u001b[32m3398\u001b[39m processed_inputs = \u001b[43mfunction\u001b[49m\u001b[43m(\u001b[49m\u001b[43m*\u001b[49m\u001b[43mfn_args\u001b[49m\u001b[43m,\u001b[49m\u001b[43m \u001b[49m\u001b[43m*\u001b[49m\u001b[43madditional_args\u001b[49m\u001b[43m,\u001b[49m\u001b[43m \u001b[49m\u001b[43m*\u001b[49m\u001b[43m*\u001b[49m\u001b[43mfn_kwargs\u001b[49m\u001b[43m)\u001b[49m\n\u001b[32m   3399\u001b[39m \u001b[38;5;28;01mreturn\u001b[39;00m prepare_outputs(pa_inputs, inputs, processed_inputs)\n",
      "\u001b[36mCell\u001b[39m\u001b[36m \u001b[39m\u001b[32mIn[4]\u001b[39m\u001b[32m, line 2\u001b[39m, in \u001b[36mrun_apply_instruction\u001b[39m\u001b[34m(row)\u001b[39m\n\u001b[32m      1\u001b[39m \u001b[38;5;28;01mdef\u001b[39;00m\u001b[38;5;250m \u001b[39m\u001b[34mrun_apply_instruction\u001b[39m(row):\n\u001b[32m----> \u001b[39m\u001b[32m2\u001b[39m     \u001b[43magent\u001b[49m\u001b[43m.\u001b[49m\u001b[43mapply_instruction\u001b[49m\u001b[43m(\u001b[49m\u001b[43mrow\u001b[49m\u001b[43m[\u001b[49m\u001b[33;43m\"\u001b[39;49m\u001b[33;43mcode\u001b[39;49m\u001b[33;43m\"\u001b[39;49m\u001b[43m]\u001b[49m\u001b[43m,\u001b[49m\u001b[43mrow\u001b[49m\u001b[43m[\u001b[49m\u001b[33;43m\"\u001b[39;49m\u001b[33;43minstruction\u001b[39;49m\u001b[33;43m\"\u001b[39;49m\u001b[43m]\u001b[49m\u001b[43m,\u001b[49m\u001b[43mrow\u001b[49m\u001b[43m[\u001b[49m\u001b[33;43m\"\u001b[39;49m\u001b[33;43mid\u001b[39;49m\u001b[33;43m\"\u001b[39;49m\u001b[43m]\u001b[49m\u001b[43m)\u001b[49m\n",
      "\u001b[36mFile \u001b[39m\u001b[32m~/Documents/AI/VIFagent/vif/falcon/falcon.py:99\u001b[39m, in \u001b[36mFalcon.apply_instruction\u001b[39m\u001b[34m(self, code, instruction, optional_id)\u001b[39m\n\u001b[32m     94\u001b[39m \u001b[38;5;28;01mexcept\u001b[39;00m \u001b[38;5;167;01mAttributeError\u001b[39;00m \u001b[38;5;28;01mas\u001b[39;00m ae:\n\u001b[32m     95\u001b[39m     logger.error(\n\u001b[32m     96\u001b[39m         \u001b[33mf\u001b[39m\u001b[33m\"\u001b[39m\u001b[33mFatal error during oracle generation, oracle is none \u001b[39m\u001b[38;5;132;01m{\u001b[39;00m\u001b[38;5;28mstr\u001b[39m(ae)\u001b[38;5;132;01m}\u001b[39;00m\u001b[33m\"\u001b[39m\n\u001b[32m     97\u001b[39m     )\n\u001b[32m---> \u001b[39m\u001b[32m99\u001b[39m response_code = \u001b[38;5;28;43mself\u001b[39;49m\u001b[43m.\u001b[49m\u001b[43medition_module\u001b[49m\u001b[43m.\u001b[49m\u001b[43mcustomize\u001b[49m\u001b[43m(\u001b[49m\n\u001b[32m    100\u001b[39m \u001b[43m    \u001b[49m\u001b[43minstruction\u001b[49m\u001b[43m,\u001b[49m\u001b[43m \u001b[49m\u001b[43mcode\u001b[49m\u001b[43m,\u001b[49m\u001b[43m \u001b[49m\u001b[43moracle\u001b[49m\u001b[43m,\u001b[49m\u001b[43m \u001b[49m\u001b[43moptional_id\u001b[49m\n\u001b[32m    101\u001b[39m \u001b[43m\u001b[49m\u001b[43m)\u001b[49m\n\u001b[32m    103\u001b[39m \u001b[38;5;28;01mwith\u001b[39;00m \u001b[38;5;28mopen\u001b[39m(\n\u001b[32m    104\u001b[39m     os.path.join(\u001b[38;5;28mself\u001b[39m.observe_folder, \u001b[38;5;28mself\u001b[39m.ds_stored_name), \u001b[33m\"\u001b[39m\u001b[33mwb\u001b[39m\u001b[33m\"\u001b[39m\n\u001b[32m    105\u001b[39m ) \u001b[38;5;28;01mas\u001b[39;00m obsfile:\n\u001b[32m    106\u001b[39m     pickle.dump(\u001b[38;5;28mself\u001b[39m.edition_module.observe_list, obsfile)\n",
      "\u001b[36mFile \u001b[39m\u001b[32m~/Documents/AI/VIFagent/vif/falcon/edition.py:146\u001b[39m, in \u001b[36mOracleEditionModule.customize\u001b[39m\u001b[34m(self, instruction, code, oracle, optional_id)\u001b[39m\n\u001b[32m    143\u001b[39m \u001b[38;5;28;01mtry\u001b[39;00m:\n\u001b[32m    144\u001b[39m     edited_image = \u001b[38;5;28mself\u001b[39m.code_renderer(edited_code)\n\u001b[32m--> \u001b[39m\u001b[32m146\u001b[39m     oracle_response = \u001b[43moracle\u001b[49m\u001b[43m(\u001b[49m\u001b[43medited_image\u001b[49m\u001b[43m)\u001b[49m\n\u001b[32m    147\u001b[39m     report = (\n\u001b[32m    148\u001b[39m         \u001b[33m\"\u001b[39m\u001b[33mHere is the code after modification:\u001b[39m\u001b[33m\"\u001b[39m\n\u001b[32m    149\u001b[39m         + \u001b[33m\"\u001b[39m\u001b[38;5;130;01m\\n\u001b[39;00m\u001b[33m\"\u001b[39m\n\u001b[32m   (...)\u001b[39m\u001b[32m    153\u001b[39m         + \u001b[33m\"\u001b[39m\u001b[38;5;130;01m\\n\u001b[39;00m\u001b[33m\"\u001b[39m.join(oracle_response.feedbacks)\n\u001b[32m    154\u001b[39m     )\n\u001b[32m    155\u001b[39m     error_type = \u001b[33m\"\u001b[39m\u001b[33mOracle\u001b[39m\u001b[33m\"\u001b[39m\n",
      "\u001b[36mFile \u001b[39m\u001b[32m~/Documents/AI/VIFagent/vif/falcon/oracle/guided_oracle/guided_code_oracle.py:130\u001b[39m, in \u001b[36mOracleGuidedCodeModule.get_oracle.<locals>.oracle\u001b[39m\u001b[34m(image)\u001b[39m\n\u001b[32m    126\u001b[39m original_detected_segs = \u001b[38;5;28mself\u001b[39m.segments_from_features(\n\u001b[32m    127\u001b[39m     FeatureHolder.feature_set, base_image, \u001b[38;5;28;01mTrue\u001b[39;00m\n\u001b[32m    128\u001b[39m )\n\u001b[32m    129\u001b[39m logger.info(\u001b[33m\"\u001b[39m\u001b[33msegmenting customized image\u001b[39m\u001b[33m\"\u001b[39m)\n\u001b[32m--> \u001b[39m\u001b[32m130\u001b[39m custom_detected_segs = \u001b[38;5;28;43mself\u001b[39;49m\u001b[43m.\u001b[49m\u001b[43msegments_from_features\u001b[49m\u001b[43m(\u001b[49m\n\u001b[32m    131\u001b[39m \u001b[43m    \u001b[49m\u001b[43mFeatureHolder\u001b[49m\u001b[43m.\u001b[49m\u001b[43mfeature_set\u001b[49m\u001b[43m,\u001b[49m\u001b[43m \u001b[49m\u001b[43mimage\u001b[49m\n\u001b[32m    132\u001b[39m \u001b[43m\u001b[49m\u001b[43m)\u001b[49m\n\u001b[32m    134\u001b[39m result, feedbacks = expression.evaluate(\n\u001b[32m    135\u001b[39m     original_detected_segs, custom_detected_segs, base_image, image\n\u001b[32m    136\u001b[39m )\n\u001b[32m    137\u001b[39m \u001b[38;5;28;01mreturn\u001b[39;00m OracleResponse(result, feedbacks, evaluation_code=oracle_code)\n",
      "\u001b[36mFile \u001b[39m\u001b[32m~/Documents/AI/VIFagent/.venv/lib/python3.12/site-packages/tenacity/__init__.py:336\u001b[39m, in \u001b[36mBaseRetrying.wraps.<locals>.wrapped_f\u001b[39m\u001b[34m(*args, **kw)\u001b[39m\n\u001b[32m    334\u001b[39m copy = \u001b[38;5;28mself\u001b[39m.copy()\n\u001b[32m    335\u001b[39m wrapped_f.statistics = copy.statistics  \u001b[38;5;66;03m# type: ignore[attr-defined]\u001b[39;00m\n\u001b[32m--> \u001b[39m\u001b[32m336\u001b[39m \u001b[38;5;28;01mreturn\u001b[39;00m \u001b[43mcopy\u001b[49m\u001b[43m(\u001b[49m\u001b[43mf\u001b[49m\u001b[43m,\u001b[49m\u001b[43m \u001b[49m\u001b[43m*\u001b[49m\u001b[43margs\u001b[49m\u001b[43m,\u001b[49m\u001b[43m \u001b[49m\u001b[43m*\u001b[49m\u001b[43m*\u001b[49m\u001b[43mkw\u001b[49m\u001b[43m)\u001b[49m\n",
      "\u001b[36mFile \u001b[39m\u001b[32m~/Documents/AI/VIFagent/.venv/lib/python3.12/site-packages/tenacity/__init__.py:475\u001b[39m, in \u001b[36mRetrying.__call__\u001b[39m\u001b[34m(self, fn, *args, **kwargs)\u001b[39m\n\u001b[32m    473\u001b[39m retry_state = RetryCallState(retry_object=\u001b[38;5;28mself\u001b[39m, fn=fn, args=args, kwargs=kwargs)\n\u001b[32m    474\u001b[39m \u001b[38;5;28;01mwhile\u001b[39;00m \u001b[38;5;28;01mTrue\u001b[39;00m:\n\u001b[32m--> \u001b[39m\u001b[32m475\u001b[39m     do = \u001b[38;5;28;43mself\u001b[39;49m\u001b[43m.\u001b[49m\u001b[43miter\u001b[49m\u001b[43m(\u001b[49m\u001b[43mretry_state\u001b[49m\u001b[43m=\u001b[49m\u001b[43mretry_state\u001b[49m\u001b[43m)\u001b[49m\n\u001b[32m    476\u001b[39m     \u001b[38;5;28;01mif\u001b[39;00m \u001b[38;5;28misinstance\u001b[39m(do, DoAttempt):\n\u001b[32m    477\u001b[39m         \u001b[38;5;28;01mtry\u001b[39;00m:\n",
      "\u001b[36mFile \u001b[39m\u001b[32m~/Documents/AI/VIFagent/.venv/lib/python3.12/site-packages/tenacity/__init__.py:376\u001b[39m, in \u001b[36mBaseRetrying.iter\u001b[39m\u001b[34m(self, retry_state)\u001b[39m\n\u001b[32m    374\u001b[39m result = \u001b[38;5;28;01mNone\u001b[39;00m\n\u001b[32m    375\u001b[39m \u001b[38;5;28;01mfor\u001b[39;00m action \u001b[38;5;129;01min\u001b[39;00m \u001b[38;5;28mself\u001b[39m.iter_state.actions:\n\u001b[32m--> \u001b[39m\u001b[32m376\u001b[39m     result = \u001b[43maction\u001b[49m\u001b[43m(\u001b[49m\u001b[43mretry_state\u001b[49m\u001b[43m)\u001b[49m\n\u001b[32m    377\u001b[39m \u001b[38;5;28;01mreturn\u001b[39;00m result\n",
      "\u001b[36mFile \u001b[39m\u001b[32m~/Documents/AI/VIFagent/.venv/lib/python3.12/site-packages/tenacity/__init__.py:418\u001b[39m, in \u001b[36mBaseRetrying._post_stop_check_actions.<locals>.exc_check\u001b[39m\u001b[34m(rs)\u001b[39m\n\u001b[32m    416\u001b[39m retry_exc = \u001b[38;5;28mself\u001b[39m.retry_error_cls(fut)\n\u001b[32m    417\u001b[39m \u001b[38;5;28;01mif\u001b[39;00m \u001b[38;5;28mself\u001b[39m.reraise:\n\u001b[32m--> \u001b[39m\u001b[32m418\u001b[39m     \u001b[38;5;28;01mraise\u001b[39;00m \u001b[43mretry_exc\u001b[49m\u001b[43m.\u001b[49m\u001b[43mreraise\u001b[49m\u001b[43m(\u001b[49m\u001b[43m)\u001b[49m\n\u001b[32m    419\u001b[39m \u001b[38;5;28;01mraise\u001b[39;00m retry_exc \u001b[38;5;28;01mfrom\u001b[39;00m\u001b[38;5;250m \u001b[39m\u001b[34;01mfut\u001b[39;00m\u001b[34;01m.\u001b[39;00m\u001b[34;01mexception\u001b[39;00m()\n",
      "\u001b[36mFile \u001b[39m\u001b[32m~/Documents/AI/VIFagent/.venv/lib/python3.12/site-packages/tenacity/__init__.py:185\u001b[39m, in \u001b[36mRetryError.reraise\u001b[39m\u001b[34m(self)\u001b[39m\n\u001b[32m    183\u001b[39m \u001b[38;5;28;01mdef\u001b[39;00m\u001b[38;5;250m \u001b[39m\u001b[34mreraise\u001b[39m(\u001b[38;5;28mself\u001b[39m) -> t.NoReturn:\n\u001b[32m    184\u001b[39m     \u001b[38;5;28;01mif\u001b[39;00m \u001b[38;5;28mself\u001b[39m.last_attempt.failed:\n\u001b[32m--> \u001b[39m\u001b[32m185\u001b[39m         \u001b[38;5;28;01mraise\u001b[39;00m \u001b[38;5;28;43mself\u001b[39;49m\u001b[43m.\u001b[49m\u001b[43mlast_attempt\u001b[49m\u001b[43m.\u001b[49m\u001b[43mresult\u001b[49m\u001b[43m(\u001b[49m\u001b[43m)\u001b[49m\n\u001b[32m    186\u001b[39m     \u001b[38;5;28;01mraise\u001b[39;00m \u001b[38;5;28mself\u001b[39m\n",
      "\u001b[36mFile \u001b[39m\u001b[32m/usr/lib/python3.12/concurrent/futures/_base.py:449\u001b[39m, in \u001b[36mFuture.result\u001b[39m\u001b[34m(self, timeout)\u001b[39m\n\u001b[32m    447\u001b[39m     \u001b[38;5;28;01mraise\u001b[39;00m CancelledError()\n\u001b[32m    448\u001b[39m \u001b[38;5;28;01melif\u001b[39;00m \u001b[38;5;28mself\u001b[39m._state == FINISHED:\n\u001b[32m--> \u001b[39m\u001b[32m449\u001b[39m     \u001b[38;5;28;01mreturn\u001b[39;00m \u001b[38;5;28;43mself\u001b[39;49m\u001b[43m.\u001b[49m\u001b[43m__get_result\u001b[49m\u001b[43m(\u001b[49m\u001b[43m)\u001b[49m\n\u001b[32m    451\u001b[39m \u001b[38;5;28mself\u001b[39m._condition.wait(timeout)\n\u001b[32m    453\u001b[39m \u001b[38;5;28;01mif\u001b[39;00m \u001b[38;5;28mself\u001b[39m._state \u001b[38;5;129;01min\u001b[39;00m [CANCELLED, CANCELLED_AND_NOTIFIED]:\n",
      "\u001b[36mFile \u001b[39m\u001b[32m/usr/lib/python3.12/concurrent/futures/_base.py:401\u001b[39m, in \u001b[36mFuture.__get_result\u001b[39m\u001b[34m(self)\u001b[39m\n\u001b[32m    399\u001b[39m \u001b[38;5;28;01mif\u001b[39;00m \u001b[38;5;28mself\u001b[39m._exception:\n\u001b[32m    400\u001b[39m     \u001b[38;5;28;01mtry\u001b[39;00m:\n\u001b[32m--> \u001b[39m\u001b[32m401\u001b[39m         \u001b[38;5;28;01mraise\u001b[39;00m \u001b[38;5;28mself\u001b[39m._exception\n\u001b[32m    402\u001b[39m     \u001b[38;5;28;01mfinally\u001b[39;00m:\n\u001b[32m    403\u001b[39m         \u001b[38;5;66;03m# Break a reference cycle with the exception in self._exception\u001b[39;00m\n\u001b[32m    404\u001b[39m         \u001b[38;5;28mself\u001b[39m = \u001b[38;5;28;01mNone\u001b[39;00m\n",
      "\u001b[36mFile \u001b[39m\u001b[32m~/Documents/AI/VIFagent/.venv/lib/python3.12/site-packages/tenacity/__init__.py:478\u001b[39m, in \u001b[36mRetrying.__call__\u001b[39m\u001b[34m(self, fn, *args, **kwargs)\u001b[39m\n\u001b[32m    476\u001b[39m \u001b[38;5;28;01mif\u001b[39;00m \u001b[38;5;28misinstance\u001b[39m(do, DoAttempt):\n\u001b[32m    477\u001b[39m     \u001b[38;5;28;01mtry\u001b[39;00m:\n\u001b[32m--> \u001b[39m\u001b[32m478\u001b[39m         result = \u001b[43mfn\u001b[49m\u001b[43m(\u001b[49m\u001b[43m*\u001b[49m\u001b[43margs\u001b[49m\u001b[43m,\u001b[49m\u001b[43m \u001b[49m\u001b[43m*\u001b[49m\u001b[43m*\u001b[49m\u001b[43mkwargs\u001b[49m\u001b[43m)\u001b[49m\n\u001b[32m    479\u001b[39m     \u001b[38;5;28;01mexcept\u001b[39;00m \u001b[38;5;167;01mBaseException\u001b[39;00m:  \u001b[38;5;66;03m# noqa: B902\u001b[39;00m\n\u001b[32m    480\u001b[39m         retry_state.set_exception(sys.exc_info())  \u001b[38;5;66;03m# type: ignore[arg-type]\u001b[39;00m\n",
      "\u001b[36mFile \u001b[39m\u001b[32m~/Documents/AI/VIFagent/vif/falcon/oracle/guided_oracle/guided_code_oracle.py:157\u001b[39m, in \u001b[36mOracleGuidedCodeModule.segments_from_features\u001b[39m\u001b[34m(self, features, image, is_base_image)\u001b[39m\n\u001b[32m    155\u001b[39m segments = []\n\u001b[32m    156\u001b[39m \u001b[38;5;28;01mif\u001b[39;00m \u001b[38;5;28mlen\u001b[39m(to_compute_features) > \u001b[32m0\u001b[39m:\n\u001b[32m--> \u001b[39m\u001b[32m157\u001b[39m     segments = \u001b[43mget_segmentation_masks\u001b[49m\u001b[43m(\u001b[49m\n\u001b[32m    158\u001b[39m \u001b[43m        \u001b[49m\u001b[43mimage\u001b[49m\u001b[43m,\u001b[49m\n\u001b[32m    159\u001b[39m \u001b[43m        \u001b[49m\u001b[38;5;28;43mself\u001b[39;49m\u001b[43m.\u001b[49m\u001b[43mvisual_client\u001b[49m\u001b[43m,\u001b[49m\n\u001b[32m    160\u001b[39m \u001b[43m        \u001b[49m\u001b[43mto_compute_features\u001b[49m\u001b[43m,\u001b[49m\n\u001b[32m    161\u001b[39m \u001b[43m        \u001b[49m\u001b[38;5;28;43mself\u001b[39;49m\u001b[43m.\u001b[49m\u001b[43mvisual_model\u001b[49m\u001b[43m,\u001b[49m\n\u001b[32m    162\u001b[39m \u001b[43m        \u001b[49m\u001b[38;5;28;43mself\u001b[39;49m\u001b[43m.\u001b[49m\u001b[43mvisual_generation_content_config\u001b[49m\u001b[43m,\u001b[49m\n\u001b[32m    163\u001b[39m \u001b[43m    \u001b[49m\u001b[43m)\u001b[49m\n\u001b[32m    164\u001b[39m \u001b[38;5;28;01mif\u001b[39;00m is_base_image:\n\u001b[32m    165\u001b[39m     segments = segments + [\n\u001b[32m    166\u001b[39m         seg \u001b[38;5;28;01mfor\u001b[39;00m feat, seg \u001b[38;5;129;01min\u001b[39;00m \u001b[38;5;28mself\u001b[39m.segmentation_cache \u001b[38;5;28;01mif\u001b[39;00m feat \u001b[38;5;129;01min\u001b[39;00m features\n\u001b[32m    167\u001b[39m     ]\n",
      "\u001b[36mFile \u001b[39m\u001b[32m~/Documents/AI/VIFagent/vif/utils/detection_utils.py:90\u001b[39m, in \u001b[36mget_segmentation_masks\u001b[39m\u001b[34m(image, client, features, model, generate_content_config)\u001b[39m\n\u001b[32m     72\u001b[39m logger.info(\u001b[33mf\u001b[39m\u001b[33m\"\u001b[39m\u001b[33mGetting masks for features : \u001b[39m\u001b[38;5;132;01m{\u001b[39;00m\u001b[33m'\u001b[39m\u001b[33m,\u001b[39m\u001b[33m'\u001b[39m.join(features)\u001b[38;5;132;01m}\u001b[39;00m\u001b[33m\"\u001b[39m)\n\u001b[32m     74\u001b[39m contents = [\n\u001b[32m     75\u001b[39m     genTypes.Content(\n\u001b[32m     76\u001b[39m         role=\u001b[33m\"\u001b[39m\u001b[33muser\u001b[39m\u001b[33m\"\u001b[39m,\n\u001b[32m   (...)\u001b[39m\u001b[32m     88\u001b[39m     ),\n\u001b[32m     89\u001b[39m ]\n\u001b[32m---> \u001b[39m\u001b[32m90\u001b[39m response = \u001b[43mclient\u001b[49m\u001b[43m.\u001b[49m\u001b[43mmodels\u001b[49m\u001b[43m.\u001b[49m\u001b[43mgenerate_content\u001b[49m\u001b[43m(\u001b[49m\n\u001b[32m     91\u001b[39m \u001b[43m    \u001b[49m\u001b[43mmodel\u001b[49m\u001b[43m=\u001b[49m\u001b[43mmodel\u001b[49m\u001b[43m,\u001b[49m\n\u001b[32m     92\u001b[39m \u001b[43m    \u001b[49m\u001b[43mcontents\u001b[49m\u001b[43m=\u001b[49m\u001b[43mcontents\u001b[49m\u001b[43m,\u001b[49m\n\u001b[32m     93\u001b[39m \u001b[43m    \u001b[49m\u001b[43mconfig\u001b[49m\u001b[43m=\u001b[49m\u001b[43mgenerate_content_config\u001b[49m\u001b[43m,\u001b[49m\n\u001b[32m     94\u001b[39m \u001b[43m\u001b[49m\u001b[43m)\u001b[49m\n\u001b[32m     95\u001b[39m pattern = \u001b[33mr\u001b[39m\u001b[33m\"\u001b[39m\u001b[33m```(?:\u001b[39m\u001b[33m\\\u001b[39m\u001b[33mw+)?\u001b[39m\u001b[33m\\\u001b[39m\u001b[33mn([\u001b[39m\u001b[33m\\\u001b[39m\u001b[33ms\u001b[39m\u001b[33m\\\u001b[39m\u001b[33mS]+?)```\u001b[39m\u001b[33m\"\u001b[39m\n\u001b[32m     96\u001b[39m \u001b[38;5;28;01mif\u001b[39;00m response.text \u001b[38;5;129;01mis\u001b[39;00m \u001b[38;5;28;01mNone\u001b[39;00m:\n",
      "\u001b[36mFile \u001b[39m\u001b[32m~/Documents/AI/VIFagent/.venv/lib/python3.12/site-packages/google/genai/models.py:5898\u001b[39m, in \u001b[36mModels.generate_content\u001b[39m\u001b[34m(self, model, contents, config)\u001b[39m\n\u001b[32m   5896\u001b[39m \u001b[38;5;28;01mwhile\u001b[39;00m remaining_remote_calls_afc > \u001b[32m0\u001b[39m:\n\u001b[32m   5897\u001b[39m   i += \u001b[32m1\u001b[39m\n\u001b[32m-> \u001b[39m\u001b[32m5898\u001b[39m   response = \u001b[38;5;28;43mself\u001b[39;49m\u001b[43m.\u001b[49m\u001b[43m_generate_content\u001b[49m\u001b[43m(\u001b[49m\n\u001b[32m   5899\u001b[39m \u001b[43m      \u001b[49m\u001b[43mmodel\u001b[49m\u001b[43m=\u001b[49m\u001b[43mmodel\u001b[49m\u001b[43m,\u001b[49m\u001b[43m \u001b[49m\u001b[43mcontents\u001b[49m\u001b[43m=\u001b[49m\u001b[43mcontents\u001b[49m\u001b[43m,\u001b[49m\u001b[43m \u001b[49m\u001b[43mconfig\u001b[49m\u001b[43m=\u001b[49m\u001b[43mparsed_config\u001b[49m\n\u001b[32m   5900\u001b[39m \u001b[43m  \u001b[49m\u001b[43m)\u001b[49m\n\u001b[32m   5901\u001b[39m   logger.info(\u001b[33mf\u001b[39m\u001b[33m'\u001b[39m\u001b[33mAFC remote call \u001b[39m\u001b[38;5;132;01m{\u001b[39;00mi\u001b[38;5;132;01m}\u001b[39;00m\u001b[33m is done.\u001b[39m\u001b[33m'\u001b[39m)\n\u001b[32m   5902\u001b[39m   remaining_remote_calls_afc -= \u001b[32m1\u001b[39m\n",
      "\u001b[36mFile \u001b[39m\u001b[32m~/Documents/AI/VIFagent/.venv/lib/python3.12/site-packages/google/genai/models.py:4838\u001b[39m, in \u001b[36mModels._generate_content\u001b[39m\u001b[34m(self, model, contents, config)\u001b[39m\n\u001b[32m   4835\u001b[39m request_dict = _common.convert_to_dict(request_dict)\n\u001b[32m   4836\u001b[39m request_dict = _common.encode_unserializable_types(request_dict)\n\u001b[32m-> \u001b[39m\u001b[32m4838\u001b[39m response = \u001b[38;5;28;43mself\u001b[39;49m\u001b[43m.\u001b[49m\u001b[43m_api_client\u001b[49m\u001b[43m.\u001b[49m\u001b[43mrequest\u001b[49m\u001b[43m(\u001b[49m\n\u001b[32m   4839\u001b[39m \u001b[43m    \u001b[49m\u001b[33;43m'\u001b[39;49m\u001b[33;43mpost\u001b[39;49m\u001b[33;43m'\u001b[39;49m\u001b[43m,\u001b[49m\u001b[43m \u001b[49m\u001b[43mpath\u001b[49m\u001b[43m,\u001b[49m\u001b[43m \u001b[49m\u001b[43mrequest_dict\u001b[49m\u001b[43m,\u001b[49m\u001b[43m \u001b[49m\u001b[43mhttp_options\u001b[49m\n\u001b[32m   4840\u001b[39m \u001b[43m\u001b[49m\u001b[43m)\u001b[49m\n\u001b[32m   4842\u001b[39m response_dict = \u001b[33m'\u001b[39m\u001b[33m'\u001b[39m \u001b[38;5;28;01mif\u001b[39;00m \u001b[38;5;129;01mnot\u001b[39;00m response.body \u001b[38;5;28;01melse\u001b[39;00m json.loads(response.body)\n\u001b[32m   4844\u001b[39m \u001b[38;5;28;01mif\u001b[39;00m \u001b[38;5;28mself\u001b[39m._api_client.vertexai:\n",
      "\u001b[36mFile \u001b[39m\u001b[32m~/Documents/AI/VIFagent/.venv/lib/python3.12/site-packages/google/genai/_api_client.py:1077\u001b[39m, in \u001b[36mBaseApiClient.request\u001b[39m\u001b[34m(self, http_method, path, request_dict, http_options)\u001b[39m\n\u001b[32m   1067\u001b[39m \u001b[38;5;28;01mdef\u001b[39;00m\u001b[38;5;250m \u001b[39m\u001b[34mrequest\u001b[39m(\n\u001b[32m   1068\u001b[39m     \u001b[38;5;28mself\u001b[39m,\n\u001b[32m   1069\u001b[39m     http_method: \u001b[38;5;28mstr\u001b[39m,\n\u001b[32m   (...)\u001b[39m\u001b[32m   1072\u001b[39m     http_options: Optional[HttpOptionsOrDict] = \u001b[38;5;28;01mNone\u001b[39;00m,\n\u001b[32m   1073\u001b[39m ) -> SdkHttpResponse:\n\u001b[32m   1074\u001b[39m   http_request = \u001b[38;5;28mself\u001b[39m._build_request(\n\u001b[32m   1075\u001b[39m       http_method, path, request_dict, http_options\n\u001b[32m   1076\u001b[39m   )\n\u001b[32m-> \u001b[39m\u001b[32m1077\u001b[39m   response = \u001b[38;5;28;43mself\u001b[39;49m\u001b[43m.\u001b[49m\u001b[43m_request\u001b[49m\u001b[43m(\u001b[49m\u001b[43mhttp_request\u001b[49m\u001b[43m,\u001b[49m\u001b[43m \u001b[49m\u001b[43mstream\u001b[49m\u001b[43m=\u001b[49m\u001b[38;5;28;43;01mFalse\u001b[39;49;00m\u001b[43m)\u001b[49m\n\u001b[32m   1078\u001b[39m   response_body = (\n\u001b[32m   1079\u001b[39m       response.response_stream[\u001b[32m0\u001b[39m] \u001b[38;5;28;01mif\u001b[39;00m response.response_stream \u001b[38;5;28;01melse\u001b[39;00m \u001b[33m'\u001b[39m\u001b[33m'\u001b[39m\n\u001b[32m   1080\u001b[39m   )\n\u001b[32m   1081\u001b[39m   \u001b[38;5;28;01mreturn\u001b[39;00m SdkHttpResponse(headers=response.headers, body=response_body)\n",
      "\u001b[36mFile \u001b[39m\u001b[32m~/Documents/AI/VIFagent/.venv/lib/python3.12/site-packages/google/genai/_api_client.py:968\u001b[39m, in \u001b[36mBaseApiClient._request\u001b[39m\u001b[34m(self, http_request, stream)\u001b[39m\n\u001b[32m    963\u001b[39m \u001b[38;5;28;01mdef\u001b[39;00m\u001b[38;5;250m \u001b[39m\u001b[34m_request\u001b[39m(\n\u001b[32m    964\u001b[39m     \u001b[38;5;28mself\u001b[39m,\n\u001b[32m    965\u001b[39m     http_request: HttpRequest,\n\u001b[32m    966\u001b[39m     stream: \u001b[38;5;28mbool\u001b[39m = \u001b[38;5;28;01mFalse\u001b[39;00m,\n\u001b[32m    967\u001b[39m ) -> HttpResponse:\n\u001b[32m--> \u001b[39m\u001b[32m968\u001b[39m   \u001b[38;5;28;01mreturn\u001b[39;00m \u001b[38;5;28;43mself\u001b[39;49m\u001b[43m.\u001b[49m\u001b[43m_retry\u001b[49m\u001b[43m(\u001b[49m\u001b[38;5;28;43mself\u001b[39;49m\u001b[43m.\u001b[49m\u001b[43m_request_once\u001b[49m\u001b[43m,\u001b[49m\u001b[43m \u001b[49m\u001b[43mhttp_request\u001b[49m\u001b[43m,\u001b[49m\u001b[43m \u001b[49m\u001b[43mstream\u001b[49m\u001b[43m)\u001b[49m\n",
      "\u001b[36mFile \u001b[39m\u001b[32m~/Documents/AI/VIFagent/.venv/lib/python3.12/site-packages/tenacity/__init__.py:475\u001b[39m, in \u001b[36mRetrying.__call__\u001b[39m\u001b[34m(self, fn, *args, **kwargs)\u001b[39m\n\u001b[32m    473\u001b[39m retry_state = RetryCallState(retry_object=\u001b[38;5;28mself\u001b[39m, fn=fn, args=args, kwargs=kwargs)\n\u001b[32m    474\u001b[39m \u001b[38;5;28;01mwhile\u001b[39;00m \u001b[38;5;28;01mTrue\u001b[39;00m:\n\u001b[32m--> \u001b[39m\u001b[32m475\u001b[39m     do = \u001b[38;5;28;43mself\u001b[39;49m\u001b[43m.\u001b[49m\u001b[43miter\u001b[49m\u001b[43m(\u001b[49m\u001b[43mretry_state\u001b[49m\u001b[43m=\u001b[49m\u001b[43mretry_state\u001b[49m\u001b[43m)\u001b[49m\n\u001b[32m    476\u001b[39m     \u001b[38;5;28;01mif\u001b[39;00m \u001b[38;5;28misinstance\u001b[39m(do, DoAttempt):\n\u001b[32m    477\u001b[39m         \u001b[38;5;28;01mtry\u001b[39;00m:\n",
      "\u001b[36mFile \u001b[39m\u001b[32m~/Documents/AI/VIFagent/.venv/lib/python3.12/site-packages/tenacity/__init__.py:376\u001b[39m, in \u001b[36mBaseRetrying.iter\u001b[39m\u001b[34m(self, retry_state)\u001b[39m\n\u001b[32m    374\u001b[39m result = \u001b[38;5;28;01mNone\u001b[39;00m\n\u001b[32m    375\u001b[39m \u001b[38;5;28;01mfor\u001b[39;00m action \u001b[38;5;129;01min\u001b[39;00m \u001b[38;5;28mself\u001b[39m.iter_state.actions:\n\u001b[32m--> \u001b[39m\u001b[32m376\u001b[39m     result = \u001b[43maction\u001b[49m\u001b[43m(\u001b[49m\u001b[43mretry_state\u001b[49m\u001b[43m)\u001b[49m\n\u001b[32m    377\u001b[39m \u001b[38;5;28;01mreturn\u001b[39;00m result\n",
      "\u001b[36mFile \u001b[39m\u001b[32m~/Documents/AI/VIFagent/.venv/lib/python3.12/site-packages/tenacity/__init__.py:418\u001b[39m, in \u001b[36mBaseRetrying._post_stop_check_actions.<locals>.exc_check\u001b[39m\u001b[34m(rs)\u001b[39m\n\u001b[32m    416\u001b[39m retry_exc = \u001b[38;5;28mself\u001b[39m.retry_error_cls(fut)\n\u001b[32m    417\u001b[39m \u001b[38;5;28;01mif\u001b[39;00m \u001b[38;5;28mself\u001b[39m.reraise:\n\u001b[32m--> \u001b[39m\u001b[32m418\u001b[39m     \u001b[38;5;28;01mraise\u001b[39;00m \u001b[43mretry_exc\u001b[49m\u001b[43m.\u001b[49m\u001b[43mreraise\u001b[49m\u001b[43m(\u001b[49m\u001b[43m)\u001b[49m\n\u001b[32m    419\u001b[39m \u001b[38;5;28;01mraise\u001b[39;00m retry_exc \u001b[38;5;28;01mfrom\u001b[39;00m\u001b[38;5;250m \u001b[39m\u001b[34;01mfut\u001b[39;00m\u001b[34;01m.\u001b[39;00m\u001b[34;01mexception\u001b[39;00m()\n",
      "\u001b[36mFile \u001b[39m\u001b[32m~/Documents/AI/VIFagent/.venv/lib/python3.12/site-packages/tenacity/__init__.py:185\u001b[39m, in \u001b[36mRetryError.reraise\u001b[39m\u001b[34m(self)\u001b[39m\n\u001b[32m    183\u001b[39m \u001b[38;5;28;01mdef\u001b[39;00m\u001b[38;5;250m \u001b[39m\u001b[34mreraise\u001b[39m(\u001b[38;5;28mself\u001b[39m) -> t.NoReturn:\n\u001b[32m    184\u001b[39m     \u001b[38;5;28;01mif\u001b[39;00m \u001b[38;5;28mself\u001b[39m.last_attempt.failed:\n\u001b[32m--> \u001b[39m\u001b[32m185\u001b[39m         \u001b[38;5;28;01mraise\u001b[39;00m \u001b[38;5;28;43mself\u001b[39;49m\u001b[43m.\u001b[49m\u001b[43mlast_attempt\u001b[49m\u001b[43m.\u001b[49m\u001b[43mresult\u001b[49m\u001b[43m(\u001b[49m\u001b[43m)\u001b[49m\n\u001b[32m    186\u001b[39m     \u001b[38;5;28;01mraise\u001b[39;00m \u001b[38;5;28mself\u001b[39m\n",
      "\u001b[36mFile \u001b[39m\u001b[32m/usr/lib/python3.12/concurrent/futures/_base.py:449\u001b[39m, in \u001b[36mFuture.result\u001b[39m\u001b[34m(self, timeout)\u001b[39m\n\u001b[32m    447\u001b[39m     \u001b[38;5;28;01mraise\u001b[39;00m CancelledError()\n\u001b[32m    448\u001b[39m \u001b[38;5;28;01melif\u001b[39;00m \u001b[38;5;28mself\u001b[39m._state == FINISHED:\n\u001b[32m--> \u001b[39m\u001b[32m449\u001b[39m     \u001b[38;5;28;01mreturn\u001b[39;00m \u001b[38;5;28;43mself\u001b[39;49m\u001b[43m.\u001b[49m\u001b[43m__get_result\u001b[49m\u001b[43m(\u001b[49m\u001b[43m)\u001b[49m\n\u001b[32m    451\u001b[39m \u001b[38;5;28mself\u001b[39m._condition.wait(timeout)\n\u001b[32m    453\u001b[39m \u001b[38;5;28;01mif\u001b[39;00m \u001b[38;5;28mself\u001b[39m._state \u001b[38;5;129;01min\u001b[39;00m [CANCELLED, CANCELLED_AND_NOTIFIED]:\n",
      "\u001b[36mFile \u001b[39m\u001b[32m/usr/lib/python3.12/concurrent/futures/_base.py:401\u001b[39m, in \u001b[36mFuture.__get_result\u001b[39m\u001b[34m(self)\u001b[39m\n\u001b[32m    399\u001b[39m \u001b[38;5;28;01mif\u001b[39;00m \u001b[38;5;28mself\u001b[39m._exception:\n\u001b[32m    400\u001b[39m     \u001b[38;5;28;01mtry\u001b[39;00m:\n\u001b[32m--> \u001b[39m\u001b[32m401\u001b[39m         \u001b[38;5;28;01mraise\u001b[39;00m \u001b[38;5;28mself\u001b[39m._exception\n\u001b[32m    402\u001b[39m     \u001b[38;5;28;01mfinally\u001b[39;00m:\n\u001b[32m    403\u001b[39m         \u001b[38;5;66;03m# Break a reference cycle with the exception in self._exception\u001b[39;00m\n\u001b[32m    404\u001b[39m         \u001b[38;5;28mself\u001b[39m = \u001b[38;5;28;01mNone\u001b[39;00m\n",
      "\u001b[36mFile \u001b[39m\u001b[32m~/Documents/AI/VIFagent/.venv/lib/python3.12/site-packages/tenacity/__init__.py:478\u001b[39m, in \u001b[36mRetrying.__call__\u001b[39m\u001b[34m(self, fn, *args, **kwargs)\u001b[39m\n\u001b[32m    476\u001b[39m \u001b[38;5;28;01mif\u001b[39;00m \u001b[38;5;28misinstance\u001b[39m(do, DoAttempt):\n\u001b[32m    477\u001b[39m     \u001b[38;5;28;01mtry\u001b[39;00m:\n\u001b[32m--> \u001b[39m\u001b[32m478\u001b[39m         result = \u001b[43mfn\u001b[49m\u001b[43m(\u001b[49m\u001b[43m*\u001b[49m\u001b[43margs\u001b[49m\u001b[43m,\u001b[49m\u001b[43m \u001b[49m\u001b[43m*\u001b[49m\u001b[43m*\u001b[49m\u001b[43mkwargs\u001b[49m\u001b[43m)\u001b[49m\n\u001b[32m    479\u001b[39m     \u001b[38;5;28;01mexcept\u001b[39;00m \u001b[38;5;167;01mBaseException\u001b[39;00m:  \u001b[38;5;66;03m# noqa: B902\u001b[39;00m\n\u001b[32m    480\u001b[39m         retry_state.set_exception(sys.exc_info())  \u001b[38;5;66;03m# type: ignore[arg-type]\u001b[39;00m\n",
      "\u001b[36mFile \u001b[39m\u001b[32m~/Documents/AI/VIFagent/.venv/lib/python3.12/site-packages/google/genai/_api_client.py:958\u001b[39m, in \u001b[36mBaseApiClient._request_once\u001b[39m\u001b[34m(self, http_request, stream)\u001b[39m\n\u001b[32m    950\u001b[39m \u001b[38;5;28;01melse\u001b[39;00m:\n\u001b[32m    951\u001b[39m   response = \u001b[38;5;28mself\u001b[39m._httpx_client.request(\n\u001b[32m    952\u001b[39m       method=http_request.method,\n\u001b[32m    953\u001b[39m       url=http_request.url,\n\u001b[32m   (...)\u001b[39m\u001b[32m    956\u001b[39m       timeout=http_request.timeout,\n\u001b[32m    957\u001b[39m   )\n\u001b[32m--> \u001b[39m\u001b[32m958\u001b[39m   \u001b[43merrors\u001b[49m\u001b[43m.\u001b[49m\u001b[43mAPIError\u001b[49m\u001b[43m.\u001b[49m\u001b[43mraise_for_response\u001b[49m\u001b[43m(\u001b[49m\u001b[43mresponse\u001b[49m\u001b[43m)\u001b[49m\n\u001b[32m    959\u001b[39m   \u001b[38;5;28;01mreturn\u001b[39;00m HttpResponse(\n\u001b[32m    960\u001b[39m       response.headers, response \u001b[38;5;28;01mif\u001b[39;00m stream \u001b[38;5;28;01melse\u001b[39;00m [response.text]\n\u001b[32m    961\u001b[39m   )\n",
      "\u001b[36mFile \u001b[39m\u001b[32m~/Documents/AI/VIFagent/.venv/lib/python3.12/site-packages/google/genai/errors.py:105\u001b[39m, in \u001b[36mAPIError.raise_for_response\u001b[39m\u001b[34m(cls, response)\u001b[39m\n\u001b[32m    103\u001b[39m status_code = response.status_code\n\u001b[32m    104\u001b[39m \u001b[38;5;28;01mif\u001b[39;00m \u001b[32m400\u001b[39m <= status_code < \u001b[32m500\u001b[39m:\n\u001b[32m--> \u001b[39m\u001b[32m105\u001b[39m   \u001b[38;5;28;01mraise\u001b[39;00m ClientError(status_code, response_json, response)\n\u001b[32m    106\u001b[39m \u001b[38;5;28;01melif\u001b[39;00m \u001b[32m500\u001b[39m <= status_code < \u001b[32m600\u001b[39m:\n\u001b[32m    107\u001b[39m   \u001b[38;5;28;01mraise\u001b[39;00m ServerError(status_code, response_json, response)\n",
      "\u001b[31mClientError\u001b[39m: 429 RESOURCE_EXHAUSTED. {'error': {'code': 429, 'message': 'You exceeded your current quota, please check your plan and billing details. For more information on this error, head to: https://ai.google.dev/gemini-api/docs/rate-limits.', 'status': 'RESOURCE_EXHAUSTED', 'details': [{'@type': 'type.googleapis.com/google.rpc.QuotaFailure', 'violations': [{'quotaMetric': 'generativelanguage.googleapis.com/generate_content_free_tier_requests', 'quotaId': 'GenerateRequestsPerMinutePerProjectPerModel-FreeTier', 'quotaDimensions': {'location': 'global', 'model': 'gemini-2.5-pro'}, 'quotaValue': '5'}]}, {'@type': 'type.googleapis.com/google.rpc.Help', 'links': [{'description': 'Learn more about Gemini API quotas', 'url': 'https://ai.google.dev/gemini-api/docs/rate-limits'}]}, {'@type': 'type.googleapis.com/google.rpc.RetryInfo', 'retryDelay': '36s'}]}}"
     ]
    }
   ],
   "source": [
    "def run_apply_instruction(row):\n",
    "    agent.apply_instruction(row[\"code\"],row[\"instruction\"],row[\"id\"])\n",
    "\n",
    "\n",
    "ds.map(run_apply_instruction)\n",
    "    "
   ]
  },
  {
   "cell_type": "code",
   "execution_count": null,
   "id": "d51e9121",
   "metadata": {},
   "outputs": [],
   "source": []
  }
 ],
 "metadata": {
  "kernelspec": {
   "display_name": "VIFagent",
   "language": "python",
   "name": "python3"
  },
  "language_info": {
   "codemirror_mode": {
    "name": "ipython",
    "version": 3
   },
   "file_extension": ".py",
   "mimetype": "text/x-python",
   "name": "python",
   "nbconvert_exporter": "python",
   "pygments_lexer": "ipython3",
   "version": "3.12.11"
  }
 },
 "nbformat": 4,
 "nbformat_minor": 5
}
