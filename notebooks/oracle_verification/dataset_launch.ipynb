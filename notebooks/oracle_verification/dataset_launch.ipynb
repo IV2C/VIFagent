{
 "cells": [
  {
   "cell_type": "markdown",
   "id": "13dc7b34",
   "metadata": {},
   "source": [
    "# Testing on the dataset"
   ]
  },
  {
   "cell_type": "markdown",
   "id": "12994805",
   "metadata": {},
   "source": [
    "## Initialization"
   ]
  },
  {
   "cell_type": "code",
   "execution_count": 2,
   "id": "6f084352",
   "metadata": {},
   "outputs": [],
   "source": [
    "\n",
    "from datasets import load_dataset\n",
    "\n",
    "\n",
    "ds = load_dataset(\"CharlyR/vtikz\", \"tikz\", split=\"test\")\n",
    "ds = ds.select_columns([\"id\",\"type\",\"instruction\",\"code\",\"image_solution\",\"image_input\",\"code_solution\"])\n"
   ]
  },
  {
   "cell_type": "code",
   "execution_count": 6,
   "id": "ab824bc8",
   "metadata": {},
   "outputs": [
    {
     "name": "stderr",
     "output_type": "stream",
     "text": [
      "\u001b[32m2025-08-21 12:45:19.511\u001b[0m | \u001b[33m\u001b[1mWARNING \u001b[0m | \u001b[36mvif.falcon.falcon\u001b[0m:\u001b[36m__init__\u001b[0m:\u001b[36m57\u001b[0m - \u001b[33m\u001b[1mThe observe parameter is activated, dict will be stored at /home/creux/Documents/AI/VIFagent/.tmp/observe/2108-12:45:19.pickle\u001b[0m\n"
     ]
    }
   ],
   "source": [
    "from openai import OpenAI\n",
    "import os\n",
    "from google import genai\n",
    "from google.genai import types as genTypes\n",
    "from vif.falcon.edition import OracleEditionModule\n",
    "from vif.falcon.falcon import Falcon\n",
    "from vif.falcon.oracle.guided_oracle.guided_code_oracle import OracleGuidedCodeModule\n",
    "from vif.utils.renderer.tex_renderer import TexRenderer\n",
    "\n",
    "gclient = genai.Client(\n",
    "    api_key=os.environ.get(\"GOOGLE_API_KEY\"),\n",
    "    http_options=genTypes.HttpOptions(api_version=\"v1alpha\"),\n",
    ")\n",
    "\n",
    "oclient = OpenAI(\n",
    "    base_url=\"https://openrouter.ai/api/v1\",\n",
    "    api_key=os.environ.get(\"OPENROUTER_API_KEY\"),\n",
    ")\n",
    "\n",
    "\n",
    "oracle_module = OracleGuidedCodeModule(\n",
    "    model=\"google/gemini-2.5-flash-lite\",\n",
    "    temperature=0.3,\n",
    "    client=oclient,\n",
    "    visual_client=gclient,\n",
    "    visual_model=\"gemini-2.5-flash\"\n",
    ")\n",
    "edition_module = OracleEditionModule(\n",
    "    model=\"google/gemini-2.5-flash-lite\",\n",
    "    temperature=0.3,\n",
    "    client=oclient,\n",
    ")\n",
    "\n",
    "agent = Falcon(\n",
    "    code_renderer=TexRenderer().from_string_to_image,\n",
    "    oracle_module=oracle_module,\n",
    "    edition_module=edition_module,\n",
    "    observe=True,\n",
    "    observe_folder=\"/home/creux/Documents/AI/VIFagent/.tmp/observe\",\n",
    "    #existing_observe_checkpoint=\"/home/creux/Documents/AI/VIFagent/.tmp/observe/2008-10:43:13.pickle\"\n",
    ")"
   ]
  },
  {
   "cell_type": "markdown",
   "id": "1797bf5c",
   "metadata": {},
   "source": [
    "#### Manual Tests on one example"
   ]
  },
  {
   "cell_type": "code",
   "execution_count": 7,
   "id": "ca64f7fa",
   "metadata": {},
   "outputs": [
    {
     "name": "stderr",
     "output_type": "stream",
     "text": [
      "\u001b[32m2025-08-21 12:45:23.574\u001b[0m | \u001b[1mINFO    \u001b[0m | \u001b[36mvif.falcon.falcon\u001b[0m:\u001b[36mapply_instruction\u001b[0m:\u001b[36m91\u001b[0m - \u001b[1mCreating the oracle\u001b[0m\n",
      "\u001b[32m2025-08-21 12:45:23.575\u001b[0m | \u001b[1mINFO    \u001b[0m | \u001b[36mvif.falcon.oracle.guided_oracle.guided_code_oracle\u001b[0m:\u001b[36mget_oracle\u001b[0m:\u001b[36m109\u001b[0m - \u001b[1mCreating Oracle for instruction Switch the color of the circle and the triangle\u001b[0m\n",
      "\u001b[32m2025-08-21 12:45:25.493\u001b[0m | \u001b[1mINFO    \u001b[0m | \u001b[36mvif.falcon.oracle.guided_oracle.guided_code_oracle\u001b[0m:\u001b[36mget_oracle\u001b[0m:\u001b[36m124\u001b[0m - \u001b[1mOracle created: def test_valid_customization() -> bool:\n",
      "    return color(\"circle\", \"red\") & color(\"triangle\", \"green\")\n",
      "\u001b[0m\n",
      "\u001b[32m2025-08-21 12:45:25.818\u001b[0m | \u001b[1mINFO    \u001b[0m | \u001b[36mvif.falcon.edition\u001b[0m:\u001b[36mcustomize\u001b[0m:\u001b[36m117\u001b[0m - \u001b[1mSending initial message\u001b[0m\n",
      "\u001b[32m2025-08-21 12:45:27.541\u001b[0m | \u001b[1mINFO    \u001b[0m | \u001b[36mvif.falcon.edition\u001b[0m:\u001b[36mcustomize\u001b[0m:\u001b[36m127\u001b[0m - \u001b[1mLLM response:ChatCompletion(id='gen-1755773125-2IsoJJUetLu10XqQuI6l', choices=[Choice(finish_reason='stop', index=0, logprobs=None, message=ChatCompletionMessage(content='```\\n[\\n  {\"start\": 8, \"end\": 9, \"content\": \"  \\\\\\\\node[regular polygon, regular polygon sides=3, minimum size=3cm, fill=green!30] at (0,0) {};\"},\\n  {\"start\": 9, \"end\": 10, \"content\": \"  \\\\\\\\node[circle, minimum size=2cm, fill=red!30] at (3,0.25) {};\"}\\n]\\n```', refusal=None, role='assistant', annotations=None, audio=None, function_call=None, tool_calls=None, reasoning=None), native_finish_reason='STOP')], created=1755773125, model='google/gemini-2.5-flash-lite', object='chat.completion', service_tier=None, system_fingerprint=None, usage=CompletionUsage(completion_tokens=108, prompt_tokens=2348, total_tokens=2456, completion_tokens_details=None, prompt_tokens_details=PromptTokensDetails(audio_tokens=None, cached_tokens=0)), provider='Google')\u001b[0m\n",
      "\u001b[32m2025-08-21 12:45:27.541\u001b[0m | \u001b[1mINFO    \u001b[0m | \u001b[36mvif.falcon.edition\u001b[0m:\u001b[36mmodify_code\u001b[0m:\u001b[36m62\u001b[0m - \u001b[1mApplying modifications CodeEdit(start=8, end=9, content='  \\\\node[regular polygon, regular polygon sides=3, minimum size=3cm, fill=green!30] at (0,0) {};'),CodeEdit(start=9, end=10, content='  \\\\node[circle, minimum size=2cm, fill=red!30] at (3,0.25) {};')\u001b[0m\n",
      "\u001b[32m2025-08-21 12:45:27.542\u001b[0m | \u001b[1mINFO    \u001b[0m | \u001b[36mvif.falcon.edition\u001b[0m:\u001b[36mcustomize\u001b[0m:\u001b[36m144\u001b[0m - \u001b[1mcode edited:\n",
      "\\documentclass[tikz,border=5]{standalone}\n",
      "\\usepackage{tikz}\n",
      "\\usetikzlibrary{shapes}\n",
      "\n",
      "\\begin{document}\n",
      "\n",
      "\\begin{tikzpicture}\n",
      "  \\node[regular polygon, regular polygon sides=3, minimum size=3cm, fill=green!30] at (0,0) {};\n",
      "  \\node[circle, minimum size=2cm, fill=red!30] at (3,0.25) {};\n",
      "  \\node[rectangle, minimum size=2cm, fill=blue!30] at (1.5,2.5) {};\n",
      "\\end{tikzpicture}\n",
      "\\end{document}\u001b[0m\n",
      "\u001b[32m2025-08-21 12:45:27.871\u001b[0m | \u001b[1mINFO    \u001b[0m | \u001b[36mvif.falcon.oracle.guided_oracle.guided_code_oracle\u001b[0m:\u001b[36msegments_from_features\u001b[0m:\u001b[36m160\u001b[0m - \u001b[1mFeatures to compute :[circle]\u001b[0m\n",
      "\u001b[32m2025-08-21 12:46:02.501\u001b[0m | \u001b[33m\u001b[1mWARNING \u001b[0m | \u001b[36mvif.utils.caching\u001b[0m:\u001b[36mcheckForCached\u001b[0m:\u001b[36m45\u001b[0m - \u001b[33m\u001b[1mCache hit\u001b[0m\n",
      "\u001b[32m2025-08-21 12:46:15.586\u001b[0m | \u001b[1mINFO    \u001b[0m | \u001b[36mvif.falcon.oracle.guided_oracle.guided_code_oracle\u001b[0m:\u001b[36msegments_from_features\u001b[0m:\u001b[36m160\u001b[0m - \u001b[1mFeatures to compute :[triangle]\u001b[0m\n",
      "\u001b[32m2025-08-21 12:46:25.453\u001b[0m | \u001b[33m\u001b[1mWARNING \u001b[0m | \u001b[36mvif.utils.caching\u001b[0m:\u001b[36mcheckForCached\u001b[0m:\u001b[36m45\u001b[0m - \u001b[33m\u001b[1mCache hit\u001b[0m\n"
     ]
    },
    {
     "data": {
      "text/plain": [
       "'\\\\documentclass[tikz,border=5]{standalone}\\n\\\\usepackage{tikz}\\n\\\\usetikzlibrary{shapes}\\n\\n\\\\begin{document}\\n\\n\\\\begin{tikzpicture}\\n  \\\\node[regular polygon, regular polygon sides=3, minimum size=3cm, fill=green!30] at (0,0) {};\\n  \\\\node[circle, minimum size=2cm, fill=red!30] at (3,0.25) {};\\n  \\\\node[rectangle, minimum size=2cm, fill=blue!30] at (1.5,2.5) {};\\n\\\\end{tikzpicture}\\n\\\\end{document}'"
      ]
     },
     "execution_count": 7,
     "metadata": {},
     "output_type": "execute_result"
    }
   ],
   "source": [
    "agent.apply_instruction(ds[0][\"code\"],ds[0][\"instruction\"],ds[0][\"id\"])"
   ]
  },
  {
   "cell_type": "code",
   "execution_count": 8,
   "id": "16f8aef0",
   "metadata": {},
   "outputs": [],
   "source": [
    "import pickle\n",
    "with open(\"/home/creux/Documents/AI/VIFagent/.tmp/observe/2108-12:45:19.pickle\",\"rb\") as pkds:\n",
    "    dict_ds = pickle.load(pkds)"
   ]
  },
  {
   "cell_type": "code",
   "execution_count": 9,
   "id": "368a4c34",
   "metadata": {},
   "outputs": [
    {
     "data": {
      "text/plain": [
       "[{'id': 'rgbstc_switch_col_ct',\n",
       "  'instruction': 'Switch the color of the circle and the triangle',\n",
       "  'original_code': '\\\\documentclass[tikz,border=5]{standalone}\\n\\\\usepackage{tikz}\\n\\\\usetikzlibrary{shapes}\\n\\n\\\\begin{document}\\n\\n\\\\begin{tikzpicture}\\n  \\\\node[regular polygon, regular polygon sides=3, minimum size=3cm, fill=red!30] at (0,0) {};\\n  \\\\node[circle, minimum size=2cm, fill=green!30] at (3,0.25) {};\\n  \\\\node[rectangle, minimum size=2cm, fill=blue!30] at (1.5,2.5) {};\\n\\\\end{tikzpicture}\\n\\\\end{document}',\n",
       "  'oracle_code': 'def test_valid_customization() -> bool:\\n    return color(\"circle\", \"red\") & color(\"triangle\", \"green\")\\n',\n",
       "  'original_image': <PIL.PpmImagePlugin.PpmImageFile image mode=RGB size=446x363>,\n",
       "  'turn': 0,\n",
       "  'custom_image': <PIL.PpmImagePlugin.PpmImageFile image mode=RGB size=446x363>,\n",
       "  'custom_code': '\\\\documentclass[tikz,border=5]{standalone}\\n\\\\usepackage{tikz}\\n\\\\usetikzlibrary{shapes}\\n\\n\\\\begin{document}\\n\\n\\\\begin{tikzpicture}\\n  \\\\node[regular polygon, regular polygon sides=3, minimum size=3cm, fill=green!30] at (0,0) {};\\n  \\\\node[circle, minimum size=2cm, fill=red!30] at (3,0.25) {};\\n  \\\\node[rectangle, minimum size=2cm, fill=blue!30] at (1.5,2.5) {};\\n\\\\end{tikzpicture}\\n\\\\end{document}',\n",
       "  'oracle_condition': tensor(True),\n",
       "  'oracle_report': 'Here is the code after modification:\\n1|\\\\documentclass[tikz,border=5]{standalone}\\n2|\\\\usepackage{tikz}\\n3|\\\\usetikzlibrary{shapes}\\n4|\\n5|\\\\begin{document}\\n6|\\n7|\\\\begin{tikzpicture}\\n8|  \\\\node[regular polygon, regular polygon sides=3, minimum size=3cm, fill=green!30] at (0,0) {};\\n9|  \\\\node[circle, minimum size=2cm, fill=red!30] at (3,0.25) {};\\n10|  \\\\node[rectangle, minimum size=2cm, fill=blue!30] at (1.5,2.5) {};\\n11|\\\\end{tikzpicture}\\n12|\\\\end{document}\\nThe resulting image did not satisfy the instruction, here are some feedback:\\n',\n",
       "  'error_type': 'Oracle',\n",
       "  'edition_usage': '{\\n  \"completion_tokens\": 108,\\n  \"prompt_tokens\": 2348,\\n  \"total_tokens\": 2456,\\n  \"prompt_tokens_details\": {\\n    \"cached_tokens\": 0\\n  }\\n}',\n",
       "  'oracle_usage': '{\\n  \"completion_tokens\": 34,\\n  \"prompt_tokens\": 2405,\\n  \"total_tokens\": 2439,\\n  \"prompt_tokens_details\": {\\n    \"cached_tokens\": 0\\n  }\\n}'}]"
      ]
     },
     "execution_count": 9,
     "metadata": {},
     "output_type": "execute_result"
    }
   ],
   "source": [
    "dict_ds"
   ]
  },
  {
   "cell_type": "markdown",
   "id": "9ad28442",
   "metadata": {},
   "source": [
    "### Executing on the dataset"
   ]
  },
  {
   "cell_type": "code",
   "execution_count": null,
   "id": "a42eaa9b",
   "metadata": {},
   "outputs": [],
   "source": [
    "def run_apply_instruction(row):\n",
    "    agent.apply_instruction(row[\"code\"],row[\"instruction\"],row[\"id\"])\n",
    "\n",
    "\n",
    "ds.map(run_apply_instruction)\n",
    "    "
   ]
  },
  {
   "cell_type": "code",
   "execution_count": null,
   "id": "d51e9121",
   "metadata": {},
   "outputs": [],
   "source": []
  }
 ],
 "metadata": {
  "kernelspec": {
   "display_name": "VIFagent",
   "language": "python",
   "name": "python3"
  },
  "language_info": {
   "codemirror_mode": {
    "name": "ipython",
    "version": 3
   },
   "file_extension": ".py",
   "mimetype": "text/x-python",
   "name": "python",
   "nbconvert_exporter": "python",
   "pygments_lexer": "ipython3",
   "version": "3.12.11"
  }
 },
 "nbformat": 4,
 "nbformat_minor": 5
}
