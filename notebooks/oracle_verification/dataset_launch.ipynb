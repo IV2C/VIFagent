{
 "cells": [
  {
   "cell_type": "markdown",
   "id": "13dc7b34",
   "metadata": {},
   "source": [
    "# Testing on the dataset"
   ]
  },
  {
   "cell_type": "markdown",
   "id": "12994805",
   "metadata": {},
   "source": [
    "## Initialization"
   ]
  },
  {
   "cell_type": "code",
   "execution_count": 1,
   "id": "6f084352",
   "metadata": {},
   "outputs": [
    {
     "name": "stderr",
     "output_type": "stream",
     "text": [
      "/home/creux/Documents/AI/VIFagent/.venv/lib/python3.12/site-packages/tqdm/auto.py:21: TqdmWarning: IProgress not found. Please update jupyter and ipywidgets. See https://ipywidgets.readthedocs.io/en/stable/user_install.html\n",
      "  from .autonotebook import tqdm as notebook_tqdm\n"
     ]
    }
   ],
   "source": [
    "\n",
    "from datasets import load_dataset\n",
    "\n",
    "\n",
    "ds = load_dataset(\"CharlyR/vtikz\", \"tikz\", split=\"test\")\n",
    "ds = ds.select_columns([\"id\",\"type\",\"instruction\",\"code\",\"image_solution\",\"image_input\",\"code_solution\"])\n"
   ]
  },
  {
   "cell_type": "code",
   "execution_count": 2,
   "id": "ab824bc8",
   "metadata": {},
   "outputs": [
    {
     "name": "stderr",
     "output_type": "stream",
     "text": [
      "\u001b[32m2025-08-21 14:29:19.184\u001b[0m | \u001b[1mINFO    \u001b[0m | \u001b[36mvif.utils.caching\u001b[0m:\u001b[36minstantiate_cache\u001b[0m:\u001b[36m26\u001b[0m - \u001b[1mseg_cache cache loaded\u001b[0m\n",
      "You are trying to use a model that was created with Sentence Transformers version 5.0.0, but you're currently using version 4.1.0. This might cause unexpected behavior or errors. In that case, try to update to the latest version.\n",
      "\u001b[32m2025-08-21 14:29:21.259\u001b[0m | \u001b[33m\u001b[1mWARNING \u001b[0m | \u001b[36mvif.falcon.falcon\u001b[0m:\u001b[36m__init__\u001b[0m:\u001b[36m57\u001b[0m - \u001b[33m\u001b[1mThe observe parameter is activated, dict will be stored at /home/creux/Documents/AI/VIFagent/.tmp/observe/2108-14:29:21.pickle\u001b[0m\n"
     ]
    }
   ],
   "source": [
    "from openai import OpenAI\n",
    "import os\n",
    "from google import genai\n",
    "from google.genai import types as genTypes\n",
    "from vif.falcon.edition import OracleEditionModule\n",
    "from vif.falcon.falcon import Falcon\n",
    "from vif.falcon.oracle.guided_oracle.guided_code_oracle import OracleGuidedCodeModule\n",
    "from vif.utils.renderer.tex_renderer import TexRenderer\n",
    "\n",
    "gclient = genai.Client(\n",
    "    api_key=os.environ.get(\"GOOGLE_API_KEY\"),\n",
    "    http_options=genTypes.HttpOptions(api_version=\"v1alpha\"),\n",
    ")\n",
    "\n",
    "oclient = OpenAI(\n",
    "    base_url=\"https://openrouter.ai/api/v1\",\n",
    "    api_key=os.environ.get(\"OPENROUTER_API_KEY\"),\n",
    ")\n",
    "\n",
    "\n",
    "oracle_module = OracleGuidedCodeModule(\n",
    "    model=\"google/gemini-2.5-flash-lite\",\n",
    "    temperature=0.3,\n",
    "    client=oclient,\n",
    "    visual_client=gclient,\n",
    "    visual_model=\"gemini-2.5-flash\"\n",
    ")\n",
    "edition_module = OracleEditionModule(\n",
    "    model=\"google/gemini-2.5-flash-lite\",\n",
    "    temperature=0.3,\n",
    "    client=oclient,\n",
    ")\n",
    "\n",
    "agent = Falcon(\n",
    "    code_renderer=TexRenderer().from_string_to_image,\n",
    "    oracle_module=oracle_module,\n",
    "    edition_module=edition_module,\n",
    "    observe=True,\n",
    "    observe_folder=\"/home/creux/Documents/AI/VIFagent/.tmp/observe\",\n",
    "    #existing_observe_checkpoint=\"/home/creux/Documents/AI/VIFagent/.tmp/observe/2008-10:43:13.pickle\"\n",
    ")"
   ]
  },
  {
   "cell_type": "markdown",
   "id": "1797bf5c",
   "metadata": {},
   "source": [
    "#### Manual Tests on one example"
   ]
  },
  {
   "cell_type": "code",
   "execution_count": 3,
   "id": "ca64f7fa",
   "metadata": {},
   "outputs": [
    {
     "name": "stderr",
     "output_type": "stream",
     "text": [
      "\u001b[32m2025-08-21 14:29:21.633\u001b[0m | \u001b[1mINFO    \u001b[0m | \u001b[36mvif.falcon.falcon\u001b[0m:\u001b[36mapply_instruction\u001b[0m:\u001b[36m91\u001b[0m - \u001b[1mCreating the oracle\u001b[0m\n",
      "\u001b[32m2025-08-21 14:29:21.633\u001b[0m | \u001b[1mINFO    \u001b[0m | \u001b[36mvif.falcon.oracle.guided_oracle.guided_code_oracle\u001b[0m:\u001b[36mget_oracle\u001b[0m:\u001b[36m111\u001b[0m - \u001b[1mCreating Oracle for instruction Switch the color of the circle and the triangle\u001b[0m\n",
      "\u001b[32m2025-08-21 14:29:23.888\u001b[0m | \u001b[1mINFO    \u001b[0m | \u001b[36mvif.falcon.oracle.guided_oracle.guided_code_oracle\u001b[0m:\u001b[36mget_oracle\u001b[0m:\u001b[36m126\u001b[0m - \u001b[1mOracle created: def test_valid_customization() -> bool:\n",
      "    # The original image contains a red triangle, a green circle, & a blue square.\n",
      "    # The prompt asks to switch the colors of the circle & the triangle.\n",
      "    # This means the triangle should become green & the circle should become red.\n",
      "    return color(\"triangle\", \"green\") & color(\"circle\", \"red\")\n",
      "\u001b[0m\n",
      "\u001b[32m2025-08-21 14:29:24.210\u001b[0m | \u001b[1mINFO    \u001b[0m | \u001b[36mvif.falcon.edition\u001b[0m:\u001b[36mcustomize\u001b[0m:\u001b[36m117\u001b[0m - \u001b[1mSending initial message\u001b[0m\n",
      "\u001b[32m2025-08-21 14:29:25.682\u001b[0m | \u001b[1mINFO    \u001b[0m | \u001b[36mvif.falcon.edition\u001b[0m:\u001b[36mcustomize\u001b[0m:\u001b[36m127\u001b[0m - \u001b[1mLLM response:ChatCompletion(id='gen-1755779364-b0cqC8oxM5jWECywQTMN', choices=[Choice(finish_reason='stop', index=0, logprobs=None, message=ChatCompletionMessage(content='```\\n[\\n  {\"start\": 8, \"end\": 9, \"content\": \"  \\\\\\\\node[regular polygon, regular polygon sides=3, minimum size=3cm, fill=green!30] at (0,0) {};\"},\\n  {\"start\": 9, \"end\": 10, \"content\": \"  \\\\\\\\node[circle, minimum size=2cm, fill=red!30] at (3,0.25) {};\"}\\n]\\n```', refusal=None, role='assistant', annotations=None, audio=None, function_call=None, tool_calls=None, reasoning=None), native_finish_reason='STOP')], created=1755779364, model='google/gemini-2.5-flash-lite', object='chat.completion', service_tier=None, system_fingerprint=None, usage=CompletionUsage(completion_tokens=108, prompt_tokens=2348, total_tokens=2456, completion_tokens_details=None, prompt_tokens_details=PromptTokensDetails(audio_tokens=None, cached_tokens=0)), provider='Google')\u001b[0m\n",
      "\u001b[32m2025-08-21 14:29:25.683\u001b[0m | \u001b[1mINFO    \u001b[0m | \u001b[36mvif.falcon.edition\u001b[0m:\u001b[36mmodify_code\u001b[0m:\u001b[36m62\u001b[0m - \u001b[1mApplying modifications CodeEdit(start=8, end=9, content='  \\\\node[regular polygon, regular polygon sides=3, minimum size=3cm, fill=green!30] at (0,0) {};'),CodeEdit(start=9, end=10, content='  \\\\node[circle, minimum size=2cm, fill=red!30] at (3,0.25) {};')\u001b[0m\n",
      "\u001b[32m2025-08-21 14:29:25.684\u001b[0m | \u001b[1mINFO    \u001b[0m | \u001b[36mvif.falcon.edition\u001b[0m:\u001b[36mcustomize\u001b[0m:\u001b[36m144\u001b[0m - \u001b[1mcode edited:\n",
      "\\documentclass[tikz,border=5]{standalone}\n",
      "\\usepackage{tikz}\n",
      "\\usetikzlibrary{shapes}\n",
      "\n",
      "\\begin{document}\n",
      "\n",
      "\\begin{tikzpicture}\n",
      "  \\node[regular polygon, regular polygon sides=3, minimum size=3cm, fill=green!30] at (0,0) {};\n",
      "  \\node[circle, minimum size=2cm, fill=red!30] at (3,0.25) {};\n",
      "  \\node[rectangle, minimum size=2cm, fill=blue!30] at (1.5,2.5) {};\n",
      "\\end{tikzpicture}\n",
      "\\end{document}\u001b[0m\n",
      "\u001b[32m2025-08-21 14:29:26.010\u001b[0m | \u001b[1mINFO    \u001b[0m | \u001b[36mvif.falcon.oracle.guided_oracle.guided_code_oracle\u001b[0m:\u001b[36msegments_from_features\u001b[0m:\u001b[36m162\u001b[0m - \u001b[1mFeatures to compute :[triangle]\u001b[0m\n",
      "\u001b[32m2025-08-21 14:29:26.012\u001b[0m | \u001b[1mINFO    \u001b[0m | \u001b[36mvif.utils.detection_utils\u001b[0m:\u001b[36mget_segmentation_masks\u001b[0m:\u001b[36m90\u001b[0m - \u001b[1mGetting masks for features : triangle\u001b[0m\n",
      "\u001b[32m2025-08-21 14:29:29.756\u001b[0m | \u001b[1mINFO    \u001b[0m | \u001b[36mvif.utils.detection_utils\u001b[0m:\u001b[36mget_segmentation_masks\u001b[0m:\u001b[36m121\u001b[0m - \u001b[1mLLM segmentation response: ```json\n",
      "[\n",
      "  {\"box_2d\": [478, 30, 962, 489], \"mask\": \"data:image/png;base64,iVBORw0KGgoAAAANSUhEUgAAAQAAAAEACAAAAAB5Gfe6AAAB/klEQVR42u3UsQ2AQAADsd9/aSMKJqBA6HIbxEXO+TR3J5unAcT3VwXqAMQFBhAHMIC4gLiAOABxgToAcYE6gAG0BYgL1AEMoC1AXKAOYABxAXEBcQDiAnUA4gJ1ANoCBhAXqAMQF6gDGEBbgLjAAOIC4gDEBeoAxAXqAMQF6gDEBeoAxAUGEAegLWAAcQFtAe8bQHz/vwUGEAegLUBcYABxAQNoCxhAG4C4gLpAHUAcgLhAHYC4QB2AuEAdgLhAHYC4QB2AuEAdgLYAcYE6AHGBOgBxgTqAAbQFDCAuUAcgLlAHIC5QByAuIC4gDmAAbQHiAnUAAxhAWoC4QB2AuEAdwADaAuIAxAXEBQygLWAAbQDiAgOICxhAW4C4wADiAMQF6gDEBeoAtAWIC9QBDCAuUAcgLlAHIC5QBzCAtoA4AHGBAcQFaAsYQFvAANoCBtAWMIC2gAEMIC1gAG0BA2gL0BYwgDYAcYEBxAUMoC1gAG0BA2gLGEBbQByAuIC4gAG0BQygLWAAA0gLGEBbwAAGkBYgLlAHMIC2AHGBOgBxgToAcYE6AHGBOgBxgQHEBQygDUBcoA5gAG0B4gJ1AOICdQADaAsYQFvAAOICdQDiAnUA4gJ1AOIC4gIGEBeoAxAXqAPQFjCAtoA4gAG0BYgLDCAOQFxgAPuA8HznAmVrjrGh/H+DAAAAAElFTkSuQmCC\", \"label\": \"triangle\"}\n",
      "]\n",
      "```\u001b[0m\n",
      "\u001b[32m2025-08-21 14:29:29.757\u001b[0m | \u001b[31m\u001b[1mERROR   \u001b[0m | \u001b[36mvif.utils.detection_utils\u001b[0m:\u001b[36mlog_and_append_token_data\u001b[0m:\u001b[36m184\u001b[0m - \u001b[31m\u001b[1mSegmentation worked.\u001b[0m\n",
      "\u001b[32m2025-08-21 14:29:29.758\u001b[0m | \u001b[1mINFO    \u001b[0m | \u001b[36mvif.utils.caching\u001b[0m:\u001b[36mcheckForCached\u001b[0m:\u001b[36m42\u001b[0m - \u001b[1mnew cache\u001b[0m\n",
      "\u001b[32m2025-08-21 14:29:29.758\u001b[0m | \u001b[1mINFO    \u001b[0m | \u001b[36mvif.utils.caching\u001b[0m:\u001b[36mcheckForCached\u001b[0m:\u001b[36m43\u001b[0m - \u001b[1m{'62c144b64d783ac2c4589f4a7b2acd02db7f77de': ([SegmentationMask(y0=173, x0=13, y1=349, x1=218, mask=array([[0, 0, 0, ..., 0, 0, 0],\n",
      "       [0, 0, 0, ..., 0, 0, 0],\n",
      "       [0, 0, 0, ..., 0, 0, 0],\n",
      "       ...,\n",
      "       [0, 0, 0, ..., 0, 0, 0],\n",
      "       [0, 0, 0, ..., 0, 0, 0],\n",
      "       [0, 0, 0, ..., 0, 0, 0]], shape=(363, 446), dtype=uint8), label='triangle')], [{'completion_token': 63, 'prompt_token': 343, 'total_tokens': 406, 'error_info': 'Segmentation worked.'}])}\u001b[0m\n",
      "\u001b[32m2025-08-21 14:29:29.945\u001b[0m | \u001b[1mINFO    \u001b[0m | \u001b[36mvif.falcon.oracle.guided_oracle.guided_code_oracle\u001b[0m:\u001b[36msegments_from_features\u001b[0m:\u001b[36m162\u001b[0m - \u001b[1mFeatures to compute :[circle]\u001b[0m\n",
      "\u001b[32m2025-08-21 14:29:29.946\u001b[0m | \u001b[1mINFO    \u001b[0m | \u001b[36mvif.utils.detection_utils\u001b[0m:\u001b[36mget_segmentation_masks\u001b[0m:\u001b[36m90\u001b[0m - \u001b[1mGetting masks for features : circle\u001b[0m\n",
      "\u001b[32m2025-08-21 14:29:30.848\u001b[0m | \u001b[1mINFO    \u001b[0m | \u001b[36mvif.utils.detection_utils\u001b[0m:\u001b[36mget_segmentation_masks\u001b[0m:\u001b[36m121\u001b[0m - \u001b[1mLLM segmentation response: ```json\n",
      "[\n",
      "  {\"box_2d\": [530, 612, 956, 967], \"mask\": \"data:image/png;base64,iVBORw0KGgoAAAANSUhEUgAAAQAAAAEACAAAAAB5Gfe6AAACWklEQVR42u3dQUosQRQF0bv/TYfwcQHi76rKMuKCY4mDI+nOt907vn+E4+dTx/89BP5j6vj3I/C5qeNfCMBFe0f8ZfmvIOD62ftx1x+swM2T559mgBuA52bvP0GAx2fvf1SAMybPf8yAsybPv1uAI2fvv08A1AKcPHv/DQTgFgC1AO+Yvf8yAV40e/8VAuAWALcAuAXALQBuAXALgFzADgBuAXALgFsA3AIgF7ADgFsA5ALIBZADgFsA5ALIBcAtQABuAQJwC4BbgADcAgQgF0AuAG4B5AAgF7ADgFwgALkAAbgBQC5gBwC5QAByAJALBCAXQA4AcoEAApALBCAHIAC3AAEEoBYggADcAgHIAQggALdAAHIAAgggADMAAQQQgFoggAACCCCAALwAIBcIIIAAAggggAACCCCAAAIIIIAAAtAB9D/BAAIIIIAAAgjAC9CHhOz9AegB+r5AAAEEoO7vi5MBBCDv7wWJAOz9vSMUgL2/x9QCsPf7BALoXeFelg5ALLAAOrCgFgigMztugU5tBdC5vQ4udnM0gO4OB2AU6Pi6HGBzCywAt8ACcAtMDrDJBSYXmBxgkwvYATa3wCYXsANsboFNLjC3wOYG2NwCm1zADrC5BTa5wOQCm1tgcwtsboHNLbC5BTa3wOYW2NwCm1pgl83e/w6BzS2wq2fvP1xgUwvspsnzTxXYrbP3n0ewuQU2tcCemjz/DII9PXv/swI7Y/b+hwh21uz9dxPszLnr7yLY4XPXX4uwF42Z6z//d7C3zl3/EYT9jZnbf8Mw0/4dvn3u138BJcbXFtHWnHUAAAAASUVORK5CYII=\", \"label\": \"circle\"}\n",
      "]\n",
      "```\u001b[0m\n",
      "\u001b[32m2025-08-21 14:29:30.849\u001b[0m | \u001b[31m\u001b[1mERROR   \u001b[0m | \u001b[36mvif.utils.detection_utils\u001b[0m:\u001b[36mlog_and_append_token_data\u001b[0m:\u001b[36m184\u001b[0m - \u001b[31m\u001b[1mSegmentation worked.\u001b[0m\n",
      "\u001b[32m2025-08-21 14:29:30.850\u001b[0m | \u001b[1mINFO    \u001b[0m | \u001b[36mvif.utils.caching\u001b[0m:\u001b[36mcheckForCached\u001b[0m:\u001b[36m42\u001b[0m - \u001b[1mnew cache\u001b[0m\n",
      "\u001b[32m2025-08-21 14:29:30.850\u001b[0m | \u001b[1mINFO    \u001b[0m | \u001b[36mvif.utils.caching\u001b[0m:\u001b[36mcheckForCached\u001b[0m:\u001b[36m43\u001b[0m - \u001b[1m{'62c144b64d783ac2c4589f4a7b2acd02db7f77de': ([SegmentationMask(y0=173, x0=13, y1=349, x1=218, mask=array([[0, 0, 0, ..., 0, 0, 0],\n",
      "       [0, 0, 0, ..., 0, 0, 0],\n",
      "       [0, 0, 0, ..., 0, 0, 0],\n",
      "       ...,\n",
      "       [0, 0, 0, ..., 0, 0, 0],\n",
      "       [0, 0, 0, ..., 0, 0, 0],\n",
      "       [0, 0, 0, ..., 0, 0, 0]], shape=(363, 446), dtype=uint8), label='triangle')], [{'completion_token': 63, 'prompt_token': 343, 'total_tokens': 406, 'error_info': 'Segmentation worked.'}]), '5dc43843150d06121d0718bdfbfb761ad85581ba': ([SegmentationMask(y0=192, x0=272, y1=347, x1=431, mask=array([[0, 0, 0, ..., 0, 0, 0],\n",
      "       [0, 0, 0, ..., 0, 0, 0],\n",
      "       [0, 0, 0, ..., 0, 0, 0],\n",
      "       ...,\n",
      "       [0, 0, 0, ..., 0, 0, 0],\n",
      "       [0, 0, 0, ..., 0, 0, 0],\n",
      "       [0, 0, 0, ..., 0, 0, 0]], shape=(363, 446), dtype=uint8), label='circle')], [{'completion_token': 64, 'prompt_token': 343, 'total_tokens': 407, 'error_info': 'Segmentation worked.'}])}\u001b[0m\n"
     ]
    },
    {
     "data": {
      "text/plain": [
       "'\\\\documentclass[tikz,border=5]{standalone}\\n\\\\usepackage{tikz}\\n\\\\usetikzlibrary{shapes}\\n\\n\\\\begin{document}\\n\\n\\\\begin{tikzpicture}\\n  \\\\node[regular polygon, regular polygon sides=3, minimum size=3cm, fill=green!30] at (0,0) {};\\n  \\\\node[circle, minimum size=2cm, fill=red!30] at (3,0.25) {};\\n  \\\\node[rectangle, minimum size=2cm, fill=blue!30] at (1.5,2.5) {};\\n\\\\end{tikzpicture}\\n\\\\end{document}'"
      ]
     },
     "execution_count": 3,
     "metadata": {},
     "output_type": "execute_result"
    }
   ],
   "source": [
    "agent.apply_instruction(ds[0][\"code\"],ds[0][\"instruction\"],ds[0][\"id\"])"
   ]
  },
  {
   "cell_type": "code",
   "execution_count": null,
   "id": "16f8aef0",
   "metadata": {},
   "outputs": [],
   "source": [
    "import pickle\n",
    "with open(\"/home/creux/Documents/AI/VIFagent/.tmp/observe/2108-14:29:21.pickle\",\"rb\") as pkds:\n",
    "    dict_ds = pickle.load(pkds)"
   ]
  },
  {
   "cell_type": "code",
   "execution_count": 5,
   "id": "368a4c34",
   "metadata": {},
   "outputs": [
    {
     "data": {
      "text/plain": [
       "[{'id': 'rgbstc_switch_col_ct',\n",
       "  'instruction': 'Switch the color of the circle and the triangle',\n",
       "  'original_code': '\\\\documentclass[tikz,border=5]{standalone}\\n\\\\usepackage{tikz}\\n\\\\usetikzlibrary{shapes}\\n\\n\\\\begin{document}\\n\\n\\\\begin{tikzpicture}\\n  \\\\node[regular polygon, regular polygon sides=3, minimum size=3cm, fill=red!30] at (0,0) {};\\n  \\\\node[circle, minimum size=2cm, fill=green!30] at (3,0.25) {};\\n  \\\\node[rectangle, minimum size=2cm, fill=blue!30] at (1.5,2.5) {};\\n\\\\end{tikzpicture}\\n\\\\end{document}',\n",
       "  'oracle_code': 'def test_valid_customization() -> bool:\\n    # The original image contains a red triangle, a green circle, & a blue square.\\n    # The prompt asks to switch the colors of the circle & the triangle.\\n    # This means the triangle should become green & the circle should become red.\\n    return color(\"triangle\", \"green\") & color(\"circle\", \"red\")\\n',\n",
       "  'original_image': <PIL.PpmImagePlugin.PpmImageFile image mode=RGB size=446x363>,\n",
       "  'turn': 0,\n",
       "  'custom_image': <PIL.PpmImagePlugin.PpmImageFile image mode=RGB size=446x363>,\n",
       "  'custom_code': '\\\\documentclass[tikz,border=5]{standalone}\\n\\\\usepackage{tikz}\\n\\\\usetikzlibrary{shapes}\\n\\n\\\\begin{document}\\n\\n\\\\begin{tikzpicture}\\n  \\\\node[regular polygon, regular polygon sides=3, minimum size=3cm, fill=green!30] at (0,0) {};\\n  \\\\node[circle, minimum size=2cm, fill=red!30] at (3,0.25) {};\\n  \\\\node[rectangle, minimum size=2cm, fill=blue!30] at (1.5,2.5) {};\\n\\\\end{tikzpicture}\\n\\\\end{document}',\n",
       "  'oracle_condition': True,\n",
       "  'oracle_report': 'Here is the code after modification:\\n1|\\\\documentclass[tikz,border=5]{standalone}\\n2|\\\\usepackage{tikz}\\n3|\\\\usetikzlibrary{shapes}\\n4|\\n5|\\\\begin{document}\\n6|\\n7|\\\\begin{tikzpicture}\\n8|  \\\\node[regular polygon, regular polygon sides=3, minimum size=3cm, fill=green!30] at (0,0) {};\\n9|  \\\\node[circle, minimum size=2cm, fill=red!30] at (3,0.25) {};\\n10|  \\\\node[rectangle, minimum size=2cm, fill=blue!30] at (1.5,2.5) {};\\n11|\\\\end{tikzpicture}\\n12|\\\\end{document}\\nThe resulting image did not satisfy the instruction, here are some feedback:\\n',\n",
       "  'error_type': 'Oracle',\n",
       "  'edition_usage': '{\\n  \"completion_tokens\": 108,\\n  \"prompt_tokens\": 2348,\\n  \"total_tokens\": 2456,\\n  \"prompt_tokens_details\": {\\n    \"cached_tokens\": 0\\n  }\\n}',\n",
       "  'oracle_usage': '{\\n  \"completion_tokens\": 88,\\n  \"prompt_tokens\": 2405,\\n  \"total_tokens\": 2493,\\n  \"prompt_tokens_details\": {\\n    \"cached_tokens\": 0\\n  }\\n}',\n",
       "  'seg_usage': '{\"triangle\": [{\"completion_token\": 63, \"prompt_token\": 343, \"total_tokens\": 406, \"error_info\": \"Segmentation worked.\"}], \"circle\": [{\"completion_token\": 64, \"prompt_token\": 343, \"total_tokens\": 407, \"error_info\": \"Segmentation worked.\"}]}'}]"
      ]
     },
     "execution_count": 5,
     "metadata": {},
     "output_type": "execute_result"
    }
   ],
   "source": [
    "dict_ds"
   ]
  },
  {
   "cell_type": "markdown",
   "id": "9ad28442",
   "metadata": {},
   "source": [
    "### Executing on the dataset"
   ]
  },
  {
   "cell_type": "code",
   "execution_count": null,
   "id": "a42eaa9b",
   "metadata": {},
   "outputs": [],
   "source": [
    "def run_apply_instruction(row):\n",
    "    agent.apply_instruction(row[\"code\"],row[\"instruction\"],row[\"id\"])\n",
    "\n",
    "\n",
    "ds.map(run_apply_instruction)\n",
    "    "
   ]
  },
  {
   "cell_type": "code",
   "execution_count": null,
   "id": "d51e9121",
   "metadata": {},
   "outputs": [],
   "source": []
  }
 ],
 "metadata": {
  "kernelspec": {
   "display_name": "VIFagent",
   "language": "python",
   "name": "python3"
  },
  "language_info": {
   "codemirror_mode": {
    "name": "ipython",
    "version": 3
   },
   "file_extension": ".py",
   "mimetype": "text/x-python",
   "name": "python",
   "nbconvert_exporter": "python",
   "pygments_lexer": "ipython3",
   "version": "3.12.11"
  }
 },
 "nbformat": 4,
 "nbformat_minor": 5
}
