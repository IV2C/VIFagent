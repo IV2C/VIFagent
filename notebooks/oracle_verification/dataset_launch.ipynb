{
 "cells": [
  {
   "cell_type": "code",
   "execution_count": 1,
   "id": "6f084352",
   "metadata": {},
   "outputs": [
    {
     "name": "stderr",
     "output_type": "stream",
     "text": [
      "/home/creux/Documents/AI/VIFagent/.venv/lib/python3.12/site-packages/tqdm/auto.py:21: TqdmWarning: IProgress not found. Please update jupyter and ipywidgets. See https://ipywidgets.readthedocs.io/en/stable/user_install.html\n",
      "  from .autonotebook import tqdm as notebook_tqdm\n"
     ]
    }
   ],
   "source": [
    "\n",
    "from datasets import load_dataset\n",
    "\n",
    "\n",
    "ds = load_dataset(\"CharlyR/vtikz\", \"tikz\", split=\"test\")\n",
    "ds = ds.select_columns([\"id\",\"type\",\"instruction\",\"code\",\"image_solution\",\"image_input\",\"code_solution\"])\n"
   ]
  },
  {
   "cell_type": "code",
   "execution_count": 2,
   "id": "ab824bc8",
   "metadata": {},
   "outputs": [
    {
     "name": "stderr",
     "output_type": "stream",
     "text": [
      "You are trying to use a model that was created with Sentence Transformers version 5.0.0, but you're currently using version 4.1.0. This might cause unexpected behavior or errors. In that case, try to update to the latest version.\n",
      "\u001b[32m2025-08-12 15:51:18.210\u001b[0m | \u001b[33m\u001b[1mWARNING \u001b[0m | \u001b[36mvif.falcon.falcon\u001b[0m:\u001b[36m__init__\u001b[0m:\u001b[36m46\u001b[0m - \u001b[33m\u001b[1mThe observe parameter is activated, dict will be stored at /home/creux/Documents/AI/VIFagent/.tmp/observe/1208-15:51:18.pickle\u001b[0m\n"
     ]
    }
   ],
   "source": [
    "from openai import OpenAI\n",
    "import os\n",
    "from google import genai\n",
    "from google.genai import types as genTypes\n",
    "from vif.falcon.edition import OracleEditionModule\n",
    "from vif.falcon.falcon import Falcon\n",
    "from vif.falcon.oracle.guided_oracle.guided_code_oracle import OracleGuidedCodeModule\n",
    "from vif.utils.renderer.tex_renderer import TexRenderer\n",
    "\n",
    "gclient = genai.Client(\n",
    "    api_key=os.environ.get(\"GOOGLE_API_KEY\"),\n",
    "    http_options=genTypes.HttpOptions(api_version=\"v1alpha\"),\n",
    ")\n",
    "\n",
    "oclient = OpenAI(\n",
    "    base_url=\"https://openrouter.ai/api/v1\",\n",
    "    api_key=os.environ.get(\"OPENROUTER_API_KEY\"),\n",
    ")\n",
    "\n",
    "\n",
    "oracle_module = OracleGuidedCodeModule(\n",
    "    model=\"google/gemini-2.5-flash-lite\",\n",
    "    temperature=0.3,\n",
    "    client=oclient,\n",
    "    visual_client=gclient,\n",
    "    visual_generation_content_config=genTypes.GenerateContentConfig(temperature=0.3),\n",
    "    visual_model=\"gemini-2.5-pro\"\n",
    ")\n",
    "edition_module = OracleEditionModule(\n",
    "    model=\"google/gemini-2.5-flash-lite\",\n",
    "    temperature=0.3,\n",
    "    client=oclient,\n",
    ")\n",
    "\n",
    "agent = Falcon(\n",
    "    code_renderer=TexRenderer().from_string_to_image,\n",
    "    oracle_module=oracle_module,\n",
    "    edition_module=edition_module,\n",
    "    observe=True,\n",
    "    observe_folder=\"/home/creux/Documents/AI/VIFagent/.tmp/observe\",\n",
    ")"
   ]
  },
  {
   "cell_type": "code",
   "execution_count": 3,
   "id": "ca64f7fa",
   "metadata": {},
   "outputs": [
    {
     "name": "stderr",
     "output_type": "stream",
     "text": [
      "\u001b[32m2025-08-12 15:51:19.614\u001b[0m | \u001b[1mINFO    \u001b[0m | \u001b[36mvif.falcon.falcon\u001b[0m:\u001b[36mapply_instruction\u001b[0m:\u001b[36m65\u001b[0m - \u001b[1mCreating the oracle\u001b[0m\n",
      "\u001b[32m2025-08-12 15:51:19.616\u001b[0m | \u001b[1mINFO    \u001b[0m | \u001b[36mvif.falcon.oracle.guided_oracle.guided_code_oracle\u001b[0m:\u001b[36mget_oracle\u001b[0m:\u001b[36m101\u001b[0m - \u001b[1mCreating Oracle for instruction Switch the color of the circle and the triangle\u001b[0m\n",
      "\u001b[32m2025-08-12 15:51:23.041\u001b[0m | \u001b[1mINFO    \u001b[0m | \u001b[36mvif.falcon.oracle.guided_oracle.guided_code_oracle\u001b[0m:\u001b[36mget_oracle\u001b[0m:\u001b[36m116\u001b[0m - \u001b[1mOracle created: def test_valid_customization() -> bool:\n",
      "    # The original image contains a red triangle, a green circle, & a blue square.\n",
      "    # The prompt asks to switch the colors of the circle & the triangle.\n",
      "    # This means the triangle should become green & the circle should become red.\n",
      "    return color(\"triangle\", \"green\") & color(\"circle\", \"red\")\n",
      "\u001b[0m\n",
      "\u001b[32m2025-08-12 15:51:23.354\u001b[0m | \u001b[1mINFO    \u001b[0m | \u001b[36mvif.falcon.edition\u001b[0m:\u001b[36mcustomize\u001b[0m:\u001b[36m115\u001b[0m - \u001b[1mSending initial message\u001b[0m\n",
      "\u001b[32m2025-08-12 15:51:26.515\u001b[0m | \u001b[1mINFO    \u001b[0m | \u001b[36mvif.falcon.edition\u001b[0m:\u001b[36mcustomize\u001b[0m:\u001b[36m124\u001b[0m - \u001b[1mLLM response:ChatCompletion(id='gen-1755006683-50vPgZZJSjrNtQZfykum', choices=[Choice(finish_reason='stop', index=0, logprobs=None, message=ChatCompletionMessage(content='```\\n[\\n  {\"start\": 8, \"end\": 9, \"content\": \"  \\\\\\\\node[regular polygon, regular polygon sides=3, minimum size=3cm, fill=green!30] at (0,0) {};\"},\\n  {\"start\": 9, \"end\": 10, \"content\": \"  \\\\\\\\node[circle, minimum size=2cm, fill=red!30] at (3,0.25) {};\"}\\n]\\n```', refusal=None, role='assistant', annotations=None, audio=None, function_call=None, tool_calls=None, reasoning=None), native_finish_reason='STOP')], created=1755006683, model='google/gemini-2.5-flash-lite', object='chat.completion', service_tier=None, system_fingerprint=None, usage=CompletionUsage(completion_tokens=108, prompt_tokens=2348, total_tokens=2456, completion_tokens_details=None, prompt_tokens_details=None), provider='Google')\u001b[0m\n"
     ]
    },
    {
     "ename": "KeyboardInterrupt",
     "evalue": "",
     "output_type": "error",
     "traceback": [
      "\u001b[31m---------------------------------------------------------------------------\u001b[39m",
      "\u001b[31mKeyboardInterrupt\u001b[39m                         Traceback (most recent call last)",
      "\u001b[36mCell\u001b[39m\u001b[36m \u001b[39m\u001b[32mIn[3]\u001b[39m\u001b[32m, line 1\u001b[39m\n\u001b[32m----> \u001b[39m\u001b[32m1\u001b[39m \u001b[43magent\u001b[49m\u001b[43m.\u001b[49m\u001b[43mapply_instruction\u001b[49m\u001b[43m(\u001b[49m\u001b[43mds\u001b[49m\u001b[43m[\u001b[49m\u001b[32;43m0\u001b[39;49m\u001b[43m]\u001b[49m\u001b[43m[\u001b[49m\u001b[33;43m\"\u001b[39;49m\u001b[33;43mcode\u001b[39;49m\u001b[33;43m\"\u001b[39;49m\u001b[43m]\u001b[49m\u001b[43m,\u001b[49m\u001b[43mds\u001b[49m\u001b[43m[\u001b[49m\u001b[32;43m0\u001b[39;49m\u001b[43m]\u001b[49m\u001b[43m[\u001b[49m\u001b[33;43m\"\u001b[39;49m\u001b[33;43minstruction\u001b[39;49m\u001b[33;43m\"\u001b[39;49m\u001b[43m]\u001b[49m\u001b[43m,\u001b[49m\u001b[43mds\u001b[49m\u001b[43m[\u001b[49m\u001b[32;43m0\u001b[39;49m\u001b[43m]\u001b[49m\u001b[43m[\u001b[49m\u001b[33;43m\"\u001b[39;49m\u001b[33;43mid\u001b[39;49m\u001b[33;43m\"\u001b[39;49m\u001b[43m]\u001b[49m\u001b[43m)\u001b[49m\n",
      "\u001b[36mFile \u001b[39m\u001b[32m~/Documents/AI/VIFagent/vif/falcon/falcon.py:73\u001b[39m, in \u001b[36mFalcon.apply_instruction\u001b[39m\u001b[34m(self, code, instruction, optional_id)\u001b[39m\n\u001b[32m     68\u001b[39m \u001b[38;5;28;01mexcept\u001b[39;00m \u001b[38;5;167;01mAttributeError\u001b[39;00m \u001b[38;5;28;01mas\u001b[39;00m ae:\n\u001b[32m     69\u001b[39m     logger.error(\n\u001b[32m     70\u001b[39m         \u001b[33mf\u001b[39m\u001b[33m\"\u001b[39m\u001b[33mFatal error during oracle generation, oracle is none\u001b[39m\u001b[38;5;132;01m{\u001b[39;00m\u001b[38;5;28mstr\u001b[39m(ae)\u001b[38;5;132;01m}\u001b[39;00m\u001b[33m\"\u001b[39m\n\u001b[32m     71\u001b[39m     )\n\u001b[32m---> \u001b[39m\u001b[32m73\u001b[39m response_code = \u001b[38;5;28;43mself\u001b[39;49m\u001b[43m.\u001b[49m\u001b[43medition_module\u001b[49m\u001b[43m.\u001b[49m\u001b[43mcustomize\u001b[49m\u001b[43m(\u001b[49m\n\u001b[32m     74\u001b[39m \u001b[43m    \u001b[49m\u001b[43minstruction\u001b[49m\u001b[43m,\u001b[49m\u001b[43m \u001b[49m\u001b[43mcode\u001b[49m\u001b[43m,\u001b[49m\u001b[43m \u001b[49m\u001b[43moracle\u001b[49m\u001b[43m,\u001b[49m\u001b[43m \u001b[49m\u001b[43moptional_id\u001b[49m\n\u001b[32m     75\u001b[39m \u001b[43m\u001b[49m\u001b[43m)\u001b[49m\n\u001b[32m     77\u001b[39m \u001b[38;5;28;01mwith\u001b[39;00m \u001b[38;5;28mopen\u001b[39m(\n\u001b[32m     78\u001b[39m     os.path.join(\u001b[38;5;28mself\u001b[39m.observe_folder, \u001b[38;5;28mself\u001b[39m.ds_stored_name + \u001b[33m\"\u001b[39m\u001b[33m.pickle\u001b[39m\u001b[33m\"\u001b[39m), \u001b[33m\"\u001b[39m\u001b[33mwb\u001b[39m\u001b[33m\"\u001b[39m\n\u001b[32m     79\u001b[39m ) \u001b[38;5;28;01mas\u001b[39;00m obsfile:\n\u001b[32m     80\u001b[39m     pickle.dump(\u001b[38;5;28mself\u001b[39m.edition_module.observe_list, obsfile)\n",
      "\u001b[36mFile \u001b[39m\u001b[32m~/Documents/AI/VIFagent/vif/falcon/edition.py:127\u001b[39m, in \u001b[36mOracleEditionModule.customize\u001b[39m\u001b[34m(self, instruction, code, oracle, optional_id)\u001b[39m\n\u001b[32m    124\u001b[39m logger.info(\u001b[33mf\u001b[39m\u001b[33m\"\u001b[39m\u001b[33mLLM response:\u001b[39m\u001b[38;5;132;01m{\u001b[39;00mresponse\u001b[38;5;132;01m}\u001b[39;00m\u001b[33m\"\u001b[39m)\n\u001b[32m    125\u001b[39m pattern = \u001b[33mr\u001b[39m\u001b[33m\"\u001b[39m\u001b[33m```(?:\u001b[39m\u001b[33m\\\u001b[39m\u001b[33mw+)?\u001b[39m\u001b[33m\\\u001b[39m\u001b[33mn([\u001b[39m\u001b[33m\\\u001b[39m\u001b[33ms\u001b[39m\u001b[33m\\\u001b[39m\u001b[33mS]+?)```\u001b[39m\u001b[33m\"\u001b[39m\n\u001b[32m--> \u001b[39m\u001b[32m127\u001b[39m edits_match: re.Match[\u001b[38;5;28mstr\u001b[39m] = \u001b[43mre\u001b[49m.search(\n\u001b[32m    128\u001b[39m     pattern, response.choices[\u001b[32m0\u001b[39m].message.content\n\u001b[32m    129\u001b[39m )\n\u001b[32m    130\u001b[39m edits = json.loads(edits_match.group(\u001b[32m1\u001b[39m))\n\u001b[32m    131\u001b[39m edited_code, annotated_code = \u001b[38;5;28mself\u001b[39m.modify_code(edits, edited_code)\n",
      "\u001b[36mFile \u001b[39m\u001b[32m<stringsource>:69\u001b[39m, in \u001b[36mcfunc.to_py.__Pyx_CFunc_b0409f__29_pydevd_sys_monitoring_cython_object__lParen__etc_to_py_4code_4line.wrap\u001b[39m\u001b[34m()\u001b[39m\n",
      "\u001b[36mFile \u001b[39m\u001b[32m_pydevd_sys_monitoring\\\\_pydevd_sys_monitoring_cython.pyx:1470\u001b[39m, in \u001b[36m_pydevd_sys_monitoring_cython._line_event\u001b[39m\u001b[34m()\u001b[39m\n",
      "\u001b[36mFile \u001b[39m\u001b[32m_pydevd_sys_monitoring\\\\_pydevd_sys_monitoring_cython.pyx:1512\u001b[39m, in \u001b[36m_pydevd_sys_monitoring_cython._internal_line_event\u001b[39m\u001b[34m()\u001b[39m\n",
      "\u001b[36mFile \u001b[39m\u001b[32m_pydevd_sys_monitoring\\\\_pydevd_sys_monitoring_cython.pyx:1313\u001b[39m, in \u001b[36m_pydevd_sys_monitoring_cython._stop_on_breakpoint\u001b[39m\u001b[34m()\u001b[39m\n",
      "\u001b[36mFile \u001b[39m\u001b[32m_pydevd_sys_monitoring\\\\_pydevd_sys_monitoring_cython.pyx:1950\u001b[39m, in \u001b[36m_pydevd_sys_monitoring_cython._do_wait_suspend\u001b[39m\u001b[34m()\u001b[39m\n",
      "\u001b[36mFile \u001b[39m\u001b[32m~/Documents/AI/VIFagent/.venv/lib/python3.12/site-packages/debugpy/_vendored/pydevd/pydevd.py:2188\u001b[39m, in \u001b[36mPyDB.do_wait_suspend\u001b[39m\u001b[34m(self, thread, frame, event, arg, exception_type)\u001b[39m\n\u001b[32m   2185\u001b[39m             from_this_thread.append(frame_custom_thread_id)\n\u001b[32m   2187\u001b[39m     \u001b[38;5;28;01mwith\u001b[39;00m \u001b[38;5;28mself\u001b[39m._threads_suspended_single_notification.notify_thread_suspended(thread_id, thread, stop_reason):\n\u001b[32m-> \u001b[39m\u001b[32m2188\u001b[39m         keep_suspended = \u001b[38;5;28;43mself\u001b[39;49m\u001b[43m.\u001b[49m\u001b[43m_do_wait_suspend\u001b[49m\u001b[43m(\u001b[49m\u001b[43mthread\u001b[49m\u001b[43m,\u001b[49m\u001b[43m \u001b[49m\u001b[43mframe\u001b[49m\u001b[43m,\u001b[49m\u001b[43m \u001b[49m\u001b[43mevent\u001b[49m\u001b[43m,\u001b[49m\u001b[43m \u001b[49m\u001b[43marg\u001b[49m\u001b[43m,\u001b[49m\u001b[43m \u001b[49m\u001b[43mtrace_suspend_type\u001b[49m\u001b[43m,\u001b[49m\u001b[43m \u001b[49m\u001b[43mfrom_this_thread\u001b[49m\u001b[43m,\u001b[49m\u001b[43m \u001b[49m\u001b[43mframes_tracker\u001b[49m\u001b[43m)\u001b[49m\n\u001b[32m   2190\u001b[39m frames_list = \u001b[38;5;28;01mNone\u001b[39;00m\n\u001b[32m   2192\u001b[39m \u001b[38;5;28;01mif\u001b[39;00m keep_suspended:\n\u001b[32m   2193\u001b[39m     \u001b[38;5;66;03m# This means that we should pause again after a set next statement.\u001b[39;00m\n",
      "\u001b[36mFile \u001b[39m\u001b[32m~/Documents/AI/VIFagent/.venv/lib/python3.12/site-packages/debugpy/_vendored/pydevd/pydevd.py:2257\u001b[39m, in \u001b[36mPyDB._do_wait_suspend\u001b[39m\u001b[34m(self, thread, frame, event, arg, trace_suspend_type, from_this_thread, frames_tracker)\u001b[39m\n\u001b[32m   2254\u001b[39m                 queue.put(internal_cmd)\n\u001b[32m   2255\u001b[39m                 wait_timeout = TIMEOUT_FAST\n\u001b[32m-> \u001b[39m\u001b[32m2257\u001b[39m         \u001b[43mnotify_event\u001b[49m\u001b[43m.\u001b[49m\u001b[43mwait\u001b[49m\u001b[43m(\u001b[49m\u001b[43mwait_timeout\u001b[49m\u001b[43m)\u001b[49m\n\u001b[32m   2258\u001b[39m         notify_event.clear()\n\u001b[32m   2260\u001b[39m \u001b[38;5;28;01mfinally\u001b[39;00m:\n",
      "\u001b[36mFile \u001b[39m\u001b[32m/usr/lib/python3.12/threading.py:655\u001b[39m, in \u001b[36mEvent.wait\u001b[39m\u001b[34m(self, timeout)\u001b[39m\n\u001b[32m    653\u001b[39m signaled = \u001b[38;5;28mself\u001b[39m._flag\n\u001b[32m    654\u001b[39m \u001b[38;5;28;01mif\u001b[39;00m \u001b[38;5;129;01mnot\u001b[39;00m signaled:\n\u001b[32m--> \u001b[39m\u001b[32m655\u001b[39m     signaled = \u001b[38;5;28;43mself\u001b[39;49m\u001b[43m.\u001b[49m\u001b[43m_cond\u001b[49m\u001b[43m.\u001b[49m\u001b[43mwait\u001b[49m\u001b[43m(\u001b[49m\u001b[43mtimeout\u001b[49m\u001b[43m)\u001b[49m\n\u001b[32m    656\u001b[39m \u001b[38;5;28;01mreturn\u001b[39;00m signaled\n",
      "\u001b[36mFile \u001b[39m\u001b[32m/usr/lib/python3.12/threading.py:359\u001b[39m, in \u001b[36mCondition.wait\u001b[39m\u001b[34m(self, timeout)\u001b[39m\n\u001b[32m    357\u001b[39m \u001b[38;5;28;01melse\u001b[39;00m:\n\u001b[32m    358\u001b[39m     \u001b[38;5;28;01mif\u001b[39;00m timeout > \u001b[32m0\u001b[39m:\n\u001b[32m--> \u001b[39m\u001b[32m359\u001b[39m         gotit = \u001b[43mwaiter\u001b[49m\u001b[43m.\u001b[49m\u001b[43macquire\u001b[49m\u001b[43m(\u001b[49m\u001b[38;5;28;43;01mTrue\u001b[39;49;00m\u001b[43m,\u001b[49m\u001b[43m \u001b[49m\u001b[43mtimeout\u001b[49m\u001b[43m)\u001b[49m\n\u001b[32m    360\u001b[39m     \u001b[38;5;28;01melse\u001b[39;00m:\n\u001b[32m    361\u001b[39m         gotit = waiter.acquire(\u001b[38;5;28;01mFalse\u001b[39;00m)\n",
      "\u001b[31mKeyboardInterrupt\u001b[39m: "
     ]
    }
   ],
   "source": [
    "agent.apply_instruction(ds[0][\"code\"],ds[0][\"instruction\"],ds[0][\"id\"])"
   ]
  },
  {
   "cell_type": "code",
   "execution_count": null,
   "id": "b790ec97",
   "metadata": {},
   "outputs": [],
   "source": [
    "print(ds[0][\"instruction\"])\n",
    "ds[0][\"image_input\"]"
   ]
  },
  {
   "cell_type": "code",
   "execution_count": null,
   "id": "16f8aef0",
   "metadata": {},
   "outputs": [],
   "source": []
  }
 ],
 "metadata": {
  "kernelspec": {
   "display_name": "VIFagent",
   "language": "python",
   "name": "python3"
  },
  "language_info": {
   "codemirror_mode": {
    "name": "ipython",
    "version": 3
   },
   "file_extension": ".py",
   "mimetype": "text/x-python",
   "name": "python",
   "nbconvert_exporter": "python",
   "pygments_lexer": "ipython3",
   "version": "3.12.11"
  }
 },
 "nbformat": 4,
 "nbformat_minor": 5
}
