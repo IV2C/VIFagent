{
 "cells": [
  {
   "cell_type": "code",
   "execution_count": 1,
   "id": "6f084352",
   "metadata": {},
   "outputs": [
    {
     "name": "stderr",
     "output_type": "stream",
     "text": [
      "/home/creux/Documents/AI/VIFagent/.venv/lib/python3.12/site-packages/tqdm/auto.py:21: TqdmWarning: IProgress not found. Please update jupyter and ipywidgets. See https://ipywidgets.readthedocs.io/en/stable/user_install.html\n",
      "  from .autonotebook import tqdm as notebook_tqdm\n"
     ]
    }
   ],
   "source": [
    "\n",
    "from datasets import load_dataset\n",
    "\n",
    "\n",
    "ds = load_dataset(\"CharlyR/vtikz\", \"tikz\", split=\"test\")\n",
    "ds = ds.select_columns([\"id\",\"type\",\"instruction\",\"code\",\"image_solution\",\"image_input\",\"code_solution\"])\n"
   ]
  },
  {
   "cell_type": "code",
   "execution_count": 2,
   "id": "ab824bc8",
   "metadata": {},
   "outputs": [
    {
     "name": "stderr",
     "output_type": "stream",
     "text": [
      "You are trying to use a model that was created with Sentence Transformers version 5.0.0, but you're currently using version 4.1.0. This might cause unexpected behavior or errors. In that case, try to update to the latest version.\n",
      "\u001b[32m2025-08-12 14:04:42.626\u001b[0m | \u001b[33m\u001b[1mWARNING \u001b[0m | \u001b[36mvif.falcon.falcon\u001b[0m:\u001b[36m__init__\u001b[0m:\u001b[36m46\u001b[0m - \u001b[33m\u001b[1mThe observe parameter is activated, dict will be stored at /home/creux/Documents/AI/VIFagent/.tmp/observe/1208-14:04:42.pickle\u001b[0m\n"
     ]
    }
   ],
   "source": [
    "from openai import OpenAI\n",
    "import os\n",
    "from google import genai\n",
    "from google.genai import types as genTypes\n",
    "from vif.falcon.edition import OracleEditionModule\n",
    "from vif.falcon.falcon import Falcon\n",
    "from vif.falcon.oracle.guided_oracle.guided_code_oracle import OracleGuidedCodeModule\n",
    "from vif.utils.renderer.tex_renderer import TexRenderer\n",
    "\n",
    "gclient = genai.Client(\n",
    "    api_key=os.environ.get(\"GOOGLE_API_KEY\"),\n",
    "    http_options=genTypes.HttpOptions(api_version=\"v1alpha\"),\n",
    ")\n",
    "\n",
    "oclient = OpenAI(\n",
    "    base_url=\"https://openrouter.ai/api/v1\",\n",
    "    api_key=os.environ.get(\"OPENROUTER_API_KEY\"),\n",
    ")\n",
    "\n",
    "\n",
    "oracle_module = OracleGuidedCodeModule(\n",
    "    model=\"google/gemini-2.5-flash-lite\",\n",
    "    temperature=0.3,\n",
    "    client=oclient,\n",
    "    visual_client=gclient,\n",
    "    visual_generation_content_config=genTypes.GenerateContentConfig(temperature=0.3),\n",
    "    visual_model=\"gemini-2.5-pro\"\n",
    ")\n",
    "edition_module = OracleEditionModule(\n",
    "    model=\"google/gemini-2.5-flash-lite\",\n",
    "    temperature=0.3,\n",
    "    client=oclient,\n",
    ")\n",
    "\n",
    "agent = Falcon(\n",
    "    code_renderer=TexRenderer().from_string_to_image,\n",
    "    oracle_module=oracle_module,\n",
    "    edition_module=edition_module,\n",
    "    observe=True,\n",
    "    observe_folder=\"/home/creux/Documents/AI/VIFagent/.tmp/observe\",\n",
    ")"
   ]
  },
  {
   "cell_type": "code",
   "execution_count": 3,
   "id": "ca64f7fa",
   "metadata": {},
   "outputs": [
    {
     "name": "stderr",
     "output_type": "stream",
     "text": [
      "\u001b[32m2025-08-12 14:04:47.094\u001b[0m | \u001b[1mINFO    \u001b[0m | \u001b[36mvif.falcon.falcon\u001b[0m:\u001b[36mapply_instruction\u001b[0m:\u001b[36m65\u001b[0m - \u001b[1mCreating the oracle\u001b[0m\n",
      "\u001b[32m2025-08-12 14:04:49.475\u001b[0m | \u001b[1mINFO    \u001b[0m | \u001b[36mvif.falcon.oracle.guided_oracle.guided_code_oracle\u001b[0m:\u001b[36mget_oracle\u001b[0m:\u001b[36m116\u001b[0m - \u001b[1mOracle created: def test_valid_customization() -> bool:\n",
      "    return color(\"circle\", \"red\") & color(\"triangle\", \"green\")\n",
      "\u001b[0m\n",
      "\u001b[32m2025-08-12 14:04:49.778\u001b[0m | \u001b[1mINFO    \u001b[0m | \u001b[36mvif.falcon.edition\u001b[0m:\u001b[36mcustomize\u001b[0m:\u001b[36m115\u001b[0m - \u001b[1mSending initial message\u001b[0m\n",
      "\u001b[32m2025-08-12 14:04:51.661\u001b[0m | \u001b[1mINFO    \u001b[0m | \u001b[36mvif.falcon.edition\u001b[0m:\u001b[36mcustomize\u001b[0m:\u001b[36m124\u001b[0m - \u001b[1mLLM response:ChatCompletion(id='gen-1755000289-aSQsDD6nwa2Rjc2pgaNY', choices=[Choice(finish_reason='stop', index=0, logprobs=None, message=ChatCompletionMessage(content='```\\n[\\n  {\"start\": 8, \"end\": 9, \"content\": \"  \\\\\\\\node[regular polygon, regular polygon sides=3, minimum size=3cm, fill=green!30] at (0,0) {};\"},\\n  {\"start\": 9, \"end\": 10, \"content\": \"  \\\\\\\\node[circle, minimum size=2cm, fill=red!30] at (3,0.25) {};\"}\\n]\\n```', refusal=None, role='assistant', annotations=None, audio=None, function_call=None, tool_calls=None, reasoning=None), native_finish_reason='STOP')], created=1755000289, model='google/gemini-2.5-flash-lite', object='chat.completion', service_tier=None, system_fingerprint=None, usage=CompletionUsage(completion_tokens=108, prompt_tokens=2349, total_tokens=2457, completion_tokens_details=None, prompt_tokens_details=None), provider='Google')\u001b[0m\n"
     ]
    },
    {
     "ename": "TypeError",
     "evalue": "'re.Match' object is not iterable",
     "output_type": "error",
     "traceback": [
      "\u001b[31m---------------------------------------------------------------------------\u001b[39m",
      "\u001b[31mTypeError\u001b[39m                                 Traceback (most recent call last)",
      "\u001b[36mCell\u001b[39m\u001b[36m \u001b[39m\u001b[32mIn[3]\u001b[39m\u001b[32m, line 1\u001b[39m\n\u001b[32m----> \u001b[39m\u001b[32m1\u001b[39m \u001b[43magent\u001b[49m\u001b[43m.\u001b[49m\u001b[43mapply_instruction\u001b[49m\u001b[43m(\u001b[49m\u001b[43mds\u001b[49m\u001b[43m[\u001b[49m\u001b[32;43m0\u001b[39;49m\u001b[43m]\u001b[49m\u001b[43m[\u001b[49m\u001b[33;43m\"\u001b[39;49m\u001b[33;43mcode\u001b[39;49m\u001b[33;43m\"\u001b[39;49m\u001b[43m]\u001b[49m\u001b[43m,\u001b[49m\u001b[43mds\u001b[49m\u001b[43m[\u001b[49m\u001b[32;43m0\u001b[39;49m\u001b[43m]\u001b[49m\u001b[43m[\u001b[49m\u001b[33;43m\"\u001b[39;49m\u001b[33;43minstruction\u001b[39;49m\u001b[33;43m\"\u001b[39;49m\u001b[43m]\u001b[49m\u001b[43m,\u001b[49m\u001b[43mds\u001b[49m\u001b[43m[\u001b[49m\u001b[32;43m0\u001b[39;49m\u001b[43m]\u001b[49m\u001b[43m[\u001b[49m\u001b[33;43m\"\u001b[39;49m\u001b[33;43mid\u001b[39;49m\u001b[33;43m\"\u001b[39;49m\u001b[43m]\u001b[49m\u001b[43m)\u001b[49m\n",
      "\u001b[36mFile \u001b[39m\u001b[32m~/Documents/AI/VIFagent/vif/falcon/falcon.py:73\u001b[39m, in \u001b[36mFalcon.apply_instruction\u001b[39m\u001b[34m(self, code, instruction, optional_id)\u001b[39m\n\u001b[32m     68\u001b[39m \u001b[38;5;28;01mexcept\u001b[39;00m \u001b[38;5;167;01mAttributeError\u001b[39;00m \u001b[38;5;28;01mas\u001b[39;00m ae:\n\u001b[32m     69\u001b[39m     logger.error(\n\u001b[32m     70\u001b[39m         \u001b[33mf\u001b[39m\u001b[33m\"\u001b[39m\u001b[33mFatal error during oracle generation, oracle is none\u001b[39m\u001b[38;5;132;01m{\u001b[39;00m\u001b[38;5;28mstr\u001b[39m(ae)\u001b[38;5;132;01m}\u001b[39;00m\u001b[33m\"\u001b[39m\n\u001b[32m     71\u001b[39m     )\n\u001b[32m---> \u001b[39m\u001b[32m73\u001b[39m response_code = \u001b[38;5;28;43mself\u001b[39;49m\u001b[43m.\u001b[49m\u001b[43medition_module\u001b[49m\u001b[43m.\u001b[49m\u001b[43mcustomize\u001b[49m\u001b[43m(\u001b[49m\n\u001b[32m     74\u001b[39m \u001b[43m    \u001b[49m\u001b[43minstruction\u001b[49m\u001b[43m,\u001b[49m\u001b[43m \u001b[49m\u001b[43mcode\u001b[49m\u001b[43m,\u001b[49m\u001b[43m \u001b[49m\u001b[43moracle\u001b[49m\u001b[43m,\u001b[49m\u001b[43m \u001b[49m\u001b[43moptional_id\u001b[49m\n\u001b[32m     75\u001b[39m \u001b[43m\u001b[49m\u001b[43m)\u001b[49m\n\u001b[32m     77\u001b[39m \u001b[38;5;28;01mwith\u001b[39;00m \u001b[38;5;28mopen\u001b[39m(\n\u001b[32m     78\u001b[39m     os.path.join(\u001b[38;5;28mself\u001b[39m.observe_folder, \u001b[38;5;28mself\u001b[39m.ds_stored_name + \u001b[33m\"\u001b[39m\u001b[33m.pickle\u001b[39m\u001b[33m\"\u001b[39m), \u001b[33m\"\u001b[39m\u001b[33mwb\u001b[39m\u001b[33m\"\u001b[39m\n\u001b[32m     79\u001b[39m ) \u001b[38;5;28;01mas\u001b[39;00m obsfile:\n\u001b[32m     80\u001b[39m     pickle.dump(\u001b[38;5;28mself\u001b[39m.edition_module.observe_list, obsfile)\n",
      "\u001b[36mFile \u001b[39m\u001b[32m~/Documents/AI/VIFagent/vif/falcon/edition.py:129\u001b[39m, in \u001b[36mOracleEditionModule.customize\u001b[39m\u001b[34m(self, instruction, code, oracle, optional_id)\u001b[39m\n\u001b[32m    125\u001b[39m pattern = \u001b[33mr\u001b[39m\u001b[33m\"\u001b[39m\u001b[33m```(?:\u001b[39m\u001b[33m\\\u001b[39m\u001b[33mw+)?\u001b[39m\u001b[33m\\\u001b[39m\u001b[33mn([\u001b[39m\u001b[33m\\\u001b[39m\u001b[33ms\u001b[39m\u001b[33m\\\u001b[39m\u001b[33mS]+?)```\u001b[39m\u001b[33m\"\u001b[39m\n\u001b[32m    127\u001b[39m edits = re.search(pattern, response.choices[\u001b[32m0\u001b[39m].message.content)\n\u001b[32m--> \u001b[39m\u001b[32m129\u001b[39m edited_code, annotated_code = \u001b[38;5;28;43mself\u001b[39;49m\u001b[43m.\u001b[49m\u001b[43mmodify_code\u001b[49m\u001b[43m(\u001b[49m\u001b[43medits\u001b[49m\u001b[43m,\u001b[49m\u001b[43m \u001b[49m\u001b[43medited_code\u001b[49m\u001b[43m)\u001b[49m\n\u001b[32m    131\u001b[39m \u001b[38;5;66;03m# run oracle\u001b[39;00m\n\u001b[32m    132\u001b[39m \u001b[38;5;66;03m##default values for observability\u001b[39;00m\n\u001b[32m    133\u001b[39m oracle_response, report, error_type, edited_image = (\n\u001b[32m    134\u001b[39m     OracleResponse(\u001b[38;5;28;01mFalse\u001b[39;00m, []),\n\u001b[32m    135\u001b[39m     \u001b[38;5;28;01mNone\u001b[39;00m,\n\u001b[32m    136\u001b[39m     \u001b[38;5;28;01mNone\u001b[39;00m,\n\u001b[32m    137\u001b[39m     \u001b[38;5;28;01mNone\u001b[39;00m,\n\u001b[32m    138\u001b[39m )\n",
      "\u001b[36mFile \u001b[39m\u001b[32m~/Documents/AI/VIFagent/vif/falcon/edition.py:57\u001b[39m, in \u001b[36mOracleEditionModule.modify_code\u001b[39m\u001b[34m(self, edits, code)\u001b[39m\n\u001b[32m     54\u001b[39m \u001b[38;5;28;01mdef\u001b[39;00m\u001b[38;5;250m \u001b[39m\u001b[34mmodify_code\u001b[39m(\u001b[38;5;28mself\u001b[39m, edits: \u001b[38;5;28mlist\u001b[39m, code: \u001b[38;5;28mstr\u001b[39m) -> \u001b[38;5;28mtuple\u001b[39m[\u001b[38;5;28mstr\u001b[39m, \u001b[38;5;28mstr\u001b[39m]:\n\u001b[32m     55\u001b[39m     \u001b[38;5;28;01mtry\u001b[39;00m:\n\u001b[32m     56\u001b[39m         edits = \u001b[43m[\u001b[49m\n\u001b[32m---> \u001b[39m\u001b[32m57\u001b[39m \u001b[43m            \u001b[49m\u001b[43mCodeEdit\u001b[49m\u001b[43m(\u001b[49m\u001b[43medit\u001b[49m\u001b[43m[\u001b[49m\u001b[33;43m\"\u001b[39;49m\u001b[33;43mstart\u001b[39;49m\u001b[33;43m\"\u001b[39;49m\u001b[43m]\u001b[49m\u001b[43m,\u001b[49m\u001b[43m \u001b[49m\u001b[43medit\u001b[49m\u001b[43m[\u001b[49m\u001b[33;43m\"\u001b[39;49m\u001b[33;43mend\u001b[39;49m\u001b[33;43m\"\u001b[39;49m\u001b[43m]\u001b[49m\u001b[43m,\u001b[49m\u001b[43m \u001b[49m\u001b[43medit\u001b[49m\u001b[43m[\u001b[49m\u001b[33;43m\"\u001b[39;49m\u001b[33;43mcontent\u001b[39;49m\u001b[33;43m\"\u001b[39;49m\u001b[43m]\u001b[49m\u001b[43m)\u001b[49m\u001b[43m \u001b[49m\u001b[38;5;28;43;01mfor\u001b[39;49;00m\u001b[43m \u001b[49m\u001b[43medit\u001b[49m\u001b[43m \u001b[49m\u001b[38;5;129;43;01min\u001b[39;49;00m\u001b[43m \u001b[49m\u001b[43medits\u001b[49m\n\u001b[32m     58\u001b[39m \u001b[43m        \u001b[49m\u001b[43m]\u001b[49m\n\u001b[32m     59\u001b[39m         logger.info(\n\u001b[32m     60\u001b[39m             \u001b[33mf\u001b[39m\u001b[33m\"\u001b[39m\u001b[33mApplying modifications \u001b[39m\u001b[38;5;132;01m{\u001b[39;00m\u001b[33m'\u001b[39m\u001b[33m,\u001b[39m\u001b[33m'\u001b[39m.join([\u001b[38;5;28mstr\u001b[39m(edit)\u001b[38;5;250m \u001b[39m\u001b[38;5;28;01mfor\u001b[39;00m\u001b[38;5;250m \u001b[39medit\u001b[38;5;250m \u001b[39m\u001b[38;5;129;01min\u001b[39;00m\u001b[38;5;250m \u001b[39medits])\u001b[38;5;132;01m}\u001b[39;00m\u001b[33m\"\u001b[39m\n\u001b[32m     61\u001b[39m         )\n\u001b[32m     62\u001b[39m         edited_code = apply_edits(code, edits)\n",
      "\u001b[31mTypeError\u001b[39m: 're.Match' object is not iterable"
     ]
    }
   ],
   "source": [
    "agent.apply_instruction(ds[0][\"code\"],ds[0][\"instruction\"],ds[0][\"id\"])"
   ]
  },
  {
   "cell_type": "code",
   "execution_count": null,
   "id": "b790ec97",
   "metadata": {},
   "outputs": [],
   "source": [
    "print(ds[0][\"instruction\"])\n",
    "ds[0][\"image_input\"]"
   ]
  },
  {
   "cell_type": "code",
   "execution_count": null,
   "id": "16f8aef0",
   "metadata": {},
   "outputs": [],
   "source": []
  }
 ],
 "metadata": {
  "kernelspec": {
   "display_name": "VIFagent",
   "language": "python",
   "name": "python3"
  },
  "language_info": {
   "codemirror_mode": {
    "name": "ipython",
    "version": 3
   },
   "file_extension": ".py",
   "mimetype": "text/x-python",
   "name": "python",
   "nbconvert_exporter": "python",
   "pygments_lexer": "ipython3",
   "version": "3.12.11"
  }
 },
 "nbformat": 4,
 "nbformat_minor": 5
}
