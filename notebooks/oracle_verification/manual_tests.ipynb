{
 "cells": [
  {
   "cell_type": "markdown",
   "id": "3400dfff",
   "metadata": {},
   "source": [
    "# Manual testing of modules"
   ]
  },
  {
   "cell_type": "markdown",
   "id": "2572e098",
   "metadata": {},
   "source": [
    "## Identification Module"
   ]
  },
  {
   "cell_type": "code",
   "execution_count": 1,
   "id": "eec8d0cf",
   "metadata": {},
   "outputs": [],
   "source": [
    "import os\n",
    "import pickle\n",
    "from openai import OpenAI\n",
    "from google import genai\n",
    "from google.genai import types as genTypes\n",
    "\n",
    "RES_PATH = \"/home/creux/Documents/AI/VIFagent/tests/resources/seg\"\n",
    "DEBUG_PATH = \"/home/creux/Documents/AI/VIFagent/notebooks/oracle_verification/.debug\"\n",
    "get_res = lambda file: os.path.join(RES_PATH,file)\n",
    "\n",
    "\n",
    "from PIL import Image\n",
    "original_image = Image.open(get_res(\"rgb_stc.png\"))"
   ]
  },
  {
   "cell_type": "markdown",
   "id": "7979b9d3",
   "metadata": {},
   "source": [
    "## Oracle creation"
   ]
  },
  {
   "cell_type": "code",
   "execution_count": 2,
   "id": "fe1a368c",
   "metadata": {},
   "outputs": [
    {
     "name": "stderr",
     "output_type": "stream",
     "text": [
      "/home/creux/Documents/AI/VIFagent/.venv/lib/python3.12/site-packages/tqdm/auto.py:21: TqdmWarning: IProgress not found. Please update jupyter and ipywidgets. See https://ipywidgets.readthedocs.io/en/stable/user_install.html\n",
      "  from .autonotebook import tqdm as notebook_tqdm\n",
      "You are trying to use a model that was created with Sentence Transformers version 5.0.0, but you're currently using version 4.1.0. This might cause unexpected behavior or errors. In that case, try to update to the latest version.\n",
      "\u001b[32m2025-07-25 13:35:10.374\u001b[0m | \u001b[34m\u001b[1mDEBUG   \u001b[0m | \u001b[36mvif.falcon.oracle.guided_oracle.guided_code_oracle\u001b[0m:\u001b[36mget_oracle\u001b[0m:\u001b[36m98\u001b[0m - \u001b[34m\u001b[1mCreating Oracle\u001b[0m\n"
     ]
    }
   ],
   "source": [
    "\n",
    "from vif.falcon.oracle.guided_oracle.guided_code_oracle import OracleGuidedCodeModule\n",
    "visual_client=genai.Client(\n",
    "        api_key=os.environ.get(\"GOOGLE_API_KEY\"),\n",
    "        http_options=genTypes.HttpOptions(api_version='v1alpha')\n",
    "    )\n",
    "\n",
    "\n",
    "oracle_module = OracleGuidedCodeModule(\n",
    "    model=\"gemini-2.5-pro\",\n",
    "    temperature=0.3,\n",
    "    client=OpenAI(\n",
    "        api_key=os.environ.get(\"GOOGLE_API_KEY\"),\n",
    "        base_url=\"https://generativelanguage.googleapis.com/v1beta/openai/\",\n",
    "    ),\n",
    "    visual_client=visual_client,\n",
    "    visual_generation_content_config=genTypes.GenerateContentConfig(temperature=0.3),\n",
    "    visual_model=\"gemini-2.5-pro\"\n",
    ")\n",
    "instruction = \"Rotate the square by 45 degree clockwise\"\n",
    "oracle_module.debug_instance_creation(True, DEBUG_PATH)\n",
    "oracle = oracle_module.get_oracle(instruction,original_image)"
   ]
  },
  {
   "cell_type": "code",
   "execution_count": 3,
   "id": "5f5fe725",
   "metadata": {},
   "outputs": [
    {
     "name": "stderr",
     "output_type": "stream",
     "text": [
      "\u001b[32m2025-07-25 13:35:32.172\u001b[0m | \u001b[34m\u001b[1mDEBUG   \u001b[0m | \u001b[36mvif.falcon.oracle.guided_oracle.guided_code_oracle\u001b[0m:\u001b[36moracle\u001b[0m:\u001b[36m125\u001b[0m - \u001b[34m\u001b[1msegmenting original image\u001b[0m\n",
      "\u001b[32m2025-07-25 13:35:32.172\u001b[0m | \u001b[34m\u001b[1mDEBUG   \u001b[0m | \u001b[36mvif.falcon.oracle.guided_oracle.guided_code_oracle\u001b[0m:\u001b[36msegments_from_features\u001b[0m:\u001b[36m150\u001b[0m - \u001b[34m\u001b[1mFeatures to compute blue square\u001b[0m\n",
      "\u001b[32m2025-07-25 13:35:40.275\u001b[0m | \u001b[34m\u001b[1mDEBUG   \u001b[0m | \u001b[36mvif.falcon.oracle.guided_oracle.guided_code_oracle\u001b[0m:\u001b[36moracle\u001b[0m:\u001b[36m129\u001b[0m - \u001b[34m\u001b[1msegmenting customized image\u001b[0m\n"
     ]
    }
   ],
   "source": [
    "from vif.falcon.oracle.oracle import OracleResponse\n",
    "\n",
    "\n",
    "modified_image = Image.open(\"/home/creux/Documents/AI/VIFagent/tests/resources/seg/stc_rgb_rotc.png\")\n",
    "or_res:OracleResponse = oracle(modified_image)"
   ]
  },
  {
   "cell_type": "code",
   "execution_count": null,
   "id": "ea0285e2",
   "metadata": {},
   "outputs": [
    {
     "data": {
      "text/plain": [
       "[]"
      ]
     },
     "execution_count": 5,
     "metadata": {},
     "output_type": "execute_result"
    }
   ],
   "source": [
    "modified_image = Image.open(\"/home/creux/Documents/AI/VIFagent/tests/resources/seg/stc_rgb_rotc.png\")\n",
    "or_res:OracleResponse = oracle(modified_image)"
   ]
  },
  {
   "cell_type": "code",
   "execution_count": 6,
   "id": "6501f086",
   "metadata": {},
   "outputs": [
    {
     "name": "stderr",
     "output_type": "stream",
     "text": [
      "\u001b[32m2025-07-25 13:45:54.570\u001b[0m | \u001b[34m\u001b[1mDEBUG   \u001b[0m | \u001b[36mvif.falcon.oracle.guided_oracle.guided_code_oracle\u001b[0m:\u001b[36moracle\u001b[0m:\u001b[36m125\u001b[0m - \u001b[34m\u001b[1msegmenting original image\u001b[0m\n",
      "\u001b[32m2025-07-25 13:45:54.571\u001b[0m | \u001b[34m\u001b[1mDEBUG   \u001b[0m | \u001b[36mvif.falcon.oracle.guided_oracle.guided_code_oracle\u001b[0m:\u001b[36msegments_from_features\u001b[0m:\u001b[36m150\u001b[0m - \u001b[34m\u001b[1mFeatures to compute blue square\u001b[0m\n",
      "\u001b[32m2025-07-25 13:46:05.924\u001b[0m | \u001b[34m\u001b[1mDEBUG   \u001b[0m | \u001b[36mvif.falcon.oracle.guided_oracle.guided_code_oracle\u001b[0m:\u001b[36moracle\u001b[0m:\u001b[36m129\u001b[0m - \u001b[34m\u001b[1msegmenting customized image\u001b[0m\n"
     ]
    }
   ],
   "source": [
    "or_res:OracleResponse = oracle(original_image)"
   ]
  },
  {
   "cell_type": "markdown",
   "id": "2e09ecdb",
   "metadata": {},
   "source": [
    "## Edition Module"
   ]
  },
  {
   "cell_type": "markdown",
   "id": "745e96fa",
   "metadata": {},
   "source": []
  }
 ],
 "metadata": {
  "kernelspec": {
   "display_name": "VIFagent",
   "language": "python",
   "name": "python3"
  },
  "language_info": {
   "codemirror_mode": {
    "name": "ipython",
    "version": 3
   },
   "file_extension": ".py",
   "mimetype": "text/x-python",
   "name": "python",
   "nbconvert_exporter": "python",
   "pygments_lexer": "ipython3",
   "version": "3.12.11"
  }
 },
 "nbformat": 4,
 "nbformat_minor": 5
}
