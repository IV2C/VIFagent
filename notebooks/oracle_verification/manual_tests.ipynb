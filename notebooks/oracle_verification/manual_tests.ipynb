{
 "cells": [
  {
   "cell_type": "markdown",
   "id": "3400dfff",
   "metadata": {},
   "source": [
    "# Manual testing of modules"
   ]
  },
  {
   "cell_type": "markdown",
   "id": "2572e098",
   "metadata": {},
   "source": [
    "## Identification Module"
   ]
  },
  {
   "cell_type": "code",
   "execution_count": 2,
   "id": "eec8d0cf",
   "metadata": {},
   "outputs": [],
   "source": [
    "import os\n",
    "import pickle\n",
    "from openai import OpenAI\n",
    "from google import genai\n",
    "from google.genai import types as genTypes\n",
    "\n",
    "from vif.feature_identification.feature_identification import SimpleGeminiIdentificationModule\n",
    "RES_PATH = \"/home/creux/Documents/AI/VIFagent/tests/resources/seg\"\n",
    "DEBUG_PATH = \"/home/creux/Documents/AI/VIFagent/notebooks/oracle_verification/.debug\"\n",
    "get_res = lambda file: os.path.join(RES_PATH,file)\n",
    "\n",
    "\"\"\" client=OpenAI(\n",
    "        api_key=os.environ.get(\"OPENROUTER_API_KEY\"),\n",
    "        base_url=\"https://openrouter.ai/api/v1\",\n",
    "    ) \"\"\"\n",
    "client=genai.Client(\n",
    "        api_key=os.environ.get(\"GOOGLE_API_KEY\"),\n",
    "        http_options=genTypes.HttpOptions(api_version='v1alpha')\n",
    "    )\n",
    "\n",
    "simple_identification_module = SimpleGeminiIdentificationModule(\n",
    "    client=client,\n",
    "    model=\"gemini-2.5-pro\",\n",
    "    temperature=0.3,\n",
    ")\n",
    "from PIL import Image\n",
    "original_image = Image.open(get_res(\"rgb_stc.png\"))"
   ]
  },
  {
   "cell_type": "code",
   "execution_count": 5,
   "id": "ce59f224",
   "metadata": {},
   "outputs": [
    {
     "data": {
      "text/plain": [
       "['Top light purple square',\n",
       " 'Bottom left light red triangle',\n",
       " 'Bottom right light green circle']"
      ]
     },
     "execution_count": 5,
     "metadata": {},
     "output_type": "execute_result"
    }
   ],
   "source": [
    "simple_identification_module.debug_instance_creation(True, DEBUG_PATH)\n",
    "\n",
    "simple_identification_module.get_features(original_image)"
   ]
  },
  {
   "cell_type": "code",
   "execution_count": 6,
   "id": "218ce58d",
   "metadata": {},
   "outputs": [],
   "source": [
    "\n",
    "simple_identification_module.debug_instance_creation(True, DEBUG_PATH)\n",
    "\n",
    "# first feature search phase works skipping\n",
    "features = [\n",
    "    \"White background\",\n",
    "    \"Top light purple square\",\n",
    "    \"Bottom-left light red triangle\",\n",
    "    \"Bottom-right light green circle\",\n",
    "]\n",
    "original_image = original_image.convert(\"RGB\")\n",
    "feat_seg = simple_identification_module.segments_from_features(features, original_image)"
   ]
  },
  {
   "cell_type": "code",
   "execution_count": 7,
   "id": "94f04f94",
   "metadata": {},
   "outputs": [],
   "source": [
    "with open(\"/home/creux/Documents/AI/VIFagent/notebooks/oracle_verification/.debug/identification/tmpfiles/segments.pickle\",\"wb\") as sf:\n",
    "    pickle.dump(feat_seg,sf)"
   ]
  },
  {
   "cell_type": "markdown",
   "id": "7979b9d3",
   "metadata": {},
   "source": [
    "## Oracle creation"
   ]
  },
  {
   "cell_type": "code",
   "execution_count": 8,
   "id": "fe1a368c",
   "metadata": {},
   "outputs": [
    {
     "name": "stderr",
     "output_type": "stream",
     "text": [
      "/home/creux/Documents/AI/VIFagent/.venv/lib/python3.12/site-packages/tqdm/auto.py:21: TqdmWarning: IProgress not found. Please update jupyter and ipywidgets. See https://ipywidgets.readthedocs.io/en/stable/user_install.html\n",
      "  from .autonotebook import tqdm as notebook_tqdm\n",
      "You are trying to use a model that was created with Sentence Transformers version 5.0.0, but you're currently using version 4.1.0. This might cause unexpected behavior or errors. In that case, try to update to the latest version.\n"
     ]
    }
   ],
   "source": [
    "\n",
    "from vif.falcon.oracle.guided_oracle.guided_code_oracle import OracleGuidedCodeModule\n",
    "with open(\"/home/creux/Documents/AI/VIFagent/notebooks/oracle_verification/.debug/identification/tmpfiles/segments.pickle\",\"rb\") as sf:\n",
    "    feat_seg = pickle.load(sf)\n",
    "oracle_module = OracleGuidedCodeModule(\n",
    "    model=\"gemini-2.5-pro\",\n",
    "    temperature=0.3,\n",
    "    client=OpenAI(\n",
    "        api_key=os.environ.get(\"GOOGLE_API_KEY\"),\n",
    "        base_url=\"https://generativelanguage.googleapis.com/v1beta/openai/\",\n",
    "    ),\n",
    ")\n",
    "instruction = \"Rotate the square by 45 degree clockwise\"\n",
    "oracle_module.debug_instance_creation(True, DEBUG_PATH)\n",
    "oracle = oracle_module.get_oracle(feat_seg,instruction,original_image,simple_identification_module.segments_from_features)"
   ]
  },
  {
   "cell_type": "code",
   "execution_count": null,
   "id": "5f5fe725",
   "metadata": {},
   "outputs": [],
   "source": [
    "from vif.falcon.oracle.oracle import OracleResponse\n",
    "\n",
    "\n",
    "modified_image = Image.open(\"/home/creux/Documents/AI/VIFagent/tests/resources/seg/stc_rgb_rotc.png\")\n",
    "or_res:OracleResponse = oracle(modified_image)"
   ]
  },
  {
   "cell_type": "code",
   "execution_count": null,
   "id": "4172be35",
   "metadata": {},
   "outputs": [],
   "source": [
    "or_res.evaluation_code"
   ]
  },
  {
   "cell_type": "code",
   "execution_count": null,
   "id": "ea0285e2",
   "metadata": {},
   "outputs": [],
   "source": [
    "or_res.feedbacks"
   ]
  },
  {
   "cell_type": "markdown",
   "id": "2e09ecdb",
   "metadata": {},
   "source": [
    "## Edition Module"
   ]
  },
  {
   "cell_type": "markdown",
   "id": "745e96fa",
   "metadata": {},
   "source": []
  }
 ],
 "metadata": {
  "kernelspec": {
   "display_name": "VIFagent",
   "language": "python",
   "name": "python3"
  },
  "language_info": {
   "codemirror_mode": {
    "name": "ipython",
    "version": 3
   },
   "file_extension": ".py",
   "mimetype": "text/x-python",
   "name": "python",
   "nbconvert_exporter": "python",
   "pygments_lexer": "ipython3",
   "version": "3.12.11"
  }
 },
 "nbformat": 4,
 "nbformat_minor": 5
}
