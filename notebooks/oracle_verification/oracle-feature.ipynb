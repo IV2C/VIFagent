{
 "cells": [
  {
   "cell_type": "markdown",
   "id": "4d8768cd",
   "metadata": {},
   "source": [
    "# Testing Falcon agent with ablation on edition module"
   ]
  },
  {
   "cell_type": "markdown",
   "id": "c8797f86",
   "metadata": {},
   "source": [
    "### Dataset instantiation"
   ]
  },
  {
   "cell_type": "code",
   "execution_count": 1,
   "id": "2a40e6aa",
   "metadata": {},
   "outputs": [
    {
     "name": "stderr",
     "output_type": "stream",
     "text": [
      "/home/creux/Documents/AI/VIFagent/.venv/lib/python3.12/site-packages/tqdm/auto.py:21: TqdmWarning: IProgress not found. Please update jupyter and ipywidgets. See https://ipywidgets.readthedocs.io/en/stable/user_install.html\n",
      "  from .autonotebook import tqdm as notebook_tqdm\n"
     ]
    }
   ],
   "source": [
    "\n",
    "from datasets import load_dataset\n",
    "\n",
    "\n",
    "ds = load_dataset(\"CharlyR/vtikz\", \"tikz\", split=\"test\")\n",
    "ds = ds.select_columns([\"id\",\"type\",\"instruction\",\"code\",\"image_solution\",\"image_input\",\"code_solution\"])\n",
    "\n",
    "#ds = ds.filter(lambda row: row[\"type\"]==\"animal\" ).train_test_split(test_size=0.1)[\"test\"]\n",
    "\n"
   ]
  },
  {
   "cell_type": "code",
   "execution_count": 2,
   "id": "dee4b93d",
   "metadata": {},
   "outputs": [],
   "source": [
    "from collections import defaultdict\n",
    "import inspect\n",
    "\n",
    "from vif.falcon.oracle.oracle import OracleResponse\n",
    "from vif.utils.renderer.tex_renderer import TexRenderer\n",
    "\n",
    "renderer = TexRenderer()\n",
    "\n",
    "solution_map = {\n",
    "    (code, instruction): (solution, id_c)\n",
    "    for code, instruction, solution, id_c in zip(\n",
    "        ds[\"code\"], ds[\"instruction\"], ds[\"code_solution\"], ds[\"id\"]\n",
    "    )\n",
    "}\n",
    "solution_oracle_dict = defaultdict(list)\n",
    "\n",
    "\n",
    "def get_solution(instruction, code, oracle):\n",
    "    solution, id = solution_map[(code, instruction)]\n",
    "    solution_oracle_dict[\"instruction\"].append(instruction)\n",
    "    solution_oracle_dict[\"id\"].append(id)\n",
    "    solution_oracle_dict[\"code\"].append(code)\n",
    "    solution_oracle_dict[\"code_solution\"].append(solution)\n",
    "\n",
    "    # evaluating oracle on code\n",
    "    image = renderer.from_string_to_image(solution[0])\n",
    "    oracle_response: OracleResponse = oracle(image)\n",
    "\n",
    "    solution_oracle_dict[\"custom_image\"].append(image)\n",
    "\n",
    "    solution_oracle_dict[\"oracle_code\"].append(oracle_response.evaluation_code)\n",
    "    solution_oracle_dict[\"oracle_feedback\"].append(oracle_response.feedbacks)\n",
    "    solution_oracle_dict[\"oracle_condition\"].append(oracle_response.condition)\n",
    "    return solution"
   ]
  },
  {
   "cell_type": "markdown",
   "id": "06ac7502",
   "metadata": {},
   "source": [
    "### instantiating agent with mock"
   ]
  },
  {
   "cell_type": "code",
   "execution_count": 3,
   "id": "8ce957ba",
   "metadata": {},
   "outputs": [
    {
     "name": "stderr",
     "output_type": "stream",
     "text": [
      "You are trying to use a model that was created with Sentence Transformers version 5.0.0, but you're currently using version 4.1.0. This might cause unexpected behavior or errors. In that case, try to update to the latest version.\n",
      "\u001b[32m2025-07-11 14:56:13.513\u001b[0m | \u001b[33m\u001b[1mWARNING \u001b[0m | \u001b[36mvif.falcon.falcon\u001b[0m:\u001b[36m__init__\u001b[0m:\u001b[36m48\u001b[0m - \u001b[33m\u001b[1mDebug is activated, debug folder is /home/creux/Documents/AI/VIFagent/.tmp/debug/1107-14:56:13\u001b[0m\n"
     ]
    }
   ],
   "source": [
    "from openai import OpenAI\n",
    "import os\n",
    "from google import genai\n",
    "from google.genai import types as genTypes\n",
    "from vif.falcon.edition import OracleEditionModule\n",
    "from vif.falcon.falcon import Falcon\n",
    "from vif.falcon.oracle.guided_oracle.guided_code_oracle import OracleGuidedCodeModule\n",
    "from vif.feature_identification.feature_identification import SimpleGeminiIdentificationModule\n",
    "from vif.utils.renderer.tex_renderer import TexRenderer\n",
    "\n",
    "client=genai.Client(\n",
    "        api_key=os.environ.get(\"GOOGLE_API_KEY\"),\n",
    "        http_options=genTypes.HttpOptions(api_version='v1alpha')\n",
    "    )\n",
    "\n",
    "simple_identification_module = SimpleGeminiIdentificationModule(\n",
    "    client=client,\n",
    "    model=\"gemini-2.5-pro\",\n",
    "    temperature=0.3,\n",
    ")\n",
    "\n",
    "oracle_module = OracleGuidedCodeModule(\n",
    "    model=\"gemini-2.5-pro\",\n",
    "    temperature=0.3,\n",
    "    client=OpenAI(\n",
    "        api_key=os.environ.get(\"GOOGLE_API_KEY\"),\n",
    "        base_url=\"https://generativelanguage.googleapis.com/v1beta/openai/\",\n",
    "    ),\n",
    ")\n",
    "edition_module = OracleEditionModule(\n",
    "    model=\"test\",\n",
    "    client=None,\n",
    ")\n",
    "edition_module.customize = get_solution\n",
    "\n",
    "agent = Falcon(\n",
    "    code_renderer=TexRenderer().from_string_to_image,\n",
    "    identification_module=simple_identification_module,\n",
    "    oracle_module=oracle_module,\n",
    "    edition_module= edition_module,\n",
    "    debug=True,\n",
    "    debug_folder=\"/home/creux/Documents/AI/VIFagent/.tmp/debug\"\n",
    "    \n",
    ")\n"
   ]
  },
  {
   "cell_type": "code",
   "execution_count": 4,
   "id": "746d4df4",
   "metadata": {},
   "outputs": [
    {
     "name": "stderr",
     "output_type": "stream",
     "text": [
      "Parameter 'function'=<function eval at 0x730d89f013a0> of the transform datasets.arrow_dataset.Dataset._map_single couldn't be hashed properly, a random hash was used instead. Make sure your transforms and parameters are serializable with pickle or dill for the dataset fingerprinting and caching to work. If you reuse this transform, the caching mechanism will consider it to be different from the previous calls and recompute everything. This warning is only showed once. Subsequent hashing failures won't be showed.\n",
      "Map:   0%|          | 0/2 [00:00<?, ? examples/s]\u001b[32m2025-07-11 14:56:13.909\u001b[0m | \u001b[1mINFO    \u001b[0m | \u001b[36mvif.falcon.falcon\u001b[0m:\u001b[36mapply_instruction\u001b[0m:\u001b[36m88\u001b[0m - \u001b[1mIdentifying features\u001b[0m\n",
      "\u001b[32m2025-07-11 14:56:13.909\u001b[0m | \u001b[1mINFO    \u001b[0m | \u001b[36mvif.feature_identification.feature_identification\u001b[0m:\u001b[36msegments_from_image\u001b[0m:\u001b[36m66\u001b[0m - \u001b[1mGetting the features from the image\u001b[0m\n",
      "\u001b[32m2025-07-11 14:56:23.868\u001b[0m | \u001b[1mINFO    \u001b[0m | \u001b[36mvif.feature_identification.feature_identification\u001b[0m:\u001b[36msegments_from_image\u001b[0m:\u001b[36m69\u001b[0m - \u001b[1mgetting the segments from the image\u001b[0m\n",
      "\u001b[32m2025-07-11 14:56:32.974\u001b[0m | \u001b[1mINFO    \u001b[0m | \u001b[36mvif.falcon.falcon\u001b[0m:\u001b[36mapply_instruction\u001b[0m:\u001b[36m92\u001b[0m - \u001b[1mCreating the oracle\u001b[0m\n",
      "Map:   0%|          | 0/2 [01:04<?, ? examples/s]\n"
     ]
    },
    {
     "ename": "KeyError",
     "evalue": "'label'",
     "output_type": "error",
     "traceback": [
      "\u001b[31m---------------------------------------------------------------------------\u001b[39m",
      "\u001b[31mKeyError\u001b[39m                                  Traceback (most recent call last)",
      "\u001b[36mCell\u001b[39m\u001b[36m \u001b[39m\u001b[32mIn[4]\u001b[39m\u001b[32m, line 5\u001b[39m\n\u001b[32m      2\u001b[39m     agent.apply_instruction(row[\u001b[33m\"\u001b[39m\u001b[33mcode\u001b[39m\u001b[33m\"\u001b[39m],row[\u001b[33m\"\u001b[39m\u001b[33minstruction\u001b[39m\u001b[33m\"\u001b[39m])\n\u001b[32m      3\u001b[39m     \u001b[38;5;28;01mreturn\u001b[39;00m row\n\u001b[32m----> \u001b[39m\u001b[32m5\u001b[39m \u001b[43mds\u001b[49m\u001b[43m.\u001b[49m\u001b[43mmap\u001b[49m\u001b[43m(\u001b[49m\u001b[38;5;28;43meval\u001b[39;49m\u001b[43m)\u001b[49m\n",
      "\u001b[36mFile \u001b[39m\u001b[32m~/Documents/AI/VIFagent/.venv/lib/python3.12/site-packages/datasets/arrow_dataset.py:557\u001b[39m, in \u001b[36mtransmit_format.<locals>.wrapper\u001b[39m\u001b[34m(*args, **kwargs)\u001b[39m\n\u001b[32m    550\u001b[39m self_format = {\n\u001b[32m    551\u001b[39m     \u001b[33m\"\u001b[39m\u001b[33mtype\u001b[39m\u001b[33m\"\u001b[39m: \u001b[38;5;28mself\u001b[39m._format_type,\n\u001b[32m    552\u001b[39m     \u001b[33m\"\u001b[39m\u001b[33mformat_kwargs\u001b[39m\u001b[33m\"\u001b[39m: \u001b[38;5;28mself\u001b[39m._format_kwargs,\n\u001b[32m    553\u001b[39m     \u001b[33m\"\u001b[39m\u001b[33mcolumns\u001b[39m\u001b[33m\"\u001b[39m: \u001b[38;5;28mself\u001b[39m._format_columns,\n\u001b[32m    554\u001b[39m     \u001b[33m\"\u001b[39m\u001b[33moutput_all_columns\u001b[39m\u001b[33m\"\u001b[39m: \u001b[38;5;28mself\u001b[39m._output_all_columns,\n\u001b[32m    555\u001b[39m }\n\u001b[32m    556\u001b[39m \u001b[38;5;66;03m# apply actual function\u001b[39;00m\n\u001b[32m--> \u001b[39m\u001b[32m557\u001b[39m out: Union[\u001b[33m\"\u001b[39m\u001b[33mDataset\u001b[39m\u001b[33m\"\u001b[39m, \u001b[33m\"\u001b[39m\u001b[33mDatasetDict\u001b[39m\u001b[33m\"\u001b[39m] = \u001b[43mfunc\u001b[49m\u001b[43m(\u001b[49m\u001b[38;5;28;43mself\u001b[39;49m\u001b[43m,\u001b[49m\u001b[43m \u001b[49m\u001b[43m*\u001b[49m\u001b[43margs\u001b[49m\u001b[43m,\u001b[49m\u001b[43m \u001b[49m\u001b[43m*\u001b[49m\u001b[43m*\u001b[49m\u001b[43mkwargs\u001b[49m\u001b[43m)\u001b[49m\n\u001b[32m    558\u001b[39m datasets: \u001b[38;5;28mlist\u001b[39m[\u001b[33m\"\u001b[39m\u001b[33mDataset\u001b[39m\u001b[33m\"\u001b[39m] = \u001b[38;5;28mlist\u001b[39m(out.values()) \u001b[38;5;28;01mif\u001b[39;00m \u001b[38;5;28misinstance\u001b[39m(out, \u001b[38;5;28mdict\u001b[39m) \u001b[38;5;28;01melse\u001b[39;00m [out]\n\u001b[32m    559\u001b[39m \u001b[38;5;66;03m# re-apply format to the output\u001b[39;00m\n",
      "\u001b[36mFile \u001b[39m\u001b[32m~/Documents/AI/VIFagent/.venv/lib/python3.12/site-packages/datasets/arrow_dataset.py:3079\u001b[39m, in \u001b[36mDataset.map\u001b[39m\u001b[34m(self, function, with_indices, with_rank, input_columns, batched, batch_size, drop_last_batch, remove_columns, keep_in_memory, load_from_cache_file, cache_file_name, writer_batch_size, features, disable_nullable, fn_kwargs, num_proc, suffix_template, new_fingerprint, desc, try_original_type)\u001b[39m\n\u001b[32m   3073\u001b[39m \u001b[38;5;28;01mif\u001b[39;00m transformed_dataset \u001b[38;5;129;01mis\u001b[39;00m \u001b[38;5;28;01mNone\u001b[39;00m:\n\u001b[32m   3074\u001b[39m     \u001b[38;5;28;01mwith\u001b[39;00m hf_tqdm(\n\u001b[32m   3075\u001b[39m         unit=\u001b[33m\"\u001b[39m\u001b[33m examples\u001b[39m\u001b[33m\"\u001b[39m,\n\u001b[32m   3076\u001b[39m         total=pbar_total,\n\u001b[32m   3077\u001b[39m         desc=desc \u001b[38;5;129;01mor\u001b[39;00m \u001b[33m\"\u001b[39m\u001b[33mMap\u001b[39m\u001b[33m\"\u001b[39m,\n\u001b[32m   3078\u001b[39m     ) \u001b[38;5;28;01mas\u001b[39;00m pbar:\n\u001b[32m-> \u001b[39m\u001b[32m3079\u001b[39m \u001b[43m        \u001b[49m\u001b[38;5;28;43;01mfor\u001b[39;49;00m\u001b[43m \u001b[49m\u001b[43mrank\u001b[49m\u001b[43m,\u001b[49m\u001b[43m \u001b[49m\u001b[43mdone\u001b[49m\u001b[43m,\u001b[49m\u001b[43m \u001b[49m\u001b[43mcontent\u001b[49m\u001b[43m \u001b[49m\u001b[38;5;129;43;01min\u001b[39;49;00m\u001b[43m \u001b[49m\u001b[43mDataset\u001b[49m\u001b[43m.\u001b[49m\u001b[43m_map_single\u001b[49m\u001b[43m(\u001b[49m\u001b[43m*\u001b[49m\u001b[43m*\u001b[49m\u001b[43mdataset_kwargs\u001b[49m\u001b[43m)\u001b[49m\u001b[43m:\u001b[49m\n\u001b[32m   3080\u001b[39m \u001b[43m            \u001b[49m\u001b[38;5;28;43;01mif\u001b[39;49;00m\u001b[43m \u001b[49m\u001b[43mdone\u001b[49m\u001b[43m:\u001b[49m\n\u001b[32m   3081\u001b[39m \u001b[43m                \u001b[49m\u001b[43mshards_done\u001b[49m\u001b[43m \u001b[49m\u001b[43m+\u001b[49m\u001b[43m=\u001b[49m\u001b[43m \u001b[49m\u001b[32;43m1\u001b[39;49m\n",
      "\u001b[36mFile \u001b[39m\u001b[32m~/Documents/AI/VIFagent/.venv/lib/python3.12/site-packages/datasets/arrow_dataset.py:3501\u001b[39m, in \u001b[36mDataset._map_single\u001b[39m\u001b[34m(shard, function, with_indices, with_rank, input_columns, batched, batch_size, drop_last_batch, remove_columns, keep_in_memory, cache_file_name, writer_batch_size, features, disable_nullable, fn_kwargs, new_fingerprint, rank, offset, try_original_type)\u001b[39m\n\u001b[32m   3499\u001b[39m \u001b[38;5;28;01mif\u001b[39;00m \u001b[38;5;129;01mnot\u001b[39;00m batched:\n\u001b[32m   3500\u001b[39m     _time = time.time()\n\u001b[32m-> \u001b[39m\u001b[32m3501\u001b[39m \u001b[43m    \u001b[49m\u001b[38;5;28;43;01mfor\u001b[39;49;00m\u001b[43m \u001b[49m\u001b[43mi\u001b[49m\u001b[43m,\u001b[49m\u001b[43m \u001b[49m\u001b[43mexample\u001b[49m\u001b[43m \u001b[49m\u001b[38;5;129;43;01min\u001b[39;49;00m\u001b[43m \u001b[49m\u001b[43miter_outputs\u001b[49m\u001b[43m(\u001b[49m\u001b[43mshard_iterable\u001b[49m\u001b[43m)\u001b[49m\u001b[43m:\u001b[49m\n\u001b[32m   3502\u001b[39m \u001b[43m        \u001b[49m\u001b[38;5;28;43;01mif\u001b[39;49;00m\u001b[43m \u001b[49m\u001b[43mupdate_data\u001b[49m\u001b[43m:\u001b[49m\n\u001b[32m   3503\u001b[39m \u001b[43m            \u001b[49m\u001b[38;5;28;43;01mif\u001b[39;49;00m\u001b[43m \u001b[49m\u001b[43mi\u001b[49m\u001b[43m \u001b[49m\u001b[43m==\u001b[49m\u001b[43m \u001b[49m\u001b[32;43m0\u001b[39;49m\u001b[43m:\u001b[49m\n",
      "\u001b[36mFile \u001b[39m\u001b[32m~/Documents/AI/VIFagent/.venv/lib/python3.12/site-packages/datasets/arrow_dataset.py:3475\u001b[39m, in \u001b[36mDataset._map_single.<locals>.iter_outputs\u001b[39m\u001b[34m(shard_iterable)\u001b[39m\n\u001b[32m   3473\u001b[39m \u001b[38;5;28;01melse\u001b[39;00m:\n\u001b[32m   3474\u001b[39m     \u001b[38;5;28;01mfor\u001b[39;00m i, example \u001b[38;5;129;01min\u001b[39;00m shard_iterable:\n\u001b[32m-> \u001b[39m\u001b[32m3475\u001b[39m         \u001b[38;5;28;01myield\u001b[39;00m i, \u001b[43mapply_function\u001b[49m\u001b[43m(\u001b[49m\u001b[43mexample\u001b[49m\u001b[43m,\u001b[49m\u001b[43m \u001b[49m\u001b[43mi\u001b[49m\u001b[43m,\u001b[49m\u001b[43m \u001b[49m\u001b[43moffset\u001b[49m\u001b[43m=\u001b[49m\u001b[43moffset\u001b[49m\u001b[43m)\u001b[49m\n",
      "\u001b[36mFile \u001b[39m\u001b[32m~/Documents/AI/VIFagent/.venv/lib/python3.12/site-packages/datasets/arrow_dataset.py:3398\u001b[39m, in \u001b[36mDataset._map_single.<locals>.apply_function\u001b[39m\u001b[34m(pa_inputs, indices, offset)\u001b[39m\n\u001b[32m   3396\u001b[39m \u001b[38;5;250m\u001b[39m\u001b[33;03m\"\"\"Utility to apply the function on a selection of columns.\"\"\"\u001b[39;00m\n\u001b[32m   3397\u001b[39m inputs, fn_args, additional_args, fn_kwargs = prepare_inputs(pa_inputs, indices, offset=offset)\n\u001b[32m-> \u001b[39m\u001b[32m3398\u001b[39m processed_inputs = \u001b[43mfunction\u001b[49m\u001b[43m(\u001b[49m\u001b[43m*\u001b[49m\u001b[43mfn_args\u001b[49m\u001b[43m,\u001b[49m\u001b[43m \u001b[49m\u001b[43m*\u001b[49m\u001b[43madditional_args\u001b[49m\u001b[43m,\u001b[49m\u001b[43m \u001b[49m\u001b[43m*\u001b[49m\u001b[43m*\u001b[49m\u001b[43mfn_kwargs\u001b[49m\u001b[43m)\u001b[49m\n\u001b[32m   3399\u001b[39m \u001b[38;5;28;01mreturn\u001b[39;00m prepare_outputs(pa_inputs, inputs, processed_inputs)\n",
      "\u001b[36mCell\u001b[39m\u001b[36m \u001b[39m\u001b[32mIn[4]\u001b[39m\u001b[32m, line 2\u001b[39m, in \u001b[36meval\u001b[39m\u001b[34m(row)\u001b[39m\n\u001b[32m      1\u001b[39m \u001b[38;5;28;01mdef\u001b[39;00m\u001b[38;5;250m \u001b[39m\u001b[34meval\u001b[39m(row):\n\u001b[32m----> \u001b[39m\u001b[32m2\u001b[39m     \u001b[43magent\u001b[49m\u001b[43m.\u001b[49m\u001b[43mapply_instruction\u001b[49m\u001b[43m(\u001b[49m\u001b[43mrow\u001b[49m\u001b[43m[\u001b[49m\u001b[33;43m\"\u001b[39;49m\u001b[33;43mcode\u001b[39;49m\u001b[33;43m\"\u001b[39;49m\u001b[43m]\u001b[49m\u001b[43m,\u001b[49m\u001b[43mrow\u001b[49m\u001b[43m[\u001b[49m\u001b[33;43m\"\u001b[39;49m\u001b[33;43minstruction\u001b[39;49m\u001b[33;43m\"\u001b[39;49m\u001b[43m]\u001b[49m\u001b[43m)\u001b[49m\n\u001b[32m      3\u001b[39m     \u001b[38;5;28;01mreturn\u001b[39;00m row\n",
      "\u001b[36mFile \u001b[39m\u001b[32m~/Documents/AI/VIFagent/vif/falcon/falcon.py:100\u001b[39m, in \u001b[36mFalcon.apply_instruction\u001b[39m\u001b[34m(self, code, instruction)\u001b[39m\n\u001b[32m     92\u001b[39m logger.info(\u001b[33m\"\u001b[39m\u001b[33mCreating the oracle\u001b[39m\u001b[33m\"\u001b[39m)\n\u001b[32m     93\u001b[39m oracle = \u001b[38;5;28mself\u001b[39m.oracle_module.get_oracle(\n\u001b[32m     94\u001b[39m     \u001b[38;5;28mself\u001b[39m.features_segments,\n\u001b[32m     95\u001b[39m     instruction,\n\u001b[32m     96\u001b[39m     base_image,\n\u001b[32m     97\u001b[39m     \u001b[38;5;28mself\u001b[39m.identification_module.segments_from_features,\n\u001b[32m     98\u001b[39m )\n\u001b[32m--> \u001b[39m\u001b[32m100\u001b[39m response_code = \u001b[38;5;28;43mself\u001b[39;49m\u001b[43m.\u001b[49m\u001b[43medition_module\u001b[49m\u001b[43m.\u001b[49m\u001b[43mcustomize\u001b[49m\u001b[43m(\u001b[49m\u001b[43minstruction\u001b[49m\u001b[43m,\u001b[49m\u001b[43m \u001b[49m\u001b[43mcode\u001b[49m\u001b[43m,\u001b[49m\u001b[43m \u001b[49m\u001b[43moracle\u001b[49m\u001b[43m)\u001b[49m\n\u001b[32m    102\u001b[39m \u001b[38;5;28;01mreturn\u001b[39;00m response_code\n",
      "\u001b[36mCell\u001b[39m\u001b[36m \u001b[39m\u001b[32mIn[2]\u001b[39m\u001b[32m, line 27\u001b[39m, in \u001b[36mget_solution\u001b[39m\u001b[34m(instruction, code, oracle)\u001b[39m\n\u001b[32m     25\u001b[39m \u001b[38;5;66;03m# evaluating oracle on code\u001b[39;00m\n\u001b[32m     26\u001b[39m image = renderer.from_string_to_image(solution[\u001b[32m0\u001b[39m])\n\u001b[32m---> \u001b[39m\u001b[32m27\u001b[39m oracle_response: OracleResponse = \u001b[43moracle\u001b[49m\u001b[43m(\u001b[49m\u001b[43mimage\u001b[49m\u001b[43m)\u001b[49m\n\u001b[32m     29\u001b[39m solution_oracle_dict[\u001b[33m\"\u001b[39m\u001b[33mcustom_image\u001b[39m\u001b[33m\"\u001b[39m].append(image)\n\u001b[32m     31\u001b[39m solution_oracle_dict[\u001b[33m\"\u001b[39m\u001b[33moracle_code\u001b[39m\u001b[33m\"\u001b[39m].append(oracle_response.evaluation_code)\n",
      "\u001b[36mFile \u001b[39m\u001b[32m~/Documents/AI/VIFagent/vif/falcon/oracle/guided_oracle/guided_code_oracle.py:125\u001b[39m, in \u001b[36mOracleGuidedCodeModule.get_oracle.<locals>.oracle\u001b[39m\u001b[34m(image)\u001b[39m\n\u001b[32m    121\u001b[39m \u001b[38;5;129m@staticmethod\u001b[39m\n\u001b[32m    122\u001b[39m \u001b[38;5;28;01mdef\u001b[39;00m\u001b[38;5;250m \u001b[39m\u001b[34moracle\u001b[39m(\n\u001b[32m    123\u001b[39m     image: Image.Image,\n\u001b[32m    124\u001b[39m ) -> OracleResponse:\n\u001b[32m--> \u001b[39m\u001b[32m125\u001b[39m     custom_detected_segs = \u001b[43mdetect_seg_masks_boxes\u001b[49m\u001b[43m(\u001b[49m\u001b[43mfeatures\u001b[49m\u001b[43m,\u001b[49m\u001b[43mimage\u001b[49m\u001b[43m)\u001b[49m\n\u001b[32m    126\u001b[39m     result, feedbacks = expression.evaluate(\n\u001b[32m    127\u001b[39m         original_detected_segs, custom_detected_segs, base_image, image\n\u001b[32m    128\u001b[39m     )\n\u001b[32m    129\u001b[39m     \u001b[38;5;28;01mreturn\u001b[39;00m OracleResponse(result, feedbacks, evaluation_code=oracle_code)\n",
      "\u001b[36mFile \u001b[39m\u001b[32m~/Documents/AI/VIFagent/vif/feature_identification/feature_identification.py:125\u001b[39m, in \u001b[36mSimpleGeminiIdentificationModule.segments_from_features\u001b[39m\u001b[34m(self, features, base_image)\u001b[39m\n\u001b[32m    121\u001b[39m \u001b[38;5;28;01mdef\u001b[39;00m\u001b[38;5;250m \u001b[39m\u001b[34msegments_from_features\u001b[39m(\n\u001b[32m    122\u001b[39m     \u001b[38;5;28mself\u001b[39m, features: \u001b[38;5;28mlist\u001b[39m[\u001b[38;5;28mstr\u001b[39m], base_image: Image.Image\n\u001b[32m    123\u001b[39m ) -> \u001b[38;5;28mlist\u001b[39m[SegmentationMask]:\n\u001b[32m    124\u001b[39m     \u001b[38;5;28;01mtry\u001b[39;00m:\n\u001b[32m--> \u001b[39m\u001b[32m125\u001b[39m         segments = \u001b[43mget_segmentation_masks\u001b[49m\u001b[43m(\u001b[49m\n\u001b[32m    126\u001b[39m \u001b[43m            \u001b[49m\u001b[43mbase_image\u001b[49m\u001b[43m,\u001b[49m\n\u001b[32m    127\u001b[39m \u001b[43m            \u001b[49m\u001b[38;5;28;43mself\u001b[39;49m\u001b[43m.\u001b[49m\u001b[43mclient\u001b[49m\u001b[43m,\u001b[49m\n\u001b[32m    128\u001b[39m \u001b[43m            \u001b[49m\u001b[43mfeatures\u001b[49m\u001b[43m,\u001b[49m\n\u001b[32m    129\u001b[39m \u001b[43m            \u001b[49m\u001b[38;5;28;43mself\u001b[39;49m\u001b[43m.\u001b[49m\u001b[43mmodel\u001b[49m\u001b[43m,\u001b[49m\n\u001b[32m    130\u001b[39m \u001b[43m            \u001b[49m\u001b[38;5;28;43mself\u001b[39;49m\u001b[43m.\u001b[49m\u001b[43mgenerate_content_config\u001b[49m\u001b[43m,\u001b[49m\n\u001b[32m    131\u001b[39m \u001b[43m        \u001b[49m\u001b[43m)\u001b[49m\n\u001b[32m    132\u001b[39m     \u001b[38;5;28;01mexcept\u001b[39;00m InvalidMasksError \u001b[38;5;28;01mas\u001b[39;00m ime:\n\u001b[32m    133\u001b[39m         \u001b[38;5;28;01mif\u001b[39;00m \u001b[38;5;28mself\u001b[39m.debug:\n",
      "\u001b[36mFile \u001b[39m\u001b[32m~/Documents/AI/VIFagent/vif/utils/detection_utils.py:105\u001b[39m, in \u001b[36mget_segmentation_masks\u001b[39m\u001b[34m(image, client, features, model, generate_content_config)\u001b[39m\n\u001b[32m    103\u001b[39m \u001b[38;5;28;01mexcept\u001b[39;00m json.JSONDecodeError \u001b[38;5;28;01mas\u001b[39;00m jde:\n\u001b[32m    104\u001b[39m     \u001b[38;5;28;01mraise\u001b[39;00m JsonFormatError(\u001b[33mf\u001b[39m\u001b[33m\"\u001b[39m\u001b[33mError while decoding the json \u001b[39m\u001b[38;5;132;01m{\u001b[39;00mjson_res\u001b[38;5;132;01m}\u001b[39;00m\u001b[33m : \u001b[39m\u001b[38;5;132;01m{\u001b[39;00mjde\u001b[38;5;132;01m}\u001b[39;00m\u001b[33m\"\u001b[39m)\n\u001b[32m--> \u001b[39m\u001b[32m105\u001b[39m seg_masks = \u001b[43mparse_segmentation_masks\u001b[49m\u001b[43m(\u001b[49m\u001b[43mdetected\u001b[49m\u001b[43m,\u001b[49m\u001b[43m \u001b[49m\u001b[43mimage\u001b[49m\u001b[43m.\u001b[49m\u001b[43mheight\u001b[49m\u001b[43m,\u001b[49m\u001b[43m \u001b[49m\u001b[43mimage\u001b[49m\u001b[43m.\u001b[49m\u001b[43mwidth\u001b[49m\u001b[43m)\u001b[49m\n\u001b[32m    106\u001b[39m \u001b[38;5;28;01mreturn\u001b[39;00m seg_masks\n",
      "\u001b[36mFile \u001b[39m\u001b[32m~/Documents/AI/VIFagent/vif/utils/detection_utils.py:123\u001b[39m, in \u001b[36mparse_segmentation_masks\u001b[39m\u001b[34m(items, img_height, img_width)\u001b[39m\n\u001b[32m    121\u001b[39m     \u001b[38;5;28mprint\u001b[39m(\u001b[33m\"\u001b[39m\u001b[33mInvalid bounding box\u001b[39m\u001b[33m\"\u001b[39m, item[\u001b[33m\"\u001b[39m\u001b[33mbox_2d\u001b[39m\u001b[33m\"\u001b[39m])\n\u001b[32m    122\u001b[39m     \u001b[38;5;28;01mcontinue\u001b[39;00m\n\u001b[32m--> \u001b[39m\u001b[32m123\u001b[39m label = \u001b[43mitem\u001b[49m\u001b[43m[\u001b[49m\u001b[33;43m\"\u001b[39;49m\u001b[33;43mlabel\u001b[39;49m\u001b[33;43m\"\u001b[39;49m\u001b[43m]\u001b[49m\n\u001b[32m    124\u001b[39m png_str = item[\u001b[33m\"\u001b[39m\u001b[33mmask\u001b[39m\u001b[33m\"\u001b[39m]\n\u001b[32m    125\u001b[39m \u001b[38;5;28;01mif\u001b[39;00m \u001b[38;5;129;01mnot\u001b[39;00m png_str.startswith(\u001b[33m\"\u001b[39m\u001b[33mdata:image/png;base64,\u001b[39m\u001b[33m\"\u001b[39m):\n",
      "\u001b[31mKeyError\u001b[39m: 'label'"
     ]
    }
   ],
   "source": [
    "\n",
    "def eval(row):\n",
    "    agent.apply_instruction(row[\"code\"],row[\"instruction\"])\n",
    "    return row\n",
    "\n",
    "ds.map(eval)"
   ]
  },
  {
   "cell_type": "code",
   "execution_count": null,
   "id": "38544120",
   "metadata": {},
   "outputs": [],
   "source": [
    "from datasets import Dataset\n",
    "import pandas as pd\n",
    "ds_dict = Dataset.from_dict(solution_oracle_dict)\n",
    "df_dict = ds_dict.to_pandas()"
   ]
  },
  {
   "cell_type": "code",
   "execution_count": null,
   "id": "b3a6a6a1",
   "metadata": {},
   "outputs": [],
   "source": [
    "print(df_dict[\"oracle_code\"][0])"
   ]
  },
  {
   "cell_type": "code",
   "execution_count": null,
   "id": "5a80419b",
   "metadata": {},
   "outputs": [],
   "source": [
    "print(df_dict[\"oracle_feedback\"][0])"
   ]
  },
  {
   "cell_type": "code",
   "execution_count": null,
   "id": "d57ed01e",
   "metadata": {},
   "outputs": [],
   "source": [
    "df_dict"
   ]
  },
  {
   "cell_type": "code",
   "execution_count": null,
   "id": "c644bc73",
   "metadata": {},
   "outputs": [],
   "source": []
  }
 ],
 "metadata": {
  "kernelspec": {
   "display_name": "VIFagent",
   "language": "python",
   "name": "python3"
  },
  "language_info": {
   "codemirror_mode": {
    "name": "ipython",
    "version": 3
   },
   "file_extension": ".py",
   "mimetype": "text/x-python",
   "name": "python",
   "nbconvert_exporter": "python",
   "pygments_lexer": "ipython3",
   "version": "3.12.11"
  }
 },
 "nbformat": 4,
 "nbformat_minor": 5
}
